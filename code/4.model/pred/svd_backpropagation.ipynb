{
 "cells": [
  {
   "cell_type": "markdown",
   "metadata": {},
   "source": [
    "- get feature attributions for all genes instead of svd components\n",
    "- load in normalized svd components svd_comp_norm\n",
    "- get_attr_all_features() creates attr_all_22085_genes"
   ]
  },
  {
   "cell_type": "code",
   "execution_count": 1,
   "metadata": {},
   "outputs": [],
   "source": [
    "import numpy as np\n",
    "import pandas as pd\n",
    "import os\n",
    "import pickle\n",
    "\n",
    "import anndata as ad"
   ]
  },
  {
   "cell_type": "code",
   "execution_count": 2,
   "metadata": {},
   "outputs": [],
   "source": [
    "os.chdir('../..')"
   ]
  },
  {
   "cell_type": "markdown",
   "metadata": {},
   "source": [
    "### svd contributions:"
   ]
  },
  {
   "cell_type": "code",
   "execution_count": 3,
   "metadata": {},
   "outputs": [
    {
     "name": "stdout",
     "output_type": "stream",
     "text": [
      "(128, 22001)\n"
     ]
    }
   ],
   "source": [
    "# normalized svd components\n",
    "svd_comp_norm = np.loadtxt('2.preprocess_to_feature/cite/svd_comp_norm.txt', delimiter=',')\n",
    "print(svd_comp_norm.shape)"
   ]
  },
  {
   "cell_type": "code",
   "execution_count": 4,
   "metadata": {},
   "outputs": [
    {
     "data": {
      "text/plain": [
       "array([-1.80979350e-05, -1.49000311e-06,  3.09174447e-06, ...,\n",
       "        1.26464845e-04,  2.65770446e-04,  1.75062174e-04])"
      ]
     },
     "execution_count": 4,
     "metadata": {},
     "output_type": "execute_result"
    }
   ],
   "source": [
    "# shap plots: base_svd_2 important feature\n",
    "svd_comp_norm[2]"
   ]
  },
  {
   "cell_type": "markdown",
   "metadata": {},
   "source": [
    "=> This means that the contribution can be computed as follows: \\\n",
    "contribution x_2 = -0.00001809 * geneA - 0.00000149 * geneB + 0.0000030917 * geneC + ... + 0.0001264 * geneX + 0.00026577 * geneY + 0.000175 * geneZ"
   ]
  },
  {
   "cell_type": "markdown",
   "metadata": {},
   "source": [
    "### column names:"
   ]
  },
  {
   "cell_type": "code",
   "execution_count": 5,
   "metadata": {},
   "outputs": [],
   "source": [
    "# all_22001_genes: 22001 features, handselected_gene_ids: 84 handselected genes\n",
    "all_22001_genes = np.loadtxt('2.preprocess_to_feature/cite/all_22001_genes_names.txt', dtype=str)\n",
    "handselected_gene_ids = np.loadtxt('2.preprocess_to_feature/cite/handselected_84_gene_ids.txt', dtype=str)"
   ]
  },
  {
   "cell_type": "markdown",
   "metadata": {},
   "source": [
    "### propagate shap values back through svd to get original genes -> store in attr_all_22085_genes\n",
    "#### currently only first class (shap_values[0]) -> TODO consider all 140 classes"
   ]
  },
  {
   "cell_type": "markdown",
   "metadata": {},
   "source": [
    "steps:\\\n",
    "multiply SHAP(svd_n) * contribution of gene A to component n -> then sum \\\n",
    "each dot in summary_plot is attribution for one cell -> loop over all cells\n",
    "\n",
    "dimensions:\\\n",
    "212 features: 128 svd and 84 genes\n",
    "cells: number_of_samples_per_cell_type * 7  (there are 7 unique cell types)\n",
    "predicted \"classes\": 140\n",
    "\n",
    "contribution of gene A to component n: svd_comp_norm\n",
    "SHAP(svd_n) for the 128 svd (=first 128 columns)"
   ]
  },
  {
   "cell_type": "code",
   "execution_count": 6,
   "metadata": {},
   "outputs": [],
   "source": [
    "def get_attr_all_features(xtest, shap_values, svd_comp_norm):\n",
    "\n",
    "    # backpropagation of svd feature attributions\n",
    "    attr_genes_only = np.zeros((shap_values.shape[0], len(xtest), 22001))  # Initialize the output array, 140x350x22001  # 350==50*7==samples_cell_type * 7\n",
    "\n",
    "    for pred in range(shap_values.shape[0]):\n",
    "        for cell in range(len(xtest)):\n",
    "            attr_genes_only[pred, cell] = np.sum(shap_values[pred, cell, :128, None] * svd_comp_norm[:128], axis=0)\n",
    "    \n",
    "    # combine attributions of handselected and other genes\n",
    "    attr_all_22085_genes = np.hstack((attr_genes_only[0], shap_values[0][:,-84:]))    # first 22001 genes are backpropagated through svd, the other 84 genes are handselected and are considered separately\n",
    "    print(attr_all_22085_genes.shape)\n",
    "    return pd.DataFrame(attr_all_22085_genes, columns=list(all_22001_genes)+list(handselected_gene_ids))"
   ]
  },
  {
   "cell_type": "code",
   "execution_count": 7,
   "metadata": {},
   "outputs": [
    {
     "name": "stdout",
     "output_type": "stream",
     "text": [
      "(35, 22085)\n"
     ]
    },
    {
     "data": {
      "text/html": [
       "<div>\n",
       "<style scoped>\n",
       "    .dataframe tbody tr th:only-of-type {\n",
       "        vertical-align: middle;\n",
       "    }\n",
       "\n",
       "    .dataframe tbody tr th {\n",
       "        vertical-align: top;\n",
       "    }\n",
       "\n",
       "    .dataframe thead th {\n",
       "        text-align: right;\n",
       "    }\n",
       "</style>\n",
       "<table border=\"1\" class=\"dataframe\">\n",
       "  <thead>\n",
       "    <tr style=\"text-align: right;\">\n",
       "      <th></th>\n",
       "      <th>ENSG00000121410_A1BG</th>\n",
       "      <th>ENSG00000268895_A1BG-AS1</th>\n",
       "      <th>ENSG00000175899_A2M</th>\n",
       "      <th>ENSG00000245105_A2M-AS1</th>\n",
       "      <th>ENSG00000166535_A2ML1</th>\n",
       "      <th>ENSG00000128274_A4GALT</th>\n",
       "      <th>ENSG00000094914_AAAS</th>\n",
       "      <th>ENSG00000081760_AACS</th>\n",
       "      <th>ENSG00000109576_AADAT</th>\n",
       "      <th>ENSG00000103591_AAGAB</th>\n",
       "      <th>...</th>\n",
       "      <th>ENSG00000188404_SELL</th>\n",
       "      <th>ENSG00000124570_SERPINB6</th>\n",
       "      <th>ENSG00000235169_SMIM1</th>\n",
       "      <th>ENSG00000095932_SMIM24</th>\n",
       "      <th>ENSG00000137642_SORL1</th>\n",
       "      <th>ENSG00000128040_SPINK2</th>\n",
       "      <th>ENSG00000072274_TFRC</th>\n",
       "      <th>ENSG00000205542_TMSB4X</th>\n",
       "      <th>ENSG00000133112_TPT1</th>\n",
       "      <th>ENSG00000026025_VIM</th>\n",
       "    </tr>\n",
       "  </thead>\n",
       "  <tbody>\n",
       "    <tr>\n",
       "      <th>0</th>\n",
       "      <td>-2.805793e-04</td>\n",
       "      <td>-0.000350</td>\n",
       "      <td>0.001712</td>\n",
       "      <td>-0.000411</td>\n",
       "      <td>-0.000060</td>\n",
       "      <td>-0.001241</td>\n",
       "      <td>0.001953</td>\n",
       "      <td>-0.006214</td>\n",
       "      <td>-0.000883</td>\n",
       "      <td>-0.000264</td>\n",
       "      <td>...</td>\n",
       "      <td>-0.005195</td>\n",
       "      <td>0.0</td>\n",
       "      <td>0.0</td>\n",
       "      <td>0.000000</td>\n",
       "      <td>-0.022825</td>\n",
       "      <td>0.0</td>\n",
       "      <td>0.024688</td>\n",
       "      <td>0.0</td>\n",
       "      <td>0.017971</td>\n",
       "      <td>0.0</td>\n",
       "    </tr>\n",
       "    <tr>\n",
       "      <th>1</th>\n",
       "      <td>4.067557e-07</td>\n",
       "      <td>-0.000027</td>\n",
       "      <td>0.000132</td>\n",
       "      <td>-0.000048</td>\n",
       "      <td>0.000009</td>\n",
       "      <td>0.000188</td>\n",
       "      <td>-0.000248</td>\n",
       "      <td>0.001903</td>\n",
       "      <td>-0.000227</td>\n",
       "      <td>-0.000268</td>\n",
       "      <td>...</td>\n",
       "      <td>0.000000</td>\n",
       "      <td>0.0</td>\n",
       "      <td>0.0</td>\n",
       "      <td>-0.017512</td>\n",
       "      <td>0.004803</td>\n",
       "      <td>0.0</td>\n",
       "      <td>0.000000</td>\n",
       "      <td>0.0</td>\n",
       "      <td>0.000000</td>\n",
       "      <td>0.0</td>\n",
       "    </tr>\n",
       "  </tbody>\n",
       "</table>\n",
       "<p>2 rows × 22085 columns</p>\n",
       "</div>"
      ],
      "text/plain": [
       "   ENSG00000121410_A1BG  ENSG00000268895_A1BG-AS1  ENSG00000175899_A2M  \\\n",
       "0         -2.805793e-04                 -0.000350             0.001712   \n",
       "1          4.067557e-07                 -0.000027             0.000132   \n",
       "\n",
       "   ENSG00000245105_A2M-AS1  ENSG00000166535_A2ML1  ENSG00000128274_A4GALT  \\\n",
       "0                -0.000411              -0.000060               -0.001241   \n",
       "1                -0.000048               0.000009                0.000188   \n",
       "\n",
       "   ENSG00000094914_AAAS  ENSG00000081760_AACS  ENSG00000109576_AADAT  \\\n",
       "0              0.001953             -0.006214              -0.000883   \n",
       "1             -0.000248              0.001903              -0.000227   \n",
       "\n",
       "   ENSG00000103591_AAGAB  ...  ENSG00000188404_SELL  ENSG00000124570_SERPINB6  \\\n",
       "0              -0.000264  ...             -0.005195                       0.0   \n",
       "1              -0.000268  ...              0.000000                       0.0   \n",
       "\n",
       "   ENSG00000235169_SMIM1  ENSG00000095932_SMIM24  ENSG00000137642_SORL1  \\\n",
       "0                    0.0                0.000000              -0.022825   \n",
       "1                    0.0               -0.017512               0.004803   \n",
       "\n",
       "   ENSG00000128040_SPINK2  ENSG00000072274_TFRC  ENSG00000205542_TMSB4X  \\\n",
       "0                     0.0              0.024688                     0.0   \n",
       "1                     0.0              0.000000                     0.0   \n",
       "\n",
       "   ENSG00000133112_TPT1  ENSG00000026025_VIM  \n",
       "0              0.017971                  0.0  \n",
       "1              0.000000                  0.0  \n",
       "\n",
       "[2 rows x 22085 columns]"
      ]
     },
     "execution_count": 7,
     "metadata": {},
     "output_type": "execute_result"
    }
   ],
   "source": [
    "# shap_values = np.load('4.model/pred/shap_values_16_50_samples.npy', allow_pickle=True).astype(float)\n",
    "shap_values = np.load('4.model/pred/shap_values_16_restructured.npy', allow_pickle=True).astype(float)\n",
    "\n",
    "xtest = ad.read_h5ad('4.model/pred/X_test_shap_16.h5ad')\n",
    "\n",
    "attr_all_22085_genes = get_attr_all_features(xtest, shap_values, svd_comp_norm)     # TODO in original dataset all 22085 columns are sorted alphabetically\n",
    "                                                                                    # here: first 22001 are sorted, then next 84 are sorted... change order afterwards?\n",
    "attr_all_22085_genes.head(2)"
   ]
  },
  {
   "cell_type": "code",
   "execution_count": 8,
   "metadata": {},
   "outputs": [],
   "source": [
    "with open('4.model/pred/attr_all_22085_genes_16_5_samples.pkl', 'wb') as f:\n",
    "    pickle.dump(attr_all_22085_genes, f)"
   ]
  },
  {
   "cell_type": "code",
   "execution_count": null,
   "metadata": {},
   "outputs": [],
   "source": [
    "# TODO same for shap_values_17"
   ]
  }
 ],
 "metadata": {
  "kernelspec": {
   "display_name": "Python 3 (ipykernel)",
   "language": "python",
   "name": "python3"
  },
  "language_info": {
   "codemirror_mode": {
    "name": "ipython",
    "version": 3
   },
   "file_extension": ".py",
   "mimetype": "text/x-python",
   "name": "python",
   "nbconvert_exporter": "python",
   "pygments_lexer": "ipython3",
   "version": "3.8.10"
  }
 },
 "nbformat": 4,
 "nbformat_minor": 4
}
