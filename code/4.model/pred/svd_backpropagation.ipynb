{
 "cells": [
  {
   "cell_type": "markdown",
   "metadata": {},
   "source": [
    "- get feature attributions for all genes instead of svd components\n",
    "- load in normalized svd components svd_comp_norm\n",
    "- get_attr_all_features() creates attr_all_22085_genes"
   ]
  },
  {
   "cell_type": "code",
   "execution_count": 1,
   "metadata": {},
   "outputs": [],
   "source": [
    "import numpy as np\n",
    "import pandas as pd\n",
    "import os\n",
    "import pickle\n",
    "\n",
    "import anndata as ad"
   ]
  },
  {
   "cell_type": "code",
   "execution_count": 2,
   "metadata": {},
   "outputs": [],
   "source": [
    "os.chdir('../..')"
   ]
  },
  {
   "cell_type": "code",
   "execution_count": 3,
   "metadata": {},
   "outputs": [],
   "source": [
    "lrz_path = '/dss/dssfs02/lwp-dss-0001/pn36po/pn36po-dss-0001/di93zoj/'\n",
    "\n",
    "path_for_attr_all_genes = lrz_path + 'large_preprocessed_files/attr_all_genes/'"
   ]
  },
  {
   "cell_type": "markdown",
   "metadata": {},
   "source": [
    "### svd contributions:"
   ]
  },
  {
   "cell_type": "markdown",
   "metadata": {},
   "source": [
    "Load in svd components from TruncatedSVD fitted in 2.preprocess_to_feature/cite/make_base_feature.py"
   ]
  },
  {
   "cell_type": "code",
   "execution_count": 4,
   "metadata": {},
   "outputs": [
    {
     "name": "stdout",
     "output_type": "stream",
     "text": [
      "(128, 22001)\n"
     ]
    }
   ],
   "source": [
    "# normalized svd components\n",
    "svd_comp_norm = np.loadtxt('2.preprocess_to_feature/cite/svd_comp_norm.txt', delimiter=',')\n",
    "print(svd_comp_norm.shape)"
   ]
  },
  {
   "cell_type": "code",
   "execution_count": 5,
   "metadata": {},
   "outputs": [
    {
     "data": {
      "text/plain": [
       "array([-1.80979350e-05, -1.49000311e-06,  3.09174447e-06, ...,\n",
       "        1.26464845e-04,  2.65770446e-04,  1.75062174e-04])"
      ]
     },
     "execution_count": 5,
     "metadata": {},
     "output_type": "execute_result"
    }
   ],
   "source": [
    "# shap plots: base_svd_2 important feature\n",
    "svd_comp_norm[2]"
   ]
  },
  {
   "cell_type": "markdown",
   "metadata": {},
   "source": [
    "=> This means that the contribution can be computed as follows: \\\n",
    "contribution x_2 = -0.00001809 * geneA - 0.00000149 * geneB + 0.0000030917 * geneC + ... + 0.0001264 * geneX + 0.00026577 * geneY + 0.000175 * geneZ"
   ]
  },
  {
   "cell_type": "markdown",
   "metadata": {},
   "source": [
    "### column names:"
   ]
  },
  {
   "cell_type": "code",
   "execution_count": 6,
   "metadata": {},
   "outputs": [],
   "source": [
    "# all_22001_genes: 22001 features, handselected_gene_ids: 84 handselected genes\n",
    "all_22001_genes = np.loadtxt('2.preprocess_to_feature/cite/all_22001_genes_names.txt', dtype=str)\n",
    "handselected_gene_ids = np.loadtxt('2.preprocess_to_feature/cite/handselected_84_gene_ids.txt', dtype=str)"
   ]
  },
  {
   "cell_type": "markdown",
   "metadata": {},
   "source": [
    "### propagate shap values back through svd to get original genes -> store in attr_all_22085_genes\n",
    "#### currently only first class (shap_values[0]) -> TODO consider all 140 classes"
   ]
  },
  {
   "cell_type": "markdown",
   "metadata": {},
   "source": [
    "steps:\\\n",
    "multiply SHAP(svd_n) * contribution of gene A to component n -> then sum \\\n",
    "each dot in summary_plot is attribution for one cell -> loop over all cells\n",
    "\n",
    "dimensions:\\\n",
    "212 features: 128 svd and 84 genes\n",
    "cells: number_of_samples_per_cell_type * 7  (there are 7 unique cell types)\n",
    "predicted \"classes\": 140\n",
    "\n",
    "contribution of gene A to component n: svd_comp_norm\n",
    "SHAP(svd_n) for the 128 svd (=first 128 columns)"
   ]
  },
  {
   "cell_type": "code",
   "execution_count": 7,
   "metadata": {},
   "outputs": [],
   "source": [
    "def get_attr_all_features(xtest, shap_values, svd_comp_norm): # TODO how to save attr_all_22085_genes? Huge files!\n",
    "\n",
    "    # backpropagation of svd feature attributions\n",
    "    attr_genes_only = np.zeros((shap_values.shape[0], len(xtest), 22001))  # Initialize the output array, 140x350x22001  # 350==50*7==samples_cell_type * 7\n",
    "\n",
    "    for pred in range(shap_values.shape[0]):\n",
    "        for cell in range(len(xtest)):\n",
    "            attr_genes_only[pred, cell] = np.sum(shap_values[pred, cell, :128, None] * svd_comp_norm[:128], axis=0)\n",
    "    \n",
    "    # combine attributions of handselected and other genes\n",
    "\n",
    "    cols = list(all_22001_genes)+list(handselected_gene_ids)\n",
    "    \n",
    "    # attr_all_22085_genes = np.zeros((shap_values.shape[0], len(xtest), 22085))    # dict of 350x22085 dataframes with column names -> 140 entries = classes \n",
    "    attr_all_22085_genes = {}\n",
    "    \n",
    "    for classes in range(shap_values.shape[0]):\n",
    "        # hstack:  first 22001 genes are backpropagated through svd, the other 84 genes are handselected and are considered separately -> stack left and right acc. to cols\n",
    "        attr_all_22085_genes[classes] = pd.DataFrame(np.hstack((attr_genes_only[classes], shap_values[classes][:,-84:])), columns=cols)  # dict of dataframes with column names\n",
    "        # attr_all_22085_genes[classes] = np.hstack((attr_genes_only[classes], shap_values[classes][:,-84:]))    # 3D array without column names, not much smaller\n",
    "        \n",
    "    return attr_all_22085_genes"
   ]
  },
  {
   "cell_type": "markdown",
   "metadata": {},
   "source": [
    "Get attr_all_22085_genes for data corresponding to model #16.\\\n",
    "First, use 5 samples per cell type:"
   ]
  },
  {
   "cell_type": "code",
   "execution_count": 8,
   "metadata": {},
   "outputs": [],
   "source": [
    "# # testing on 5 samples:\n",
    "# shap_values = np.load('4.model/pred/shap_values_16_restructured.npy', allow_pickle=True).astype(float)\n",
    "\n",
    "# xtest = ad.read_h5ad('4.model/pred/X_test_shap_16_5_samples.h5ad')\n",
    "\n",
    "# attr_all_22085_genes = get_attr_all_features(xtest, shap_values, svd_comp_norm)   # first 22001 columns are sorted alphabetically, then next 84 are sorted\n",
    "# attr_all_22085_genes[0].head(2)"
   ]
  },
  {
   "cell_type": "code",
   "execution_count": 9,
   "metadata": {},
   "outputs": [],
   "source": [
    "# # with open('4.model/pred/attr_all_22085_genes_16_5_samples.pkl', 'wb') as f:\n",
    "# with open(path_for_attr_all_genes + 'attr_all_22085_genes_16_5_samples.pkl', 'wb') as f:\n",
    "#     pickle.dump(attr_all_22085_genes, f)"
   ]
  },
  {
   "cell_type": "markdown",
   "metadata": {},
   "source": [
    "same for 50 samples:"
   ]
  },
  {
   "cell_type": "code",
   "execution_count": 10,
   "metadata": {},
   "outputs": [],
   "source": [
    "# shap_values = np.load('4.model/pred/shap_values_16_50_samples.npy', allow_pickle=True).astype(float)\n",
    "shap_values = np.load('4.model/pred/shap_values_16_50_samples_med.npy', allow_pickle=True).astype(float)\n",
    "\n",
    "xtest = ad.read_h5ad('4.model/pred/X_test_shap_16_50_samples.h5ad')\n",
    "\n",
    "# attr_all_22085_genes = get_attr_all_features(xtest, shap_values, svd_comp_norm)     # first 22001 columns are sorted alphabetically, then next 84 are sorted\n",
    "# attr_all_22085_genes[0].head(2)"
   ]
  },
  {
   "cell_type": "code",
   "execution_count": 11,
   "metadata": {},
   "outputs": [],
   "source": [
    "# with open(path_for_attr_all_genes + 'attr_all_22085_genes_16_50_samples_med.pkl', 'wb') as f:\n",
    "#     pickle.dump(attr_all_22085_genes, f)"
   ]
  },
  {
   "cell_type": "markdown",
   "metadata": {},
   "source": [
    "Get attr_all_22085_genes for data corresponding to model #17."
   ]
  },
  {
   "cell_type": "code",
   "execution_count": 12,
   "metadata": {},
   "outputs": [
    {
     "data": {
      "text/html": [
       "<div>\n",
       "<style scoped>\n",
       "    .dataframe tbody tr th:only-of-type {\n",
       "        vertical-align: middle;\n",
       "    }\n",
       "\n",
       "    .dataframe tbody tr th {\n",
       "        vertical-align: top;\n",
       "    }\n",
       "\n",
       "    .dataframe thead th {\n",
       "        text-align: right;\n",
       "    }\n",
       "</style>\n",
       "<table border=\"1\" class=\"dataframe\">\n",
       "  <thead>\n",
       "    <tr style=\"text-align: right;\">\n",
       "      <th></th>\n",
       "      <th>ENSG00000121410_A1BG</th>\n",
       "      <th>ENSG00000268895_A1BG-AS1</th>\n",
       "      <th>ENSG00000175899_A2M</th>\n",
       "      <th>ENSG00000245105_A2M-AS1</th>\n",
       "      <th>ENSG00000166535_A2ML1</th>\n",
       "      <th>ENSG00000128274_A4GALT</th>\n",
       "      <th>ENSG00000094914_AAAS</th>\n",
       "      <th>ENSG00000081760_AACS</th>\n",
       "      <th>ENSG00000109576_AADAT</th>\n",
       "      <th>ENSG00000103591_AAGAB</th>\n",
       "      <th>...</th>\n",
       "      <th>ENSG00000188404_SELL</th>\n",
       "      <th>ENSG00000124570_SERPINB6</th>\n",
       "      <th>ENSG00000235169_SMIM1</th>\n",
       "      <th>ENSG00000095932_SMIM24</th>\n",
       "      <th>ENSG00000137642_SORL1</th>\n",
       "      <th>ENSG00000128040_SPINK2</th>\n",
       "      <th>ENSG00000072274_TFRC</th>\n",
       "      <th>ENSG00000205542_TMSB4X</th>\n",
       "      <th>ENSG00000133112_TPT1</th>\n",
       "      <th>ENSG00000026025_VIM</th>\n",
       "    </tr>\n",
       "  </thead>\n",
       "  <tbody>\n",
       "    <tr>\n",
       "      <th>0</th>\n",
       "      <td>0.000413</td>\n",
       "      <td>0.000556</td>\n",
       "      <td>0.000846</td>\n",
       "      <td>0.001100</td>\n",
       "      <td>0.000046</td>\n",
       "      <td>0.000108</td>\n",
       "      <td>-0.006612</td>\n",
       "      <td>-0.001009</td>\n",
       "      <td>0.000792</td>\n",
       "      <td>0.000163</td>\n",
       "      <td>...</td>\n",
       "      <td>0.0</td>\n",
       "      <td>0.000000</td>\n",
       "      <td>0.0</td>\n",
       "      <td>0.02081</td>\n",
       "      <td>-0.02712</td>\n",
       "      <td>0.000000</td>\n",
       "      <td>0.0</td>\n",
       "      <td>0.0</td>\n",
       "      <td>0.0</td>\n",
       "      <td>0.045797</td>\n",
       "    </tr>\n",
       "    <tr>\n",
       "      <th>1</th>\n",
       "      <td>0.000017</td>\n",
       "      <td>-0.000038</td>\n",
       "      <td>0.000252</td>\n",
       "      <td>0.000023</td>\n",
       "      <td>-0.000002</td>\n",
       "      <td>-0.000174</td>\n",
       "      <td>-0.000361</td>\n",
       "      <td>-0.000320</td>\n",
       "      <td>-0.000231</td>\n",
       "      <td>0.000216</td>\n",
       "      <td>...</td>\n",
       "      <td>0.0</td>\n",
       "      <td>0.010838</td>\n",
       "      <td>0.0</td>\n",
       "      <td>0.00000</td>\n",
       "      <td>0.00000</td>\n",
       "      <td>0.026258</td>\n",
       "      <td>0.0</td>\n",
       "      <td>0.0</td>\n",
       "      <td>0.0</td>\n",
       "      <td>-0.013764</td>\n",
       "    </tr>\n",
       "  </tbody>\n",
       "</table>\n",
       "<p>2 rows × 22085 columns</p>\n",
       "</div>"
      ],
      "text/plain": [
       "   ENSG00000121410_A1BG  ENSG00000268895_A1BG-AS1  ENSG00000175899_A2M  \\\n",
       "0              0.000413                  0.000556             0.000846   \n",
       "1              0.000017                 -0.000038             0.000252   \n",
       "\n",
       "   ENSG00000245105_A2M-AS1  ENSG00000166535_A2ML1  ENSG00000128274_A4GALT  \\\n",
       "0                 0.001100               0.000046                0.000108   \n",
       "1                 0.000023              -0.000002               -0.000174   \n",
       "\n",
       "   ENSG00000094914_AAAS  ENSG00000081760_AACS  ENSG00000109576_AADAT  \\\n",
       "0             -0.006612             -0.001009               0.000792   \n",
       "1             -0.000361             -0.000320              -0.000231   \n",
       "\n",
       "   ENSG00000103591_AAGAB  ...  ENSG00000188404_SELL  ENSG00000124570_SERPINB6  \\\n",
       "0               0.000163  ...                   0.0                  0.000000   \n",
       "1               0.000216  ...                   0.0                  0.010838   \n",
       "\n",
       "   ENSG00000235169_SMIM1  ENSG00000095932_SMIM24  ENSG00000137642_SORL1  \\\n",
       "0                    0.0                 0.02081               -0.02712   \n",
       "1                    0.0                 0.00000                0.00000   \n",
       "\n",
       "   ENSG00000128040_SPINK2  ENSG00000072274_TFRC  ENSG00000205542_TMSB4X  \\\n",
       "0                0.000000                   0.0                     0.0   \n",
       "1                0.026258                   0.0                     0.0   \n",
       "\n",
       "   ENSG00000133112_TPT1  ENSG00000026025_VIM  \n",
       "0                   0.0             0.045797  \n",
       "1                   0.0            -0.013764  \n",
       "\n",
       "[2 rows x 22085 columns]"
      ]
     },
     "execution_count": 12,
     "metadata": {},
     "output_type": "execute_result"
    }
   ],
   "source": [
    "# shap_values = np.load('4.model/pred/shap_values_16_50_samples.npy', allow_pickle=True).astype(float)\n",
    "shap_values = np.load('4.model/pred/shap_values_17_50_samples_med.npy', allow_pickle=True).astype(float)\n",
    "\n",
    "xtest = ad.read_h5ad('4.model/pred/X_test_shap_17_50_samples.h5ad')\n",
    "\n",
    "attr_all_22085_genes = get_attr_all_features(xtest, shap_values, svd_comp_norm)     # first 22001 columns are sorted alphabetically, then next 84 are sorted\n",
    "attr_all_22085_genes[0].head(2)"
   ]
  },
  {
   "cell_type": "code",
   "execution_count": 13,
   "metadata": {},
   "outputs": [],
   "source": [
    "with open(path_for_attr_all_genes + 'attr_all_22085_genes_17_50_samples_med.pkl', 'wb') as f:\n",
    "    pickle.dump(attr_all_22085_genes, f)"
   ]
  },
  {
   "cell_type": "markdown",
   "metadata": {},
   "source": [
    "### same for shap values from private data"
   ]
  },
  {
   "cell_type": "markdown",
   "metadata": {},
   "source": [
    "model #16:"
   ]
  },
  {
   "cell_type": "code",
   "execution_count": 8,
   "metadata": {},
   "outputs": [
    {
     "data": {
      "text/html": [
       "<div>\n",
       "<style scoped>\n",
       "    .dataframe tbody tr th:only-of-type {\n",
       "        vertical-align: middle;\n",
       "    }\n",
       "\n",
       "    .dataframe tbody tr th {\n",
       "        vertical-align: top;\n",
       "    }\n",
       "\n",
       "    .dataframe thead th {\n",
       "        text-align: right;\n",
       "    }\n",
       "</style>\n",
       "<table border=\"1\" class=\"dataframe\">\n",
       "  <thead>\n",
       "    <tr style=\"text-align: right;\">\n",
       "      <th></th>\n",
       "      <th>ENSG00000121410_A1BG</th>\n",
       "      <th>ENSG00000268895_A1BG-AS1</th>\n",
       "      <th>ENSG00000175899_A2M</th>\n",
       "      <th>ENSG00000245105_A2M-AS1</th>\n",
       "      <th>ENSG00000166535_A2ML1</th>\n",
       "      <th>ENSG00000128274_A4GALT</th>\n",
       "      <th>ENSG00000094914_AAAS</th>\n",
       "      <th>ENSG00000081760_AACS</th>\n",
       "      <th>ENSG00000109576_AADAT</th>\n",
       "      <th>ENSG00000103591_AAGAB</th>\n",
       "      <th>...</th>\n",
       "      <th>ENSG00000188404_SELL</th>\n",
       "      <th>ENSG00000124570_SERPINB6</th>\n",
       "      <th>ENSG00000235169_SMIM1</th>\n",
       "      <th>ENSG00000095932_SMIM24</th>\n",
       "      <th>ENSG00000137642_SORL1</th>\n",
       "      <th>ENSG00000128040_SPINK2</th>\n",
       "      <th>ENSG00000072274_TFRC</th>\n",
       "      <th>ENSG00000205542_TMSB4X</th>\n",
       "      <th>ENSG00000133112_TPT1</th>\n",
       "      <th>ENSG00000026025_VIM</th>\n",
       "    </tr>\n",
       "  </thead>\n",
       "  <tbody>\n",
       "    <tr>\n",
       "      <th>0</th>\n",
       "      <td>0.000056</td>\n",
       "      <td>-0.000113</td>\n",
       "      <td>0.000543</td>\n",
       "      <td>0.000505</td>\n",
       "      <td>0.000003</td>\n",
       "      <td>-0.000064</td>\n",
       "      <td>-0.002281</td>\n",
       "      <td>0.000939</td>\n",
       "      <td>-0.000058</td>\n",
       "      <td>0.000303</td>\n",
       "      <td>...</td>\n",
       "      <td>-0.018111</td>\n",
       "      <td>0.000000</td>\n",
       "      <td>0.0</td>\n",
       "      <td>0.024404</td>\n",
       "      <td>0.0</td>\n",
       "      <td>0.0</td>\n",
       "      <td>-0.032505</td>\n",
       "      <td>0.008612</td>\n",
       "      <td>0.0</td>\n",
       "      <td>-0.019831</td>\n",
       "    </tr>\n",
       "    <tr>\n",
       "      <th>1</th>\n",
       "      <td>0.000063</td>\n",
       "      <td>0.000227</td>\n",
       "      <td>-0.000275</td>\n",
       "      <td>0.000597</td>\n",
       "      <td>0.000023</td>\n",
       "      <td>-0.000329</td>\n",
       "      <td>0.001407</td>\n",
       "      <td>0.002708</td>\n",
       "      <td>0.000280</td>\n",
       "      <td>0.000883</td>\n",
       "      <td>...</td>\n",
       "      <td>-0.009935</td>\n",
       "      <td>0.004501</td>\n",
       "      <td>0.0</td>\n",
       "      <td>0.012049</td>\n",
       "      <td>0.0</td>\n",
       "      <td>0.0</td>\n",
       "      <td>0.000894</td>\n",
       "      <td>0.000000</td>\n",
       "      <td>0.0</td>\n",
       "      <td>0.002347</td>\n",
       "    </tr>\n",
       "  </tbody>\n",
       "</table>\n",
       "<p>2 rows × 22085 columns</p>\n",
       "</div>"
      ],
      "text/plain": [
       "   ENSG00000121410_A1BG  ENSG00000268895_A1BG-AS1  ENSG00000175899_A2M  \\\n",
       "0              0.000056                 -0.000113             0.000543   \n",
       "1              0.000063                  0.000227            -0.000275   \n",
       "\n",
       "   ENSG00000245105_A2M-AS1  ENSG00000166535_A2ML1  ENSG00000128274_A4GALT  \\\n",
       "0                 0.000505               0.000003               -0.000064   \n",
       "1                 0.000597               0.000023               -0.000329   \n",
       "\n",
       "   ENSG00000094914_AAAS  ENSG00000081760_AACS  ENSG00000109576_AADAT  \\\n",
       "0             -0.002281              0.000939              -0.000058   \n",
       "1              0.001407              0.002708               0.000280   \n",
       "\n",
       "   ENSG00000103591_AAGAB  ...  ENSG00000188404_SELL  ENSG00000124570_SERPINB6  \\\n",
       "0               0.000303  ...             -0.018111                  0.000000   \n",
       "1               0.000883  ...             -0.009935                  0.004501   \n",
       "\n",
       "   ENSG00000235169_SMIM1  ENSG00000095932_SMIM24  ENSG00000137642_SORL1  \\\n",
       "0                    0.0                0.024404                    0.0   \n",
       "1                    0.0                0.012049                    0.0   \n",
       "\n",
       "   ENSG00000128040_SPINK2  ENSG00000072274_TFRC  ENSG00000205542_TMSB4X  \\\n",
       "0                     0.0             -0.032505                0.008612   \n",
       "1                     0.0              0.000894                0.000000   \n",
       "\n",
       "   ENSG00000133112_TPT1  ENSG00000026025_VIM  \n",
       "0                   0.0            -0.019831  \n",
       "1                   0.0             0.002347  \n",
       "\n",
       "[2 rows x 22085 columns]"
      ]
     },
     "execution_count": 8,
     "metadata": {},
     "output_type": "execute_result"
    }
   ],
   "source": [
    "shap_values = np.load('4.model/pred/shap_values_16_50_samples_p_ct_distr.npy', allow_pickle=True).astype(float)\n",
    "\n",
    "xtest = ad.read_h5ad('4.model/pred/private_test_input_128_svd_50_samples.h5ad')\n",
    "\n",
    "attr_all_22085_genes = get_attr_all_features(xtest, shap_values, svd_comp_norm)     # first 22001 columns are sorted alphabetically, then next 84 are sorted\n",
    "attr_all_22085_genes[0].head(2)"
   ]
  },
  {
   "cell_type": "code",
   "execution_count": 10,
   "metadata": {},
   "outputs": [],
   "source": [
    "with open(path_for_attr_all_genes + 'attr_all_22085_genes_16_50_samples_p_ct_distr.pkl', 'wb') as f:\n",
    "    pickle.dump(attr_all_22085_genes, f)"
   ]
  },
  {
   "cell_type": "markdown",
   "metadata": {},
   "source": [
    "model #17:"
   ]
  },
  {
   "cell_type": "code",
   "execution_count": 11,
   "metadata": {},
   "outputs": [
    {
     "data": {
      "text/html": [
       "<div>\n",
       "<style scoped>\n",
       "    .dataframe tbody tr th:only-of-type {\n",
       "        vertical-align: middle;\n",
       "    }\n",
       "\n",
       "    .dataframe tbody tr th {\n",
       "        vertical-align: top;\n",
       "    }\n",
       "\n",
       "    .dataframe thead th {\n",
       "        text-align: right;\n",
       "    }\n",
       "</style>\n",
       "<table border=\"1\" class=\"dataframe\">\n",
       "  <thead>\n",
       "    <tr style=\"text-align: right;\">\n",
       "      <th></th>\n",
       "      <th>ENSG00000121410_A1BG</th>\n",
       "      <th>ENSG00000268895_A1BG-AS1</th>\n",
       "      <th>ENSG00000175899_A2M</th>\n",
       "      <th>ENSG00000245105_A2M-AS1</th>\n",
       "      <th>ENSG00000166535_A2ML1</th>\n",
       "      <th>ENSG00000128274_A4GALT</th>\n",
       "      <th>ENSG00000094914_AAAS</th>\n",
       "      <th>ENSG00000081760_AACS</th>\n",
       "      <th>ENSG00000109576_AADAT</th>\n",
       "      <th>ENSG00000103591_AAGAB</th>\n",
       "      <th>...</th>\n",
       "      <th>ENSG00000188404_SELL</th>\n",
       "      <th>ENSG00000124570_SERPINB6</th>\n",
       "      <th>ENSG00000235169_SMIM1</th>\n",
       "      <th>ENSG00000095932_SMIM24</th>\n",
       "      <th>ENSG00000137642_SORL1</th>\n",
       "      <th>ENSG00000128040_SPINK2</th>\n",
       "      <th>ENSG00000072274_TFRC</th>\n",
       "      <th>ENSG00000205542_TMSB4X</th>\n",
       "      <th>ENSG00000133112_TPT1</th>\n",
       "      <th>ENSG00000026025_VIM</th>\n",
       "    </tr>\n",
       "  </thead>\n",
       "  <tbody>\n",
       "    <tr>\n",
       "      <th>0</th>\n",
       "      <td>0.000136</td>\n",
       "      <td>0.000431</td>\n",
       "      <td>0.000498</td>\n",
       "      <td>0.000939</td>\n",
       "      <td>0.000007</td>\n",
       "      <td>-0.000766</td>\n",
       "      <td>-0.003348</td>\n",
       "      <td>-0.000048</td>\n",
       "      <td>-0.00022</td>\n",
       "      <td>-0.000737</td>\n",
       "      <td>...</td>\n",
       "      <td>-0.006766</td>\n",
       "      <td>-0.020778</td>\n",
       "      <td>0.0</td>\n",
       "      <td>0.000000</td>\n",
       "      <td>0.000000</td>\n",
       "      <td>0.000000</td>\n",
       "      <td>-0.011902</td>\n",
       "      <td>0.000000</td>\n",
       "      <td>-0.024068</td>\n",
       "      <td>0.0</td>\n",
       "    </tr>\n",
       "    <tr>\n",
       "      <th>1</th>\n",
       "      <td>-0.000138</td>\n",
       "      <td>0.000377</td>\n",
       "      <td>0.001151</td>\n",
       "      <td>0.001888</td>\n",
       "      <td>0.000066</td>\n",
       "      <td>-0.002372</td>\n",
       "      <td>0.006538</td>\n",
       "      <td>0.001002</td>\n",
       "      <td>0.00110</td>\n",
       "      <td>0.002942</td>\n",
       "      <td>...</td>\n",
       "      <td>0.000000</td>\n",
       "      <td>-0.014653</td>\n",
       "      <td>0.0</td>\n",
       "      <td>0.011124</td>\n",
       "      <td>-0.026157</td>\n",
       "      <td>0.012642</td>\n",
       "      <td>-0.013345</td>\n",
       "      <td>-0.009018</td>\n",
       "      <td>0.000000</td>\n",
       "      <td>0.0</td>\n",
       "    </tr>\n",
       "  </tbody>\n",
       "</table>\n",
       "<p>2 rows × 22085 columns</p>\n",
       "</div>"
      ],
      "text/plain": [
       "   ENSG00000121410_A1BG  ENSG00000268895_A1BG-AS1  ENSG00000175899_A2M  \\\n",
       "0              0.000136                  0.000431             0.000498   \n",
       "1             -0.000138                  0.000377             0.001151   \n",
       "\n",
       "   ENSG00000245105_A2M-AS1  ENSG00000166535_A2ML1  ENSG00000128274_A4GALT  \\\n",
       "0                 0.000939               0.000007               -0.000766   \n",
       "1                 0.001888               0.000066               -0.002372   \n",
       "\n",
       "   ENSG00000094914_AAAS  ENSG00000081760_AACS  ENSG00000109576_AADAT  \\\n",
       "0             -0.003348             -0.000048               -0.00022   \n",
       "1              0.006538              0.001002                0.00110   \n",
       "\n",
       "   ENSG00000103591_AAGAB  ...  ENSG00000188404_SELL  ENSG00000124570_SERPINB6  \\\n",
       "0              -0.000737  ...             -0.006766                 -0.020778   \n",
       "1               0.002942  ...              0.000000                 -0.014653   \n",
       "\n",
       "   ENSG00000235169_SMIM1  ENSG00000095932_SMIM24  ENSG00000137642_SORL1  \\\n",
       "0                    0.0                0.000000               0.000000   \n",
       "1                    0.0                0.011124              -0.026157   \n",
       "\n",
       "   ENSG00000128040_SPINK2  ENSG00000072274_TFRC  ENSG00000205542_TMSB4X  \\\n",
       "0                0.000000             -0.011902                0.000000   \n",
       "1                0.012642             -0.013345               -0.009018   \n",
       "\n",
       "   ENSG00000133112_TPT1  ENSG00000026025_VIM  \n",
       "0             -0.024068                  0.0  \n",
       "1              0.000000                  0.0  \n",
       "\n",
       "[2 rows x 22085 columns]"
      ]
     },
     "execution_count": 11,
     "metadata": {},
     "output_type": "execute_result"
    }
   ],
   "source": [
    "shap_values = np.load('4.model/pred/shap_values_17_50_samples_p_ct_distr.npy', allow_pickle=True).astype(float)\n",
    "\n",
    "xtest = ad.read_h5ad('4.model/pred/private_test_input_64_svd_50_samples.h5ad')\n",
    "\n",
    "attr_all_22085_genes = get_attr_all_features(xtest, shap_values, svd_comp_norm)     # first 22001 columns are sorted alphabetically, then next 84 are sorted\n",
    "attr_all_22085_genes[0].head(2)"
   ]
  },
  {
   "cell_type": "code",
   "execution_count": 12,
   "metadata": {},
   "outputs": [],
   "source": [
    "with open(path_for_attr_all_genes + 'attr_all_22085_genes_17_50_samples_p_ct_distr.pkl', 'wb') as f:\n",
    "    pickle.dump(attr_all_22085_genes, f)"
   ]
  }
 ],
 "metadata": {
  "kernelspec": {
   "display_name": "Python 3 (ipykernel)",
   "language": "python",
   "name": "python3"
  },
  "language_info": {
   "codemirror_mode": {
    "name": "ipython",
    "version": 3
   },
   "file_extension": ".py",
   "mimetype": "text/x-python",
   "name": "python",
   "nbconvert_exporter": "python",
   "pygments_lexer": "ipython3",
   "version": "3.8.10"
  }
 },
 "nbformat": 4,
 "nbformat_minor": 4
}
