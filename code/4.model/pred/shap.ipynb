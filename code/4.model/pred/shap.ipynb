{
 "cells": [
  {
   "cell_type": "markdown",
   "id": "14844fed",
   "metadata": {},
   "source": [
    "- load model #16\n",
    "- explainer = shap.KernelExplainer(model, X_train)\n",
    "- get shap_values = explainer.shap_values(X_test_shap)\n",
    "- save shap_values_16_n_samples.npy\\\n",
    "=> shap values for 212 features! 128 svd components + 84 handselected genes\n",
    "- same steps for model #17"
   ]
  },
  {
   "cell_type": "code",
   "execution_count": 1,
   "id": "58309e2e",
   "metadata": {},
   "outputs": [],
   "source": [
    "%%capture output\n",
    "!pip install --upgrade pip\n",
    "!pip install --upgrade pandas\n",
    "!pip install tables\n",
    "# necessary for pd.read_hdf()\n",
    "!pip install shap\n",
    "\n",
    "!pip install ipywidgets\n",
    "!pip install --upgrade jupyter\n",
    "!pip install IProgress\n",
    "# !pip install catboost\n",
    "!pip install shap\n",
    "!pip install anndata"
   ]
  },
  {
   "cell_type": "code",
   "execution_count": 2,
   "id": "48712090",
   "metadata": {},
   "outputs": [
    {
     "name": "stderr",
     "output_type": "stream",
     "text": [
      "Using `tqdm.autonotebook.tqdm` in notebook mode. Use `tqdm.tqdm` instead to force console mode (e.g. in jupyter console)\n"
     ]
    }
   ],
   "source": [
    "import os\n",
    "import numpy as np\n",
    "import pandas as pd\n",
    "import pickle\n",
    "\n",
    "import shap\n",
    "\n",
    "import anndata as ad"
   ]
  },
  {
   "cell_type": "code",
   "execution_count": 3,
   "id": "0fe994da",
   "metadata": {},
   "outputs": [],
   "source": [
    "%matplotlib inline\n",
    "from tqdm.notebook import tqdm\n",
    "\n",
    "import torch\n",
    "import torch.nn as nn\n",
    "from torch.utils.data import Dataset, DataLoader\n",
    "\n",
    "device = torch.device(\"cuda\") if torch.cuda.is_available() else 'cpu'\n",
    "# pd.set_option('display.max_rows', 500)\n",
    "# pd.set_option('display.max_columns', 500)"
   ]
  },
  {
   "cell_type": "markdown",
   "id": "3074cd69",
   "metadata": {},
   "source": [
    "## data load"
   ]
  },
  {
   "cell_type": "code",
   "execution_count": 4,
   "id": "a634a137",
   "metadata": {},
   "outputs": [],
   "source": [
    "lrz_path = '/dss/dssfs02/lwp-dss-0001/pn36po/pn36po-dss-0001/di93zoj/open-problems-multimodal-3rd-solution/'\n",
    "private_data_path = '/dss/dssfs02/lwp-dss-0001/pn36po/pn36po-dss-0001/di93zoj/kaggle/full_data'\n",
    "\n",
    "raw_path =  lrz_path + 'input/raw/'  # '../../../input/raw/'\n",
    "\n",
    "cite_target_path = lrz_path + 'input/target/cite/'   # '../../../input/target/cite/'\n",
    "cite_feature_path = lrz_path + 'input/features/cite/'   # '../../../input/features/cite/'\n",
    "cite_mlp_path = lrz_path + 'model/cite/mlp/'   # '../../../model/cite/mlp/'   # '../../../model/cite/mlp/'\n",
    "cite_cb_path = lrz_path + 'model/cite/cb/'   # '../../../model/cite/cb/'\n",
    "\n",
    "# multi_target_path = lrz_path + 'input/target/multi/'   # '../../../input/target/multi/'\n",
    "# multi_feature_path = lrz_path + 'input/features/multi/'   # '../../../input/features/multi/'\n",
    "# multi_mlp_path = lrz_path + 'model/multi/mlp/'   # '../../../model/multi/mlp/'\n",
    "# multi_cb_path = lrz_path + 'model/multi/cb/'   # '../../../model/multi/cb/'\n",
    "\n",
    "index_path = lrz_path + 'input/preprocess/cite/'\n",
    "\n",
    "output_path = lrz_path + 'output/'   # '../../../output/'"
   ]
  },
  {
   "cell_type": "markdown",
   "id": "d369c10d",
   "metadata": {},
   "source": [
    "## Cite  (code from codebase, same steps as in run_model.ipynb)"
   ]
  },
  {
   "cell_type": "code",
   "execution_count": 5,
   "id": "9c27931c",
   "metadata": {},
   "outputs": [],
   "source": [
    "# short names of models used in ensemble\n",
    "mlp_model_name = [\n",
    "    'corr_add_con_imp',\n",
    "    'corr_last_v3', \n",
    "    'corr_c_add_w2v_v1_mish_flg',\n",
    "    'corr_c_add_w2v_v1_flg',\n",
    "    'corr_c_add_84_v1',\n",
    "    'corr_c_add_120_v1',\n",
    "    'corr_w2v_cell_flg',\n",
    "    'corr_best_cell_120',\n",
    "    'corr_cluster_cell',\n",
    "    'corr_w2v_128',\n",
    "    'corr_imp_w2v_128',\n",
    "    'corr_snorm',\n",
    "    'corr_best_128',\n",
    "    'corr_best_64',\n",
    "    'corr_cluster_128',\n",
    "    'corr_cluster_64',\n",
    "    'corr_svd_128',\n",
    "    'corr_svd_64',\n",
    "             ]"
   ]
  },
  {
   "cell_type": "code",
   "execution_count": 6,
   "id": "9b3534f2",
   "metadata": {},
   "outputs": [
    {
     "data": {
      "text/plain": [
       "['cite_mlp_corr_add_con_imp_flg_donor_val_50',\n",
       " 'cite_mlp_corr_last_v3_flg_donor_val_55',\n",
       " 'cite_mlp_corr_c_add_w2v_v1_mish_flg_donor_val_66',\n",
       " 'cite_mlp_corr_c_add_w2v_v1_flg_donor_val_66',\n",
       " 'cite_mlp_corr_c_add_84_v1_flg_donor_val_47',\n",
       " 'cite_mlp_corr_c_add_120_v1_flg_donor_val_63',\n",
       " 'cite_mlp_corr_w2v_cell_flg_donor_val_51',\n",
       " 'cite_mlp_corr_best_cell_120_flg_donor_val_51',\n",
       " 'cite_mlp_corr_cluster_cell_flg_donor_val_64',\n",
       " 'cite_mlp_corr_w2v_128_flg_donor_val_42',\n",
       " 'cite_mlp_corr_imp_w2v_128_flg_donor_val_38',\n",
       " 'cite_mlp_corr_snorm_flg_donor_val_39',\n",
       " 'cite_mlp_corr_best_128_flg_donor_val_45',\n",
       " 'cite_mlp_corr_best_64_flg_donor_val_50',\n",
       " 'cite_mlp_corr_cluster_128_flg_donor_val_51',\n",
       " 'cite_mlp_corr_cluster_64_flg_donor_val_57',\n",
       " 'cite_mlp_corr_svd_128_flg_donor_val_30',\n",
       " 'cite_mlp_corr_svd_64_flg_donor_val_38']"
      ]
     },
     "execution_count": 6,
     "metadata": {},
     "output_type": "execute_result"
    }
   ],
   "source": [
    "# create model_name_list containing the actual file name of each model from mlp_model_name\n",
    "model_name_list = []\n",
    "\n",
    "for i in mlp_model_name:\n",
    "    for num, j in enumerate(os.listdir(cite_mlp_path)):\n",
    "        if i in j:\n",
    "            model_name_list.append(j)\n",
    "\n",
    "len(model_name_list)\n",
    "model_name_list"
   ]
  },
  {
   "cell_type": "code",
   "execution_count": 7,
   "id": "cfc8ed9a",
   "metadata": {},
   "outputs": [],
   "source": [
    "# list of file names: test sets that correspond to each model in model_name_list\n",
    "# weights used for weighting model predictions in ensemble\n",
    "weight = [1, 0.3, 1, 1, 1, 1, 1, 1, 1, 0.8, 0.8, 0.8, 0.8, 0.5, 0.5, 0.5, 1, 1, 2, 2]\n",
    "weight_sum = np.array(weight).sum()\n",
    "weight_sum\n",
    "\n",
    "# create dict of shape {model_name: [test set, weight]}\n",
    "model_feat_dict = {model_name_list[0]:['X_test_add_con_imp.pickle', 1],\n",
    "                   model_name_list[1]:['X_test_last_v3.pickle', 0.3],\n",
    "                   model_name_list[2]:['X_test_c_add_w2v_v1.pickle', 1],\n",
    "                   model_name_list[3]:['X_test_c_add_w2v_v1.pickle', 1],\n",
    "                   model_name_list[4]:['X_test_c_add_84_v1.pickle', 1],\n",
    "                   model_name_list[5]:['X_test_c_add_v1.pickle', 1],\n",
    "                   \n",
    "                   model_name_list[6]:['X_test_feature_w2v_cell.pickle', 1],\n",
    "                   model_name_list[7]:['X_test_best_cell_128_120.pickle', 1],\n",
    "                   model_name_list[8]:['X_test_cluster_cell_128.pickle', 1],\n",
    "                   \n",
    "                   model_name_list[9]:['X_test_feature_w2v.pickle', 0.8],\n",
    "                   model_name_list[10]:['X_test_feature_imp_w2v.pickle',0.8],\n",
    "                   model_name_list[11]:['X_test_feature_snorm.pickle', 0.8],\n",
    "                   model_name_list[12]:['X_test_best_128.pickle', 0.8],\n",
    "                   model_name_list[13]:['X_test_best_64.pickle', 0.5],\n",
    "                   model_name_list[14]:['X_test_cluster_128.pickle', 0.5],\n",
    "                   model_name_list[15]:['X_test_cluster_64.pickle', 0.5],\n",
    "                   model_name_list[16]:['X_test_svd_128.pickle', 1],\n",
    "                   model_name_list[17]:['X_test_svd_64.pickle', 1],\n",
    "                   \n",
    "                   'best_128':['X_test_best_128.pickle', 2],\n",
    "                   'best_64':['X_test_best_64.pickle', 2],\n",
    "                  }"
   ]
  },
  {
   "cell_type": "markdown",
   "id": "98a7d42e",
   "metadata": {},
   "source": [
    "### cite model (from codebase)"
   ]
  },
  {
   "cell_type": "markdown",
   "id": "e7785fe6",
   "metadata": {},
   "source": [
    "Only need to load the model, not run the predictions as they are in run_model.ipynb"
   ]
  },
  {
   "cell_type": "code",
   "execution_count": 8,
   "id": "00a441ee",
   "metadata": {},
   "outputs": [],
   "source": [
    "def std(x):\n",
    "    x = np.array(x)\n",
    "    return (x - x.mean(1).reshape(-1, 1)) / x.std(1).reshape(-1, 1)"
   ]
  },
  {
   "cell_type": "code",
   "execution_count": 9,
   "id": "95683dab",
   "metadata": {},
   "outputs": [],
   "source": [
    "class CiteDataset_test(Dataset):\n",
    "    \n",
    "    def __init__(self, feature):\n",
    "        self.feature = feature\n",
    "        \n",
    "    def __len__(self):\n",
    "        return len(self.feature)\n",
    "    \n",
    "    def __getitem__(self, index):\n",
    "                \n",
    "        d = {\n",
    "            \"X\": self.feature[index]\n",
    "        }\n",
    "        return d"
   ]
  },
  {
   "cell_type": "code",
   "execution_count": 10,
   "id": "8586f92d",
   "metadata": {},
   "outputs": [],
   "source": [
    "class CiteModel(nn.Module):\n",
    "    \n",
    "    def __init__(self, feature_num):\n",
    "        super(CiteModel, self).__init__()\n",
    "        \n",
    "        self.layer_seq_256 = nn.Sequential(nn.Linear(feature_num, 256),\n",
    "                                           nn.Linear(256, 128),\n",
    "                                       nn.LayerNorm(128),\n",
    "                                       nn.ReLU(),\n",
    "                                      )\n",
    "        self.layer_seq_64 = nn.Sequential(nn.Linear(128, 64),\n",
    "                                       nn.Linear(64, 32),\n",
    "                                       nn.LayerNorm(32),\n",
    "                                       nn.ReLU(),\n",
    "                                      )\n",
    "        self.layer_seq_8 = nn.Sequential(nn.Linear(32, 16),\n",
    "                                         nn.Linear(16, 8),\n",
    "                                       nn.LayerNorm(8),\n",
    "                                       nn.ReLU(),\n",
    "                                      )\n",
    "        \n",
    "        self.head = nn.Linear(128 + 32 + 8, 140)\n",
    "                   \n",
    "    def forward(self, X, y=None):\n",
    "        \n",
    "        from_numpy = False\n",
    "        \n",
    "      ##\n",
    "        if isinstance(X, np.ndarray):\n",
    "            X = torch.from_numpy(X)\n",
    "            from_numpy = True\n",
    "        X = X.to(device)  # Move the input to the appropriate device if necessary\n",
    "        ##\n",
    "        X_256 = self.layer_seq_256(X)\n",
    "        X_64 = self.layer_seq_64(X_256)\n",
    "        X_8 = self.layer_seq_8(X_64)\n",
    "        \n",
    "        X = torch.cat([X_256, X_64, X_8], axis = 1)\n",
    "        out = self.head(X)\n",
    "        \n",
    "        if from_numpy:\n",
    "            out = out.cpu().detach().numpy()\n",
    "            \n",
    "        return out"
   ]
  },
  {
   "cell_type": "code",
   "execution_count": 11,
   "id": "7bffee09",
   "metadata": {},
   "outputs": [],
   "source": [
    "class CiteModel_mish(nn.Module):\n",
    "    \n",
    "    def __init__(self, feature_num):\n",
    "        super(CiteModel_mish, self).__init__()\n",
    "        \n",
    "        self.layer_seq_256 = nn.Sequential(nn.Linear(feature_num, 256),\n",
    "                                           nn.Linear(256, 128),\n",
    "                                       nn.LayerNorm(128),\n",
    "                                       nn.Mish(),\n",
    "                                      )\n",
    "        self.layer_seq_64 = nn.Sequential(nn.Linear(128, 64),\n",
    "                                       nn.Linear(64, 32),\n",
    "                                       nn.LayerNorm(32),\n",
    "                                       nn.Mish(),\n",
    "                                      )\n",
    "        self.layer_seq_8 = nn.Sequential(nn.Linear(32, 16),\n",
    "                                         nn.Linear(16, 8),\n",
    "                                       nn.LayerNorm(8),\n",
    "                                       nn.Mish(),\n",
    "                                      )\n",
    "        \n",
    "        self.head = nn.Linear(128 + 32 + 8, 140)\n",
    "                   \n",
    "    def forward(self, X, y=None):\n",
    "    \n",
    "        X_256 = self.layer_seq_256(X)\n",
    "        X_64 = self.layer_seq_64(X_256)\n",
    "        X_8 = self.layer_seq_8(X_64)\n",
    "        \n",
    "        X = torch.cat([X_256, X_64, X_8], axis = 1)\n",
    "        out = self.head(X)\n",
    "        \n",
    "        return out"
   ]
  },
  {
   "cell_type": "code",
   "execution_count": 12,
   "id": "919b450c",
   "metadata": {},
   "outputs": [],
   "source": [
    "def test_loop(model, loader):\n",
    "    \n",
    "    model.eval()\n",
    "    predicts=[]\n",
    "\n",
    "    for d in tqdm(loader):\n",
    "        with torch.no_grad():\n",
    "            X = d['X'].to(device)\n",
    "            logits = model(X)\n",
    "            predicts.append(logits.detach().cpu().numpy())\n",
    "            \n",
    "    return np.concatenate(predicts)"
   ]
  },
  {
   "cell_type": "markdown",
   "id": "6927ecd5",
   "metadata": {},
   "source": [
    "### model #16"
   ]
  },
  {
   "cell_type": "code",
   "execution_count": 13,
   "id": "4746d70d",
   "metadata": {
    "scrolled": true
   },
   "outputs": [
    {
     "data": {
      "text/plain": [
       "<All keys matched successfully>"
      ]
     },
     "execution_count": 13,
     "metadata": {},
     "output_type": "execute_result"
    }
   ],
   "source": [
    "# only need model, not whole prediction\n",
    "\n",
    "# model #16: cite_mlp_corr_svd_128_flg_donor_val_30\n",
    "\n",
    "model_name = 'cite_mlp_corr_svd_128_flg_donor_val_30'\n",
    "        \n",
    "test_file = model_feat_dict[model_name][0]\n",
    "X_test = pd.read_pickle(cite_feature_path  + test_file)\n",
    "X_test = np.array(X_test)\n",
    "feature_dims = X_test.shape[1]\n",
    "\n",
    "if 'mish' in i:\n",
    "    model16 = CiteModel_mish(feature_dims)\n",
    "else:\n",
    "    model16 = CiteModel(feature_dims)\n",
    "    \n",
    "model16 = model16.to(device)\n",
    "model16.load_state_dict(torch.load(f'{cite_mlp_path}/{model_name}'))"
   ]
  },
  {
   "cell_type": "markdown",
   "id": "dd4651f4",
   "metadata": {},
   "source": [
    "### prepare data to get shap values used for plots in plotting.ipynb \n",
    "### => shap.KernelExplainer, explainer.shap_values"
   ]
  },
  {
   "cell_type": "code",
   "execution_count": 14,
   "id": "edb5c5d8",
   "metadata": {},
   "outputs": [
    {
     "name": "stdout",
     "output_type": "stream",
     "text": [
      "X_train:  (70988, 212)\n",
      "X_test:  (48203, 212)\n"
     ]
    }
   ],
   "source": [
    "# X_train for model #16: 'X_svd_128.pickle'\n",
    "X_train = pd.read_pickle(cite_feature_path  + 'X_svd_128.pickle')\n",
    "# X_train = np.array(X_train)\n",
    "print('X_train: ', X_train.shape)\n",
    "print('X_test: ', X_test.shape)\n",
    "\n",
    "# explainer16 = shap.KernelExplainer(model16, shap.sample(X_train, 1000))\n",
    "\n",
    "med = X_train.median().values.reshape((1,X_train.shape[1]))\n",
    "# explainer16 = shap.KernelExplainer(model16, med)\n",
    "\n",
    "# zeros = np.zeros((1,212), dtype=float)\n",
    "explainer16 = shap.KernelExplainer(model16, med)"
   ]
  },
  {
   "cell_type": "code",
   "execution_count": 15,
   "id": "4154a239",
   "metadata": {},
   "outputs": [],
   "source": [
    "X_test_shap = ad.read_h5ad('X_test_shap_16_50_samples.h5ad')"
   ]
  },
  {
   "cell_type": "code",
   "execution_count": 16,
   "id": "9caa732c",
   "metadata": {},
   "outputs": [
    {
     "data": {
      "text/plain": [
       "array([[87.35, -2.75, -2.78, -0.3 , -0.38, -0.92, -0.12, -0.59,  0.13,\n",
       "        -0.51,  0.2 ,  0.12, -0.13, -0.13,  0.06]], dtype=float32)"
      ]
     },
     "execution_count": 16,
     "metadata": {},
     "output_type": "execute_result"
    }
   ],
   "source": [
    "np.set_printoptions(suppress=True)\n",
    "med[:,:15].round(2)"
   ]
  },
  {
   "cell_type": "code",
   "execution_count": 17,
   "id": "cfd9a400",
   "metadata": {},
   "outputs": [],
   "source": [
    "# xtest = X_test_shap.to_df()#.drop(['cell_id', 'cell_type'], axis=1)"
   ]
  },
  {
   "cell_type": "code",
   "execution_count": 18,
   "id": "2ea7fa8e",
   "metadata": {},
   "outputs": [],
   "source": [
    "# features: genes and svd -> omnipath: genes\n",
    "# model: mostly relying on genes or svd? -> later"
   ]
  },
  {
   "cell_type": "code",
   "execution_count": 19,
   "id": "3e68099d",
   "metadata": {
    "scrolled": true
   },
   "outputs": [],
   "source": [
    "# # don't need to run again: np.load('shap_values.npy', allow_pickle=True)\n",
    "# %timeit\n",
    "# shap_values = explainer16.shap_values(X_test_shap.to_df(), nsamples=300)  #500? \n",
    "# print(len(shap_values)) # -> 140 genes\n",
    "# print(len(shap_values[0])) # -> number of samples in xtest\n",
    "# print(shap_values[0].shape)\n",
    "\n",
    "# TODO rename files once double checked that everything works after restructuring\n",
    "# np.save('shap_values_16_50_samples_med.npy', np.array(shap_values, dtype=object), allow_pickle=True)"
   ]
  },
  {
   "cell_type": "code",
   "execution_count": 20,
   "id": "ea146c55",
   "metadata": {},
   "outputs": [],
   "source": [
    "# shap_values[0]"
   ]
  },
  {
   "cell_type": "markdown",
   "id": "e2cfa336",
   "metadata": {},
   "source": [
    "### model #17"
   ]
  },
  {
   "cell_type": "code",
   "execution_count": 21,
   "id": "0014f391",
   "metadata": {
    "scrolled": true
   },
   "outputs": [
    {
     "data": {
      "text/plain": [
       "<All keys matched successfully>"
      ]
     },
     "execution_count": 21,
     "metadata": {},
     "output_type": "execute_result"
    }
   ],
   "source": [
    "# only need model, not whole prediction\n",
    "# model #17: cite_mlp_corr_svd_64_flg_donor_val_38\n",
    "\n",
    "model_name = 'cite_mlp_corr_svd_64_flg_donor_val_38'\n",
    "        \n",
    "test_file = model_feat_dict[model_name][0]\n",
    "X_test = pd.read_pickle(cite_feature_path  + test_file)\n",
    "X_test = np.array(X_test)\n",
    "feature_dims = X_test.shape[1]\n",
    "\n",
    "if 'mish' in i:\n",
    "    model17 = CiteModel_mish(feature_dims)\n",
    "else:\n",
    "    model17 = CiteModel(feature_dims)\n",
    "    \n",
    "model17 = model17.to(device)\n",
    "model17.load_state_dict(torch.load(f'{cite_mlp_path}/{model_name}'))"
   ]
  },
  {
   "cell_type": "markdown",
   "id": "6f9bb685",
   "metadata": {},
   "source": [
    "### prepare data to get shap values used for plots in plotting.ipynb \n",
    "### => shap.KernelExplainer, explainer.shap_values"
   ]
  },
  {
   "cell_type": "code",
   "execution_count": 22,
   "id": "d8d80aa8",
   "metadata": {},
   "outputs": [
    {
     "name": "stdout",
     "output_type": "stream",
     "text": [
      "X_train:  (70988, 148)\n",
      "X_test:  (48203, 148)\n"
     ]
    }
   ],
   "source": [
    "# X_train for model #17: 'X_svd_64.pickle'\n",
    "X_train = pd.read_pickle(cite_feature_path  + 'X_svd_64.pickle')\n",
    "# X_train = np.array(X_train)\n",
    "print('X_train: ', X_train.shape)\n",
    "print('X_test: ', X_test.shape)\n",
    "\n",
    "med = X_train.median().values.reshape((1,X_train.shape[1]))\n",
    "\n",
    "explainer17 = shap.KernelExplainer(model17, med)  #shap.sample(X_train, 1000))"
   ]
  },
  {
   "cell_type": "code",
   "execution_count": 23,
   "id": "9c877de5",
   "metadata": {},
   "outputs": [],
   "source": [
    "X_test_shap = ad.read_h5ad('X_test_shap_17_50_samples.h5ad')"
   ]
  },
  {
   "cell_type": "code",
   "execution_count": 24,
   "id": "fe155a9b",
   "metadata": {
    "scrolled": true
   },
   "outputs": [],
   "source": [
    "# # don't need to run again: np.load('shap_values.npy', allow_pickle=True)\n",
    "# %timeit\n",
    "# shap_values = explainer17.shap_values(X_test_shap.to_df(), nsamples=300)  #500? \n",
    "# print(len(shap_values)) # -> 140 genes\n",
    "# print(len(shap_values[0])) # -> number of samples in xtest\n",
    "# print(shap_values[0].shape)\n",
    "\n",
    "# TODO rename files once double checked that everything works after restructuring\n",
    "# np.save('shap_values_17_50_samples_med.npy', np.array(shap_values, dtype=object), allow_pickle=True)"
   ]
  },
  {
   "cell_type": "code",
   "execution_count": 25,
   "id": "34943037",
   "metadata": {},
   "outputs": [],
   "source": [
    "# shap_values[0]"
   ]
  },
  {
   "cell_type": "markdown",
   "id": "9893f2fd",
   "metadata": {},
   "source": [
    "### same steps for private test data"
   ]
  },
  {
   "cell_type": "markdown",
   "id": "88d6fb75",
   "metadata": {},
   "source": [
    "steps for model 16: compute shap values on 50 samples per cell type"
   ]
  },
  {
   "cell_type": "code",
   "execution_count": 26,
   "id": "8b42f411",
   "metadata": {},
   "outputs": [
    {
     "data": {
      "text/html": [
       "<div>\n",
       "<style scoped>\n",
       "    .dataframe tbody tr th:only-of-type {\n",
       "        vertical-align: middle;\n",
       "    }\n",
       "\n",
       "    .dataframe tbody tr th {\n",
       "        vertical-align: top;\n",
       "    }\n",
       "\n",
       "    .dataframe thead th {\n",
       "        text-align: right;\n",
       "    }\n",
       "</style>\n",
       "<table border=\"1\" class=\"dataframe\">\n",
       "  <thead>\n",
       "    <tr style=\"text-align: right;\">\n",
       "      <th></th>\n",
       "      <th>kaggle_dataset</th>\n",
       "      <th>day</th>\n",
       "      <th>donor</th>\n",
       "      <th>cell_type</th>\n",
       "      <th>ID</th>\n",
       "    </tr>\n",
       "  </thead>\n",
       "  <tbody>\n",
       "    <tr>\n",
       "      <th>TACAGGTAGCAGGGAG-1-('31800', 2)</th>\n",
       "      <td>train</td>\n",
       "      <td>2</td>\n",
       "      <td>31800</td>\n",
       "      <td>BP</td>\n",
       "      <td>46924</td>\n",
       "    </tr>\n",
       "    <tr>\n",
       "      <th>TTTCGATGTACCTATG-1-('31800', 2)</th>\n",
       "      <td>train</td>\n",
       "      <td>2</td>\n",
       "      <td>31800</td>\n",
       "      <td>BP</td>\n",
       "      <td>47398</td>\n",
       "    </tr>\n",
       "    <tr>\n",
       "      <th>AACGGGAGTTGACTAC-1-('31800', 2)</th>\n",
       "      <td>train</td>\n",
       "      <td>2</td>\n",
       "      <td>31800</td>\n",
       "      <td>BP</td>\n",
       "      <td>53848</td>\n",
       "    </tr>\n",
       "    <tr>\n",
       "      <th>ACTTCCGTCTGGCCGA-1-('13176', 2)</th>\n",
       "      <td>train</td>\n",
       "      <td>2</td>\n",
       "      <td>13176</td>\n",
       "      <td>BP</td>\n",
       "      <td>24550</td>\n",
       "    </tr>\n",
       "    <tr>\n",
       "      <th>GGAGGATCACTGCACG-1-('13176', 4)</th>\n",
       "      <td>train</td>\n",
       "      <td>4</td>\n",
       "      <td>13176</td>\n",
       "      <td>BP</td>\n",
       "      <td>39974</td>\n",
       "    </tr>\n",
       "    <tr>\n",
       "      <th>...</th>\n",
       "      <td>...</td>\n",
       "      <td>...</td>\n",
       "      <td>...</td>\n",
       "      <td>...</td>\n",
       "      <td>...</td>\n",
       "    </tr>\n",
       "    <tr>\n",
       "      <th>CCTAACCGTTAAGTCC-1-('31800', 4)</th>\n",
       "      <td>train</td>\n",
       "      <td>4</td>\n",
       "      <td>31800</td>\n",
       "      <td>NeuP</td>\n",
       "      <td>68712</td>\n",
       "    </tr>\n",
       "    <tr>\n",
       "      <th>TCCGGGAAGATTAGCA-1-('31800', 4)</th>\n",
       "      <td>train</td>\n",
       "      <td>4</td>\n",
       "      <td>31800</td>\n",
       "      <td>NeuP</td>\n",
       "      <td>69027</td>\n",
       "    </tr>\n",
       "    <tr>\n",
       "      <th>CATGCCTTCGTAGGAG-1-('31800', 3)</th>\n",
       "      <td>train</td>\n",
       "      <td>3</td>\n",
       "      <td>31800</td>\n",
       "      <td>NeuP</td>\n",
       "      <td>56509</td>\n",
       "    </tr>\n",
       "    <tr>\n",
       "      <th>AGGGCTCTCGACCTAA-1-('31800', 3)</th>\n",
       "      <td>train</td>\n",
       "      <td>3</td>\n",
       "      <td>31800</td>\n",
       "      <td>NeuP</td>\n",
       "      <td>55779</td>\n",
       "    </tr>\n",
       "    <tr>\n",
       "      <th>CTAACCCGTTAGAAAC-1-('13176', 4)</th>\n",
       "      <td>train</td>\n",
       "      <td>4</td>\n",
       "      <td>13176</td>\n",
       "      <td>NeuP</td>\n",
       "      <td>38741</td>\n",
       "    </tr>\n",
       "  </tbody>\n",
       "</table>\n",
       "<p>1120 rows × 5 columns</p>\n",
       "</div>"
      ],
      "text/plain": [
       "                                kaggle_dataset  day  donor cell_type     ID\n",
       "TACAGGTAGCAGGGAG-1-('31800', 2)          train    2  31800        BP  46924\n",
       "TTTCGATGTACCTATG-1-('31800', 2)          train    2  31800        BP  47398\n",
       "AACGGGAGTTGACTAC-1-('31800', 2)          train    2  31800        BP  53848\n",
       "ACTTCCGTCTGGCCGA-1-('13176', 2)          train    2  13176        BP  24550\n",
       "GGAGGATCACTGCACG-1-('13176', 4)          train    4  13176        BP  39974\n",
       "...                                        ...  ...    ...       ...    ...\n",
       "CCTAACCGTTAAGTCC-1-('31800', 4)          train    4  31800      NeuP  68712\n",
       "TCCGGGAAGATTAGCA-1-('31800', 4)          train    4  31800      NeuP  69027\n",
       "CATGCCTTCGTAGGAG-1-('31800', 3)          train    3  31800      NeuP  56509\n",
       "AGGGCTCTCGACCTAA-1-('31800', 3)          train    3  31800      NeuP  55779\n",
       "CTAACCCGTTAGAAAC-1-('13176', 4)          train    4  13176      NeuP  38741\n",
       "\n",
       "[1120 rows x 5 columns]"
      ]
     },
     "execution_count": 26,
     "metadata": {},
     "output_type": "execute_result"
    }
   ],
   "source": [
    "X_train_p_sampled = ad.read_h5ad('private_train_input_max_samples.h5ad')  # 160 samples per cell type -> even distr.\n",
    "X_train_p_sampled.obs"
   ]
  },
  {
   "cell_type": "code",
   "execution_count": 27,
   "id": "5167db4f",
   "metadata": {},
   "outputs": [
    {
     "name": "stdout",
     "output_type": "stream",
     "text": [
      "X_train:  (1120, 212)\n",
      "X_test:  (350, 212)\n"
     ]
    }
   ],
   "source": [
    "X_train_p = pd.read_pickle('private_X_train_svd_128.pkl')            # use full train set\n",
    "X_train_p = X_train_p.iloc[np.sort(X_train_p_sampled.obs['ID'])]     # use 160 samples per cell type -> even distr.\n",
    "\n",
    "X_test_p = ad.read_h5ad('private_test_input_128_svd_50_samples.h5ad')\n",
    "\n",
    "print('X_train: ', X_train_p.shape)\n",
    "print('X_test: ', X_test_p.shape)\n",
    "\n",
    "med = X_train_p.median().values.reshape((1,X_train_p.shape[1]))\n",
    "# explainer16_p = shap.KernelExplainer(model16, med)\n",
    "\n",
    "# shap_values_16_p = explainer16_p.shap_values(X_test_p.to_df(), nsamples=300)"
   ]
  },
  {
   "cell_type": "code",
   "execution_count": 28,
   "id": "12a619c2",
   "metadata": {},
   "outputs": [],
   "source": [
    "# np.save('shap_values_16_50_samples_p_ct_distr.npy', np.array(shap_values_16_p, dtype=object), allow_pickle=True)"
   ]
  },
  {
   "cell_type": "markdown",
   "id": "a624b719",
   "metadata": {},
   "source": [
    "### waterfall"
   ]
  },
  {
   "cell_type": "code",
   "execution_count": 29,
   "id": "44cef353",
   "metadata": {},
   "outputs": [],
   "source": [
    "# explainer_w = shap.KernelExplainer(model16, med)\n",
    "# shap_vals = explainer_w(X_test_p.to_df())\n"
   ]
  },
  {
   "cell_type": "code",
   "execution_count": 30,
   "id": "624eff18",
   "metadata": {},
   "outputs": [],
   "source": [
    "# with open(\"explanation.pkl\", \"wb\") as file:\n",
    "#     pickle.dump(shap_vals, file)"
   ]
  },
  {
   "cell_type": "code",
   "execution_count": 31,
   "id": "d44cde15",
   "metadata": {},
   "outputs": [],
   "source": [
    "# np.save('shap_vals_waterfall_data.npy', np.array(shap_vals.data, dtype=object), allow_pickle=True)"
   ]
  },
  {
   "cell_type": "code",
   "execution_count": 32,
   "id": "5de5e569",
   "metadata": {},
   "outputs": [],
   "source": [
    "with open(\"explanation.pkl\", \"rb\") as file:\n",
    "    shap_vals_waterfall = pickle.load(file)"
   ]
  },
  {
   "cell_type": "code",
   "execution_count": 35,
   "id": "c5b9bca9",
   "metadata": {},
   "outputs": [
    {
     "data": {
      "text/plain": [
       ".values =\n",
       "array([[[ 0.01280924,  0.00212279, -0.00654638, ...,  0.06154885,\n",
       "         -0.02373945, -0.03577214],\n",
       "        [ 0.34539623,  0.0019652 , -0.00801785, ...,  0.02783672,\n",
       "         -0.2311595 ,  0.1881909 ],\n",
       "        [-0.09275184, -0.01197663, -0.02124413, ...,  0.00385958,\n",
       "         -0.07569602, -0.05543572],\n",
       "        ...,\n",
       "        [-0.00300983,  0.00187449,  0.00073629, ..., -0.0040005 ,\n",
       "          0.00423564,  0.00187698],\n",
       "        [ 0.00354698,  0.        , -0.00120936, ...,  0.        ,\n",
       "          0.        ,  0.        ],\n",
       "        [ 0.        ,  0.00877515,  0.00593409, ..., -0.00161831,\n",
       "          0.00946353,  0.00854636]],\n",
       "\n",
       "       [[ 0.        , -0.00079469, -0.00041693, ..., -0.00320571,\n",
       "          0.00126306,  0.00271876],\n",
       "        [-0.0263311 ,  0.00308652,  0.00272771, ..., -0.01088741,\n",
       "          0.03089869, -0.01214099],\n",
       "        [ 0.02785237,  0.0190467 ,  0.01469856, ..., -0.05500721,\n",
       "          0.04274619,  0.03669711],\n",
       "        ...,\n",
       "        [-0.00050465, -0.00044305, -0.00094083, ..., -0.00102855,\n",
       "          0.00258852,  0.        ],\n",
       "        [-0.00198563, -0.00054351,  0.        , ...,  0.        ,\n",
       "          0.00066068,  0.00116   ],\n",
       "        [-0.00310566, -0.00067197,  0.00031322, ..., -0.0013684 ,\n",
       "         -0.00157697,  0.        ]],\n",
       "\n",
       "       [[-0.00083156,  0.00044215,  0.00030309, ..., -0.00218263,\n",
       "          0.0022263 ,  0.        ],\n",
       "        [-0.02941182, -0.0009058 ,  0.00268132, ..., -0.00595914,\n",
       "          0.02738712, -0.01678719],\n",
       "        [ 0.04276294,  0.0274726 ,  0.02824021, ..., -0.04159318,\n",
       "          0.06848014,  0.06126914],\n",
       "        ...,\n",
       "        [-0.0006265 , -0.00019542,  0.00030011, ...,  0.00052858,\n",
       "          0.0024852 ,  0.        ],\n",
       "        [ 0.        ,  0.        , -0.00025988, ...,  0.        ,\n",
       "         -0.00139853,  0.00090256],\n",
       "        [-0.001825  ,  0.00085747,  0.00048297, ..., -0.00146854,\n",
       "          0.0049507 ,  0.00125369]],\n",
       "\n",
       "       ...,\n",
       "\n",
       "       [[ 0.00291953,  0.        , -0.00265931, ...,  0.02339734,\n",
       "         -0.00312974, -0.00959865],\n",
       "        [ 0.35001838, -0.03129373, -0.03674396, ...,  0.08106345,\n",
       "         -0.24260284,  0.18035785],\n",
       "        [-0.05141362, -0.03963966, -0.0457876 , ...,  0.01192814,\n",
       "         -0.1134099 , -0.11090107],\n",
       "        ...,\n",
       "        [ 0.        , -0.00083343, -0.00135137, ...,  0.        ,\n",
       "         -0.00356647, -0.00350259],\n",
       "        [ 0.00515349,  0.00065888,  0.00087877, ...,  0.00274491,\n",
       "          0.00161606, -0.00368711],\n",
       "        [ 0.        ,  0.        ,  0.        , ...,  0.        ,\n",
       "          0.        , -0.0013969 ]],\n",
       "\n",
       "       [[ 0.00049126,  0.00047091,  0.        , ...,  0.00195913,\n",
       "          0.00164663, -0.00044005],\n",
       "        [ 0.12291462, -0.01111538, -0.00399824, ...,  0.04426706,\n",
       "         -0.0606749 ,  0.06989321],\n",
       "        [-0.01549482, -0.01100349, -0.01060533, ...,  0.00393713,\n",
       "         -0.04086479, -0.03147579],\n",
       "        ...,\n",
       "        [-0.00130422, -0.00094985,  0.        , ...,  0.003766  ,\n",
       "          0.        , -0.00152785],\n",
       "        [ 0.        , -0.0000262 , -0.00005888, ..., -0.0006725 ,\n",
       "          0.        , -0.00082986],\n",
       "        [-0.00185754, -0.00048904,  0.        , ...,  0.00106135,\n",
       "         -0.00086075, -0.00098797]],\n",
       "\n",
       "       [[-0.00115928, -0.00038542, -0.00257775, ...,  0.012823  ,\n",
       "         -0.00642393, -0.0048255 ],\n",
       "        [ 0.18998041, -0.01299342,  0.00240222, ...,  0.05781167,\n",
       "         -0.12719113,  0.11754197],\n",
       "        [-0.03792988, -0.0273482 , -0.02557081, ...,  0.02113172,\n",
       "         -0.09715239, -0.060073  ],\n",
       "        ...,\n",
       "        [ 0.        ,  0.        ,  0.00023904, ..., -0.00143441,\n",
       "          0.00157325,  0.00131201],\n",
       "        [ 0.00137106,  0.        ,  0.00056925, ...,  0.        ,\n",
       "          0.        ,  0.        ],\n",
       "        [ 0.        , -0.0004146 ,  0.        , ..., -0.00078395,\n",
       "         -0.00051278,  0.        ]]])\n",
       "\n",
       ".base_values =\n",
       "array([[-0.84374654, -1.13664341, -1.0564841 , ..., -0.74341667,\n",
       "        -0.08245093,  0.39625064],\n",
       "       [-0.84374654, -1.13664341, -1.0564841 , ..., -0.74341667,\n",
       "        -0.08245093,  0.39625064],\n",
       "       [-0.84374654, -1.13664341, -1.0564841 , ..., -0.74341667,\n",
       "        -0.08245093,  0.39625064],\n",
       "       ...,\n",
       "       [-0.84374654, -1.13664341, -1.0564841 , ..., -0.74341667,\n",
       "        -0.08245093,  0.39625064],\n",
       "       [-0.84374654, -1.13664341, -1.0564841 , ..., -0.74341667,\n",
       "        -0.08245093,  0.39625064],\n",
       "       [-0.84374654, -1.13664341, -1.0564841 , ..., -0.74341667,\n",
       "        -0.08245093,  0.39625064]])\n",
       "\n",
       ".data =\n",
       "                                 base_svd_0  base_svd_1  base_svd_2  \\\n",
       "CTCCCTCGTATGAAAC-1-('32606', 7)   73.963417    9.693662    9.681709   \n",
       "CATGCAATCGAAATCC-1-('27678', 7)   87.257217   -9.523611   25.474266   \n",
       "AAGCGAGGTTCATCGA-1-('31800', 7)   86.035782   -9.618085   24.647055   \n",
       "TTCGCTGAGAAAGTCT-1-('27678', 7)   87.303780   -8.365380   26.260628   \n",
       "TCCAGAACATCTCATT-1-('31800', 7)   79.363350    5.945584   14.293573   \n",
       "...                                     ...         ...         ...   \n",
       "CAGAGCCGTACCGGAA-1-('32606', 7)   76.783485   12.001092    6.066934   \n",
       "TTGGGTAGTTACCTTT-1-('31800', 7)   79.574409    0.193216    7.644969   \n",
       "AGACAGGCATGCTGCG-1-('13176', 7)   78.616356   14.528877    6.593117   \n",
       "CGAGGAATCGCGAAGA-1-('32606', 7)   85.023254    1.126467   13.816653   \n",
       "TTCCTCTTCATGGAGG-1-('32606', 7)   81.939484    5.552996    8.644449   \n",
       "\n",
       "                                 base_svd_3  base_svd_4  base_svd_5  \\\n",
       "CTCCCTCGTATGAAAC-1-('32606', 7)   -5.698362    7.667257   -9.583122   \n",
       "CATGCAATCGAAATCC-1-('27678', 7)  -13.235568    4.104650   -8.504361   \n",
       "AAGCGAGGTTCATCGA-1-('31800', 7)  -10.741090    5.230818   -8.520335   \n",
       "TTCGCTGAGAAAGTCT-1-('27678', 7)  -11.925523    3.919487  -10.763913   \n",
       "TCCAGAACATCTCATT-1-('31800', 7)   -9.740116   11.252848  -11.025636   \n",
       "...                                     ...         ...         ...   \n",
       "CAGAGCCGTACCGGAA-1-('32606', 7)  -16.233202    5.815192   -2.046114   \n",
       "TTGGGTAGTTACCTTT-1-('31800', 7)  -19.364756    2.872389    0.802353   \n",
       "AGACAGGCATGCTGCG-1-('13176', 7)  -11.059507    8.410204   -6.119076   \n",
       "CGAGGAATCGCGAAGA-1-('32606', 7)  -20.256617    2.652262   -5.596253   \n",
       "TTCCTCTTCATGGAGG-1-('32606', 7)  -16.416510    4.080731   -5.109080   \n",
       "\n",
       "                                 base_svd_6  base_svd_7  base_svd_8  \\\n",
       "CTCCCTCGTATGAAAC-1-('32606', 7)    5.160449   -3.405390   -5.452730   \n",
       "CATGCAATCGAAATCC-1-('27678', 7)    1.242902   -1.349272   -6.141411   \n",
       "AAGCGAGGTTCATCGA-1-('31800', 7)    0.938017   -1.645372    2.727859   \n",
       "TTCGCTGAGAAAGTCT-1-('27678', 7)   -0.246202    3.670309   -4.095333   \n",
       "TCCAGAACATCTCATT-1-('31800', 7)    3.665004   -6.680445   -2.635996   \n",
       "...                                     ...         ...         ...   \n",
       "CAGAGCCGTACCGGAA-1-('32606', 7)    2.817472    1.220755    3.608623   \n",
       "TTGGGTAGTTACCTTT-1-('31800', 7)    9.361853   -1.347252    0.651936   \n",
       "AGACAGGCATGCTGCG-1-('13176', 7)    5.248022    0.754493   -3.105009   \n",
       "CGAGGAATCGCGAAGA-1-('32606', 7)    1.892622    8.646029   -0.875862   \n",
       "TTCCTCTTCATGGAGG-1-('32606', 7)    3.492032    0.684757    4.679646   \n",
       "\n",
       "                                 base_svd_9  ...    imp_74    imp_75  \\\n",
       "CTCCCTCGTATGAAAC-1-('32606', 7)   10.173450  ...  0.000000  0.000000   \n",
       "CATGCAATCGAAATCC-1-('27678', 7)    3.139475  ...  0.000000  0.000000   \n",
       "AAGCGAGGTTCATCGA-1-('31800', 7)   -0.921169  ...  1.715406  1.786931   \n",
       "TTCGCTGAGAAAGTCT-1-('27678', 7)    1.141294  ...  1.560909  1.757840   \n",
       "TCCAGAACATCTCATT-1-('31800', 7)    8.961347  ...  0.000000  0.000000   \n",
       "...                                     ...  ...       ...       ...   \n",
       "CAGAGCCGTACCGGAA-1-('32606', 7)    3.114596  ...  0.000000  1.916805   \n",
       "TTGGGTAGTTACCTTT-1-('31800', 7)    1.112679  ...  0.000000  1.875930   \n",
       "AGACAGGCATGCTGCG-1-('13176', 7)    5.421013  ...  1.709710  1.709710   \n",
       "CGAGGAATCGCGAAGA-1-('32606', 7)    5.028572  ...  0.000000  1.545390   \n",
       "TTCCTCTTCATGGAGG-1-('32606', 7)    1.519074  ...  1.588688  1.588688   \n",
       "\n",
       "                                   imp_76    imp_77    imp_78    imp_79  \\\n",
       "CTCCCTCGTATGAAAC-1-('32606', 7)  0.000000  1.832402  0.000000  0.000000   \n",
       "CATGCAATCGAAATCC-1-('27678', 7)  0.000000  0.000000  1.620997  0.000000   \n",
       "AAGCGAGGTTCATCGA-1-('31800', 7)  0.000000  1.715406  0.000000  0.000000   \n",
       "TTCGCTGAGAAAGTCT-1-('27678', 7)  1.415746  1.757840  0.000000  0.000000   \n",
       "TCCAGAACATCTCATT-1-('31800', 7)  0.000000  1.675226  0.000000  1.675226   \n",
       "...                                   ...       ...       ...       ...   \n",
       "CAGAGCCGTACCGGAA-1-('32606', 7)  0.000000  1.976729  1.916805  1.680973   \n",
       "TTGGGTAGTTACCTTT-1-('31800', 7)  0.000000  2.115425  1.875930  2.002539   \n",
       "AGACAGGCATGCTGCG-1-('13176', 7)  0.000000  1.577216  1.933394  1.577216   \n",
       "CGAGGAATCGCGAAGA-1-('32606', 7)  0.000000  1.878077  1.545390  1.545390   \n",
       "TTCCTCTTCATGGAGG-1-('32606', 7)  0.000000  1.719639  1.871145  1.719639   \n",
       "\n",
       "                                   imp_80    imp_81    imp_82    imp_83  \n",
       "CTCCCTCGTATGAAAC-1-('32606', 7)  2.066206  2.405848  2.444993  0.000000  \n",
       "CATGCAATCGAAATCC-1-('27678', 7)  1.952016  2.194078  2.202164  1.838837  \n",
       "AAGCGAGGTTCATCGA-1-('31800', 7)  1.974259  2.178230  2.223509  1.786931  \n",
       "TTCGCTGAGAAAGTCT-1-('27678', 7)  0.000000  2.179533  2.198908  1.637864  \n",
       "TCCAGAACATCTCATT-1-('31800', 7)  2.056831  2.332885  2.336022  2.135140  \n",
       "...                                   ...       ...       ...       ...  \n",
       "CAGAGCCGTACCGGAA-1-('32606', 7)  1.680973  2.163277  2.304401  2.082048  \n",
       "TTGGGTAGTTACCTTT-1-('31800', 7)  2.070065  2.324361  2.468676  2.149275  \n",
       "AGACAGGCATGCTGCG-1-('13176', 7)  0.000000  2.120548  2.289601  2.070444  \n",
       "CGAGGAATCGCGAAGA-1-('32606', 7)  1.686477  2.227399  2.307734  1.878077  \n",
       "TTCCTCTTCATGGAGG-1-('32606', 7)  1.588688  2.181663  2.288162  2.064800  \n",
       "\n",
       "[350 rows x 212 columns]"
      ]
     },
     "execution_count": 35,
     "metadata": {},
     "output_type": "execute_result"
    }
   ],
   "source": [
    "shap_vals_waterfall"
   ]
  },
  {
   "cell_type": "code",
   "execution_count": 34,
   "id": "9df37825",
   "metadata": {},
   "outputs": [
    {
     "ename": "ValueError",
     "evalue": "The waterfall plot can currently only plot a single explanation, but a matrix of explanations (shape (212, 140)) was passed! Perhaps try `shap.plots.waterfall(shap_values[0])` or for multi-output models, try `shap.plots.waterfall(shap_values[0, 0])`.",
     "output_type": "error",
     "traceback": [
      "\u001b[0;31m---------------------------------------------------------------------------\u001b[0m",
      "\u001b[0;31mValueError\u001b[0m                                Traceback (most recent call last)",
      "Cell \u001b[0;32mIn[34], line 1\u001b[0m\n\u001b[0;32m----> 1\u001b[0m \u001b[43mshap\u001b[49m\u001b[38;5;241;43m.\u001b[39;49m\u001b[43mplots\u001b[49m\u001b[38;5;241;43m.\u001b[39;49m\u001b[43mwaterfall\u001b[49m\u001b[43m(\u001b[49m\u001b[43mshap_vals_waterfall\u001b[49m\u001b[43m[\u001b[49m\u001b[38;5;241;43m0\u001b[39;49m\u001b[43m]\u001b[49m\u001b[43m,\u001b[49m\u001b[43m \u001b[49m\u001b[43mmax_display\u001b[49m\u001b[38;5;241;43m=\u001b[39;49m\u001b[38;5;241;43m14\u001b[39;49m\u001b[43m)\u001b[49m\n",
      "File \u001b[0;32m/usr/local/lib/python3.8/dist-packages/shap/plots/_waterfall.py:68\u001b[0m, in \u001b[0;36mwaterfall\u001b[0;34m(shap_values, max_display, show)\u001b[0m\n\u001b[1;32m     61\u001b[0m \u001b[38;5;28;01mif\u001b[39;00m \u001b[38;5;28mlen\u001b[39m(sv_shape) \u001b[38;5;241m!=\u001b[39m \u001b[38;5;241m1\u001b[39m:\n\u001b[1;32m     62\u001b[0m     emsg \u001b[38;5;241m=\u001b[39m (\n\u001b[1;32m     63\u001b[0m         \u001b[38;5;124m\"\u001b[39m\u001b[38;5;124mThe waterfall plot can currently only plot a single explanation, but a \u001b[39m\u001b[38;5;124m\"\u001b[39m\n\u001b[1;32m     64\u001b[0m         \u001b[38;5;124mf\u001b[39m\u001b[38;5;124m\"\u001b[39m\u001b[38;5;124mmatrix of explanations (shape \u001b[39m\u001b[38;5;132;01m{\u001b[39;00msv_shape\u001b[38;5;132;01m}\u001b[39;00m\u001b[38;5;124m) was passed! Perhaps try \u001b[39m\u001b[38;5;124m\"\u001b[39m\n\u001b[1;32m     65\u001b[0m         \u001b[38;5;124m\"\u001b[39m\u001b[38;5;124m`shap.plots.waterfall(shap_values[0])` or for multi-output models, \u001b[39m\u001b[38;5;124m\"\u001b[39m\n\u001b[1;32m     66\u001b[0m         \u001b[38;5;124m\"\u001b[39m\u001b[38;5;124mtry `shap.plots.waterfall(shap_values[0, 0])`.\u001b[39m\u001b[38;5;124m\"\u001b[39m\n\u001b[1;32m     67\u001b[0m     )\n\u001b[0;32m---> 68\u001b[0m     \u001b[38;5;28;01mraise\u001b[39;00m \u001b[38;5;167;01mValueError\u001b[39;00m(emsg)\n\u001b[1;32m     70\u001b[0m base_values \u001b[38;5;241m=\u001b[39m shap_values\u001b[38;5;241m.\u001b[39mbase_values\n\u001b[1;32m     71\u001b[0m features \u001b[38;5;241m=\u001b[39m shap_values\u001b[38;5;241m.\u001b[39mdisplay_data \u001b[38;5;28;01mif\u001b[39;00m shap_values\u001b[38;5;241m.\u001b[39mdisplay_data \u001b[38;5;129;01mis\u001b[39;00m \u001b[38;5;129;01mnot\u001b[39;00m \u001b[38;5;28;01mNone\u001b[39;00m \u001b[38;5;28;01melse\u001b[39;00m shap_values\u001b[38;5;241m.\u001b[39mdata\n",
      "\u001b[0;31mValueError\u001b[0m: The waterfall plot can currently only plot a single explanation, but a matrix of explanations (shape (212, 140)) was passed! Perhaps try `shap.plots.waterfall(shap_values[0])` or for multi-output models, try `shap.plots.waterfall(shap_values[0, 0])`."
     ]
    }
   ],
   "source": [
    "shap.plots.waterfall(shap_vals_waterfall[0], max_display=14)"
   ]
  },
  {
   "cell_type": "markdown",
   "id": "f20b4b07",
   "metadata": {},
   "source": [
    "steps for model 17: compute shap values on 50 samples per cell type"
   ]
  },
  {
   "cell_type": "code",
   "execution_count": 18,
   "id": "245f7b86",
   "metadata": {},
   "outputs": [
    {
     "name": "stdout",
     "output_type": "stream",
     "text": [
      "X_train:  (1120, 148)\n",
      "X_test:  (350, 148)\n"
     ]
    },
    {
     "data": {
      "application/vnd.jupyter.widget-view+json": {
       "model_id": "364bf3a0c9484414b8d6a06a03ce84e3",
       "version_major": 2,
       "version_minor": 0
      },
      "text/plain": [
       "  0%|          | 0/350 [00:00<?, ?it/s]"
      ]
     },
     "metadata": {},
     "output_type": "display_data"
    }
   ],
   "source": [
    "X_train_p = pd.read_pickle('private_X_train_svd_64.pkl')\n",
    "X_train_p = X_train_p.iloc[np.sort(X_train_p_sampled.obs['ID'])]\n",
    "\n",
    "X_test_p = ad.read_h5ad('private_test_input_64_svd_50_samples.h5ad')\n",
    "\n",
    "print('X_train: ', X_train_p.shape)\n",
    "print('X_test: ', X_test_p.shape)\n",
    "\n",
    "# med = X_train_p.median().values.reshape((1,X_train_p.shape[1]))\n",
    "# explainer17_p = shap.KernelExplainer(model17, med)\n",
    "\n",
    "# shap_values_17_p = explainer17_p.shap_values(X_test_p.to_df(), nsamples=300)"
   ]
  },
  {
   "cell_type": "code",
   "execution_count": 19,
   "id": "1a79fc37",
   "metadata": {},
   "outputs": [],
   "source": [
    "# np.save('shap_values_17_50_samples_p_ct_distr.npy', np.array(shap_values_17_p, dtype=object), allow_pickle=True)"
   ]
  }
 ],
 "metadata": {
  "kernelspec": {
   "display_name": "Python 3 (ipykernel)",
   "language": "python",
   "name": "python3"
  },
  "language_info": {
   "codemirror_mode": {
    "name": "ipython",
    "version": 3
   },
   "file_extension": ".py",
   "mimetype": "text/x-python",
   "name": "python",
   "nbconvert_exporter": "python",
   "pygments_lexer": "ipython3",
   "version": "3.8.10"
  }
 },
 "nbformat": 4,
 "nbformat_minor": 5
}
