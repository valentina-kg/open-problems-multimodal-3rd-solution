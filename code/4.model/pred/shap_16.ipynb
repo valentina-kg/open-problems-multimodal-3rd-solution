{
 "cells": [
  {
   "cell_type": "code",
   "execution_count": null,
   "id": "c2279d4c",
   "metadata": {},
   "outputs": [],
   "source": []
  },
  {
   "cell_type": "code",
   "execution_count": 1,
   "id": "de31ce68",
   "metadata": {},
   "outputs": [],
   "source": [
    "%%capture output\n",
    "!pip install --upgrade pip\n",
    "!pip install --upgrade pandas\n",
    "!pip install tables   \n",
    "# necessary for pd.read_hdf()\n",
    "\n",
    "!pip install ipywidgets\n",
    "!pip install --upgrade jupyter\n",
    "!pip install IProgress\n",
    "!pip install catboost\n",
    "!pip install shap\n",
    "!pip install anndata"
   ]
  },
  {
   "cell_type": "code",
   "execution_count": 15,
   "id": "10fb508b",
   "metadata": {},
   "outputs": [],
   "source": [
    "import os\n",
    "import numpy as np\n",
    "import pandas as pd\n",
    "import shap\n",
    "\n",
    "import anndata as ad"
   ]
  },
  {
   "cell_type": "code",
   "execution_count": 3,
   "id": "55ad307f",
   "metadata": {},
   "outputs": [],
   "source": [
    "%matplotlib inline\n",
    "from tqdm.notebook import tqdm\n",
    "import pickle\n",
    "\n",
    "import torch\n",
    "import torch.nn as nn\n",
    "from torch.utils.data import Dataset, DataLoader\n",
    "\n",
    "device = torch.device(\"cuda\") if torch.cuda.is_available() else 'cpu'\n",
    "# pd.set_option('display.max_rows', 500)\n",
    "# pd.set_option('display.max_columns', 500)"
   ]
  },
  {
   "cell_type": "markdown",
   "id": "4431d72c",
   "metadata": {},
   "source": [
    "## data load"
   ]
  },
  {
   "cell_type": "code",
   "execution_count": 4,
   "id": "45659011",
   "metadata": {},
   "outputs": [],
   "source": [
    "lrz_path = '/dss/dssfs02/lwp-dss-0001/pn36po/pn36po-dss-0001/di93zoj/open-problems-multimodal-3rd-solution/'\n",
    "\n",
    "# model_path_for_now = '/dss/dsshome1/02/di93zoj/valentina/open-problems-multimodal-3rd-solution/'\n",
    "\n",
    "raw_path =  lrz_path + 'input/raw/'  # '../../../input/raw/'\n",
    "\n",
    "cite_target_path = lrz_path + 'input/target/cite/'   # '../../../input/target/cite/'\n",
    "cite_feature_path = lrz_path + 'input/features/cite/'   # '../../../input/features/cite/'\n",
    "cite_mlp_path = lrz_path + 'model/cite/mlp/'   # '../../../model/cite/mlp/'   # '../../../model/cite/mlp/'\n",
    "cite_cb_path = lrz_path + 'model/cite/cb/'   # '../../../model/cite/cb/'\n",
    "\n",
    "# multi_target_path = lrz_path + 'input/target/multi/'   # '../../../input/target/multi/'\n",
    "# multi_feature_path = lrz_path + 'input/features/multi/'   # '../../../input/features/multi/'\n",
    "# multi_mlp_path = lrz_path + 'model/multi/mlp/'   # '../../../model/multi/mlp/'\n",
    "# multi_cb_path = lrz_path + 'model/multi/cb/'   # '../../../model/multi/cb/'\n",
    "\n",
    "index_path = lrz_path + 'input/preprocess/cite/'\n",
    "\n",
    "output_path = lrz_path + 'output/'   # '../../../output/'"
   ]
  },
  {
   "cell_type": "markdown",
   "id": "5595fc07",
   "metadata": {},
   "source": [
    "## Cite"
   ]
  },
  {
   "cell_type": "code",
   "execution_count": 5,
   "id": "70386dd3",
   "metadata": {},
   "outputs": [],
   "source": [
    "# get model name\n",
    "#mlp_model_path = os.listdir(cite_mlp_path)"
   ]
  },
  {
   "cell_type": "markdown",
   "id": "50234c9f",
   "metadata": {},
   "source": [
    "markdown"
   ]
  },
  {
   "cell_type": "code",
   "execution_count": null,
   "id": "46f8389e",
   "metadata": {},
   "outputs": [],
   "source": [
    "# check model names and lists/dict/..."
   ]
  },
  {
   "cell_type": "code",
   "execution_count": 5,
   "id": "bc8df16a",
   "metadata": {},
   "outputs": [],
   "source": [
    "mlp_model_name = [\n",
    "    'corr_add_con_imp',\n",
    "    'corr_last_v3', \n",
    "    'corr_c_add_w2v_v1_mish_flg',\n",
    "    'corr_c_add_w2v_v1_flg',\n",
    "    'corr_c_add_84_v1',\n",
    "    'corr_c_add_120_v1',\n",
    "    'corr_w2v_cell_flg',\n",
    "    'corr_best_cell_120',\n",
    "    'corr_cluster_cell',\n",
    "    'corr_w2v_128',\n",
    "    'corr_imp_w2v_128',\n",
    "    'corr_snorm',\n",
    "    'corr_best_128',\n",
    "    'corr_best_64',\n",
    "    'corr_cluster_128',\n",
    "    'corr_cluster_64',\n",
    "    'corr_svd_128',\n",
    "    'corr_svd_64',\n",
    "             ]"
   ]
  },
  {
   "cell_type": "code",
   "execution_count": 6,
   "id": "8fe22604",
   "metadata": {},
   "outputs": [
    {
     "data": {
      "text/plain": [
       "['cite_mlp_corr_add_con_imp_flg_donor_val_50',\n",
       " 'cite_mlp_corr_last_v3_flg_donor_val_55',\n",
       " 'cite_mlp_corr_c_add_w2v_v1_mish_flg_donor_val_66',\n",
       " 'cite_mlp_corr_c_add_w2v_v1_flg_donor_val_66',\n",
       " 'cite_mlp_corr_c_add_84_v1_flg_donor_val_47',\n",
       " 'cite_mlp_corr_c_add_120_v1_flg_donor_val_63',\n",
       " 'cite_mlp_corr_w2v_cell_flg_donor_val_51',\n",
       " 'cite_mlp_corr_best_cell_120_flg_donor_val_51',\n",
       " 'cite_mlp_corr_cluster_cell_flg_donor_val_64',\n",
       " 'cite_mlp_corr_w2v_128_flg_donor_val_42',\n",
       " 'cite_mlp_corr_imp_w2v_128_flg_donor_val_38',\n",
       " 'cite_mlp_corr_snorm_flg_donor_val_39',\n",
       " 'cite_mlp_corr_best_128_flg_donor_val_45',\n",
       " 'cite_mlp_corr_best_64_flg_donor_val_50',\n",
       " 'cite_mlp_corr_cluster_128_flg_donor_val_51',\n",
       " 'cite_mlp_corr_cluster_64_flg_donor_val_57',\n",
       " 'cite_mlp_corr_svd_128_flg_donor_val_30',\n",
       " 'cite_mlp_corr_svd_64_flg_donor_val_38']"
      ]
     },
     "execution_count": 6,
     "metadata": {},
     "output_type": "execute_result"
    }
   ],
   "source": [
    "model_name_list = []\n",
    "\n",
    "for i in mlp_model_name:\n",
    "    for num, j in enumerate(os.listdir(cite_mlp_path)):\n",
    "        if i in j:\n",
    "            model_name_list.append(j)\n",
    "\n",
    "len(model_name_list)\n",
    "model_name_list"
   ]
  },
  {
   "cell_type": "code",
   "execution_count": 7,
   "id": "38d5d8c5",
   "metadata": {},
   "outputs": [],
   "source": [
    "weight = [1, 0.3, 1, 1, 1, 1, 1, 1, 1, 0.8, 0.8, 0.8, 0.8, 0.5, 0.5, 0.5, 1, 1, 2, 2]\n",
    "weight_sum = np.array(weight).sum()\n",
    "weight_sum\n",
    "\n",
    "model_feat_dict = {model_name_list[0]:['X_test_add_con_imp.pickle', 1],\n",
    "                   model_name_list[1]:['X_test_last_v3.pickle', 0.3],\n",
    "                   model_name_list[2]:['X_test_c_add_w2v_v1.pickle', 1],\n",
    "                   model_name_list[3]:['X_test_c_add_w2v_v1.pickle', 1],\n",
    "                   model_name_list[4]:['X_test_c_add_84_v1.pickle', 1],\n",
    "                   model_name_list[5]:['X_test_c_add_v1.pickle', 1],\n",
    "                   \n",
    "                   model_name_list[6]:['X_test_feature_w2v_cell.pickle', 1],\n",
    "                   model_name_list[7]:['X_test_best_cell_128_120.pickle', 1],\n",
    "                   model_name_list[8]:['X_test_cluster_cell_128.pickle', 1],\n",
    "                   \n",
    "                   model_name_list[9]:['X_test_feature_w2v.pickle', 0.8],\n",
    "                   model_name_list[10]:['X_test_feature_imp_w2v.pickle',0.8],\n",
    "                   model_name_list[11]:['X_test_feature_snorm.pickle', 0.8],\n",
    "                   model_name_list[12]:['X_test_best_128.pickle', 0.8],\n",
    "                   model_name_list[13]:['X_test_best_64.pickle', 0.5],\n",
    "                   model_name_list[14]:['X_test_cluster_128.pickle', 0.5],\n",
    "                   model_name_list[15]:['X_test_cluster_64.pickle', 0.5],\n",
    "                   model_name_list[16]:['X_test_svd_128.pickle', 1],\n",
    "                   model_name_list[17]:['X_test_svd_64.pickle', 1],\n",
    "                   \n",
    "                   'best_128':['X_test_best_128.pickle', 2],\n",
    "                   'best_64':['X_test_best_64.pickle', 2],\n",
    "                  }"
   ]
  },
  {
   "cell_type": "markdown",
   "id": "5554c510",
   "metadata": {},
   "source": [
    "### cite model"
   ]
  },
  {
   "cell_type": "code",
   "execution_count": 8,
   "id": "9e7e6e5c",
   "metadata": {},
   "outputs": [],
   "source": [
    "def std(x):\n",
    "    x = np.array(x)\n",
    "    return (x - x.mean(1).reshape(-1, 1)) / x.std(1).reshape(-1, 1)"
   ]
  },
  {
   "cell_type": "code",
   "execution_count": 9,
   "id": "85bddb0b",
   "metadata": {},
   "outputs": [],
   "source": [
    "class CiteDataset_test(Dataset):\n",
    "    \n",
    "    def __init__(self, feature):\n",
    "        self.feature = feature\n",
    "        \n",
    "    def __len__(self):\n",
    "        return len(self.feature)\n",
    "    \n",
    "    def __getitem__(self, index):\n",
    "                \n",
    "        d = {\n",
    "            \"X\": self.feature[index]\n",
    "        }\n",
    "        return d"
   ]
  },
  {
   "cell_type": "code",
   "execution_count": 10,
   "id": "5549cea2",
   "metadata": {},
   "outputs": [],
   "source": [
    "class CiteModel(nn.Module):\n",
    "    \n",
    "    def __init__(self, feature_num):\n",
    "        super(CiteModel, self).__init__()\n",
    "        \n",
    "        self.layer_seq_256 = nn.Sequential(nn.Linear(feature_num, 256),\n",
    "                                           nn.Linear(256, 128),\n",
    "                                       nn.LayerNorm(128),\n",
    "                                       nn.ReLU(),\n",
    "                                      )\n",
    "        self.layer_seq_64 = nn.Sequential(nn.Linear(128, 64),\n",
    "                                       nn.Linear(64, 32),\n",
    "                                       nn.LayerNorm(32),\n",
    "                                       nn.ReLU(),\n",
    "                                      )\n",
    "        self.layer_seq_8 = nn.Sequential(nn.Linear(32, 16),\n",
    "                                         nn.Linear(16, 8),\n",
    "                                       nn.LayerNorm(8),\n",
    "                                       nn.ReLU(),\n",
    "                                      )\n",
    "        \n",
    "        self.head = nn.Linear(128 + 32 + 8, 140)\n",
    "                   \n",
    "    def forward(self, X, y=None):\n",
    "        \n",
    "        from_numpy = False\n",
    "        \n",
    "      ##\n",
    "        if isinstance(X, np.ndarray):\n",
    "            X = torch.from_numpy(X)\n",
    "            from_numpy = True\n",
    "        X = X.to(device)  # Move the input to the appropriate device if necessary\n",
    "        ##\n",
    "        X_256 = self.layer_seq_256(X)\n",
    "        X_64 = self.layer_seq_64(X_256)\n",
    "        X_8 = self.layer_seq_8(X_64)\n",
    "        \n",
    "        X = torch.cat([X_256, X_64, X_8], axis = 1)\n",
    "        out = self.head(X)\n",
    "        \n",
    "        if from_numpy:\n",
    "            out = out.cpu().detach().numpy()\n",
    "            \n",
    "        return out"
   ]
  },
  {
   "cell_type": "code",
   "execution_count": 11,
   "id": "510c435b",
   "metadata": {},
   "outputs": [],
   "source": [
    "class CiteModel_mish(nn.Module):\n",
    "    \n",
    "    def __init__(self, feature_num):\n",
    "        super(CiteModel_mish, self).__init__()\n",
    "        \n",
    "        self.layer_seq_256 = nn.Sequential(nn.Linear(feature_num, 256),\n",
    "                                           nn.Linear(256, 128),\n",
    "                                       nn.LayerNorm(128),\n",
    "                                       nn.Mish(),\n",
    "                                      )\n",
    "        self.layer_seq_64 = nn.Sequential(nn.Linear(128, 64),\n",
    "                                       nn.Linear(64, 32),\n",
    "                                       nn.LayerNorm(32),\n",
    "                                       nn.Mish(),\n",
    "                                      )\n",
    "        self.layer_seq_8 = nn.Sequential(nn.Linear(32, 16),\n",
    "                                         nn.Linear(16, 8),\n",
    "                                       nn.LayerNorm(8),\n",
    "                                       nn.Mish(),\n",
    "                                      )\n",
    "        \n",
    "        self.head = nn.Linear(128 + 32 + 8, 140)\n",
    "                   \n",
    "    def forward(self, X, y=None):\n",
    "    \n",
    "        X_256 = self.layer_seq_256(X)\n",
    "        X_64 = self.layer_seq_64(X_256)\n",
    "        X_8 = self.layer_seq_8(X_64)\n",
    "        \n",
    "        X = torch.cat([X_256, X_64, X_8], axis = 1)\n",
    "        out = self.head(X)\n",
    "        \n",
    "        return out"
   ]
  },
  {
   "cell_type": "code",
   "execution_count": 12,
   "id": "3416d9ae",
   "metadata": {},
   "outputs": [],
   "source": [
    "def test_loop(model, loader):\n",
    "    \n",
    "    model.eval()\n",
    "    predicts=[]\n",
    "\n",
    "    for d in tqdm(loader):\n",
    "        with torch.no_grad():\n",
    "            X = d['X'].to(device)\n",
    "            logits = model(X)\n",
    "            predicts.append(logits.detach().cpu().numpy())\n",
    "            \n",
    "    return np.concatenate(predicts)"
   ]
  },
  {
   "cell_type": "markdown",
   "id": "1cef3f6f",
   "metadata": {},
   "source": [
    "### pred"
   ]
  },
  {
   "cell_type": "code",
   "execution_count": 16,
   "id": "c5e26b55",
   "metadata": {
    "scrolled": true
   },
   "outputs": [
    {
     "data": {
      "text/plain": [
       "<All keys matched successfully>"
      ]
     },
     "execution_count": 16,
     "metadata": {},
     "output_type": "execute_result"
    }
   ],
   "source": [
    "# only need model, not whole prediction\n",
    "\n",
    "# model #16: cite_mlp_corr_svd_128_flg_donor_val_30\n",
    "\n",
    "model_name = 'cite_mlp_corr_svd_128_flg_donor_val_30'\n",
    "        \n",
    "test_file = model_feat_dict[model_name][0]\n",
    "X_test = pd.read_pickle(cite_feature_path  + test_file)   # do we actually need this? Not for model but for feature_dims (212 in model #16 cases)\n",
    "X_test = np.array(X_test)\n",
    "feature_dims = X_test.shape[1]\n",
    "\n",
    "# test_ds = CiteDataset_test(X_test)\n",
    "# test_dataloader = DataLoader(test_ds, batch_size=128, pin_memory=True, \n",
    "#                               shuffle=False, drop_last=False, num_workers=4)\n",
    "\n",
    "if 'mish' in i:\n",
    "    model = CiteModel_mish(feature_dims)\n",
    "else:\n",
    "    model = CiteModel(feature_dims)\n",
    "    \n",
    "model = model.to(device)\n",
    "model.load_state_dict(torch.load(f'{cite_mlp_path}/{model_name}'))"
   ]
  },
  {
   "cell_type": "markdown",
   "id": "c5680f9e",
   "metadata": {},
   "source": [
    "### add cell_ids and cell_type to train and test data"
   ]
  },
  {
   "cell_type": "code",
   "execution_count": 30,
   "id": "eb0ed92a",
   "metadata": {},
   "outputs": [
    {
     "name": "stdout",
     "output_type": "stream",
     "text": [
      "70988\n",
      "48203\n"
     ]
    }
   ],
   "source": [
    "# train_ids = np.load(index_path + \"train_cite_raw_inputs_idxcol.npz\", allow_pickle=True)\n",
    "# test_ids = np.load(index_path + \"test_cite_raw_inputs_idxcol.npz\", allow_pickle=True)\n",
    "\n",
    "train_index = np.load(index_path + \"train_cite_raw_inputs_idxcol.npz\", allow_pickle=True)[\"index\"]\n",
    "train_column = np.load(index_path + \"train_cite_raw_inputs_idxcol.npz\", allow_pickle=True)[\"columns\"]\n",
    "test_index = np.load(index_path + \"test_cite_raw_inputs_idxcol.npz\", allow_pickle=True)[\"index\"]\n",
    "print(len(list(train_index)))\n",
    "print(len(list(test_index)))"
   ]
  },
  {
   "cell_type": "code",
   "execution_count": 110,
   "id": "c106167f",
   "metadata": {},
   "outputs": [
    {
     "data": {
      "text/plain": [
       "(41187, 4)"
      ]
     },
     "execution_count": 110,
     "metadata": {},
     "output_type": "execute_result"
    }
   ],
   "source": [
    "metadata = pd.read_csv('/dss/dssfs02/lwp-dss-0001/pn36po/pn36po-dss-0001/di93zoj/neurips_competition_data/' + 'metadata.csv')\n",
    "metadata_filtered = metadata[metadata['cell_id'].isin(test_index)]\n",
    "metadata_filtered.index=metadata_filtered['cell_id']\n",
    "metadata_filtered = metadata_filtered.drop('cell_id', axis=1)\n",
    "metadata_filtered.shape   # somehow only 41187 matching cell_ids instead of 48203"
   ]
  },
  {
   "cell_type": "code",
   "execution_count": 112,
   "id": "9ea9d11f",
   "metadata": {},
   "outputs": [
    {
     "name": "stderr",
     "output_type": "stream",
     "text": [
      "Transforming to str index.\n",
      "Transforming to str index.\n"
     ]
    },
    {
     "data": {
      "text/plain": [
       "AnnData object with n_obs × n_vars = 41187 × 212\n",
       "    obs: 'day', 'donor', 'cell_type', 'technology'"
      ]
     },
     "execution_count": 112,
     "metadata": {},
     "output_type": "execute_result"
    }
   ],
   "source": [
    "X_train_cell_ids = pd.read_pickle(cite_feature_path  + 'X_svd_128.pickle')   # = X_svd_128 in make-features second to last cell\n",
    "X_train_cell_ids = ad.AnnData(X=X_train_cell_ids)\n",
    "X_train_cell_ids.obs_names = train_index\n",
    "# X_train_cell_ids.to_df().head()\n",
    "\n",
    "# cell type from metadata\n",
    "X_test_cell_ids = pd.read_pickle(cite_feature_path  + test_file)   # X_test_svd_128.pickle\n",
    "X_test_cell_ids = ad.AnnData(X=X_test_cell_ids)\n",
    "X_test_cell_ids.obs_names = test_index\n",
    "X_test_cell_ids = X_test_cell_ids[X_test_cell_ids.obs_names.isin(metadata_filtered.index), :]\n",
    "X_test_cell_ids.obs = metadata_filtered\n",
    "X_test_cell_ids"
   ]
  },
  {
   "cell_type": "code",
   "execution_count": 113,
   "id": "ead9d9a1",
   "metadata": {},
   "outputs": [
    {
     "data": {
      "text/plain": [
       "cell_type\n",
       "HSC     9451\n",
       "MasP    9064\n",
       "EryP    8788\n",
       "NeuP    7719\n",
       "MkP     4844\n",
       "MoP     1215\n",
       "BP       106\n",
       "Name: count, dtype: int64"
      ]
     },
     "execution_count": 113,
     "metadata": {},
     "output_type": "execute_result"
    }
   ],
   "source": [
    "X_test_cell_ids.obs['cell_type'].value_counts()"
   ]
  },
  {
   "cell_type": "markdown",
   "id": "8ff442cd",
   "metadata": {},
   "source": [
    "### create dataset of n samples per cell type for SHAP beeswarm plot"
   ]
  },
  {
   "cell_type": "code",
   "execution_count": 119,
   "id": "7c47c199",
   "metadata": {},
   "outputs": [],
   "source": [
    "def get_samples(samples_per_cell_type, data):\n",
    "    ''' data: AnnData with obs 'cell_type' '''\n",
    "    \n",
    "    unique_types = np.unique(data.obs['cell_type'])\n",
    "\n",
    "    sample_obs = []\n",
    "\n",
    "    # get indices of n samples per cell type\n",
    "    for t in unique_types:\n",
    "        sampled_rows = data[data.obs.cell_type == t].obs.sample(n=samples_per_cell_type, random_state=42)\n",
    "        sample_obs.append(sampled_rows.index) \n",
    "\n",
    "    # select rows in data with matching indices\n",
    "    X_test_shap = data[[elem for index_obj in sample_obs for elem in index_obj.tolist()]]\n",
    "\n",
    "    return X_test_shap\n",
    "\n",
    "X_test_shap = get_samples(5, X_test_cell_ids)"
   ]
  },
  {
   "cell_type": "code",
   "execution_count": 121,
   "id": "c3434f85",
   "metadata": {},
   "outputs": [],
   "source": [
    "# rename imp_ columns to gene ids:\n",
    "gene_ids = ['ENSG00000075340_ADD2', 'ENSG00000233968_AL157895.1',\n",
    "        'ENSG00000029534_ANK1', 'ENSG00000135046_ANXA1',\n",
    "        'ENSG00000130208_APOC1', 'ENSG00000047648_ARHGAP6',\n",
    "        'ENSG00000101200_AVP', 'ENSG00000166710_B2M',\n",
    "        'ENSG00000130303_BST2', 'ENSG00000172247_C1QTNF4',\n",
    "        'ENSG00000170458_CD14', 'ENSG00000134061_CD180',\n",
    "        'ENSG00000177455_CD19', 'ENSG00000116824_CD2',\n",
    "        'ENSG00000206531_CD200R1L', 'ENSG00000012124_CD22',\n",
    "        'ENSG00000272398_CD24', 'ENSG00000139193_CD27',\n",
    "        'ENSG00000105383_CD33', 'ENSG00000174059_CD34',\n",
    "        'ENSG00000135218_CD36', 'ENSG00000004468_CD38',\n",
    "        'ENSG00000010610_CD4', 'ENSG00000026508_CD44',\n",
    "        'ENSG00000117091_CD48', 'ENSG00000169442_CD52',\n",
    "        'ENSG00000135404_CD63', 'ENSG00000173762_CD7',\n",
    "        'ENSG00000137101_CD72', 'ENSG00000019582_CD74',\n",
    "        'ENSG00000105369_CD79A', 'ENSG00000085117_CD82',\n",
    "        'ENSG00000114013_CD86', 'ENSG00000010278_CD9',\n",
    "        'ENSG00000002586_CD99', 'ENSG00000166091_CMTM5',\n",
    "        'ENSG00000119865_CNRIP1', 'ENSG00000100368_CSF2RB',\n",
    "        'ENSG00000100448_CTSG', 'ENSG00000051523_CYBA',\n",
    "        'ENSG00000116675_DNAJC6', 'ENSG00000142227_EMP3',\n",
    "        'ENSG00000143226_FCGR2A', 'ENSG00000167996_FTH1',\n",
    "        'ENSG00000139278_GLIPR1', 'ENSG00000130755_GMFG',\n",
    "        'ENSG00000169567_HINT1', 'ENSG00000206503_HLA-A',\n",
    "        'ENSG00000234745_HLA-B', 'ENSG00000204287_HLA-DRA',\n",
    "        'ENSG00000196126_HLA-DRB1', 'ENSG00000204592_HLA-E',\n",
    "        'ENSG00000171476_HOPX', 'ENSG00000076662_ICAM3',\n",
    "        'ENSG00000163565_IFI16', 'ENSG00000142089_IFITM3',\n",
    "        'ENSG00000160593_JAML', 'ENSG00000055118_KCNH2',\n",
    "        'ENSG00000105610_KLF1', 'ENSG00000139187_KLRG1',\n",
    "        'ENSG00000133816_MICAL2', 'ENSG00000198938_MT-CO3',\n",
    "        'ENSG00000107130_NCS1', 'ENSG00000090470_PDCD7',\n",
    "        'ENSG00000143627_PKLR', 'ENSG00000109099_PMP22',\n",
    "        'ENSG00000117450_PRDX1', 'ENSG00000112077_RHAG',\n",
    "        'ENSG00000108107_RPL28', 'ENSG00000198918_RPL39',\n",
    "        'ENSG00000145425_RPS3A', 'ENSG00000198034_RPS4X',\n",
    "        'ENSG00000196154_S100A4', 'ENSG00000197956_S100A6',\n",
    "        'ENSG00000188404_SELL', 'ENSG00000124570_SERPINB6',\n",
    "        'ENSG00000235169_SMIM1', 'ENSG00000095932_SMIM24',\n",
    "        'ENSG00000137642_SORL1', 'ENSG00000128040_SPINK2',\n",
    "        'ENSG00000072274_TFRC', 'ENSG00000205542_TMSB4X',\n",
    "        'ENSG00000133112_TPT1', 'ENSG00000026025_VIM']"
   ]
  },
  {
   "cell_type": "code",
   "execution_count": 127,
   "id": "99bdfe33",
   "metadata": {},
   "outputs": [
    {
     "data": {
      "text/html": [
       "<div>\n",
       "<style scoped>\n",
       "    .dataframe tbody tr th:only-of-type {\n",
       "        vertical-align: middle;\n",
       "    }\n",
       "\n",
       "    .dataframe tbody tr th {\n",
       "        vertical-align: top;\n",
       "    }\n",
       "\n",
       "    .dataframe thead th {\n",
       "        text-align: right;\n",
       "    }\n",
       "</style>\n",
       "<table border=\"1\" class=\"dataframe\">\n",
       "  <thead>\n",
       "    <tr style=\"text-align: right;\">\n",
       "      <th></th>\n",
       "      <th>base_svd_0</th>\n",
       "      <th>base_svd_1</th>\n",
       "      <th>base_svd_2</th>\n",
       "      <th>base_svd_3</th>\n",
       "      <th>base_svd_4</th>\n",
       "      <th>base_svd_5</th>\n",
       "      <th>base_svd_6</th>\n",
       "      <th>base_svd_7</th>\n",
       "      <th>base_svd_8</th>\n",
       "      <th>base_svd_9</th>\n",
       "      <th>...</th>\n",
       "      <th>ENSG00000188404_SELL</th>\n",
       "      <th>ENSG00000124570_SERPINB6</th>\n",
       "      <th>ENSG00000235169_SMIM1</th>\n",
       "      <th>ENSG00000095932_SMIM24</th>\n",
       "      <th>ENSG00000137642_SORL1</th>\n",
       "      <th>ENSG00000128040_SPINK2</th>\n",
       "      <th>ENSG00000072274_TFRC</th>\n",
       "      <th>ENSG00000205542_TMSB4X</th>\n",
       "      <th>ENSG00000133112_TPT1</th>\n",
       "      <th>ENSG00000026025_VIM</th>\n",
       "    </tr>\n",
       "    <tr>\n",
       "      <th>cell_id</th>\n",
       "      <th></th>\n",
       "      <th></th>\n",
       "      <th></th>\n",
       "      <th></th>\n",
       "      <th></th>\n",
       "      <th></th>\n",
       "      <th></th>\n",
       "      <th></th>\n",
       "      <th></th>\n",
       "      <th></th>\n",
       "      <th></th>\n",
       "      <th></th>\n",
       "      <th></th>\n",
       "      <th></th>\n",
       "      <th></th>\n",
       "      <th></th>\n",
       "      <th></th>\n",
       "      <th></th>\n",
       "      <th></th>\n",
       "      <th></th>\n",
       "      <th></th>\n",
       "    </tr>\n",
       "  </thead>\n",
       "  <tbody>\n",
       "    <tr>\n",
       "      <th>5cb9daaca7ac</th>\n",
       "      <td>71.003983</td>\n",
       "      <td>13.200800</td>\n",
       "      <td>-6.168917</td>\n",
       "      <td>12.436371</td>\n",
       "      <td>-0.578827</td>\n",
       "      <td>0.227373</td>\n",
       "      <td>1.382157</td>\n",
       "      <td>0.969637</td>\n",
       "      <td>-1.477851</td>\n",
       "      <td>6.248293</td>\n",
       "      <td>...</td>\n",
       "      <td>0.000000</td>\n",
       "      <td>0.000000</td>\n",
       "      <td>0.00000</td>\n",
       "      <td>0.000000</td>\n",
       "      <td>0.0</td>\n",
       "      <td>0.947536</td>\n",
       "      <td>0.000000</td>\n",
       "      <td>5.313975</td>\n",
       "      <td>4.545222</td>\n",
       "      <td>3.069516</td>\n",
       "    </tr>\n",
       "    <tr>\n",
       "      <th>57b5bce6a192</th>\n",
       "      <td>86.716537</td>\n",
       "      <td>5.783796</td>\n",
       "      <td>15.985765</td>\n",
       "      <td>4.867427</td>\n",
       "      <td>-5.404188</td>\n",
       "      <td>-4.447663</td>\n",
       "      <td>-6.895540</td>\n",
       "      <td>-5.074820</td>\n",
       "      <td>6.342696</td>\n",
       "      <td>2.834425</td>\n",
       "      <td>...</td>\n",
       "      <td>0.000000</td>\n",
       "      <td>0.624130</td>\n",
       "      <td>0.62413</td>\n",
       "      <td>1.005488</td>\n",
       "      <td>0.0</td>\n",
       "      <td>0.000000</td>\n",
       "      <td>0.624130</td>\n",
       "      <td>5.135746</td>\n",
       "      <td>4.228240</td>\n",
       "      <td>3.970240</td>\n",
       "    </tr>\n",
       "    <tr>\n",
       "      <th>11e72851054b</th>\n",
       "      <td>70.254166</td>\n",
       "      <td>15.571994</td>\n",
       "      <td>-5.599965</td>\n",
       "      <td>5.991638</td>\n",
       "      <td>8.331441</td>\n",
       "      <td>-4.175835</td>\n",
       "      <td>-1.716176</td>\n",
       "      <td>-2.858795</td>\n",
       "      <td>-2.759818</td>\n",
       "      <td>7.807173</td>\n",
       "      <td>...</td>\n",
       "      <td>0.881844</td>\n",
       "      <td>0.881844</td>\n",
       "      <td>0.00000</td>\n",
       "      <td>0.881844</td>\n",
       "      <td>0.0</td>\n",
       "      <td>0.000000</td>\n",
       "      <td>2.620177</td>\n",
       "      <td>4.532575</td>\n",
       "      <td>4.919058</td>\n",
       "      <td>1.657475</td>\n",
       "    </tr>\n",
       "    <tr>\n",
       "      <th>dd7e07a59b0c</th>\n",
       "      <td>65.834938</td>\n",
       "      <td>17.320210</td>\n",
       "      <td>-10.891003</td>\n",
       "      <td>8.597704</td>\n",
       "      <td>5.161943</td>\n",
       "      <td>-5.098966</td>\n",
       "      <td>-2.595727</td>\n",
       "      <td>-1.467793</td>\n",
       "      <td>-3.764605</td>\n",
       "      <td>4.425799</td>\n",
       "      <td>...</td>\n",
       "      <td>0.000000</td>\n",
       "      <td>1.276917</td>\n",
       "      <td>0.00000</td>\n",
       "      <td>1.819883</td>\n",
       "      <td>0.0</td>\n",
       "      <td>1.276917</td>\n",
       "      <td>1.276917</td>\n",
       "      <td>3.964831</td>\n",
       "      <td>5.361370</td>\n",
       "      <td>1.276917</td>\n",
       "    </tr>\n",
       "    <tr>\n",
       "      <th>02a718f16011</th>\n",
       "      <td>84.209236</td>\n",
       "      <td>11.387871</td>\n",
       "      <td>10.027047</td>\n",
       "      <td>13.640661</td>\n",
       "      <td>-6.556067</td>\n",
       "      <td>-1.784269</td>\n",
       "      <td>1.632261</td>\n",
       "      <td>-4.823346</td>\n",
       "      <td>-3.590804</td>\n",
       "      <td>0.736319</td>\n",
       "      <td>...</td>\n",
       "      <td>0.000000</td>\n",
       "      <td>0.000000</td>\n",
       "      <td>0.00000</td>\n",
       "      <td>0.458628</td>\n",
       "      <td>0.0</td>\n",
       "      <td>0.000000</td>\n",
       "      <td>2.001605</td>\n",
       "      <td>4.493670</td>\n",
       "      <td>4.538202</td>\n",
       "      <td>2.388060</td>\n",
       "    </tr>\n",
       "  </tbody>\n",
       "</table>\n",
       "<p>5 rows × 212 columns</p>\n",
       "</div>"
      ],
      "text/plain": [
       "              base_svd_0  base_svd_1  base_svd_2  base_svd_3  base_svd_4  \\\n",
       "cell_id                                                                    \n",
       "5cb9daaca7ac   71.003983   13.200800   -6.168917   12.436371   -0.578827   \n",
       "57b5bce6a192   86.716537    5.783796   15.985765    4.867427   -5.404188   \n",
       "11e72851054b   70.254166   15.571994   -5.599965    5.991638    8.331441   \n",
       "dd7e07a59b0c   65.834938   17.320210  -10.891003    8.597704    5.161943   \n",
       "02a718f16011   84.209236   11.387871   10.027047   13.640661   -6.556067   \n",
       "\n",
       "              base_svd_5  base_svd_6  base_svd_7  base_svd_8  base_svd_9  ...  \\\n",
       "cell_id                                                                   ...   \n",
       "5cb9daaca7ac    0.227373    1.382157    0.969637   -1.477851    6.248293  ...   \n",
       "57b5bce6a192   -4.447663   -6.895540   -5.074820    6.342696    2.834425  ...   \n",
       "11e72851054b   -4.175835   -1.716176   -2.858795   -2.759818    7.807173  ...   \n",
       "dd7e07a59b0c   -5.098966   -2.595727   -1.467793   -3.764605    4.425799  ...   \n",
       "02a718f16011   -1.784269    1.632261   -4.823346   -3.590804    0.736319  ...   \n",
       "\n",
       "              ENSG00000188404_SELL  ENSG00000124570_SERPINB6  \\\n",
       "cell_id                                                        \n",
       "5cb9daaca7ac              0.000000                  0.000000   \n",
       "57b5bce6a192              0.000000                  0.624130   \n",
       "11e72851054b              0.881844                  0.881844   \n",
       "dd7e07a59b0c              0.000000                  1.276917   \n",
       "02a718f16011              0.000000                  0.000000   \n",
       "\n",
       "              ENSG00000235169_SMIM1  ENSG00000095932_SMIM24  \\\n",
       "cell_id                                                       \n",
       "5cb9daaca7ac                0.00000                0.000000   \n",
       "57b5bce6a192                0.62413                1.005488   \n",
       "11e72851054b                0.00000                0.881844   \n",
       "dd7e07a59b0c                0.00000                1.819883   \n",
       "02a718f16011                0.00000                0.458628   \n",
       "\n",
       "              ENSG00000137642_SORL1  ENSG00000128040_SPINK2  \\\n",
       "cell_id                                                       \n",
       "5cb9daaca7ac                    0.0                0.947536   \n",
       "57b5bce6a192                    0.0                0.000000   \n",
       "11e72851054b                    0.0                0.000000   \n",
       "dd7e07a59b0c                    0.0                1.276917   \n",
       "02a718f16011                    0.0                0.000000   \n",
       "\n",
       "              ENSG00000072274_TFRC  ENSG00000205542_TMSB4X  \\\n",
       "cell_id                                                      \n",
       "5cb9daaca7ac              0.000000                5.313975   \n",
       "57b5bce6a192              0.624130                5.135746   \n",
       "11e72851054b              2.620177                4.532575   \n",
       "dd7e07a59b0c              1.276917                3.964831   \n",
       "02a718f16011              2.001605                4.493670   \n",
       "\n",
       "              ENSG00000133112_TPT1  ENSG00000026025_VIM  \n",
       "cell_id                                                  \n",
       "5cb9daaca7ac              4.545222             3.069516  \n",
       "57b5bce6a192              4.228240             3.970240  \n",
       "11e72851054b              4.919058             1.657475  \n",
       "dd7e07a59b0c              5.361370             1.276917  \n",
       "02a718f16011              4.538202             2.388060  \n",
       "\n",
       "[5 rows x 212 columns]"
      ]
     },
     "execution_count": 127,
     "metadata": {},
     "output_type": "execute_result"
    }
   ],
   "source": [
    "# X_test_shap currently has base_svd and imp columns -> rename imp (handselected genes)\n",
    "X_test_shap.var_names = X_test_shap.var_names[:-84].tolist() + gene_ids\n",
    "X_test_shap.to_df().head()"
   ]
  },
  {
   "cell_type": "code",
   "execution_count": 131,
   "id": "07934563",
   "metadata": {},
   "outputs": [],
   "source": [
    "X_test_shap.write(\"X_test_shap_16.h5ad\")"
   ]
  },
  {
   "cell_type": "markdown",
   "id": "841a2caf",
   "metadata": {},
   "source": [
    "### prepare data for SHAP plot \n",
    "### => shap.KernelExplainer, explainer.shap_values, shap.summary_plot(shap_values)"
   ]
  },
  {
   "cell_type": "code",
   "execution_count": 128,
   "id": "ac87048a",
   "metadata": {},
   "outputs": [
    {
     "name": "stdout",
     "output_type": "stream",
     "text": [
      "X_train:  (70988, 212)\n",
      "X_test:  (48203, 212)\n"
     ]
    },
    {
     "name": "stderr",
     "output_type": "stream",
     "text": [
      "Using 1000 background data samples could cause slower run times. Consider using shap.sample(data, K) or shap.kmeans(data, K) to summarize the background as K samples.\n"
     ]
    },
    {
     "data": {
      "text/plain": [
       "<shap.explainers._kernel.Kernel at 0x7efc11aa3640>"
      ]
     },
     "execution_count": 128,
     "metadata": {},
     "output_type": "execute_result"
    }
   ],
   "source": [
    "# X_train for model #16: 'X_svd_128.pickle'\n",
    "X_train = pd.read_pickle(cite_feature_path  + 'X_svd_128.pickle')\n",
    "X_train = np.array(X_train)\n",
    "print('X_train: ', X_train.shape)\n",
    "print('X_test: ', X_test.shape)\n",
    "\n",
    "explainer = shap.KernelExplainer(model, shap.sample(X_train, 1000))\n",
    "explainer"
   ]
  },
  {
   "cell_type": "code",
   "execution_count": 130,
   "id": "e0d3ddb4",
   "metadata": {},
   "outputs": [],
   "source": [
    "# xtest = X_test_shap.to_df()#.drop(['cell_id', 'cell_type'], axis=1)"
   ]
  },
  {
   "cell_type": "code",
   "execution_count": 47,
   "id": "537de2ce",
   "metadata": {},
   "outputs": [],
   "source": [
    "# features: genes and svd -> omnipath: genes\n",
    "# model: mostly relying on genes or svd? -> later"
   ]
  },
  {
   "cell_type": "code",
   "execution_count": 132,
   "id": "600b43f7",
   "metadata": {
    "scrolled": true
   },
   "outputs": [
    {
     "data": {
      "application/vnd.jupyter.widget-view+json": {
       "model_id": "6ac7de11a7204ca1851f85d913fe8ed4",
       "version_major": 2,
       "version_minor": 0
      },
      "text/plain": [
       "  0%|          | 0/35 [00:00<?, ?it/s]"
      ]
     },
     "metadata": {},
     "output_type": "display_data"
    },
    {
     "name": "stdout",
     "output_type": "stream",
     "text": [
      "140\n",
      "35\n",
      "(35, 212)\n"
     ]
    }
   ],
   "source": [
    "# don't need to run again: np.load('shap_values.npy', allow_pickle=True)\n",
    "%timeit\n",
    "shap_values = explainer.shap_values(X_test_shap.to_df(), nsamples=300)  #500? \n",
    "print(len(shap_values)) # -> 140 genes\n",
    "print(len(shap_values[0])) # -> number of samples in xtest\n",
    "print(shap_values[0].shape)\n",
    "\n",
    "# TODO rename files once double checked that everything works after restructuring\n",
    "np.save('shap_values_16_restructured.npy', np.array(shap_values, dtype=object), allow_pickle=True)"
   ]
  },
  {
   "cell_type": "code",
   "execution_count": 144,
   "id": "153ccb3e",
   "metadata": {},
   "outputs": [
    {
     "data": {
      "text/plain": [
       "array([[ 0.        ,  0.17936803, -0.0179155 , ...,  0.        ,\n",
       "         0.01797059,  0.        ],\n",
       "       [-0.03197865,  0.052598  ,  0.20977261, ...,  0.        ,\n",
       "         0.        ,  0.        ],\n",
       "       [ 0.        ,  0.22075023,  0.        , ...,  0.        ,\n",
       "         0.        ,  0.        ],\n",
       "       ...,\n",
       "       [ 0.03531018,  0.13639785,  0.        , ...,  0.        ,\n",
       "         0.00061229,  0.        ],\n",
       "       [ 0.00919145,  0.0482322 , -0.05356169, ...,  0.        ,\n",
       "         0.        ,  0.        ],\n",
       "       [ 0.00214199,  0.09497041, -0.03869506, ...,  0.00678889,\n",
       "         0.        ,  0.00769504]])"
      ]
     },
     "execution_count": 144,
     "metadata": {},
     "output_type": "execute_result"
    }
   ],
   "source": [
    "shap_values[0]"
   ]
  }
 ],
 "metadata": {
  "kernelspec": {
   "display_name": "Python 3 (ipykernel)",
   "language": "python",
   "name": "python3"
  },
  "language_info": {
   "codemirror_mode": {
    "name": "ipython",
    "version": 3
   },
   "file_extension": ".py",
   "mimetype": "text/x-python",
   "name": "python",
   "nbconvert_exporter": "python",
   "pygments_lexer": "ipython3",
   "version": "3.8.10"
  }
 },
 "nbformat": 4,
 "nbformat_minor": 5
}
