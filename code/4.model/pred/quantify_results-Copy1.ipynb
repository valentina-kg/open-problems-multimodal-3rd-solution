{
 "cells": [
  {
   "cell_type": "markdown",
   "id": "05cb2719",
   "metadata": {},
   "source": [
    "#### task:"
   ]
  },
  {
   "cell_type": "markdown",
   "id": "84009f1e",
   "metadata": {},
   "source": [
    "given gene expression (RNA), predict surface protein levels."
   ]
  },
  {
   "cell_type": "markdown",
   "id": "cce9043a",
   "metadata": {},
   "source": [
    "- train/test_cite_inputs.h5: Rows corresponding to cells and columns corresponding to genes given by {gene_name}_{gene_ensemble-ids}\\\n",
    " - have 22085 genes\n",
    " - from these: 84 are handselected and hstacked to the right\n",
    " - ... and on the remaining 22001 genes, TruncatedSVD is applied -> 128 svd components instead -> hstacked to the left\n",
    "- train_cite_targets.h5: Surface protein levels for the same cells\n",
    " - 140 proteins, e.g. CD36"
   ]
  },
  {
   "cell_type": "markdown",
   "id": "7fec9397",
   "metadata": {},
   "source": [
    "previous notebooks: compute shap values \n",
    "- on svd components + handselected: get shap values of shape (140, n_samples, n_svd_components+84)\n",
    "- backpropagated attributions to all genes: get attr_all_22085_genes of shape (140, n_samples, 22085)\n",
    "\n",
    "plotting.ipynb: compare plots for different proteins\n",
    "now: \n",
    "- quantify results in plots\n",
    "- kl divergence as new metric to order feature importance by"
   ]
  },
  {
   "cell_type": "code",
   "execution_count": 1,
   "id": "6cff287e",
   "metadata": {},
   "outputs": [],
   "source": [
    "%%capture output\n",
    "!pip install shap\n",
    "!pip install anndata\n",
    "!pip install ipywidgets\n",
    "!pip install --upgrade jupyter\n",
    "!pip install IProgress"
   ]
  },
  {
   "cell_type": "code",
   "execution_count": 3,
   "id": "2a28b8a9",
   "metadata": {},
   "outputs": [],
   "source": [
    "import numpy as np\n",
    "import matplotlib.pyplot as plt\n",
    "from matplotlib.pyplot import rc_context\n",
    "import pandas as pd\n",
    "import os\n",
    "\n",
    "import shap\n",
    "\n",
    "import anndata as ad\n",
    "import scipy\n",
    "# import scipy.special as sp\n",
    "import scanpy as sc\n",
    "\n",
    "from scipy import stats\n"
   ]
  },
  {
   "cell_type": "code",
   "execution_count": 4,
   "id": "4d2fdc3b",
   "metadata": {},
   "outputs": [],
   "source": [
    "os.chdir('../..')"
   ]
  },
  {
   "cell_type": "code",
   "execution_count": 5,
   "id": "5b2882db",
   "metadata": {},
   "outputs": [],
   "source": [
    "lrz_path = '/dss/dssfs02/lwp-dss-0001/pn36po/pn36po-dss-0001/di93zoj/'\n",
    "index_path = lrz_path + 'open-problems-multimodal-3rd-solution/input/preprocess/cite/'\n",
    "train_column = np.load(index_path + \"train_cite_raw_inputs_idxcol.npz\", allow_pickle=True)[\"columns\"]"
   ]
  },
  {
   "cell_type": "code",
   "execution_count": 6,
   "id": "728b1d32",
   "metadata": {},
   "outputs": [],
   "source": [
    "def get_top_features(shap_values, xtest, top_n):\n",
    "    shap_sum = np.abs(shap_values).sum(axis=0)\n",
    "    top_features_indices = np.argsort(shap_sum)[::-1][:top_n]  # Get the indices of the top n features\n",
    "    top_feature_names_shap = xtest.var_names[top_features_indices]\n",
    "    return top_feature_names_shap"
   ]
  },
  {
   "cell_type": "code",
   "execution_count": 7,
   "id": "23c6186b",
   "metadata": {},
   "outputs": [],
   "source": [
    "def get_common_elements(attr, xtest, top_features_considered, min_percentage):\n",
    "    element_counts = {}\n",
    "\n",
    "    for i in range(140):\n",
    "        for elt in get_top_features(attr[i], xtest, top_features_considered):\n",
    "            element_counts[elt] = element_counts.get(elt, 0) + 1\n",
    "\n",
    "    # Get the elements that appear in at least min_percentage of the lists\n",
    "    common_elements = {element for element, count in element_counts.items() if count / 140 >= min_percentage}\n",
    "    return common_elements"
   ]
  },
  {
   "cell_type": "code",
   "execution_count": 10,
   "id": "38e8f9f4",
   "metadata": {},
   "outputs": [],
   "source": [
    "def get_gene_name(last_chars):\n",
    "    return [element for element in train_column if element.split('_')[1] == last_chars]"
   ]
  },
  {
   "cell_type": "markdown",
   "id": "5782c7e1",
   "metadata": {},
   "source": [
    "### attr_all_22085_genes of model 16"
   ]
  },
  {
   "cell_type": "code",
   "execution_count": 9,
   "id": "b3db92c7",
   "metadata": {},
   "outputs": [
    {
     "data": {
      "text/plain": [
       "array(['CD86', 'CD274', 'CD270', 'CD155', 'CD112', 'CD47', 'CD48', 'CD40',\n",
       "       'CD154', 'CD52', 'CD3', 'CD8', 'CD56', 'CD19', 'CD33', 'CD11c',\n",
       "       'HLA-A-B-C', 'CD45RA', 'CD123', 'CD7', 'CD105', 'CD49f', 'CD194',\n",
       "       'CD4', 'CD44', 'CD14', 'CD16', 'CD25', 'CD45RO', 'CD279', 'TIGIT',\n",
       "       'Mouse-IgG1', 'Mouse-IgG2a', 'Mouse-IgG2b', 'Rat-IgG2b', 'CD20',\n",
       "       'CD335', 'CD31', 'Podoplanin', 'CD146', 'IgM', 'CD5', 'CD195',\n",
       "       'CD32', 'CD196', 'CD185', 'CD103', 'CD69', 'CD62L', 'CD161',\n",
       "       'CD152', 'CD223', 'KLRG1', 'CD27', 'CD107a', 'CD95', 'CD134',\n",
       "       'HLA-DR', 'CD1c', 'CD11b', 'CD64', 'CD141', 'CD1d', 'CD314',\n",
       "       'CD35', 'CD57', 'CD272', 'CD278', 'CD58', 'CD39', 'CX3CR1', 'CD24',\n",
       "       'CD21', 'CD11a', 'CD79b', 'CD244', 'CD169', 'integrinB7', 'CD268',\n",
       "       'CD42b', 'CD54', 'CD62P', 'CD119', 'TCR', 'Rat-IgG1', 'Rat-IgG2a',\n",
       "       'CD192', 'CD122', 'FceRIa', 'CD41', 'CD137', 'CD163', 'CD83',\n",
       "       'CD124', 'CD13', 'CD2', 'CD226', 'CD29', 'CD303', 'CD49b', 'CD81',\n",
       "       'IgD', 'CD18', 'CD28', 'CD38', 'CD127', 'CD45', 'CD22', 'CD71',\n",
       "       'CD26', 'CD115', 'CD63', 'CD304', 'CD36', 'CD172a', 'CD72',\n",
       "       'CD158', 'CD93', 'CD49a', 'CD49d', 'CD73', 'CD9', 'TCRVa7.2',\n",
       "       'TCRVd2', 'LOX-1', 'CD158b', 'CD158e1', 'CD142', 'CD319', 'CD352',\n",
       "       'CD94', 'CD162', 'CD85j', 'CD23', 'CD328', 'HLA-E', 'CD82',\n",
       "       'CD101', 'CD88', 'CD224'], dtype=object)"
      ]
     },
     "execution_count": 9,
     "metadata": {},
     "output_type": "execute_result"
    }
   ],
   "source": [
    "proteins = np.load('4.model/pred/proteins.npy', allow_pickle=True)\n",
    "def get_protein_idx(protein):\n",
    "    return np.where(proteins == protein)[0][0]\n",
    "proteins"
   ]
  },
  {
   "cell_type": "code",
   "execution_count": 11,
   "id": "b0f4debf",
   "metadata": {},
   "outputs": [],
   "source": [
    "xtest_16 = ad.read_h5ad('4.model/pred/private_test_input_128_svd_50_samples.h5ad')\n",
    "private_test_input_raw = pd.read_pickle('/dss/dssfs02/lwp-dss-0001/pn36po/pn36po-dss-0001/di93zoj/kaggle/full_data/20220830_citeseq_rna_count_test_input_private_raw.pkl')\n",
    "sample_cells = np.array(xtest_16.obs_names)\n",
    "xtest_all_genes = private_test_input_raw.loc[sample_cells]"
   ]
  },
  {
   "cell_type": "code",
   "execution_count": 12,
   "id": "09131db5",
   "metadata": {},
   "outputs": [],
   "source": [
    "attr_all_22085_genes_16 = pd.read_pickle(lrz_path + 'large_preprocessed_files/attr_all_genes/attr_all_22085_genes_16_50_samples_p_ct_distr.pkl')\n",
    "for i in range(len(attr_all_22085_genes_16)):\n",
    "    attr_all_22085_genes_16[i] = attr_all_22085_genes_16[i].reindex(columns=train_column)"
   ]
  },
  {
   "cell_type": "code",
   "execution_count": 13,
   "id": "938efd3f",
   "metadata": {},
   "outputs": [],
   "source": [
    "# top_20 = get_top_features(attr_all_22085_genes_16[0], ad.AnnData(xtest_all_genes, dtype=xtest_all_genes.dtypes), 20)\n",
    "# top_20"
   ]
  },
  {
   "cell_type": "code",
   "execution_count": 14,
   "id": "b8390cbf",
   "metadata": {},
   "outputs": [],
   "source": [
    "# get_top_features(attr_all_22085_genes_16[2], ad.AnnData(xtest_all_genes, dtype=xtest_all_genes.dtypes), 20)"
   ]
  },
  {
   "cell_type": "code",
   "execution_count": 15,
   "id": "ffad095e",
   "metadata": {},
   "outputs": [],
   "source": [
    "# get_top_features(attr_all_22085_genes_16[3], ad.AnnData(xtest_all_genes, dtype=xtest_all_genes.dtypes), 20)"
   ]
  },
  {
   "cell_type": "code",
   "execution_count": 16,
   "id": "ff7d1bc1",
   "metadata": {},
   "outputs": [],
   "source": [
    "# top attributing genes across all targets\n",
    "# get_common_elements(attr_all_22085_genes_16, ad.AnnData(xtest_all_genes, dtype=xtest_all_genes.dtypes), 20, 0.75)"
   ]
  },
  {
   "cell_type": "markdown",
   "id": "f42153eb",
   "metadata": {},
   "source": [
    "### model 17:"
   ]
  },
  {
   "cell_type": "code",
   "execution_count": 17,
   "id": "86545dfb",
   "metadata": {},
   "outputs": [],
   "source": [
    "xtest_17 = ad.read_h5ad('4.model/pred/private_test_input_64_svd_50_samples.h5ad')\n",
    "attr_all_22085_genes_17 = pd.read_pickle(lrz_path + 'large_preprocessed_files/attr_all_genes/attr_all_22085_genes_17_50_samples_p_ct_distr.pkl')\n",
    "for i in range(len(attr_all_22085_genes_17)):\n",
    "    attr_all_22085_genes_17[i] = attr_all_22085_genes_17[i].reindex(columns=train_column)"
   ]
  },
  {
   "cell_type": "markdown",
   "id": "de922ebf",
   "metadata": {},
   "source": [
    "### quantify results from plotting.ipynb: compare gene attr distr to avg distr"
   ]
  },
  {
   "cell_type": "markdown",
   "id": "9939a48c",
   "metadata": {},
   "source": [
    "spearman correlation and kurtosis variance metric did not work"
   ]
  },
  {
   "cell_type": "code",
   "execution_count": 26,
   "id": "bb3aefd7",
   "metadata": {},
   "outputs": [],
   "source": [
    "def plot_distr_avg_gene(model_number, protein, gene, show=True):\n",
    "    ''' plot avg distribution of top columns along with distribution of a specific gene for comparison\n",
    "    model_number: 16 or 17\n",
    "    show=True: show plot for specific gene\n",
    "    show=False: don't show plot, instead print kl divergence for top 20 genes '''\n",
    "    \n",
    "    # get columns of top attributing genes in attribution dataframe \n",
    "    if model_number==16:\n",
    "        top = get_top_features(attr_all_22085_genes_16[get_protein_idx(protein)], ad.AnnData(xtest_all_genes, dtype=xtest_all_genes.dtypes), 20)\n",
    "        if get_gene_name(gene)[0] not in top:  # if specific gene not among the top features but should still be plotted\n",
    "            top = top.append(pd.Index(get_gene_name(gene)))\n",
    "#         df = attr_all_22085_genes_16[get_protein_idx(protein)][top].copy()\n",
    "        df = attr_all_22085_genes_16[get_protein_idx(protein)].sample(20, axis=1).copy()\n",
    "    if model_number==17:\n",
    "        top = get_top_features(attr_all_22085_genes_17[get_protein_idx(protein)], ad.AnnData(xtest_all_genes, dtype=xtest_all_genes.dtypes), 20)\n",
    "        if get_gene_name(gene)[0] not in top:  # if specific gene not among the top features but should still be plotted\n",
    "            top = top.append(pd.Index(get_gene_name(gene)))\n",
    "#         df = attr_all_22085_genes_17[get_protein_idx(protein)][top].copy()\n",
    "        df = attr_all_22085_genes_17[get_protein_idx(protein)].sample(20, axis=1).copy()\n",
    "    \n",
    "    # Initialize an array to store the sum of histograms\n",
    "    hist_sum = np.zeros(40)  # 40 bins\n",
    "    # Calculate the histogram for each column and sum them\n",
    "    for col in df.columns:\n",
    "        hist, edges = np.histogram(df[col], bins=40, range=(df.min().min(), df.max().max()), density=True)\n",
    "        hist_sum += hist\n",
    "\n",
    "    # Divide by the number of columns to average hist_sum\n",
    "    avg_hist = hist_sum /len(df.columns)\n",
    "    \n",
    "    \n",
    "    if show:\n",
    "        # Plot the average histogram\n",
    "        plt.bar(edges[:-1], avg_hist, width=(edges[1]-edges[0]), label='Avg')\n",
    "        \n",
    "        \n",
    "        # Plot histogram for single gene to be compared\n",
    "        hist, edges = np.histogram(df[get_gene_name(gene)], bins=40, range=(df.min().min(), df.max().max()), density=True)\n",
    "        # Plot the histogram\n",
    "        plt.bar(edges[:-1], hist, width=(edges[1]-edges[0]), color='orange', alpha=0.7, label=gene)\n",
    "    \n",
    "        # print kl divergence between both distributions\n",
    "        # add 1e-10 to avoid dividing by 0\n",
    "        print(np.sum(scipy.special.kl_div(avg_hist+1e-10, hist+1e-10)))\n",
    "        plt.xlabel('Attribution value')\n",
    "        plt.ylabel('Normalized frequency')\n",
    "        plt.title(f'Prediction of {protein}: Average distribution and distribution of {get_gene_name(gene)[0]}')\n",
    "        plt.legend(loc='upper right')\n",
    "        plt.show()\n",
    "    else:\n",
    "        # plot top attributing genes by kl divergence:\n",
    "        kl_div_list = []\n",
    "        for top_gene in top:\n",
    "            # compute hist for current gene:\n",
    "            hist, _ = np.histogram(df[top_gene], bins=40, range=(df.min().min(), df.max().max()), density=True)\n",
    "            \n",
    "            # append kl divergence between the current gene distr and the avg distr to the list\n",
    "            kl_div_list.append(np.sum(scipy.special.kl_div(avg_hist+1e-10, hist+1e-10)))\n",
    "        \n",
    "        # sort desc by kl divergence\n",
    "        sorted_genes, sorted_values = zip(*sorted(zip(top, kl_div_list), key=lambda x: x[1]))\n",
    "\n",
    "        # Create a bar chart\n",
    "        plt.figure(figsize=(10, 6))\n",
    "        plt.barh(sorted_genes, sorted_values) #, color='skyblue')\n",
    "        plt.xlabel('KL Divergence Value')\n",
    "        plt.ylabel('Top Genes')\n",
    "        plt.title(f'Prediction of {protein}: Top attributing genes by KL divergence value')\n",
    "        plt.tight_layout()\n",
    "        plt.show()"
   ]
  },
  {
   "cell_type": "code",
   "execution_count": 27,
   "id": "39951676",
   "metadata": {
    "scrolled": true
   },
   "outputs": [
    {
     "name": "stderr",
     "output_type": "stream",
     "text": [
      "X converted to numpy array with dtype float64\n"
     ]
    },
    {
     "ename": "KeyError",
     "evalue": "'ENSG00000117091_CD48'",
     "output_type": "error",
     "traceback": [
      "\u001b[0;31m---------------------------------------------------------------------------\u001b[0m",
      "\u001b[0;31mKeyError\u001b[0m                                  Traceback (most recent call last)",
      "File \u001b[0;32m/usr/local/lib/python3.8/dist-packages/pandas/core/indexes/base.py:3803\u001b[0m, in \u001b[0;36mIndex.get_loc\u001b[0;34m(self, key, method, tolerance)\u001b[0m\n\u001b[1;32m   3802\u001b[0m \u001b[38;5;28;01mtry\u001b[39;00m:\n\u001b[0;32m-> 3803\u001b[0m     \u001b[38;5;28;01mreturn\u001b[39;00m \u001b[38;5;28;43mself\u001b[39;49m\u001b[38;5;241;43m.\u001b[39;49m\u001b[43m_engine\u001b[49m\u001b[38;5;241;43m.\u001b[39;49m\u001b[43mget_loc\u001b[49m\u001b[43m(\u001b[49m\u001b[43mcasted_key\u001b[49m\u001b[43m)\u001b[49m\n\u001b[1;32m   3804\u001b[0m \u001b[38;5;28;01mexcept\u001b[39;00m \u001b[38;5;167;01mKeyError\u001b[39;00m \u001b[38;5;28;01mas\u001b[39;00m err:\n",
      "File \u001b[0;32m/usr/local/lib/python3.8/dist-packages/pandas/_libs/index.pyx:138\u001b[0m, in \u001b[0;36mpandas._libs.index.IndexEngine.get_loc\u001b[0;34m()\u001b[0m\n",
      "File \u001b[0;32m/usr/local/lib/python3.8/dist-packages/pandas/_libs/index.pyx:165\u001b[0m, in \u001b[0;36mpandas._libs.index.IndexEngine.get_loc\u001b[0;34m()\u001b[0m\n",
      "File \u001b[0;32mpandas/_libs/hashtable_class_helper.pxi:5745\u001b[0m, in \u001b[0;36mpandas._libs.hashtable.PyObjectHashTable.get_item\u001b[0;34m()\u001b[0m\n",
      "File \u001b[0;32mpandas/_libs/hashtable_class_helper.pxi:5753\u001b[0m, in \u001b[0;36mpandas._libs.hashtable.PyObjectHashTable.get_item\u001b[0;34m()\u001b[0m\n",
      "\u001b[0;31mKeyError\u001b[0m: 'ENSG00000117091_CD48'",
      "\nThe above exception was the direct cause of the following exception:\n",
      "\u001b[0;31mKeyError\u001b[0m                                  Traceback (most recent call last)",
      "Cell \u001b[0;32mIn[27], line 1\u001b[0m\n\u001b[0;32m----> 1\u001b[0m \u001b[43mplot_distr_avg_gene\u001b[49m\u001b[43m(\u001b[49m\u001b[38;5;241;43m17\u001b[39;49m\u001b[43m,\u001b[49m\u001b[43m \u001b[49m\u001b[38;5;124;43m'\u001b[39;49m\u001b[38;5;124;43mCD86\u001b[39;49m\u001b[38;5;124;43m'\u001b[39;49m\u001b[43m,\u001b[49m\u001b[43m \u001b[49m\u001b[38;5;124;43m'\u001b[39;49m\u001b[38;5;124;43mCD86\u001b[39;49m\u001b[38;5;124;43m'\u001b[39;49m\u001b[43m,\u001b[49m\u001b[43m \u001b[49m\u001b[43mshow\u001b[49m\u001b[38;5;241;43m=\u001b[39;49m\u001b[38;5;28;43;01mFalse\u001b[39;49;00m\u001b[43m)\u001b[49m   \u001b[38;5;66;03m# decreasing kl divergence for decreasingly important genes\u001b[39;00m\n",
      "Cell \u001b[0;32mIn[26], line 55\u001b[0m, in \u001b[0;36mplot_distr_avg_gene\u001b[0;34m(model_number, protein, gene, show)\u001b[0m\n\u001b[1;32m     52\u001b[0m kl_div_list \u001b[38;5;241m=\u001b[39m []\n\u001b[1;32m     53\u001b[0m \u001b[38;5;28;01mfor\u001b[39;00m top_gene \u001b[38;5;129;01min\u001b[39;00m top:\n\u001b[1;32m     54\u001b[0m     \u001b[38;5;66;03m# compute hist for current gene:\u001b[39;00m\n\u001b[0;32m---> 55\u001b[0m     hist, _ \u001b[38;5;241m=\u001b[39m np\u001b[38;5;241m.\u001b[39mhistogram(\u001b[43mdf\u001b[49m\u001b[43m[\u001b[49m\u001b[43mtop_gene\u001b[49m\u001b[43m]\u001b[49m, bins\u001b[38;5;241m=\u001b[39m\u001b[38;5;241m40\u001b[39m, \u001b[38;5;28mrange\u001b[39m\u001b[38;5;241m=\u001b[39m(df\u001b[38;5;241m.\u001b[39mmin()\u001b[38;5;241m.\u001b[39mmin(), df\u001b[38;5;241m.\u001b[39mmax()\u001b[38;5;241m.\u001b[39mmax()), density\u001b[38;5;241m=\u001b[39m\u001b[38;5;28;01mTrue\u001b[39;00m)\n\u001b[1;32m     57\u001b[0m     \u001b[38;5;66;03m# append kl divergence between the current gene distr and the avg distr to the list\u001b[39;00m\n\u001b[1;32m     58\u001b[0m     kl_div_list\u001b[38;5;241m.\u001b[39mappend(np\u001b[38;5;241m.\u001b[39msum(scipy\u001b[38;5;241m.\u001b[39mspecial\u001b[38;5;241m.\u001b[39mkl_div(avg_hist\u001b[38;5;241m+\u001b[39m\u001b[38;5;241m1e-10\u001b[39m, hist\u001b[38;5;241m+\u001b[39m\u001b[38;5;241m1e-10\u001b[39m)))\n",
      "File \u001b[0;32m/usr/local/lib/python3.8/dist-packages/pandas/core/frame.py:3805\u001b[0m, in \u001b[0;36mDataFrame.__getitem__\u001b[0;34m(self, key)\u001b[0m\n\u001b[1;32m   3803\u001b[0m \u001b[38;5;28;01mif\u001b[39;00m \u001b[38;5;28mself\u001b[39m\u001b[38;5;241m.\u001b[39mcolumns\u001b[38;5;241m.\u001b[39mnlevels \u001b[38;5;241m>\u001b[39m \u001b[38;5;241m1\u001b[39m:\n\u001b[1;32m   3804\u001b[0m     \u001b[38;5;28;01mreturn\u001b[39;00m \u001b[38;5;28mself\u001b[39m\u001b[38;5;241m.\u001b[39m_getitem_multilevel(key)\n\u001b[0;32m-> 3805\u001b[0m indexer \u001b[38;5;241m=\u001b[39m \u001b[38;5;28;43mself\u001b[39;49m\u001b[38;5;241;43m.\u001b[39;49m\u001b[43mcolumns\u001b[49m\u001b[38;5;241;43m.\u001b[39;49m\u001b[43mget_loc\u001b[49m\u001b[43m(\u001b[49m\u001b[43mkey\u001b[49m\u001b[43m)\u001b[49m\n\u001b[1;32m   3806\u001b[0m \u001b[38;5;28;01mif\u001b[39;00m is_integer(indexer):\n\u001b[1;32m   3807\u001b[0m     indexer \u001b[38;5;241m=\u001b[39m [indexer]\n",
      "File \u001b[0;32m/usr/local/lib/python3.8/dist-packages/pandas/core/indexes/base.py:3805\u001b[0m, in \u001b[0;36mIndex.get_loc\u001b[0;34m(self, key, method, tolerance)\u001b[0m\n\u001b[1;32m   3803\u001b[0m     \u001b[38;5;28;01mreturn\u001b[39;00m \u001b[38;5;28mself\u001b[39m\u001b[38;5;241m.\u001b[39m_engine\u001b[38;5;241m.\u001b[39mget_loc(casted_key)\n\u001b[1;32m   3804\u001b[0m \u001b[38;5;28;01mexcept\u001b[39;00m \u001b[38;5;167;01mKeyError\u001b[39;00m \u001b[38;5;28;01mas\u001b[39;00m err:\n\u001b[0;32m-> 3805\u001b[0m     \u001b[38;5;28;01mraise\u001b[39;00m \u001b[38;5;167;01mKeyError\u001b[39;00m(key) \u001b[38;5;28;01mfrom\u001b[39;00m \u001b[38;5;21;01merr\u001b[39;00m\n\u001b[1;32m   3806\u001b[0m \u001b[38;5;28;01mexcept\u001b[39;00m \u001b[38;5;167;01mTypeError\u001b[39;00m:\n\u001b[1;32m   3807\u001b[0m     \u001b[38;5;66;03m# If we have a listlike key, _check_indexing_error will raise\u001b[39;00m\n\u001b[1;32m   3808\u001b[0m     \u001b[38;5;66;03m#  InvalidIndexError. Otherwise we fall through and re-raise\u001b[39;00m\n\u001b[1;32m   3809\u001b[0m     \u001b[38;5;66;03m#  the TypeError.\u001b[39;00m\n\u001b[1;32m   3810\u001b[0m     \u001b[38;5;28mself\u001b[39m\u001b[38;5;241m.\u001b[39m_check_indexing_error(key)\n",
      "\u001b[0;31mKeyError\u001b[0m: 'ENSG00000117091_CD48'"
     ]
    }
   ],
   "source": [
    "plot_distr_avg_gene(17, 'CD86', 'CD86', show=False)   # decreasing kl divergence for decreasingly important genes"
   ]
  },
  {
   "cell_type": "code",
   "execution_count": 22,
   "id": "1af313c4",
   "metadata": {
    "scrolled": true
   },
   "outputs": [
    {
     "name": "stderr",
     "output_type": "stream",
     "text": [
      "X converted to numpy array with dtype float64\n"
     ]
    },
    {
     "name": "stdout",
     "output_type": "stream",
     "text": [
      "2494.8408230898094\n"
     ]
    },
    {
     "data": {
      "image/png": "[encoded data removed]",
      "text/plain": [
       "<Figure size 640x480 with 1 Axes>"
      ]
     },
     "metadata": {},
     "output_type": "display_data"
    }
   ],
   "source": [
    "plot_distr_avg_gene(16, 'CD4', 'CD4')   # decreasing kl divergence for decreasingly important genes"
   ]
  },
  {
   "cell_type": "code",
   "execution_count": 24,
   "id": "b746239c",
   "metadata": {},
   "outputs": [
    {
     "name": "stderr",
     "output_type": "stream",
     "text": [
      "X converted to numpy array with dtype float64\n"
     ]
    },
    {
     "name": "stdout",
     "output_type": "stream",
     "text": [
      "125.2772928188259\n"
     ]
    },
    {
     "data": {
      "image/png": "[encoded data removed]",
      "text/plain": [
       "<Figure size 640x480 with 1 Axes>"
      ]
     },
     "metadata": {},
     "output_type": "display_data"
    }
   ],
   "source": [
    "plot_distr_avg_gene(17, 'CD9', 'CD9') "
   ]
  },
  {
   "cell_type": "markdown",
   "id": "1e55a443",
   "metadata": {
    "heading_collapsed": true
   },
   "source": [
    "### compute mean per cell type"
   ]
  },
  {
   "cell_type": "code",
   "execution_count": null,
   "id": "51cfce37",
   "metadata": {
    "hidden": true
   },
   "outputs": [],
   "source": [
    "# moved computing the mean to plotting.ipynb\n",
    "# TODO move min/max as well? Delete from here?\n",
    "def mean_per_cell_type(attr_all_genes, xtest, n_top, stat):\n",
    "    ''' stat: pass mean, min, max, median '''\n",
    "    top_feature_names_shap = get_top_features(attr_all_genes, xtest, n_top)\n",
    "    # create df with shap values of top n features + cell type    \n",
    "    shap_cell_types = {}\n",
    "    # Add 'Cell Type' column\n",
    "    shap_cell_types['Cell Type'] = xtest.obs['cell_type']\n",
    "    # Add attribution values of top n features\n",
    "    for feature in top_feature_names_shap:\n",
    "        column_values = np.array(attr_all_genes)[:, xtest.var_names.get_loc(feature)]\n",
    "        shap_cell_types[feature] = column_values\n",
    "\n",
    "    # Create DataFrame\n",
    "    shap_cell_types = pd.DataFrame(shap_cell_types)\n",
    "    \n",
    "    if stat == 'mean':\n",
    "        mean_per_ct = shap_cell_types.groupby('Cell Type').apply(lambda x: x.abs().mean())\n",
    "        mean_per_ct.reset_index(inplace=True)\n",
    "        # Calculate the mean across all rows (excluding the 'cell type' column)\n",
    "        overall_mean = shap_cell_types.drop('Cell Type', axis=1).abs().mean()\n",
    "        # Add the overall mean as a new row to the DataFrame\n",
    "        mean_per_ct.loc[len(mean_per_ct)] = ['Overall'] + overall_mean.tolist()\n",
    "    elif stat == 'min':\n",
    "        mean_per_ct = shap_cell_types.groupby('Cell Type').min()\n",
    "        mean_per_ct.reset_index(inplace=True)\n",
    "        # Calculate the mean across all rows (excluding the 'cell type' column)\n",
    "        overall_mean = shap_cell_types.drop('Cell Type', axis=1).min()\n",
    "        # Add the overall mean as a new row to the DataFrame\n",
    "        mean_per_ct.loc[len(mean_per_ct)] = ['Overall'] + overall_mean.tolist()\n",
    "    elif stat == 'max':\n",
    "        mean_per_ct = shap_cell_types.groupby('Cell Type').max()\n",
    "        mean_per_ct.reset_index(inplace=True)\n",
    "        # Calculate the mean across all rows (excluding the 'cell type' column)\n",
    "        overall_mean = shap_cell_types.drop('Cell Type', axis=1).max()\n",
    "        # Add the overall mean as a new row to the DataFrame\n",
    "        mean_per_ct.loc[len(mean_per_ct)] = ['Overall'] + overall_mean.tolist()\n",
    "    elif stat == 'median':\n",
    "        mean_per_ct = shap_cell_types.groupby('Cell Type').median()\n",
    "        mean_per_ct.reset_index(inplace=True)\n",
    "        # Calculate the mean across all rows (excluding the 'cell type' column)\n",
    "        overall_mean = shap_cell_types.drop('Cell Type', axis=1).median()\n",
    "        # Add the overall mean as a new row to the DataFrame\n",
    "        mean_per_ct.loc[len(mean_per_ct)] = ['Overall'] + overall_mean.tolist()\n",
    "    \n",
    "    return mean_per_ct"
   ]
  },
  {
   "cell_type": "code",
   "execution_count": null,
   "id": "400eb5cd",
   "metadata": {
    "hidden": true
   },
   "outputs": [],
   "source": [
    "mean_per_cell_type(attr_all_22085_genes_16[121], ad.AnnData(xtest_all_genes, obs=xtest_16.obs, dtype=xtest_all_genes.dtypes), 20, 'mean')"
   ]
  },
  {
   "cell_type": "code",
   "execution_count": null,
   "id": "49d4bdb5",
   "metadata": {
    "hidden": true
   },
   "outputs": [],
   "source": [
    "mean_per_cell_type(attr_all_22085_genes_17[121], ad.AnnData(xtest_all_genes, obs=xtest_16.obs, dtype=xtest_all_genes.dtypes), 20, 'mean')"
   ]
  }
 ],
 "metadata": {
  "kernelspec": {
   "display_name": "Python 3 (ipykernel)",
   "language": "python",
   "name": "python3"
  },
  "language_info": {
   "codemirror_mode": {
    "name": "ipython",
    "version": 3
   },
   "file_extension": ".py",
   "mimetype": "text/x-python",
   "name": "python",
   "nbconvert_exporter": "python",
   "pygments_lexer": "ipython3",
   "version": "3.8.10"
  }
 },
 "nbformat": 4,
 "nbformat_minor": 5
}
