{
 "cells": [
  {
   "cell_type": "markdown",
   "id": "15eacede",
   "metadata": {},
   "source": [
    "- get 5/50/n samples per cell type: get_samples()\n",
    "- save resulting df: X_test_shap_....h5ad\n",
    "- prepare private test data:\n",
    " - svd\n",
    " - also apply get_samples()\n",
    " - save private_test_input_sample.h5ad"
   ]
  },
  {
   "cell_type": "code",
   "execution_count": 1,
   "id": "d8f6f649",
   "metadata": {},
   "outputs": [],
   "source": [
    "%%capture output\n",
    "!pip install ipywidgets\n",
    "!pip install --upgrade jupyter\n",
    "!pip install IProgress\n",
    "!pip install anndata"
   ]
  },
  {
   "cell_type": "code",
   "execution_count": 1,
   "id": "2a1e046b",
   "metadata": {},
   "outputs": [],
   "source": [
    "import numpy as np\n",
    "import pandas as pd\n",
    "import os\n",
    "\n",
    "import pickle\n",
    "\n",
    "import scanpy as sc\n",
    "import anndata as ad"
   ]
  },
  {
   "cell_type": "markdown",
   "id": "c916a7f4",
   "metadata": {},
   "source": [
    "## create samples representing each cell type for public test data"
   ]
  },
  {
   "cell_type": "markdown",
   "id": "b18d1281",
   "metadata": {},
   "source": [
    "### add cell_ids and cell_type to train and test data"
   ]
  },
  {
   "cell_type": "code",
   "execution_count": 2,
   "id": "fb3a0d3a",
   "metadata": {},
   "outputs": [],
   "source": [
    "lrz_path = '/dss/dssfs02/lwp-dss-0001/pn36po/pn36po-dss-0001/di93zoj/'\n",
    "index_path = lrz_path + 'open-problems-multimodal-3rd-solution/input/preprocess/cite/'\n",
    "cite_feature_path = lrz_path + 'open-problems-multimodal-3rd-solution/input/features/cite/'   # '../../../input/features/cite/'\n",
    "\n",
    "private_data_path = lrz_path + 'kaggle/full_data'"
   ]
  },
  {
   "cell_type": "code",
   "execution_count": 3,
   "id": "83750343",
   "metadata": {},
   "outputs": [
    {
     "name": "stdout",
     "output_type": "stream",
     "text": [
      "70988\n",
      "48203\n"
     ]
    }
   ],
   "source": [
    "# train_ids = np.load(index_path + \"train_cite_raw_inputs_idxcol.npz\", allow_pickle=True)\n",
    "# test_ids = np.load(index_path + \"test_cite_raw_inputs_idxcol.npz\", allow_pickle=True)\n",
    "\n",
    "train_index = np.load(index_path + \"train_cite_raw_inputs_idxcol.npz\", allow_pickle=True)[\"index\"]\n",
    "# train_column = np.load(index_path + \"train_cite_raw_inputs_idxcol.npz\", allow_pickle=True)[\"columns\"]  # not used\n",
    "test_index = np.load(index_path + \"test_cite_raw_inputs_idxcol.npz\", allow_pickle=True)[\"index\"]\n",
    "print(len(list(train_index)))\n",
    "print(len(list(test_index)))"
   ]
  },
  {
   "cell_type": "code",
   "execution_count": 4,
   "id": "a71cd805",
   "metadata": {},
   "outputs": [
    {
     "data": {
      "text/plain": [
       "(41187, 4)"
      ]
     },
     "execution_count": 4,
     "metadata": {},
     "output_type": "execute_result"
    }
   ],
   "source": [
    "metadata = pd.read_csv(lrz_path + 'neurips_competition_data/metadata.csv')\n",
    "metadata_filtered = metadata[metadata['cell_id'].isin(test_index)]\n",
    "metadata_filtered.index=metadata_filtered['cell_id']\n",
    "metadata_filtered = metadata_filtered.drop('cell_id', axis=1)\n",
    "metadata_filtered.shape   # somehow only 41187 matching cell_ids instead of 48203"
   ]
  },
  {
   "cell_type": "code",
   "execution_count": 5,
   "id": "8f0a467b",
   "metadata": {},
   "outputs": [
    {
     "name": "stderr",
     "output_type": "stream",
     "text": [
      "/dss/dsshome1/02/di93zoj/.local/lib/python3.8/site-packages/anndata/_core/anndata.py:121: ImplicitModificationWarning: Transforming to str index.\n",
      "  warnings.warn(\"Transforming to str index.\", ImplicitModificationWarning)\n",
      "/dss/dsshome1/02/di93zoj/.local/lib/python3.8/site-packages/anndata/_core/anndata.py:121: ImplicitModificationWarning: Transforming to str index.\n",
      "  warnings.warn(\"Transforming to str index.\", ImplicitModificationWarning)\n"
     ]
    },
    {
     "data": {
      "text/plain": [
       "AnnData object with n_obs × n_vars = 41187 × 212\n",
       "    obs: 'day', 'donor', 'cell_type', 'technology'"
      ]
     },
     "execution_count": 5,
     "metadata": {},
     "output_type": "execute_result"
    }
   ],
   "source": [
    "X_train_cell_ids = pd.read_pickle(cite_feature_path  + 'X_svd_128.pickle')   # == X_svd_128 in make-features second to last cell == train set for model #16\n",
    "X_train_cell_ids = ad.AnnData(X=X_train_cell_ids)\n",
    "X_train_cell_ids.obs_names = train_index\n",
    "# X_train_cell_ids.to_df().head()\n",
    "\n",
    "# cell type from metadata\n",
    "X_test_cell_ids = pd.read_pickle(cite_feature_path  + 'X_test_svd_128.pickle')   # == test set for model #16\n",
    "X_test_cell_ids = ad.AnnData(X=X_test_cell_ids)\n",
    "X_test_cell_ids.obs_names = test_index\n",
    "X_test_cell_ids = X_test_cell_ids[X_test_cell_ids.obs_names.isin(metadata_filtered.index), :]\n",
    "X_test_cell_ids.obs = metadata_filtered\n",
    "X_test_cell_ids"
   ]
  },
  {
   "cell_type": "code",
   "execution_count": 6,
   "id": "21d15148",
   "metadata": {},
   "outputs": [
    {
     "data": {
      "text/plain": [
       "HSC     9451\n",
       "MasP    9064\n",
       "EryP    8788\n",
       "NeuP    7719\n",
       "MkP     4844\n",
       "MoP     1215\n",
       "BP       106\n",
       "Name: cell_type, dtype: int64"
      ]
     },
     "execution_count": 6,
     "metadata": {},
     "output_type": "execute_result"
    }
   ],
   "source": [
    "X_test_cell_ids.obs['cell_type'].value_counts()"
   ]
  },
  {
   "cell_type": "markdown",
   "id": "b7e9c27b",
   "metadata": {},
   "source": [
    "### create dataset of n samples per cell type for SHAP beeswarm plot"
   ]
  },
  {
   "cell_type": "code",
   "execution_count": 8,
   "id": "5a11f037",
   "metadata": {},
   "outputs": [],
   "source": [
    "def get_samples(samples_per_cell_type, data):\n",
    "    ''' data: AnnData with obs 'cell_type' '''\n",
    "    \n",
    "    unique_types = np.unique(data.obs['cell_type'])\n",
    "\n",
    "    sample_obs = []\n",
    "\n",
    "    # get indices of n samples per cell type\n",
    "    for t in unique_types:\n",
    "        sampled_rows = data[data.obs.cell_type == t].obs.sample(n=samples_per_cell_type, random_state=42)\n",
    "        sample_obs.append(sampled_rows.index) \n",
    "\n",
    "    # select rows in data with matching indices\n",
    "    X_test_shap = data[[elem for index_obj in sample_obs for elem in index_obj.tolist()]]\n",
    "\n",
    "    return X_test_shap\n",
    "\n",
    "X_test_shap = get_samples(50, X_test_cell_ids)"
   ]
  },
  {
   "cell_type": "code",
   "execution_count": 9,
   "id": "2157434d",
   "metadata": {},
   "outputs": [],
   "source": [
    "os.chdir('../..')"
   ]
  },
  {
   "cell_type": "code",
   "execution_count": 10,
   "id": "fffffd54",
   "metadata": {},
   "outputs": [],
   "source": [
    "# rename imp_ columns to gene ids:\n",
    "handselected_84_gene_ids = np.loadtxt('2.preprocess_to_feature/cite/handselected_84_gene_ids.txt', dtype=str)"
   ]
  },
  {
   "cell_type": "code",
   "execution_count": 11,
   "id": "601e159f",
   "metadata": {},
   "outputs": [
    {
     "name": "stdout",
     "output_type": "stream",
     "text": [
      "(350, 212)\n"
     ]
    },
    {
     "data": {
      "text/html": [
       "<div>\n",
       "<style scoped>\n",
       "    .dataframe tbody tr th:only-of-type {\n",
       "        vertical-align: middle;\n",
       "    }\n",
       "\n",
       "    .dataframe tbody tr th {\n",
       "        vertical-align: top;\n",
       "    }\n",
       "\n",
       "    .dataframe thead th {\n",
       "        text-align: right;\n",
       "    }\n",
       "</style>\n",
       "<table border=\"1\" class=\"dataframe\">\n",
       "  <thead>\n",
       "    <tr style=\"text-align: right;\">\n",
       "      <th></th>\n",
       "      <th>base_svd_0</th>\n",
       "      <th>base_svd_1</th>\n",
       "      <th>base_svd_2</th>\n",
       "      <th>base_svd_3</th>\n",
       "      <th>base_svd_4</th>\n",
       "      <th>base_svd_5</th>\n",
       "      <th>base_svd_6</th>\n",
       "      <th>base_svd_7</th>\n",
       "      <th>base_svd_8</th>\n",
       "      <th>base_svd_9</th>\n",
       "      <th>...</th>\n",
       "      <th>ENSG00000188404_SELL</th>\n",
       "      <th>ENSG00000124570_SERPINB6</th>\n",
       "      <th>ENSG00000235169_SMIM1</th>\n",
       "      <th>ENSG00000095932_SMIM24</th>\n",
       "      <th>ENSG00000137642_SORL1</th>\n",
       "      <th>ENSG00000128040_SPINK2</th>\n",
       "      <th>ENSG00000072274_TFRC</th>\n",
       "      <th>ENSG00000205542_TMSB4X</th>\n",
       "      <th>ENSG00000133112_TPT1</th>\n",
       "      <th>ENSG00000026025_VIM</th>\n",
       "    </tr>\n",
       "    <tr>\n",
       "      <th>cell_id</th>\n",
       "      <th></th>\n",
       "      <th></th>\n",
       "      <th></th>\n",
       "      <th></th>\n",
       "      <th></th>\n",
       "      <th></th>\n",
       "      <th></th>\n",
       "      <th></th>\n",
       "      <th></th>\n",
       "      <th></th>\n",
       "      <th></th>\n",
       "      <th></th>\n",
       "      <th></th>\n",
       "      <th></th>\n",
       "      <th></th>\n",
       "      <th></th>\n",
       "      <th></th>\n",
       "      <th></th>\n",
       "      <th></th>\n",
       "      <th></th>\n",
       "      <th></th>\n",
       "    </tr>\n",
       "  </thead>\n",
       "  <tbody>\n",
       "    <tr>\n",
       "      <th>5cb9daaca7ac</th>\n",
       "      <td>71.003983</td>\n",
       "      <td>13.2008</td>\n",
       "      <td>-6.168917</td>\n",
       "      <td>12.436371</td>\n",
       "      <td>-0.578827</td>\n",
       "      <td>0.227373</td>\n",
       "      <td>1.382157</td>\n",
       "      <td>0.969637</td>\n",
       "      <td>-1.477851</td>\n",
       "      <td>6.248293</td>\n",
       "      <td>...</td>\n",
       "      <td>0.0</td>\n",
       "      <td>0.0</td>\n",
       "      <td>0.0</td>\n",
       "      <td>0.0</td>\n",
       "      <td>0.0</td>\n",
       "      <td>0.947536</td>\n",
       "      <td>0.0</td>\n",
       "      <td>5.313975</td>\n",
       "      <td>4.545222</td>\n",
       "      <td>3.069516</td>\n",
       "    </tr>\n",
       "  </tbody>\n",
       "</table>\n",
       "<p>1 rows × 212 columns</p>\n",
       "</div>"
      ],
      "text/plain": [
       "              base_svd_0  base_svd_1  base_svd_2  base_svd_3  base_svd_4  \\\n",
       "cell_id                                                                    \n",
       "5cb9daaca7ac   71.003983     13.2008   -6.168917   12.436371   -0.578827   \n",
       "\n",
       "              base_svd_5  base_svd_6  base_svd_7  base_svd_8  base_svd_9  ...  \\\n",
       "cell_id                                                                   ...   \n",
       "5cb9daaca7ac    0.227373    1.382157    0.969637   -1.477851    6.248293  ...   \n",
       "\n",
       "              ENSG00000188404_SELL  ENSG00000124570_SERPINB6  \\\n",
       "cell_id                                                        \n",
       "5cb9daaca7ac                   0.0                       0.0   \n",
       "\n",
       "              ENSG00000235169_SMIM1  ENSG00000095932_SMIM24  \\\n",
       "cell_id                                                       \n",
       "5cb9daaca7ac                    0.0                     0.0   \n",
       "\n",
       "              ENSG00000137642_SORL1  ENSG00000128040_SPINK2  \\\n",
       "cell_id                                                       \n",
       "5cb9daaca7ac                    0.0                0.947536   \n",
       "\n",
       "              ENSG00000072274_TFRC  ENSG00000205542_TMSB4X  \\\n",
       "cell_id                                                      \n",
       "5cb9daaca7ac                   0.0                5.313975   \n",
       "\n",
       "              ENSG00000133112_TPT1  ENSG00000026025_VIM  \n",
       "cell_id                                                  \n",
       "5cb9daaca7ac              4.545222             3.069516  \n",
       "\n",
       "[1 rows x 212 columns]"
      ]
     },
     "execution_count": 11,
     "metadata": {},
     "output_type": "execute_result"
    }
   ],
   "source": [
    "# X_test_shap currently has base_svd and imp columns -> rename imp (handselected genes)\n",
    "X_test_shap.var_names = X_test_shap.var_names[:-84].tolist() + handselected_84_gene_ids.tolist()\n",
    "print(X_test_shap.shape)\n",
    "X_test_shap.to_df().head(1)"
   ]
  },
  {
   "cell_type": "code",
   "execution_count": 12,
   "id": "7891abad",
   "metadata": {},
   "outputs": [],
   "source": [
    "X_test_shap.write(\"4.model/pred/X_test_shap_16_50_samples.h5ad\")"
   ]
  },
  {
   "cell_type": "markdown",
   "id": "f3319966",
   "metadata": {},
   "source": [
    "## create samples representing each cell type for private test data\n",
    "In this case, also need to apply SVD transform."
   ]
  },
  {
   "cell_type": "code",
   "execution_count": 17,
   "id": "626fd6d0",
   "metadata": {},
   "outputs": [
    {
     "data": {
      "text/plain": [
       "(119191, 4)"
      ]
     },
     "execution_count": 17,
     "metadata": {},
     "output_type": "execute_result"
    }
   ],
   "source": [
    "metadata = pd.read_pickle(private_data_path + '/20220830_citeseq_metadata_cells.pkl')\n",
    "metadata.shape"
   ]
  },
  {
   "cell_type": "code",
   "execution_count": 18,
   "id": "e667997d",
   "metadata": {},
   "outputs": [
    {
     "data": {
      "text/plain": [
       "(70988, 22085)"
      ]
     },
     "execution_count": 18,
     "metadata": {},
     "output_type": "execute_result"
    }
   ],
   "source": [
    "train = pd.read_pickle(private_data_path + '/20220830_citeseq_rna_count_train.pkl')\n",
    "train.shape"
   ]
  },
  {
   "cell_type": "code",
   "execution_count": 19,
   "id": "68f3aaae",
   "metadata": {},
   "outputs": [
    {
     "data": {
      "text/plain": [
       "(26867, 22085)"
      ]
     },
     "execution_count": 19,
     "metadata": {},
     "output_type": "execute_result"
    }
   ],
   "source": [
    "private_test_input = pd.read_pickle(private_data_path + '/20220830_citeseq_rna_count_test_input_private.pkl') # already has gene names (ordered alphabetically)\n",
    "private_test_input.shape"
   ]
  },
  {
   "cell_type": "code",
   "execution_count": 20,
   "id": "446ad813",
   "metadata": {},
   "outputs": [
    {
     "data": {
      "text/plain": [
       "(26867, 140)"
      ]
     },
     "execution_count": 20,
     "metadata": {},
     "output_type": "execute_result"
    }
   ],
   "source": [
    "private_test_target = pd.read_pickle(private_data_path + '/20220830_citeseq_prot_count_test_labels_private.pkl')\n",
    "private_test_target.shape"
   ]
  },
  {
   "cell_type": "code",
   "execution_count": 21,
   "id": "343d8e10",
   "metadata": {},
   "outputs": [
    {
     "data": {
      "text/html": [
       "<div>\n",
       "<style scoped>\n",
       "    .dataframe tbody tr th:only-of-type {\n",
       "        vertical-align: middle;\n",
       "    }\n",
       "\n",
       "    .dataframe tbody tr th {\n",
       "        vertical-align: top;\n",
       "    }\n",
       "\n",
       "    .dataframe thead th {\n",
       "        text-align: right;\n",
       "    }\n",
       "</style>\n",
       "<table border=\"1\" class=\"dataframe\">\n",
       "  <thead>\n",
       "    <tr style=\"text-align: right;\">\n",
       "      <th></th>\n",
       "      <th>kaggle_dataset</th>\n",
       "      <th>day</th>\n",
       "      <th>donor</th>\n",
       "      <th>cell_type</th>\n",
       "    </tr>\n",
       "  </thead>\n",
       "  <tbody>\n",
       "    <tr>\n",
       "      <th>CATAAGCAGCATGATA-1-('27678', 7)</th>\n",
       "      <td>test_private</td>\n",
       "      <td>7</td>\n",
       "      <td>27678</td>\n",
       "      <td>MasP</td>\n",
       "    </tr>\n",
       "    <tr>\n",
       "      <th>GGTGATTGTATGAAAC-1-('27678', 7)</th>\n",
       "      <td>test_private</td>\n",
       "      <td>7</td>\n",
       "      <td>27678</td>\n",
       "      <td>HSC</td>\n",
       "    </tr>\n",
       "    <tr>\n",
       "      <th>ATAGGCTAGCTCTGTA-1-('27678', 7)</th>\n",
       "      <td>test_private</td>\n",
       "      <td>7</td>\n",
       "      <td>27678</td>\n",
       "      <td>MasP</td>\n",
       "    </tr>\n",
       "    <tr>\n",
       "      <th>TCATGAGGTGGATTTC-1-('27678', 7)</th>\n",
       "      <td>test_private</td>\n",
       "      <td>7</td>\n",
       "      <td>27678</td>\n",
       "      <td>MasP</td>\n",
       "    </tr>\n",
       "    <tr>\n",
       "      <th>TAAGCGTTCGGCTGGT-1-('27678', 7)</th>\n",
       "      <td>test_private</td>\n",
       "      <td>7</td>\n",
       "      <td>27678</td>\n",
       "      <td>HSC</td>\n",
       "    </tr>\n",
       "  </tbody>\n",
       "</table>\n",
       "</div>"
      ],
      "text/plain": [
       "                                kaggle_dataset  day  donor cell_type\n",
       "CATAAGCAGCATGATA-1-('27678', 7)   test_private    7  27678      MasP\n",
       "GGTGATTGTATGAAAC-1-('27678', 7)   test_private    7  27678       HSC\n",
       "ATAGGCTAGCTCTGTA-1-('27678', 7)   test_private    7  27678      MasP\n",
       "TCATGAGGTGGATTTC-1-('27678', 7)   test_private    7  27678      MasP\n",
       "TAAGCGTTCGGCTGGT-1-('27678', 7)   test_private    7  27678       HSC"
      ]
     },
     "execution_count": 21,
     "metadata": {},
     "output_type": "execute_result"
    }
   ],
   "source": [
    "# filter metadata to get matching cells  -> then use as observation to annotate data with cell_type\n",
    "metadata_filtered = metadata[metadata.index.isin(private_test_input.index)]\n",
    "metadata_filtered.head()"
   ]
  },
  {
   "cell_type": "code",
   "execution_count": 22,
   "id": "cc8f88b0",
   "metadata": {},
   "outputs": [
    {
     "data": {
      "text/plain": [
       "AnnData object with n_obs × n_vars = 26867 × 22085\n",
       "    obs: 'kaggle_dataset', 'day', 'donor', 'cell_type'"
      ]
     },
     "execution_count": 22,
     "metadata": {},
     "output_type": "execute_result"
    }
   ],
   "source": [
    "private_test_input = ad.AnnData(private_test_input, obs=metadata_filtered)\n",
    "private_test_target = ad.AnnData(private_test_target, obs=metadata_filtered)\n",
    "private_test_input"
   ]
  },
  {
   "cell_type": "code",
   "execution_count": 23,
   "id": "c806713a",
   "metadata": {},
   "outputs": [],
   "source": [
    "private_test_input.write(lrz_path + \"/large_preprocessed_files/private_test_input.h5ad\")\n",
    "private_test_target.write(lrz_path + \"/large_preprocessed_files/private_test_target.h5ad\")"
   ]
  },
  {
   "cell_type": "markdown",
   "id": "88f21044",
   "metadata": {},
   "source": [
    "### preprocess input data - similar to make-base-feature.py"
   ]
  },
  {
   "cell_type": "code",
   "execution_count": 24,
   "id": "63f52ccb",
   "metadata": {},
   "outputs": [],
   "source": [
    "# all_genes = np.loadtxt('2.preprocess_to_feature/cite/all_genes_names.txt', dtype=str)  # not used\n",
    "# all_genes   # 22001 genes sorted alphabetically"
   ]
  },
  {
   "cell_type": "code",
   "execution_count": 25,
   "id": "04687e07",
   "metadata": {},
   "outputs": [
    {
     "data": {
      "text/plain": [
       "array([ 3290.,  4010.,  4743.,  4841.,  5172.,  5260.,  5619.,  5632.,\n",
       "        5939.,  6120.,  6699.,  6704.,  6705.,  6710.,  6713.,  6714.,\n",
       "        6716.,  6720.,  6733.,  6734.,  6735.,  6737.,  6741.,  6744.,\n",
       "        6749.,  6750.,  6756.,  6759.,  6761.,  6762.,  6763.,  6768.,\n",
       "        6771.,  6774.,  6777.,  7292.,  7338.,  7616.,  7688.,  7772.,\n",
       "        8238.,  8747.,  9331.,  9602.,  9908.,  9948., 10500., 10588.,\n",
       "       10589., 10602., 10603., 10606., 10732., 10904., 10937., 10956.,\n",
       "       11309., 11398., 11597., 11662., 13011., 13390., 13801., 14785.,\n",
       "       15124., 15266., 15571., 16503., 17087., 17138., 17323., 17339.,\n",
       "       17512., 17514., 17750., 17826., 18436., 18449., 18660., 18762.,\n",
       "       19495., 19923., 20095., 20883.])"
      ]
     },
     "execution_count": 25,
     "metadata": {},
     "output_type": "execute_result"
    }
   ],
   "source": [
    "# indices of 84 handselected genes\n",
    "use_imp_cols_84 = np.loadtxt('2.preprocess_to_feature/cite/use_imp_cols_84.txt')\n",
    "use_imp_cols_84"
   ]
  },
  {
   "cell_type": "code",
   "execution_count": 26,
   "id": "e2061952",
   "metadata": {},
   "outputs": [
    {
     "data": {
      "text/plain": [
       "22001"
      ]
     },
     "execution_count": 26,
     "metadata": {},
     "output_type": "execute_result"
    }
   ],
   "source": [
    "# indices of other 22001 genes\n",
    "use_cols_84 = np.loadtxt('2.preprocess_to_feature/cite/use_cols_84.txt')\n",
    "len(use_cols_84)"
   ]
  },
  {
   "cell_type": "code",
   "execution_count": 27,
   "id": "003e4578",
   "metadata": {},
   "outputs": [
    {
     "name": "stderr",
     "output_type": "stream",
     "text": [
      "/usr/local/lib/python3.8/dist-packages/scanpy/preprocessing/_simple.py:524: ImplicitModificationWarning: Trying to modify attribute `.obs` of view, initializing view as actual.\n",
      "  adata.obs[key_n_counts] = counts_per_cell\n"
     ]
    }
   ],
   "source": [
    "df_use = private_test_input[:, use_cols_84]\n",
    "# df_use = private_test_input_raw[:, use_cols_84]  # _raw\n",
    "#print(df_use.X)\n",
    "\n",
    "sc.pp.normalize_per_cell(df_use)\n",
    "sc.pp.log1p(df_use.X)\n",
    "\n",
    "with open('2.preprocess_to_feature/cite/svd_model_fitted_128.pkl', 'rb') as file:\n",
    "    svd = pickle.load(file)\n",
    "    \n",
    "result_svd = svd.transform(df_use.X)\n",
    "\n",
    "test_cite_pp = pd.DataFrame(result_svd, index = private_test_input.obs_names)     # has cell_ids   # _raw\n",
    "\n",
    "# important protein cols ---------------------------------------------------------------------\n",
    "\n",
    "df_important = private_test_input.X[:, use_imp_cols_84]   # _raw\n",
    "df_important = sc.AnnData(X = df_important)\n",
    "sc.pp.normalize_per_cell(df_important)\n",
    "sc.pp.log1p(df_important)\n",
    "\n",
    "test_imp = pd.DataFrame(df_important.X.toarray(), index = private_test_input.obs_names).add_prefix('imp_')   # _raw"
   ]
  },
  {
   "cell_type": "code",
   "execution_count": 28,
   "id": "b63ce90d",
   "metadata": {},
   "outputs": [
    {
     "data": {
      "text/plain": [
       "(26867, 128)"
      ]
     },
     "execution_count": 28,
     "metadata": {},
     "output_type": "execute_result"
    }
   ],
   "source": [
    "test_cite_pp = test_cite_pp.add_prefix('base_svd_')\n",
    "test_cite_pp.shape"
   ]
  },
  {
   "cell_type": "code",
   "execution_count": 29,
   "id": "7212d076",
   "metadata": {
    "scrolled": true
   },
   "outputs": [
    {
     "data": {
      "text/plain": [
       "(26867, 84)"
      ]
     },
     "execution_count": 29,
     "metadata": {},
     "output_type": "execute_result"
    }
   ],
   "source": [
    "test_imp.shape"
   ]
  },
  {
   "cell_type": "markdown",
   "id": "4657b74b",
   "metadata": {},
   "source": [
    "### preprocess input data - similar to make-features.py"
   ]
  },
  {
   "cell_type": "code",
   "execution_count": 34,
   "id": "259885bb",
   "metadata": {},
   "outputs": [
    {
     "data": {
      "text/html": [
       "<div>\n",
       "<style scoped>\n",
       "    .dataframe tbody tr th:only-of-type {\n",
       "        vertical-align: middle;\n",
       "    }\n",
       "\n",
       "    .dataframe tbody tr th {\n",
       "        vertical-align: top;\n",
       "    }\n",
       "\n",
       "    .dataframe thead th {\n",
       "        text-align: right;\n",
       "    }\n",
       "</style>\n",
       "<table border=\"1\" class=\"dataframe\">\n",
       "  <thead>\n",
       "    <tr style=\"text-align: right;\">\n",
       "      <th></th>\n",
       "      <th>base_svd_0</th>\n",
       "      <th>base_svd_1</th>\n",
       "      <th>base_svd_2</th>\n",
       "      <th>base_svd_3</th>\n",
       "      <th>base_svd_4</th>\n",
       "      <th>base_svd_5</th>\n",
       "      <th>base_svd_6</th>\n",
       "      <th>base_svd_7</th>\n",
       "      <th>base_svd_8</th>\n",
       "      <th>base_svd_9</th>\n",
       "      <th>...</th>\n",
       "      <th>imp_74</th>\n",
       "      <th>imp_75</th>\n",
       "      <th>imp_76</th>\n",
       "      <th>imp_77</th>\n",
       "      <th>imp_78</th>\n",
       "      <th>imp_79</th>\n",
       "      <th>imp_80</th>\n",
       "      <th>imp_81</th>\n",
       "      <th>imp_82</th>\n",
       "      <th>imp_83</th>\n",
       "    </tr>\n",
       "  </thead>\n",
       "  <tbody>\n",
       "    <tr>\n",
       "      <th>0</th>\n",
       "      <td>80.546516</td>\n",
       "      <td>8.945739</td>\n",
       "      <td>30.409332</td>\n",
       "      <td>-4.856643</td>\n",
       "      <td>-2.094273</td>\n",
       "      <td>-9.574170</td>\n",
       "      <td>-6.450809</td>\n",
       "      <td>2.747784</td>\n",
       "      <td>-2.683906</td>\n",
       "      <td>5.604310</td>\n",
       "      <td>...</td>\n",
       "      <td>1.696244</td>\n",
       "      <td>1.696244</td>\n",
       "      <td>0.0</td>\n",
       "      <td>0.000000</td>\n",
       "      <td>1.571028</td>\n",
       "      <td>0.000000</td>\n",
       "      <td>1.696244</td>\n",
       "      <td>2.253848</td>\n",
       "      <td>2.238665</td>\n",
       "      <td>2.178289</td>\n",
       "    </tr>\n",
       "    <tr>\n",
       "      <th>1</th>\n",
       "      <td>83.140480</td>\n",
       "      <td>-4.495127</td>\n",
       "      <td>9.941430</td>\n",
       "      <td>-12.366527</td>\n",
       "      <td>5.982366</td>\n",
       "      <td>-11.163328</td>\n",
       "      <td>4.029469</td>\n",
       "      <td>-4.822271</td>\n",
       "      <td>1.670215</td>\n",
       "      <td>4.221057</td>\n",
       "      <td>...</td>\n",
       "      <td>1.653121</td>\n",
       "      <td>1.831568</td>\n",
       "      <td>0.0</td>\n",
       "      <td>1.831568</td>\n",
       "      <td>1.803997</td>\n",
       "      <td>1.803997</td>\n",
       "      <td>1.522853</td>\n",
       "      <td>2.038796</td>\n",
       "      <td>2.211638</td>\n",
       "      <td>2.038796</td>\n",
       "    </tr>\n",
       "    <tr>\n",
       "      <th>2</th>\n",
       "      <td>61.207283</td>\n",
       "      <td>24.319401</td>\n",
       "      <td>16.274017</td>\n",
       "      <td>-4.918456</td>\n",
       "      <td>7.281606</td>\n",
       "      <td>-3.375170</td>\n",
       "      <td>-1.265758</td>\n",
       "      <td>-8.099415</td>\n",
       "      <td>-6.601540</td>\n",
       "      <td>2.202348</td>\n",
       "      <td>...</td>\n",
       "      <td>2.011695</td>\n",
       "      <td>2.011695</td>\n",
       "      <td>0.0</td>\n",
       "      <td>0.000000</td>\n",
       "      <td>0.000000</td>\n",
       "      <td>0.000000</td>\n",
       "      <td>0.000000</td>\n",
       "      <td>2.380579</td>\n",
       "      <td>2.486660</td>\n",
       "      <td>2.333222</td>\n",
       "    </tr>\n",
       "  </tbody>\n",
       "</table>\n",
       "<p>3 rows × 212 columns</p>\n",
       "</div>"
      ],
      "text/plain": [
       "   base_svd_0  base_svd_1  base_svd_2  base_svd_3  base_svd_4  base_svd_5  \\\n",
       "0   80.546516    8.945739   30.409332   -4.856643   -2.094273   -9.574170   \n",
       "1   83.140480   -4.495127    9.941430  -12.366527    5.982366  -11.163328   \n",
       "2   61.207283   24.319401   16.274017   -4.918456    7.281606   -3.375170   \n",
       "\n",
       "   base_svd_6  base_svd_7  base_svd_8  base_svd_9  ...    imp_74    imp_75  \\\n",
       "0   -6.450809    2.747784   -2.683906    5.604310  ...  1.696244  1.696244   \n",
       "1    4.029469   -4.822271    1.670215    4.221057  ...  1.653121  1.831568   \n",
       "2   -1.265758   -8.099415   -6.601540    2.202348  ...  2.011695  2.011695   \n",
       "\n",
       "   imp_76    imp_77    imp_78    imp_79    imp_80    imp_81    imp_82  \\\n",
       "0     0.0  0.000000  1.571028  0.000000  1.696244  2.253848  2.238665   \n",
       "1     0.0  1.831568  1.803997  1.803997  1.522853  2.038796  2.211638   \n",
       "2     0.0  0.000000  0.000000  0.000000  0.000000  2.380579  2.486660   \n",
       "\n",
       "     imp_83  \n",
       "0  2.178289  \n",
       "1  2.038796  \n",
       "2  2.333222  \n",
       "\n",
       "[3 rows x 212 columns]"
      ]
     },
     "execution_count": 34,
     "metadata": {},
     "output_type": "execute_result"
    }
   ],
   "source": [
    "X_test_svd_128 = pd.concat([test_cite_pp.reset_index(drop=True), \n",
    "                            test_imp.reset_index(drop=True),\n",
    "                           ], axis = 1)\n",
    "X_test_svd_128.head(3)   # final X_test"
   ]
  },
  {
   "cell_type": "code",
   "execution_count": 31,
   "id": "e7e9fd77",
   "metadata": {},
   "outputs": [],
   "source": [
    "with open('4.model/pred/private_X_test_svd.pkl', 'wb') as f:   # _raw\n",
    "    pickle.dump(X_test_svd_128, f)"
   ]
  },
  {
   "cell_type": "markdown",
   "id": "d8b7d2c7",
   "metadata": {},
   "source": [
    "### get sample per cell type for SHAP"
   ]
  },
  {
   "cell_type": "code",
   "execution_count": 32,
   "id": "08560672",
   "metadata": {},
   "outputs": [
    {
     "data": {
      "text/plain": [
       "AnnData object with n_obs × n_vars = 26867 × 212\n",
       "    obs: 'kaggle_dataset', 'day', 'donor', 'cell_type'"
      ]
     },
     "execution_count": 32,
     "metadata": {},
     "output_type": "execute_result"
    }
   ],
   "source": [
    "X_test_svd_128_ann = ad.AnnData(X=X_test_svd_128, obs=metadata_filtered)\n",
    "X_test_svd_128_ann"
   ]
  },
  {
   "cell_type": "code",
   "execution_count": 35,
   "id": "918cd100",
   "metadata": {},
   "outputs": [],
   "source": [
    "private_test_input_sample = get_samples(5, X_test_svd_128_ann)"
   ]
  },
  {
   "cell_type": "code",
   "execution_count": 36,
   "id": "fdc50d8a",
   "metadata": {},
   "outputs": [
    {
     "data": {
      "text/html": [
       "<div>\n",
       "<style scoped>\n",
       "    .dataframe tbody tr th:only-of-type {\n",
       "        vertical-align: middle;\n",
       "    }\n",
       "\n",
       "    .dataframe tbody tr th {\n",
       "        vertical-align: top;\n",
       "    }\n",
       "\n",
       "    .dataframe thead th {\n",
       "        text-align: right;\n",
       "    }\n",
       "</style>\n",
       "<table border=\"1\" class=\"dataframe\">\n",
       "  <thead>\n",
       "    <tr style=\"text-align: right;\">\n",
       "      <th></th>\n",
       "      <th>kaggle_dataset</th>\n",
       "      <th>day</th>\n",
       "      <th>donor</th>\n",
       "      <th>cell_type</th>\n",
       "    </tr>\n",
       "  </thead>\n",
       "  <tbody>\n",
       "    <tr>\n",
       "      <th>CTCCCTCGTATGAAAC-1-('32606', 7)</th>\n",
       "      <td>test_private</td>\n",
       "      <td>7</td>\n",
       "      <td>32606</td>\n",
       "      <td>BP</td>\n",
       "    </tr>\n",
       "    <tr>\n",
       "      <th>CATGCAATCGAAATCC-1-('27678', 7)</th>\n",
       "      <td>test_private</td>\n",
       "      <td>7</td>\n",
       "      <td>27678</td>\n",
       "      <td>BP</td>\n",
       "    </tr>\n",
       "    <tr>\n",
       "      <th>AAGCGAGGTTCATCGA-1-('31800', 7)</th>\n",
       "      <td>test_private</td>\n",
       "      <td>7</td>\n",
       "      <td>31800</td>\n",
       "      <td>BP</td>\n",
       "    </tr>\n",
       "    <tr>\n",
       "      <th>TTCGCTGAGAAAGTCT-1-('27678', 7)</th>\n",
       "      <td>test_private</td>\n",
       "      <td>7</td>\n",
       "      <td>27678</td>\n",
       "      <td>BP</td>\n",
       "    </tr>\n",
       "    <tr>\n",
       "      <th>TCCAGAACATCTCATT-1-('31800', 7)</th>\n",
       "      <td>test_private</td>\n",
       "      <td>7</td>\n",
       "      <td>31800</td>\n",
       "      <td>BP</td>\n",
       "    </tr>\n",
       "    <tr>\n",
       "      <th>GGAGATGTCTGAGAAA-1-('32606', 7)</th>\n",
       "      <td>test_private</td>\n",
       "      <td>7</td>\n",
       "      <td>32606</td>\n",
       "      <td>EryP</td>\n",
       "    </tr>\n",
       "    <tr>\n",
       "      <th>CTTCCTTCACAAACGG-1-('27678', 7)</th>\n",
       "      <td>test_private</td>\n",
       "      <td>7</td>\n",
       "      <td>27678</td>\n",
       "      <td>EryP</td>\n",
       "    </tr>\n",
       "    <tr>\n",
       "      <th>ACTATGGTCATGGTAC-1-('27678', 7)</th>\n",
       "      <td>test_private</td>\n",
       "      <td>7</td>\n",
       "      <td>27678</td>\n",
       "      <td>EryP</td>\n",
       "    </tr>\n",
       "    <tr>\n",
       "      <th>GTGCACGCAACCTATG-1-('13176', 7)</th>\n",
       "      <td>test_private</td>\n",
       "      <td>7</td>\n",
       "      <td>13176</td>\n",
       "      <td>EryP</td>\n",
       "    </tr>\n",
       "    <tr>\n",
       "      <th>CCTCACACACAAGTGG-1-('27678', 7)</th>\n",
       "      <td>test_private</td>\n",
       "      <td>7</td>\n",
       "      <td>27678</td>\n",
       "      <td>EryP</td>\n",
       "    </tr>\n",
       "    <tr>\n",
       "      <th>CAATCGACACGGTGTC-1-('13176', 7)</th>\n",
       "      <td>test_private</td>\n",
       "      <td>7</td>\n",
       "      <td>13176</td>\n",
       "      <td>HSC</td>\n",
       "    </tr>\n",
       "    <tr>\n",
       "      <th>GATCATGCAGTGACCC-1-('31800', 7)</th>\n",
       "      <td>test_private</td>\n",
       "      <td>7</td>\n",
       "      <td>31800</td>\n",
       "      <td>HSC</td>\n",
       "    </tr>\n",
       "    <tr>\n",
       "      <th>CTAAGTGCAACCCGCA-1-('27678', 7)</th>\n",
       "      <td>test_private</td>\n",
       "      <td>7</td>\n",
       "      <td>27678</td>\n",
       "      <td>HSC</td>\n",
       "    </tr>\n",
       "    <tr>\n",
       "      <th>ATGACCACAAAGTATG-1-('31800', 7)</th>\n",
       "      <td>test_private</td>\n",
       "      <td>7</td>\n",
       "      <td>31800</td>\n",
       "      <td>HSC</td>\n",
       "    </tr>\n",
       "    <tr>\n",
       "      <th>AGCGCTGAGCTGCCAC-1-('32606', 7)</th>\n",
       "      <td>test_private</td>\n",
       "      <td>7</td>\n",
       "      <td>32606</td>\n",
       "      <td>HSC</td>\n",
       "    </tr>\n",
       "    <tr>\n",
       "      <th>TATACCTCAAGCACCC-1-('31800', 7)</th>\n",
       "      <td>test_private</td>\n",
       "      <td>7</td>\n",
       "      <td>31800</td>\n",
       "      <td>MasP</td>\n",
       "    </tr>\n",
       "    <tr>\n",
       "      <th>TGACGCGGTGCGACAA-1-('27678', 7)</th>\n",
       "      <td>test_private</td>\n",
       "      <td>7</td>\n",
       "      <td>27678</td>\n",
       "      <td>MasP</td>\n",
       "    </tr>\n",
       "    <tr>\n",
       "      <th>TAAGCACCAATCGCAT-1-('31800', 7)</th>\n",
       "      <td>test_private</td>\n",
       "      <td>7</td>\n",
       "      <td>31800</td>\n",
       "      <td>MasP</td>\n",
       "    </tr>\n",
       "    <tr>\n",
       "      <th>CGAAGGATCTCAACCC-1-('31800', 7)</th>\n",
       "      <td>test_private</td>\n",
       "      <td>7</td>\n",
       "      <td>31800</td>\n",
       "      <td>MasP</td>\n",
       "    </tr>\n",
       "    <tr>\n",
       "      <th>TCGCTTGGTCGTTTCC-1-('31800', 7)</th>\n",
       "      <td>test_private</td>\n",
       "      <td>7</td>\n",
       "      <td>31800</td>\n",
       "      <td>MasP</td>\n",
       "    </tr>\n",
       "    <tr>\n",
       "      <th>AGCGTATCAACAAGTA-1-('27678', 7)</th>\n",
       "      <td>test_private</td>\n",
       "      <td>7</td>\n",
       "      <td>27678</td>\n",
       "      <td>MkP</td>\n",
       "    </tr>\n",
       "    <tr>\n",
       "      <th>TCATTTGTCAGACCTA-1-('32606', 7)</th>\n",
       "      <td>test_private</td>\n",
       "      <td>7</td>\n",
       "      <td>32606</td>\n",
       "      <td>MkP</td>\n",
       "    </tr>\n",
       "    <tr>\n",
       "      <th>TGCTTCGGTTGGACCC-1-('27678', 7)</th>\n",
       "      <td>test_private</td>\n",
       "      <td>7</td>\n",
       "      <td>27678</td>\n",
       "      <td>MkP</td>\n",
       "    </tr>\n",
       "    <tr>\n",
       "      <th>TCCGGGAGTCTTGCTC-1-('31800', 7)</th>\n",
       "      <td>test_private</td>\n",
       "      <td>7</td>\n",
       "      <td>31800</td>\n",
       "      <td>MkP</td>\n",
       "    </tr>\n",
       "    <tr>\n",
       "      <th>GAAGGGTAGGTCCCGT-1-('13176', 7)</th>\n",
       "      <td>test_private</td>\n",
       "      <td>7</td>\n",
       "      <td>13176</td>\n",
       "      <td>MkP</td>\n",
       "    </tr>\n",
       "    <tr>\n",
       "      <th>CGAAGTTCAGTCGGTC-1-('13176', 7)</th>\n",
       "      <td>test_private</td>\n",
       "      <td>7</td>\n",
       "      <td>13176</td>\n",
       "      <td>MoP</td>\n",
       "    </tr>\n",
       "    <tr>\n",
       "      <th>TTGACCCAGCCTCGTG-1-('32606', 7)</th>\n",
       "      <td>test_private</td>\n",
       "      <td>7</td>\n",
       "      <td>32606</td>\n",
       "      <td>MoP</td>\n",
       "    </tr>\n",
       "    <tr>\n",
       "      <th>CATTCTAGTGATCGTT-1-('31800', 7)</th>\n",
       "      <td>test_private</td>\n",
       "      <td>7</td>\n",
       "      <td>31800</td>\n",
       "      <td>MoP</td>\n",
       "    </tr>\n",
       "    <tr>\n",
       "      <th>CAGAGCCTCTACAGGT-1-('27678', 7)</th>\n",
       "      <td>test_private</td>\n",
       "      <td>7</td>\n",
       "      <td>27678</td>\n",
       "      <td>MoP</td>\n",
       "    </tr>\n",
       "    <tr>\n",
       "      <th>TCTATCAAGAAACTAC-1-('13176', 7)</th>\n",
       "      <td>test_private</td>\n",
       "      <td>7</td>\n",
       "      <td>13176</td>\n",
       "      <td>MoP</td>\n",
       "    </tr>\n",
       "    <tr>\n",
       "      <th>GAGAAATGTAGTACGG-1-('27678', 7)</th>\n",
       "      <td>test_private</td>\n",
       "      <td>7</td>\n",
       "      <td>27678</td>\n",
       "      <td>NeuP</td>\n",
       "    </tr>\n",
       "    <tr>\n",
       "      <th>GTTTGGAGTGGGTTGA-1-('31800', 7)</th>\n",
       "      <td>test_private</td>\n",
       "      <td>7</td>\n",
       "      <td>31800</td>\n",
       "      <td>NeuP</td>\n",
       "    </tr>\n",
       "    <tr>\n",
       "      <th>GTGGAAGTCAGCACCG-1-('32606', 7)</th>\n",
       "      <td>test_private</td>\n",
       "      <td>7</td>\n",
       "      <td>32606</td>\n",
       "      <td>NeuP</td>\n",
       "    </tr>\n",
       "    <tr>\n",
       "      <th>CTTCTCTCAGACAATA-1-('32606', 7)</th>\n",
       "      <td>test_private</td>\n",
       "      <td>7</td>\n",
       "      <td>32606</td>\n",
       "      <td>NeuP</td>\n",
       "    </tr>\n",
       "    <tr>\n",
       "      <th>ACCCTCAAGCATTGAA-1-('31800', 7)</th>\n",
       "      <td>test_private</td>\n",
       "      <td>7</td>\n",
       "      <td>31800</td>\n",
       "      <td>NeuP</td>\n",
       "    </tr>\n",
       "  </tbody>\n",
       "</table>\n",
       "</div>"
      ],
      "text/plain": [
       "                                kaggle_dataset  day  donor cell_type\n",
       "CTCCCTCGTATGAAAC-1-('32606', 7)   test_private    7  32606        BP\n",
       "CATGCAATCGAAATCC-1-('27678', 7)   test_private    7  27678        BP\n",
       "AAGCGAGGTTCATCGA-1-('31800', 7)   test_private    7  31800        BP\n",
       "TTCGCTGAGAAAGTCT-1-('27678', 7)   test_private    7  27678        BP\n",
       "TCCAGAACATCTCATT-1-('31800', 7)   test_private    7  31800        BP\n",
       "GGAGATGTCTGAGAAA-1-('32606', 7)   test_private    7  32606      EryP\n",
       "CTTCCTTCACAAACGG-1-('27678', 7)   test_private    7  27678      EryP\n",
       "ACTATGGTCATGGTAC-1-('27678', 7)   test_private    7  27678      EryP\n",
       "GTGCACGCAACCTATG-1-('13176', 7)   test_private    7  13176      EryP\n",
       "CCTCACACACAAGTGG-1-('27678', 7)   test_private    7  27678      EryP\n",
       "CAATCGACACGGTGTC-1-('13176', 7)   test_private    7  13176       HSC\n",
       "GATCATGCAGTGACCC-1-('31800', 7)   test_private    7  31800       HSC\n",
       "CTAAGTGCAACCCGCA-1-('27678', 7)   test_private    7  27678       HSC\n",
       "ATGACCACAAAGTATG-1-('31800', 7)   test_private    7  31800       HSC\n",
       "AGCGCTGAGCTGCCAC-1-('32606', 7)   test_private    7  32606       HSC\n",
       "TATACCTCAAGCACCC-1-('31800', 7)   test_private    7  31800      MasP\n",
       "TGACGCGGTGCGACAA-1-('27678', 7)   test_private    7  27678      MasP\n",
       "TAAGCACCAATCGCAT-1-('31800', 7)   test_private    7  31800      MasP\n",
       "CGAAGGATCTCAACCC-1-('31800', 7)   test_private    7  31800      MasP\n",
       "TCGCTTGGTCGTTTCC-1-('31800', 7)   test_private    7  31800      MasP\n",
       "AGCGTATCAACAAGTA-1-('27678', 7)   test_private    7  27678       MkP\n",
       "TCATTTGTCAGACCTA-1-('32606', 7)   test_private    7  32606       MkP\n",
       "TGCTTCGGTTGGACCC-1-('27678', 7)   test_private    7  27678       MkP\n",
       "TCCGGGAGTCTTGCTC-1-('31800', 7)   test_private    7  31800       MkP\n",
       "GAAGGGTAGGTCCCGT-1-('13176', 7)   test_private    7  13176       MkP\n",
       "CGAAGTTCAGTCGGTC-1-('13176', 7)   test_private    7  13176       MoP\n",
       "TTGACCCAGCCTCGTG-1-('32606', 7)   test_private    7  32606       MoP\n",
       "CATTCTAGTGATCGTT-1-('31800', 7)   test_private    7  31800       MoP\n",
       "CAGAGCCTCTACAGGT-1-('27678', 7)   test_private    7  27678       MoP\n",
       "TCTATCAAGAAACTAC-1-('13176', 7)   test_private    7  13176       MoP\n",
       "GAGAAATGTAGTACGG-1-('27678', 7)   test_private    7  27678      NeuP\n",
       "GTTTGGAGTGGGTTGA-1-('31800', 7)   test_private    7  31800      NeuP\n",
       "GTGGAAGTCAGCACCG-1-('32606', 7)   test_private    7  32606      NeuP\n",
       "CTTCTCTCAGACAATA-1-('32606', 7)   test_private    7  32606      NeuP\n",
       "ACCCTCAAGCATTGAA-1-('31800', 7)   test_private    7  31800      NeuP"
      ]
     },
     "execution_count": 36,
     "metadata": {},
     "output_type": "execute_result"
    }
   ],
   "source": [
    "private_test_input_sample.obs"
   ]
  },
  {
   "cell_type": "code",
   "execution_count": 38,
   "id": "b865923e",
   "metadata": {},
   "outputs": [],
   "source": [
    "private_test_input_sample.write(\"4.model/pred/private_test_input_sample.h5ad\")"
   ]
  }
 ],
 "metadata": {
  "kernelspec": {
   "display_name": "Python 3 (ipykernel)",
   "language": "python",
   "name": "python3"
  },
  "language_info": {
   "codemirror_mode": {
    "name": "ipython",
    "version": 3
   },
   "file_extension": ".py",
   "mimetype": "text/x-python",
   "name": "python",
   "nbconvert_exporter": "python",
   "pygments_lexer": "ipython3",
   "version": "3.8.10"
  }
 },
 "nbformat": 4,
 "nbformat_minor": 5
}
