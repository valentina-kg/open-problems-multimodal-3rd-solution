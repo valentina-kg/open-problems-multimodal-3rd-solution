{
 "cells": [
  {
   "cell_type": "markdown",
   "id": "1cab362e",
   "metadata": {},
   "source": [
    "1. Get sample data with 212 columns (128 svd + 84 handselected genes)\n",
    "- get 5/50/n samples per cell type: get_samples()\n",
    "- save resulting df: X_test_shap_....h5ad\n",
    "- prepare private test data:\n",
    " - svd\n",
    " - also apply get_samples()\n",
    " - save private_test_input_sample.h5ad"
   ]
  },
  {
   "cell_type": "markdown",
   "id": "65735281",
   "metadata": {},
   "source": [
    " 2. Same steps for sample data with 148 columns (64 svd + 84 handselected genes)"
   ]
  },
  {
   "cell_type": "code",
   "execution_count": 1,
   "id": "7d4295e6",
   "metadata": {},
   "outputs": [],
   "source": [
    "%%capture output\n",
    "!pip install ipywidgets\n",
    "!pip install --upgrade jupyter\n",
    "!pip install IProgress\n",
    "!pip install anndata"
   ]
  },
  {
   "cell_type": "code",
   "execution_count": 2,
   "id": "dee814b7",
   "metadata": {},
   "outputs": [],
   "source": [
    "import numpy as np\n",
    "import pandas as pd\n",
    "import os\n",
    "\n",
    "import pickle\n",
    "\n",
    "import scanpy as sc\n",
    "import anndata as ad\n",
    "import scipy"
   ]
  },
  {
   "cell_type": "markdown",
   "id": "56fc833a",
   "metadata": {},
   "source": [
    "## create samples representing each cell type for public test data - model #16"
   ]
  },
  {
   "cell_type": "markdown",
   "id": "6c9dec68",
   "metadata": {},
   "source": [
    "### add cell_ids and cell_type to train and test data"
   ]
  },
  {
   "cell_type": "markdown",
   "id": "286671cf",
   "metadata": {},
   "source": [
    "cell_type is contained in the metadata. That's why the test data will be annotated with the metadata. Afterwards, it is possible to sample n cells from each cell_type."
   ]
  },
  {
   "cell_type": "code",
   "execution_count": 3,
   "id": "54072872",
   "metadata": {},
   "outputs": [],
   "source": [
    "lrz_path = '/dss/dssfs02/lwp-dss-0001/pn36po/pn36po-dss-0001/di93zoj/'\n",
    "index_path = lrz_path + 'open-problems-multimodal-3rd-solution/input/preprocess/cite/'\n",
    "cite_feature_path = lrz_path + 'open-problems-multimodal-3rd-solution/input/features/cite/'   # '../../../input/features/cite/'\n",
    "\n",
    "private_data_path = lrz_path + 'kaggle/full_data'"
   ]
  },
  {
   "cell_type": "code",
   "execution_count": 4,
   "id": "da0e1d47",
   "metadata": {},
   "outputs": [
    {
     "name": "stdout",
     "output_type": "stream",
     "text": [
      "70988\n",
      "48203\n"
     ]
    }
   ],
   "source": [
    "# train_ids = np.load(index_path + \"train_cite_raw_inputs_idxcol.npz\", allow_pickle=True)\n",
    "# test_ids = np.load(index_path + \"test_cite_raw_inputs_idxcol.npz\", allow_pickle=True)\n",
    "\n",
    "# load saved indices\n",
    "train_index = np.load(index_path + \"train_cite_raw_inputs_idxcol.npz\", allow_pickle=True)[\"index\"]\n",
    "# train_column = np.load(index_path + \"train_cite_raw_inputs_idxcol.npz\", allow_pickle=True)[\"columns\"]  # not used\n",
    "test_index = np.load(index_path + \"test_cite_raw_inputs_idxcol.npz\", allow_pickle=True)[\"index\"]\n",
    "print(len(list(train_index)))\n",
    "print(len(list(test_index)))"
   ]
  },
  {
   "cell_type": "code",
   "execution_count": 5,
   "id": "2ee12c08",
   "metadata": {},
   "outputs": [
    {
     "data": {
      "text/plain": [
       "(41187, 4)"
      ]
     },
     "execution_count": 5,
     "metadata": {},
     "output_type": "execute_result"
    }
   ],
   "source": [
    "# load metadata and filter for cell_id present in test_index\n",
    "metadata = pd.read_csv(lrz_path + 'neurips_competition_data/metadata.csv')\n",
    "metadata_filtered = metadata[metadata['cell_id'].isin(test_index)]\n",
    "metadata_filtered.index=metadata_filtered['cell_id']\n",
    "metadata_filtered = metadata_filtered.drop('cell_id', axis=1)\n",
    "metadata_filtered.shape   # somehow only 41187 matching cell_ids instead of 48203"
   ]
  },
  {
   "cell_type": "code",
   "execution_count": 6,
   "id": "c40c4616",
   "metadata": {},
   "outputs": [
    {
     "name": "stderr",
     "output_type": "stream",
     "text": [
      "/dss/dsshome1/02/di93zoj/.local/lib/python3.8/site-packages/anndata/_core/anndata.py:121: ImplicitModificationWarning: Transforming to str index.\n",
      "  warnings.warn(\"Transforming to str index.\", ImplicitModificationWarning)\n",
      "/dss/dsshome1/02/di93zoj/.local/lib/python3.8/site-packages/anndata/_core/anndata.py:121: ImplicitModificationWarning: Transforming to str index.\n",
      "  warnings.warn(\"Transforming to str index.\", ImplicitModificationWarning)\n"
     ]
    },
    {
     "data": {
      "text/plain": [
       "AnnData object with n_obs × n_vars = 41187 × 212\n",
       "    obs: 'day', 'donor', 'cell_type', 'technology'"
      ]
     },
     "execution_count": 6,
     "metadata": {},
     "output_type": "execute_result"
    }
   ],
   "source": [
    "# X_train_cell_ids and X_test_cell_ids are the train and test sets corresponding to model #16, annotated with cell_ids\n",
    "# X_test_cell_ids is additionally annotated with metadata which stores the cell type\n",
    "\n",
    "X_train_cell_ids = pd.read_pickle(cite_feature_path  + 'X_svd_128.pickle')   # == X_svd_128 in make-features second to last cell == train set for model #16\n",
    "X_train_cell_ids = ad.AnnData(X=X_train_cell_ids)\n",
    "X_train_cell_ids.obs_names = train_index\n",
    "# X_train_cell_ids.to_df().head()\n",
    "\n",
    "# cell type from metadata\n",
    "X_test_cell_ids = pd.read_pickle(cite_feature_path  + 'X_test_svd_128.pickle')   # == test set for model #16\n",
    "X_test_cell_ids = ad.AnnData(X=X_test_cell_ids)\n",
    "X_test_cell_ids.obs_names = test_index\n",
    "X_test_cell_ids = X_test_cell_ids[X_test_cell_ids.obs_names.isin(metadata_filtered.index), :]\n",
    "X_test_cell_ids.obs = metadata_filtered\n",
    "X_test_cell_ids"
   ]
  },
  {
   "cell_type": "code",
   "execution_count": 7,
   "id": "eef5aa0d",
   "metadata": {},
   "outputs": [
    {
     "data": {
      "text/plain": [
       "cell_type\n",
       "HSC     9451\n",
       "MasP    9064\n",
       "EryP    8788\n",
       "NeuP    7719\n",
       "MkP     4844\n",
       "MoP     1215\n",
       "BP       106\n",
       "Name: count, dtype: int64"
      ]
     },
     "execution_count": 7,
     "metadata": {},
     "output_type": "execute_result"
    }
   ],
   "source": [
    "X_test_cell_ids.obs['cell_type'].value_counts()"
   ]
  },
  {
   "cell_type": "markdown",
   "id": "9110ca56",
   "metadata": {},
   "source": [
    "### create dataset of n samples per cell type for SHAP beeswarm plot"
   ]
  },
  {
   "cell_type": "code",
   "execution_count": 8,
   "id": "61254a99",
   "metadata": {},
   "outputs": [],
   "source": [
    "os.chdir('../..')"
   ]
  },
  {
   "cell_type": "code",
   "execution_count": 9,
   "id": "efe37df6",
   "metadata": {},
   "outputs": [],
   "source": [
    "# get_samples() returns a subset of the data which contains samples_per_cell_type samples per cell type\n",
    "def get_samples(samples_per_cell_type, data):\n",
    "    ''' data: AnnData with obs 'cell_type' '''\n",
    "    \n",
    "    unique_types = np.unique(data.obs['cell_type'])\n",
    "\n",
    "    sample_obs = []\n",
    "\n",
    "    # get indices of n samples per cell type\n",
    "    for t in unique_types:\n",
    "        sampled_rows = data[data.obs.cell_type == t].obs.sample(n=samples_per_cell_type, random_state=42)\n",
    "        sample_obs.append(sampled_rows.index) \n",
    "\n",
    "    # select rows in data with matching indices\n",
    "    X_test_shap = data[[elem for index_obj in sample_obs for elem in index_obj.tolist()]]\n",
    "\n",
    "    return X_test_shap\n",
    "\n",
    "X_test_shap = get_samples(50, X_test_cell_ids)"
   ]
  },
  {
   "cell_type": "code",
   "execution_count": 15,
   "id": "db6c4688",
   "metadata": {},
   "outputs": [],
   "source": [
    "# rename imp_ columns to gene ids stored in handselected_84_gene_ids\n",
    "handselected_84_gene_ids = np.loadtxt('2.preprocess_to_feature/cite/handselected_84_gene_ids.txt', dtype=str)"
   ]
  },
  {
   "cell_type": "code",
   "execution_count": 16,
   "id": "3cf833bd",
   "metadata": {},
   "outputs": [
    {
     "name": "stdout",
     "output_type": "stream",
     "text": [
      "(350, 212)\n"
     ]
    },
    {
     "data": {
      "text/html": [
       "<div>\n",
       "<style scoped>\n",
       "    .dataframe tbody tr th:only-of-type {\n",
       "        vertical-align: middle;\n",
       "    }\n",
       "\n",
       "    .dataframe tbody tr th {\n",
       "        vertical-align: top;\n",
       "    }\n",
       "\n",
       "    .dataframe thead th {\n",
       "        text-align: right;\n",
       "    }\n",
       "</style>\n",
       "<table border=\"1\" class=\"dataframe\">\n",
       "  <thead>\n",
       "    <tr style=\"text-align: right;\">\n",
       "      <th></th>\n",
       "      <th>base_svd_0</th>\n",
       "      <th>base_svd_1</th>\n",
       "      <th>base_svd_2</th>\n",
       "      <th>base_svd_3</th>\n",
       "      <th>base_svd_4</th>\n",
       "      <th>base_svd_5</th>\n",
       "      <th>base_svd_6</th>\n",
       "      <th>base_svd_7</th>\n",
       "      <th>base_svd_8</th>\n",
       "      <th>base_svd_9</th>\n",
       "      <th>...</th>\n",
       "      <th>ENSG00000188404_SELL</th>\n",
       "      <th>ENSG00000124570_SERPINB6</th>\n",
       "      <th>ENSG00000235169_SMIM1</th>\n",
       "      <th>ENSG00000095932_SMIM24</th>\n",
       "      <th>ENSG00000137642_SORL1</th>\n",
       "      <th>ENSG00000128040_SPINK2</th>\n",
       "      <th>ENSG00000072274_TFRC</th>\n",
       "      <th>ENSG00000205542_TMSB4X</th>\n",
       "      <th>ENSG00000133112_TPT1</th>\n",
       "      <th>ENSG00000026025_VIM</th>\n",
       "    </tr>\n",
       "    <tr>\n",
       "      <th>cell_id</th>\n",
       "      <th></th>\n",
       "      <th></th>\n",
       "      <th></th>\n",
       "      <th></th>\n",
       "      <th></th>\n",
       "      <th></th>\n",
       "      <th></th>\n",
       "      <th></th>\n",
       "      <th></th>\n",
       "      <th></th>\n",
       "      <th></th>\n",
       "      <th></th>\n",
       "      <th></th>\n",
       "      <th></th>\n",
       "      <th></th>\n",
       "      <th></th>\n",
       "      <th></th>\n",
       "      <th></th>\n",
       "      <th></th>\n",
       "      <th></th>\n",
       "      <th></th>\n",
       "    </tr>\n",
       "  </thead>\n",
       "  <tbody>\n",
       "    <tr>\n",
       "      <th>5cb9daaca7ac</th>\n",
       "      <td>71.003983</td>\n",
       "      <td>13.2008</td>\n",
       "      <td>-6.168917</td>\n",
       "      <td>12.436371</td>\n",
       "      <td>-0.578827</td>\n",
       "      <td>0.227373</td>\n",
       "      <td>1.382157</td>\n",
       "      <td>0.969637</td>\n",
       "      <td>-1.477851</td>\n",
       "      <td>6.248293</td>\n",
       "      <td>...</td>\n",
       "      <td>0.0</td>\n",
       "      <td>0.0</td>\n",
       "      <td>0.0</td>\n",
       "      <td>0.0</td>\n",
       "      <td>0.0</td>\n",
       "      <td>0.947536</td>\n",
       "      <td>0.0</td>\n",
       "      <td>5.313975</td>\n",
       "      <td>4.545222</td>\n",
       "      <td>3.069516</td>\n",
       "    </tr>\n",
       "  </tbody>\n",
       "</table>\n",
       "<p>1 rows × 212 columns</p>\n",
       "</div>"
      ],
      "text/plain": [
       "              base_svd_0  base_svd_1  base_svd_2  base_svd_3  base_svd_4  \\\n",
       "cell_id                                                                    \n",
       "5cb9daaca7ac   71.003983     13.2008   -6.168917   12.436371   -0.578827   \n",
       "\n",
       "              base_svd_5  base_svd_6  base_svd_7  base_svd_8  base_svd_9  ...  \\\n",
       "cell_id                                                                   ...   \n",
       "5cb9daaca7ac    0.227373    1.382157    0.969637   -1.477851    6.248293  ...   \n",
       "\n",
       "              ENSG00000188404_SELL  ENSG00000124570_SERPINB6  \\\n",
       "cell_id                                                        \n",
       "5cb9daaca7ac                   0.0                       0.0   \n",
       "\n",
       "              ENSG00000235169_SMIM1  ENSG00000095932_SMIM24  \\\n",
       "cell_id                                                       \n",
       "5cb9daaca7ac                    0.0                     0.0   \n",
       "\n",
       "              ENSG00000137642_SORL1  ENSG00000128040_SPINK2  \\\n",
       "cell_id                                                       \n",
       "5cb9daaca7ac                    0.0                0.947536   \n",
       "\n",
       "              ENSG00000072274_TFRC  ENSG00000205542_TMSB4X  \\\n",
       "cell_id                                                      \n",
       "5cb9daaca7ac                   0.0                5.313975   \n",
       "\n",
       "              ENSG00000133112_TPT1  ENSG00000026025_VIM  \n",
       "cell_id                                                  \n",
       "5cb9daaca7ac              4.545222             3.069516  \n",
       "\n",
       "[1 rows x 212 columns]"
      ]
     },
     "execution_count": 16,
     "metadata": {},
     "output_type": "execute_result"
    }
   ],
   "source": [
    "# X_test_shap currently has base_svd and imp columns -> rename imp (handselected genes)\n",
    "X_test_shap.var_names = X_test_shap.var_names[:-84].tolist() + handselected_84_gene_ids.tolist()\n",
    "print(X_test_shap.shape)\n",
    "X_test_shap.to_df().head(1)"
   ]
  },
  {
   "cell_type": "code",
   "execution_count": 17,
   "id": "2634e631",
   "metadata": {},
   "outputs": [],
   "source": [
    "X_test_shap.write(\"4.model/pred/X_test_shap_16_50_samples.h5ad\")"
   ]
  },
  {
   "cell_type": "markdown",
   "id": "b5e18e5f",
   "metadata": {},
   "source": [
    "## create samples representing each cell type for public test data - model #17"
   ]
  },
  {
   "cell_type": "code",
   "execution_count": 18,
   "id": "52b2dd3f",
   "metadata": {},
   "outputs": [
    {
     "name": "stderr",
     "output_type": "stream",
     "text": [
      "/dss/dsshome1/02/di93zoj/.local/lib/python3.8/site-packages/anndata/_core/anndata.py:121: ImplicitModificationWarning: Transforming to str index.\n",
      "  warnings.warn(\"Transforming to str index.\", ImplicitModificationWarning)\n",
      "/dss/dsshome1/02/di93zoj/.local/lib/python3.8/site-packages/anndata/_core/anndata.py:121: ImplicitModificationWarning: Transforming to str index.\n",
      "  warnings.warn(\"Transforming to str index.\", ImplicitModificationWarning)\n"
     ]
    },
    {
     "data": {
      "text/plain": [
       "AnnData object with n_obs × n_vars = 41187 × 148\n",
       "    obs: 'day', 'donor', 'cell_type', 'technology'"
      ]
     },
     "execution_count": 18,
     "metadata": {},
     "output_type": "execute_result"
    }
   ],
   "source": [
    "# X_train_cell_ids and X_test_cell_ids are the train and test sets corresponding to model #17, annotated with cell_ids\n",
    "# X_test_cell_ids is additionally annotated with metadata which stores the cell type\n",
    "\n",
    "X_train_cell_ids = pd.read_pickle(cite_feature_path  + 'X_svd_64.pickle')   # == X_svd_64 in make-features second to last cell == train set for model #17\n",
    "X_train_cell_ids = ad.AnnData(X=X_train_cell_ids)\n",
    "X_train_cell_ids.obs_names = train_index\n",
    "\n",
    "# cell type from metadata\n",
    "X_test_cell_ids = pd.read_pickle(cite_feature_path  + 'X_test_svd_64.pickle')   # == test set for model #17\n",
    "X_test_cell_ids = ad.AnnData(X=X_test_cell_ids)\n",
    "X_test_cell_ids.obs_names = test_index\n",
    "X_test_cell_ids = X_test_cell_ids[X_test_cell_ids.obs_names.isin(metadata_filtered.index), :]\n",
    "X_test_cell_ids.obs = metadata_filtered\n",
    "X_test_cell_ids"
   ]
  },
  {
   "cell_type": "code",
   "execution_count": 19,
   "id": "fbc3b782",
   "metadata": {},
   "outputs": [],
   "source": [
    "# use same sampled rows from model 16 (X_test_shap) for model 17:\n",
    "X_test_shap_17 = X_test_cell_ids[X_test_shap.obs_names]   \n",
    "\n",
    "# rename imp_ columns to gene ids stored in handselected_84_gene_ids\n",
    "X_test_shap_17.var_names = X_test_shap_17.var_names[:-84].tolist() + handselected_84_gene_ids.tolist()"
   ]
  },
  {
   "cell_type": "code",
   "execution_count": 20,
   "id": "ae929ca9",
   "metadata": {},
   "outputs": [],
   "source": [
    "X_test_shap_17.write(\"4.model/pred/X_test_shap_17_50_samples.h5ad\")"
   ]
  },
  {
   "cell_type": "markdown",
   "id": "e9c6345c",
   "metadata": {},
   "source": [
    "## create samples representing each cell type for private test data\n",
    "In this case, also need to apply SVD transform.\\\n",
    "First: 128 svd components -> use resulting sample dataset together with model #16."
   ]
  },
  {
   "cell_type": "code",
   "execution_count": 10,
   "id": "4774b3a4",
   "metadata": {},
   "outputs": [
    {
     "data": {
      "text/plain": [
       "(119191, 4)"
      ]
     },
     "execution_count": 10,
     "metadata": {},
     "output_type": "execute_result"
    }
   ],
   "source": [
    "metadata = pd.read_pickle(private_data_path + '/20220830_citeseq_metadata_cells.pkl')\n",
    "metadata.shape"
   ]
  },
  {
   "cell_type": "code",
   "execution_count": 11,
   "id": "1d258894",
   "metadata": {},
   "outputs": [
    {
     "data": {
      "text/plain": [
       "(70988, 22085)"
      ]
     },
     "execution_count": 11,
     "metadata": {},
     "output_type": "execute_result"
    }
   ],
   "source": [
    "private_train_input = pd.read_pickle(private_data_path + '/20220830_citeseq_rna_count_train.pkl')\n",
    "private_train_input.shape"
   ]
  },
  {
   "cell_type": "code",
   "execution_count": 12,
   "id": "d92cb2cf",
   "metadata": {},
   "outputs": [
    {
     "data": {
      "text/plain": [
       "(26867, 22085)"
      ]
     },
     "execution_count": 12,
     "metadata": {},
     "output_type": "execute_result"
    }
   ],
   "source": [
    "private_test_input = pd.read_pickle(private_data_path + '/20220830_citeseq_rna_count_test_input_private.pkl') # already has gene names (ordered alphabetically)\n",
    "private_test_input.shape"
   ]
  },
  {
   "cell_type": "code",
   "execution_count": 13,
   "id": "175f59f8",
   "metadata": {},
   "outputs": [
    {
     "data": {
      "text/plain": [
       "(26867, 140)"
      ]
     },
     "execution_count": 13,
     "metadata": {},
     "output_type": "execute_result"
    }
   ],
   "source": [
    "private_test_target = pd.read_pickle(private_data_path + '/20220830_citeseq_prot_count_test_labels_private.pkl')\n",
    "private_test_target.shape"
   ]
  },
  {
   "cell_type": "code",
   "execution_count": 14,
   "id": "46d4fed1",
   "metadata": {},
   "outputs": [
    {
     "data": {
      "text/html": [
       "<div>\n",
       "<style scoped>\n",
       "    .dataframe tbody tr th:only-of-type {\n",
       "        vertical-align: middle;\n",
       "    }\n",
       "\n",
       "    .dataframe tbody tr th {\n",
       "        vertical-align: top;\n",
       "    }\n",
       "\n",
       "    .dataframe thead th {\n",
       "        text-align: right;\n",
       "    }\n",
       "</style>\n",
       "<table border=\"1\" class=\"dataframe\">\n",
       "  <thead>\n",
       "    <tr style=\"text-align: right;\">\n",
       "      <th></th>\n",
       "      <th>kaggle_dataset</th>\n",
       "      <th>day</th>\n",
       "      <th>donor</th>\n",
       "      <th>cell_type</th>\n",
       "    </tr>\n",
       "  </thead>\n",
       "  <tbody>\n",
       "    <tr>\n",
       "      <th>CATAAGCAGCATGATA-1-('27678', 7)</th>\n",
       "      <td>test_private</td>\n",
       "      <td>7</td>\n",
       "      <td>27678</td>\n",
       "      <td>MasP</td>\n",
       "    </tr>\n",
       "    <tr>\n",
       "      <th>GGTGATTGTATGAAAC-1-('27678', 7)</th>\n",
       "      <td>test_private</td>\n",
       "      <td>7</td>\n",
       "      <td>27678</td>\n",
       "      <td>HSC</td>\n",
       "    </tr>\n",
       "    <tr>\n",
       "      <th>ATAGGCTAGCTCTGTA-1-('27678', 7)</th>\n",
       "      <td>test_private</td>\n",
       "      <td>7</td>\n",
       "      <td>27678</td>\n",
       "      <td>MasP</td>\n",
       "    </tr>\n",
       "    <tr>\n",
       "      <th>TCATGAGGTGGATTTC-1-('27678', 7)</th>\n",
       "      <td>test_private</td>\n",
       "      <td>7</td>\n",
       "      <td>27678</td>\n",
       "      <td>MasP</td>\n",
       "    </tr>\n",
       "    <tr>\n",
       "      <th>TAAGCGTTCGGCTGGT-1-('27678', 7)</th>\n",
       "      <td>test_private</td>\n",
       "      <td>7</td>\n",
       "      <td>27678</td>\n",
       "      <td>HSC</td>\n",
       "    </tr>\n",
       "  </tbody>\n",
       "</table>\n",
       "</div>"
      ],
      "text/plain": [
       "                                kaggle_dataset  day  donor cell_type\n",
       "CATAAGCAGCATGATA-1-('27678', 7)   test_private    7  27678      MasP\n",
       "GGTGATTGTATGAAAC-1-('27678', 7)   test_private    7  27678       HSC\n",
       "ATAGGCTAGCTCTGTA-1-('27678', 7)   test_private    7  27678      MasP\n",
       "TCATGAGGTGGATTTC-1-('27678', 7)   test_private    7  27678      MasP\n",
       "TAAGCGTTCGGCTGGT-1-('27678', 7)   test_private    7  27678       HSC"
      ]
     },
     "execution_count": 14,
     "metadata": {},
     "output_type": "execute_result"
    }
   ],
   "source": [
    "# filter metadata to get matching cells  -> then use as observation to annotate data with cell_type\n",
    "metadata_filtered = metadata[metadata.index.isin(private_test_input.index)]\n",
    "metadata_filtered.head()"
   ]
  },
  {
   "cell_type": "code",
   "execution_count": 15,
   "id": "bc2a1569",
   "metadata": {},
   "outputs": [
    {
     "data": {
      "text/plain": [
       "AnnData object with n_obs × n_vars = 26867 × 22085\n",
       "    obs: 'kaggle_dataset', 'day', 'donor', 'cell_type'"
      ]
     },
     "execution_count": 15,
     "metadata": {},
     "output_type": "execute_result"
    }
   ],
   "source": [
    "private_test_input = ad.AnnData(private_test_input, obs=metadata_filtered)\n",
    "private_test_target = ad.AnnData(private_test_target, obs=metadata_filtered)\n",
    "private_test_input"
   ]
  },
  {
   "cell_type": "code",
   "execution_count": 27,
   "id": "02a2ef23",
   "metadata": {},
   "outputs": [],
   "source": [
    "private_test_input.write(lrz_path + \"/large_preprocessed_files/private_test_input.h5ad\")\n",
    "private_test_target.write(lrz_path + \"/large_preprocessed_files/private_test_target.h5ad\")"
   ]
  },
  {
   "cell_type": "markdown",
   "id": "47e5285d",
   "metadata": {},
   "source": [
    "### preprocess input data - similar to make-base-feature.py from codebase"
   ]
  },
  {
   "cell_type": "code",
   "execution_count": 23,
   "id": "3653531f",
   "metadata": {},
   "outputs": [],
   "source": [
    "# all_genes = np.loadtxt('2.preprocess_to_feature/cite/all_genes_names.txt', dtype=str)  # not used\n",
    "# all_genes   # 22001 genes sorted alphabetically"
   ]
  },
  {
   "cell_type": "code",
   "execution_count": 16,
   "id": "11a223fb",
   "metadata": {},
   "outputs": [
    {
     "data": {
      "text/plain": [
       "array([ 3290.,  4010.,  4743.,  4841.,  5172.,  5260.,  5619.,  5632.,\n",
       "        5939.,  6120.,  6699.,  6704.,  6705.,  6710.,  6713.,  6714.,\n",
       "        6716.,  6720.,  6733.,  6734.,  6735.,  6737.,  6741.,  6744.,\n",
       "        6749.,  6750.,  6756.,  6759.,  6761.,  6762.,  6763.,  6768.,\n",
       "        6771.,  6774.,  6777.,  7292.,  7338.,  7616.,  7688.,  7772.,\n",
       "        8238.,  8747.,  9331.,  9602.,  9908.,  9948., 10500., 10588.,\n",
       "       10589., 10602., 10603., 10606., 10732., 10904., 10937., 10956.,\n",
       "       11309., 11398., 11597., 11662., 13011., 13390., 13801., 14785.,\n",
       "       15124., 15266., 15571., 16503., 17087., 17138., 17323., 17339.,\n",
       "       17512., 17514., 17750., 17826., 18436., 18449., 18660., 18762.,\n",
       "       19495., 19923., 20095., 20883.])"
      ]
     },
     "execution_count": 16,
     "metadata": {},
     "output_type": "execute_result"
    }
   ],
   "source": [
    "# indices of 84 handselected genes\n",
    "use_imp_cols_84 = np.loadtxt('2.preprocess_to_feature/cite/use_imp_cols_84.txt')\n",
    "use_imp_cols_84"
   ]
  },
  {
   "cell_type": "code",
   "execution_count": 17,
   "id": "029e9a5a",
   "metadata": {},
   "outputs": [
    {
     "data": {
      "text/plain": [
       "22001"
      ]
     },
     "execution_count": 17,
     "metadata": {},
     "output_type": "execute_result"
    }
   ],
   "source": [
    "# indices of other 22001 genes\n",
    "use_cols_84 = np.loadtxt('2.preprocess_to_feature/cite/use_cols_84.txt')\n",
    "len(use_cols_84)"
   ]
  },
  {
   "cell_type": "code",
   "execution_count": 18,
   "id": "7850c504",
   "metadata": {},
   "outputs": [
    {
     "data": {
      "text/plain": [
       "(97855, 22085)"
      ]
     },
     "execution_count": 18,
     "metadata": {},
     "output_type": "execute_result"
    }
   ],
   "source": [
    "# combine private train and test data to apply svd jointly\n",
    "all_inputs = scipy.sparse.vstack([private_train_input.to_numpy(), private_test_input.X]).tocsr()\n",
    "all_inputs.shape"
   ]
  },
  {
   "cell_type": "code",
   "execution_count": 40,
   "id": "2ab7e95b",
   "metadata": {},
   "outputs": [],
   "source": [
    "# normalize, log, svd (fitted in codebase) applied on 22001 columns of the data\n",
    "\n",
    "df_use = all_inputs[:, use_cols_84]\n",
    "# df_use = private_test_input_raw[:, use_cols_84]  # _raw\n",
    "#print(df_use.X)\n",
    "\n",
    "sc.pp.normalize_per_cell(df_use, copy=True)\n",
    "sc.pp.log1p(df_use)\n",
    "\n",
    "with open('2.preprocess_to_feature/cite/svd_model_fitted_128.pkl', 'rb') as file:\n",
    "    svd = pickle.load(file)\n",
    "    \n",
    "result_svd = svd.transform(df_use)\n",
    "\n",
    "train_cite_pp = pd.DataFrame(result_svd[:private_train_input.shape[0]], index = private_train_input.index)   # has cell_ids\n",
    "test_cite_pp = pd.DataFrame(result_svd[private_train_input.shape[0]:], index = private_test_input.obs_names)     # has cell_ids   # _raw\n",
    "\n",
    "# important protein cols ---------------------------------------------------------------------\n",
    "# normalize, log applied on 84 handselected columns of the data\n",
    "df_important = all_inputs[:, use_imp_cols_84]   # _raw\n",
    "df_important = sc.AnnData(X = df_important)\n",
    "sc.pp.normalize_per_cell(df_important)\n",
    "sc.pp.log1p(df_important)\n",
    "\n",
    "train_imp = pd.DataFrame(df_important.X[:private_train_input.shape[0]].toarray(), index = private_train_input.index).add_prefix('imp_')\n",
    "test_imp = pd.DataFrame(df_important.X[private_train_input.shape[0]:].toarray(), index = private_test_input.obs_names).add_prefix('imp_')   # _raw"
   ]
  },
  {
   "cell_type": "code",
   "execution_count": 41,
   "id": "87fc1d95",
   "metadata": {},
   "outputs": [
    {
     "data": {
      "text/plain": [
       "(26867, 128)"
      ]
     },
     "execution_count": 41,
     "metadata": {},
     "output_type": "execute_result"
    }
   ],
   "source": [
    "train_cite_pp = train_cite_pp.add_prefix('base_svd_')\n",
    "test_cite_pp = test_cite_pp.add_prefix('base_svd_')\n",
    "test_cite_pp.shape"
   ]
  },
  {
   "cell_type": "code",
   "execution_count": 42,
   "id": "307e48b6",
   "metadata": {
    "scrolled": true
   },
   "outputs": [
    {
     "data": {
      "text/plain": [
       "(26867, 84)"
      ]
     },
     "execution_count": 42,
     "metadata": {},
     "output_type": "execute_result"
    }
   ],
   "source": [
    "test_imp.shape"
   ]
  },
  {
   "cell_type": "markdown",
   "id": "88851753",
   "metadata": {},
   "source": [
    "### preprocess input data - similar to make-features.py from codebase"
   ]
  },
  {
   "cell_type": "code",
   "execution_count": 43,
   "id": "70e66a65",
   "metadata": {},
   "outputs": [
    {
     "data": {
      "text/html": [
       "<div>\n",
       "<style scoped>\n",
       "    .dataframe tbody tr th:only-of-type {\n",
       "        vertical-align: middle;\n",
       "    }\n",
       "\n",
       "    .dataframe tbody tr th {\n",
       "        vertical-align: top;\n",
       "    }\n",
       "\n",
       "    .dataframe thead th {\n",
       "        text-align: right;\n",
       "    }\n",
       "</style>\n",
       "<table border=\"1\" class=\"dataframe\">\n",
       "  <thead>\n",
       "    <tr style=\"text-align: right;\">\n",
       "      <th></th>\n",
       "      <th>base_svd_0</th>\n",
       "      <th>base_svd_1</th>\n",
       "      <th>base_svd_2</th>\n",
       "      <th>base_svd_3</th>\n",
       "      <th>base_svd_4</th>\n",
       "      <th>base_svd_5</th>\n",
       "      <th>base_svd_6</th>\n",
       "      <th>base_svd_7</th>\n",
       "      <th>base_svd_8</th>\n",
       "      <th>base_svd_9</th>\n",
       "      <th>...</th>\n",
       "      <th>imp_74</th>\n",
       "      <th>imp_75</th>\n",
       "      <th>imp_76</th>\n",
       "      <th>imp_77</th>\n",
       "      <th>imp_78</th>\n",
       "      <th>imp_79</th>\n",
       "      <th>imp_80</th>\n",
       "      <th>imp_81</th>\n",
       "      <th>imp_82</th>\n",
       "      <th>imp_83</th>\n",
       "    </tr>\n",
       "  </thead>\n",
       "  <tbody>\n",
       "    <tr>\n",
       "      <th>0</th>\n",
       "      <td>78.589668</td>\n",
       "      <td>8.756832</td>\n",
       "      <td>29.644707</td>\n",
       "      <td>-4.698128</td>\n",
       "      <td>-2.073666</td>\n",
       "      <td>-9.323292</td>\n",
       "      <td>-6.305599</td>\n",
       "      <td>2.682963</td>\n",
       "      <td>-2.614930</td>\n",
       "      <td>5.461427</td>\n",
       "      <td>...</td>\n",
       "      <td>1.715979</td>\n",
       "      <td>1.715979</td>\n",
       "      <td>0.0</td>\n",
       "      <td>0.000000</td>\n",
       "      <td>1.590178</td>\n",
       "      <td>0.00000</td>\n",
       "      <td>1.715979</td>\n",
       "      <td>2.275457</td>\n",
       "      <td>2.260236</td>\n",
       "      <td>2.199701</td>\n",
       "    </tr>\n",
       "    <tr>\n",
       "      <th>1</th>\n",
       "      <td>81.775703</td>\n",
       "      <td>-4.406732</td>\n",
       "      <td>9.736597</td>\n",
       "      <td>-12.135580</td>\n",
       "      <td>5.873678</td>\n",
       "      <td>-10.958516</td>\n",
       "      <td>3.955266</td>\n",
       "      <td>-4.741723</td>\n",
       "      <td>1.645253</td>\n",
       "      <td>4.144031</td>\n",
       "      <td>...</td>\n",
       "      <td>1.672662</td>\n",
       "      <td>1.851859</td>\n",
       "      <td>0.0</td>\n",
       "      <td>1.851859</td>\n",
       "      <td>1.824180</td>\n",
       "      <td>1.82418</td>\n",
       "      <td>1.541757</td>\n",
       "      <td>2.059803</td>\n",
       "      <td>2.233138</td>\n",
       "      <td>2.059803</td>\n",
       "    </tr>\n",
       "    <tr>\n",
       "      <th>2</th>\n",
       "      <td>49.658005</td>\n",
       "      <td>19.822294</td>\n",
       "      <td>13.084510</td>\n",
       "      <td>-3.894362</td>\n",
       "      <td>5.864494</td>\n",
       "      <td>-2.685749</td>\n",
       "      <td>-1.049638</td>\n",
       "      <td>-6.572547</td>\n",
       "      <td>-5.336941</td>\n",
       "      <td>1.771537</td>\n",
       "      <td>...</td>\n",
       "      <td>2.032617</td>\n",
       "      <td>2.032617</td>\n",
       "      <td>0.0</td>\n",
       "      <td>0.000000</td>\n",
       "      <td>0.000000</td>\n",
       "      <td>0.00000</td>\n",
       "      <td>0.000000</td>\n",
       "      <td>2.402486</td>\n",
       "      <td>2.508790</td>\n",
       "      <td>2.355022</td>\n",
       "    </tr>\n",
       "  </tbody>\n",
       "</table>\n",
       "<p>3 rows × 212 columns</p>\n",
       "</div>"
      ],
      "text/plain": [
       "   base_svd_0  base_svd_1  base_svd_2  base_svd_3  base_svd_4  base_svd_5  \\\n",
       "0   78.589668    8.756832   29.644707   -4.698128   -2.073666   -9.323292   \n",
       "1   81.775703   -4.406732    9.736597  -12.135580    5.873678  -10.958516   \n",
       "2   49.658005   19.822294   13.084510   -3.894362    5.864494   -2.685749   \n",
       "\n",
       "   base_svd_6  base_svd_7  base_svd_8  base_svd_9  ...    imp_74    imp_75  \\\n",
       "0   -6.305599    2.682963   -2.614930    5.461427  ...  1.715979  1.715979   \n",
       "1    3.955266   -4.741723    1.645253    4.144031  ...  1.672662  1.851859   \n",
       "2   -1.049638   -6.572547   -5.336941    1.771537  ...  2.032617  2.032617   \n",
       "\n",
       "   imp_76    imp_77    imp_78   imp_79    imp_80    imp_81    imp_82    imp_83  \n",
       "0     0.0  0.000000  1.590178  0.00000  1.715979  2.275457  2.260236  2.199701  \n",
       "1     0.0  1.851859  1.824180  1.82418  1.541757  2.059803  2.233138  2.059803  \n",
       "2     0.0  0.000000  0.000000  0.00000  0.000000  2.402486  2.508790  2.355022  \n",
       "\n",
       "[3 rows x 212 columns]"
      ]
     },
     "execution_count": 43,
     "metadata": {},
     "output_type": "execute_result"
    }
   ],
   "source": [
    "# concatenate all 128+84 columns\n",
    "X_train_svd_128 = pd.concat([train_cite_pp.reset_index(drop=True), \n",
    "                            train_imp.reset_index(drop=True),\n",
    "                           ], axis = 1)\n",
    "\n",
    "X_test_svd_128 = pd.concat([test_cite_pp.reset_index(drop=True), \n",
    "                            test_imp.reset_index(drop=True),\n",
    "                           ], axis = 1)\n",
    "X_test_svd_128.head(3)   # final X_test"
   ]
  },
  {
   "cell_type": "code",
   "execution_count": 45,
   "id": "f9c8442d",
   "metadata": {},
   "outputs": [],
   "source": [
    "# save prepared private X_train\n",
    "with open('4.model/pred/private_X_train_svd_128.pkl', 'wb') as f:   # _raw\n",
    "    pickle.dump(X_train_svd_128, f)"
   ]
  },
  {
   "cell_type": "code",
   "execution_count": 46,
   "id": "78f4dc77",
   "metadata": {},
   "outputs": [],
   "source": [
    "# save prepared private X_test \n",
    "with open('4.model/pred/private_X_test_svd_128.pkl', 'wb') as f:   # _raw\n",
    "    pickle.dump(X_test_svd_128, f)"
   ]
  },
  {
   "cell_type": "markdown",
   "id": "cfc6d22e",
   "metadata": {},
   "source": [
    "### sample equally distributed cell types in train data"
   ]
  },
  {
   "cell_type": "code",
   "execution_count": 37,
   "id": "7ed2f279",
   "metadata": {},
   "outputs": [
    {
     "data": {
      "text/plain": [
       "cell_type\n",
       "HSC     29879\n",
       "EryP    14241\n",
       "NeuP    12493\n",
       "MasP     8242\n",
       "MkP      5382\n",
       "MoP       591\n",
       "BP        160\n",
       "Name: count, dtype: int64"
      ]
     },
     "execution_count": 37,
     "metadata": {},
     "output_type": "execute_result"
    }
   ],
   "source": [
    "# sample same cell type distribution from X_train to compute median on and use for shap explainer\n",
    "metadata_filtered = metadata[metadata.index.isin(private_train_input.index)]\n",
    "private_train_input = ad.AnnData(private_train_input, obs=metadata_filtered)\n",
    "private_train_input.obs['cell_type'].value_counts()"
   ]
  },
  {
   "cell_type": "code",
   "execution_count": 38,
   "id": "402ca44a",
   "metadata": {},
   "outputs": [],
   "source": [
    "# Create numbered ID column\n",
    "num_ids = list(range(0, len(private_train_input.obs)))\n",
    "# Add the numbered ID column to the AnnData object\n",
    "private_train_input.obs['ID'] = num_ids"
   ]
  },
  {
   "cell_type": "code",
   "execution_count": 39,
   "id": "d99c1742",
   "metadata": {},
   "outputs": [
    {
     "data": {
      "text/plain": [
       "View of AnnData object with n_obs × n_vars = 1120 × 22085\n",
       "    obs: 'kaggle_dataset', 'day', 'donor', 'cell_type', 'ID'"
      ]
     },
     "execution_count": 39,
     "metadata": {},
     "output_type": "execute_result"
    }
   ],
   "source": [
    "# 160 = highest number of rows per cell type possible to have uniform distribution\n",
    "private_train_input_sample_max = get_samples(160, private_train_input)\n",
    "private_train_input_sample_max"
   ]
  },
  {
   "cell_type": "code",
   "execution_count": 40,
   "id": "da6f4837",
   "metadata": {},
   "outputs": [
    {
     "name": "stderr",
     "output_type": "stream",
     "text": [
      "/dss/dsshome1/02/di93zoj/.local/lib/python3.8/site-packages/anndata/_core/anndata.py:1235: ImplicitModificationWarning: Trying to modify attribute `.obs` of view, initializing view as actual.\n",
      "  df[key] = c\n",
      "/dss/dsshome1/02/di93zoj/.local/lib/python3.8/site-packages/anndata/_core/anndata.py:1235: ImplicitModificationWarning: Trying to modify attribute `.obs` of view, initializing view as actual.\n",
      "  df[key] = c\n",
      "/dss/dsshome1/02/di93zoj/.local/lib/python3.8/site-packages/anndata/_core/anndata.py:1235: ImplicitModificationWarning: Trying to modify attribute `.obs` of view, initializing view as actual.\n",
      "  df[key] = c\n"
     ]
    }
   ],
   "source": [
    "private_train_input_sample_max.write(\"4.model/pred/private_train_input_max_samples.h5ad\")"
   ]
  },
  {
   "cell_type": "markdown",
   "id": "d808bead",
   "metadata": {},
   "source": [
    "### get sample per cell type for SHAP"
   ]
  },
  {
   "cell_type": "code",
   "execution_count": 47,
   "id": "ee419c11",
   "metadata": {},
   "outputs": [
    {
     "data": {
      "text/plain": [
       "AnnData object with n_obs × n_vars = 26867 × 212\n",
       "    obs: 'kaggle_dataset', 'day', 'donor', 'cell_type'"
      ]
     },
     "execution_count": 47,
     "metadata": {},
     "output_type": "execute_result"
    }
   ],
   "source": [
    "X_test_svd_128_ann = ad.AnnData(X=X_test_svd_128, obs=metadata_filtered)\n",
    "X_test_svd_128_ann"
   ]
  },
  {
   "cell_type": "code",
   "execution_count": 65,
   "id": "af510a17",
   "metadata": {},
   "outputs": [],
   "source": [
    "private_test_input_sample = get_samples(50, X_test_svd_128_ann)"
   ]
  },
  {
   "cell_type": "code",
   "execution_count": 66,
   "id": "9e026c56",
   "metadata": {},
   "outputs": [
    {
     "data": {
      "text/html": [
       "<div>\n",
       "<style scoped>\n",
       "    .dataframe tbody tr th:only-of-type {\n",
       "        vertical-align: middle;\n",
       "    }\n",
       "\n",
       "    .dataframe tbody tr th {\n",
       "        vertical-align: top;\n",
       "    }\n",
       "\n",
       "    .dataframe thead th {\n",
       "        text-align: right;\n",
       "    }\n",
       "</style>\n",
       "<table border=\"1\" class=\"dataframe\">\n",
       "  <thead>\n",
       "    <tr style=\"text-align: right;\">\n",
       "      <th></th>\n",
       "      <th>kaggle_dataset</th>\n",
       "      <th>day</th>\n",
       "      <th>donor</th>\n",
       "      <th>cell_type</th>\n",
       "    </tr>\n",
       "  </thead>\n",
       "  <tbody>\n",
       "    <tr>\n",
       "      <th>CTCCCTCGTATGAAAC-1-('32606', 7)</th>\n",
       "      <td>test_private</td>\n",
       "      <td>7</td>\n",
       "      <td>32606</td>\n",
       "      <td>BP</td>\n",
       "    </tr>\n",
       "    <tr>\n",
       "      <th>CATGCAATCGAAATCC-1-('27678', 7)</th>\n",
       "      <td>test_private</td>\n",
       "      <td>7</td>\n",
       "      <td>27678</td>\n",
       "      <td>BP</td>\n",
       "    </tr>\n",
       "    <tr>\n",
       "      <th>AAGCGAGGTTCATCGA-1-('31800', 7)</th>\n",
       "      <td>test_private</td>\n",
       "      <td>7</td>\n",
       "      <td>31800</td>\n",
       "      <td>BP</td>\n",
       "    </tr>\n",
       "    <tr>\n",
       "      <th>TTCGCTGAGAAAGTCT-1-('27678', 7)</th>\n",
       "      <td>test_private</td>\n",
       "      <td>7</td>\n",
       "      <td>27678</td>\n",
       "      <td>BP</td>\n",
       "    </tr>\n",
       "    <tr>\n",
       "      <th>TCCAGAACATCTCATT-1-('31800', 7)</th>\n",
       "      <td>test_private</td>\n",
       "      <td>7</td>\n",
       "      <td>31800</td>\n",
       "      <td>BP</td>\n",
       "    </tr>\n",
       "    <tr>\n",
       "      <th>...</th>\n",
       "      <td>...</td>\n",
       "      <td>...</td>\n",
       "      <td>...</td>\n",
       "      <td>...</td>\n",
       "    </tr>\n",
       "    <tr>\n",
       "      <th>CAGAGCCGTACCGGAA-1-('32606', 7)</th>\n",
       "      <td>test_private</td>\n",
       "      <td>7</td>\n",
       "      <td>32606</td>\n",
       "      <td>NeuP</td>\n",
       "    </tr>\n",
       "    <tr>\n",
       "      <th>TTGGGTAGTTACCTTT-1-('31800', 7)</th>\n",
       "      <td>test_private</td>\n",
       "      <td>7</td>\n",
       "      <td>31800</td>\n",
       "      <td>NeuP</td>\n",
       "    </tr>\n",
       "    <tr>\n",
       "      <th>AGACAGGCATGCTGCG-1-('13176', 7)</th>\n",
       "      <td>test_private</td>\n",
       "      <td>7</td>\n",
       "      <td>13176</td>\n",
       "      <td>NeuP</td>\n",
       "    </tr>\n",
       "    <tr>\n",
       "      <th>CGAGGAATCGCGAAGA-1-('32606', 7)</th>\n",
       "      <td>test_private</td>\n",
       "      <td>7</td>\n",
       "      <td>32606</td>\n",
       "      <td>NeuP</td>\n",
       "    </tr>\n",
       "    <tr>\n",
       "      <th>TTCCTCTTCATGGAGG-1-('32606', 7)</th>\n",
       "      <td>test_private</td>\n",
       "      <td>7</td>\n",
       "      <td>32606</td>\n",
       "      <td>NeuP</td>\n",
       "    </tr>\n",
       "  </tbody>\n",
       "</table>\n",
       "<p>350 rows × 4 columns</p>\n",
       "</div>"
      ],
      "text/plain": [
       "                                kaggle_dataset  day  donor cell_type\n",
       "CTCCCTCGTATGAAAC-1-('32606', 7)   test_private    7  32606        BP\n",
       "CATGCAATCGAAATCC-1-('27678', 7)   test_private    7  27678        BP\n",
       "AAGCGAGGTTCATCGA-1-('31800', 7)   test_private    7  31800        BP\n",
       "TTCGCTGAGAAAGTCT-1-('27678', 7)   test_private    7  27678        BP\n",
       "TCCAGAACATCTCATT-1-('31800', 7)   test_private    7  31800        BP\n",
       "...                                        ...  ...    ...       ...\n",
       "CAGAGCCGTACCGGAA-1-('32606', 7)   test_private    7  32606      NeuP\n",
       "TTGGGTAGTTACCTTT-1-('31800', 7)   test_private    7  31800      NeuP\n",
       "AGACAGGCATGCTGCG-1-('13176', 7)   test_private    7  13176      NeuP\n",
       "CGAGGAATCGCGAAGA-1-('32606', 7)   test_private    7  32606      NeuP\n",
       "TTCCTCTTCATGGAGG-1-('32606', 7)   test_private    7  32606      NeuP\n",
       "\n",
       "[350 rows x 4 columns]"
      ]
     },
     "execution_count": 66,
     "metadata": {},
     "output_type": "execute_result"
    }
   ],
   "source": [
    "private_test_input_sample.obs"
   ]
  },
  {
   "cell_type": "code",
   "execution_count": 67,
   "id": "309223d5",
   "metadata": {},
   "outputs": [
    {
     "name": "stderr",
     "output_type": "stream",
     "text": [
      "/dss/dsshome1/02/di93zoj/.local/lib/python3.8/site-packages/anndata/_core/anndata.py:1235: ImplicitModificationWarning: Trying to modify attribute `.obs` of view, initializing view as actual.\n",
      "  df[key] = c\n",
      "/dss/dsshome1/02/di93zoj/.local/lib/python3.8/site-packages/anndata/_core/anndata.py:1235: ImplicitModificationWarning: Trying to modify attribute `.obs` of view, initializing view as actual.\n",
      "  df[key] = c\n",
      "/dss/dsshome1/02/di93zoj/.local/lib/python3.8/site-packages/anndata/_core/anndata.py:1235: ImplicitModificationWarning: Trying to modify attribute `.obs` of view, initializing view as actual.\n",
      "  df[key] = c\n"
     ]
    }
   ],
   "source": [
    "private_test_input_sample.write(\"4.model/pred/private_test_input_128_svd_50_samples.h5ad\")"
   ]
  },
  {
   "cell_type": "markdown",
   "id": "3760b911",
   "metadata": {},
   "source": [
    "## sample of whole private_test_input"
   ]
  },
  {
   "cell_type": "code",
   "execution_count": 19,
   "id": "3594f8e3",
   "metadata": {},
   "outputs": [
    {
     "data": {
      "text/plain": [
       "View of AnnData object with n_obs × n_vars = 350 × 22085\n",
       "    obs: 'kaggle_dataset', 'day', 'donor', 'cell_type'"
      ]
     },
     "execution_count": 19,
     "metadata": {},
     "output_type": "execute_result"
    }
   ],
   "source": [
    "private_test_input_sample = get_samples(50, private_test_input)\n",
    "private_test_input_sample"
   ]
  },
  {
   "cell_type": "code",
   "execution_count": 20,
   "id": "256a708f",
   "metadata": {},
   "outputs": [],
   "source": [
    "os.chdir('open-problems-multimodal-3rd-solution/code')"
   ]
  },
  {
   "cell_type": "code",
   "execution_count": 21,
   "id": "5e7e9883",
   "metadata": {},
   "outputs": [
    {
     "name": "stderr",
     "output_type": "stream",
     "text": [
      "/dss/dsshome1/02/di93zoj/.local/lib/python3.8/site-packages/anndata/_core/anndata.py:1235: ImplicitModificationWarning: Trying to modify attribute `.obs` of view, initializing view as actual.\n",
      "  df[key] = c\n",
      "/dss/dsshome1/02/di93zoj/.local/lib/python3.8/site-packages/anndata/_core/anndata.py:1235: ImplicitModificationWarning: Trying to modify attribute `.obs` of view, initializing view as actual.\n",
      "  df[key] = c\n",
      "/dss/dsshome1/02/di93zoj/.local/lib/python3.8/site-packages/anndata/_core/anndata.py:1235: ImplicitModificationWarning: Trying to modify attribute `.obs` of view, initializing view as actual.\n",
      "  df[key] = c\n"
     ]
    }
   ],
   "source": [
    "private_test_input_sample.write(\"4.model/pred/private_test_input_50_samples.h5ad\")"
   ]
  },
  {
   "cell_type": "markdown",
   "id": "3e28dd02",
   "metadata": {},
   "source": [
    "## create samples representing each cell type for private test data\n",
    "Again, need to apply SVD transform.\\\n",
    "Now: 64 svd components -> use resulting sample dataset together with model #17."
   ]
  },
  {
   "cell_type": "markdown",
   "id": "e0ca4c04",
   "metadata": {},
   "source": [
    "### preprocess input data - similar to make-base-feature.py"
   ]
  },
  {
   "cell_type": "code",
   "execution_count": 50,
   "id": "7101c4c4",
   "metadata": {},
   "outputs": [],
   "source": [
    "# normalize, log, svd (fitted in codebase) applied on 22001 columns of the data\n",
    "df_use = all_inputs[:, use_cols_84]\n",
    "# df_use = private_test_input_raw[:, use_cols_84]  # _raw\n",
    "#print(df_use.X)\n",
    "\n",
    "sc.pp.normalize_per_cell(df_use, copy=True)\n",
    "sc.pp.log1p(df_use)\n",
    "\n",
    "with open('2.preprocess_to_feature/cite/svd_model_fitted_64.pkl', 'rb') as file:\n",
    "    svd = pickle.load(file)\n",
    "    \n",
    "result_svd = svd.transform(df_use)\n",
    "\n",
    "train_cite_pp = pd.DataFrame(result_svd[:private_train_input.shape[0]], index = private_train_input.index)   # has cell_ids\n",
    "test_cite_pp = pd.DataFrame(result_svd[private_train_input.shape[0]:], index = private_test_input.obs_names)     # has cell_ids   # _raw\n",
    "\n",
    "# important protein cols ---------------------------------------------------------------------\n",
    "# normalize, log applied on 84 handselected columns of the data\n",
    "df_important = all_inputs[:, use_imp_cols_84]   # _raw\n",
    "df_important = sc.AnnData(X = df_important)\n",
    "sc.pp.normalize_per_cell(df_important)\n",
    "sc.pp.log1p(df_important)\n",
    "\n",
    "train_imp = pd.DataFrame(df_important.X[:private_train_input.shape[0]].toarray(), index = private_train_input.index).add_prefix('imp_')\n",
    "test_imp = pd.DataFrame(df_important.X[private_train_input.shape[0]:].toarray(), index = private_test_input.obs_names).add_prefix('imp_')   # _raw"
   ]
  },
  {
   "cell_type": "code",
   "execution_count": 51,
   "id": "cce206e6",
   "metadata": {},
   "outputs": [
    {
     "data": {
      "text/plain": [
       "(26867, 64)"
      ]
     },
     "execution_count": 51,
     "metadata": {},
     "output_type": "execute_result"
    }
   ],
   "source": [
    "train_cite_pp = train_cite_pp.add_prefix('base_svd_')\n",
    "test_cite_pp = test_cite_pp.add_prefix('base_svd_')\n",
    "test_cite_pp.shape"
   ]
  },
  {
   "cell_type": "code",
   "execution_count": 52,
   "id": "c523fa89",
   "metadata": {
    "scrolled": true
   },
   "outputs": [
    {
     "data": {
      "text/plain": [
       "(26867, 84)"
      ]
     },
     "execution_count": 52,
     "metadata": {},
     "output_type": "execute_result"
    }
   ],
   "source": [
    "test_imp.shape"
   ]
  },
  {
   "cell_type": "markdown",
   "id": "f7a75654",
   "metadata": {},
   "source": [
    "### preprocess input data - similar to make-features.py"
   ]
  },
  {
   "cell_type": "code",
   "execution_count": 19,
   "id": "2785d266",
   "metadata": {},
   "outputs": [
    {
     "ename": "NameError",
     "evalue": "name 'train_cite_pp' is not defined",
     "output_type": "error",
     "traceback": [
      "\u001b[0;31m---------------------------------------------------------------------------\u001b[0m",
      "\u001b[0;31mNameError\u001b[0m                                 Traceback (most recent call last)",
      "Cell \u001b[0;32mIn[19], line 2\u001b[0m\n\u001b[1;32m      1\u001b[0m \u001b[38;5;66;03m# concatenate all 128+84 columns\u001b[39;00m\n\u001b[0;32m----> 2\u001b[0m X_train_svd_64 \u001b[38;5;241m=\u001b[39m pd\u001b[38;5;241m.\u001b[39mconcat([\u001b[43mtrain_cite_pp\u001b[49m\u001b[38;5;241m.\u001b[39mreset_index(drop\u001b[38;5;241m=\u001b[39m\u001b[38;5;28;01mTrue\u001b[39;00m), \n\u001b[1;32m      3\u001b[0m                             train_imp\u001b[38;5;241m.\u001b[39mreset_index(drop\u001b[38;5;241m=\u001b[39m\u001b[38;5;28;01mTrue\u001b[39;00m),\n\u001b[1;32m      4\u001b[0m                            ], axis \u001b[38;5;241m=\u001b[39m \u001b[38;5;241m1\u001b[39m)\n\u001b[1;32m      6\u001b[0m X_test_svd_64 \u001b[38;5;241m=\u001b[39m pd\u001b[38;5;241m.\u001b[39mconcat([test_cite_pp\u001b[38;5;241m.\u001b[39mreset_index(drop\u001b[38;5;241m=\u001b[39m\u001b[38;5;28;01mTrue\u001b[39;00m), \n\u001b[1;32m      7\u001b[0m                             test_imp\u001b[38;5;241m.\u001b[39mreset_index(drop\u001b[38;5;241m=\u001b[39m\u001b[38;5;28;01mTrue\u001b[39;00m),\n\u001b[1;32m      8\u001b[0m                            ], axis \u001b[38;5;241m=\u001b[39m \u001b[38;5;241m1\u001b[39m)\n\u001b[1;32m      9\u001b[0m X_test_svd_64\u001b[38;5;241m.\u001b[39mhead(\u001b[38;5;241m3\u001b[39m)   \u001b[38;5;66;03m# final X_test\u001b[39;00m\n",
      "\u001b[0;31mNameError\u001b[0m: name 'train_cite_pp' is not defined"
     ]
    }
   ],
   "source": [
    "# concatenate all 128+84 columns\n",
    "X_train_svd_64 = pd.concat([train_cite_pp.reset_index(drop=True), \n",
    "                            train_imp.reset_index(drop=True),\n",
    "                           ], axis = 1)\n",
    "\n",
    "X_test_svd_64 = pd.concat([test_cite_pp.reset_index(drop=True), \n",
    "                            test_imp.reset_index(drop=True),\n",
    "                           ], axis = 1)\n",
    "X_test_svd_64.head(3)   # final X_test"
   ]
  },
  {
   "cell_type": "code",
   "execution_count": 54,
   "id": "18d87d5d",
   "metadata": {},
   "outputs": [],
   "source": [
    "# save prepared private X_test \n",
    "with open('4.model/pred/private_X_train_svd_64.pkl', 'wb') as f:   # _raw\n",
    "    pickle.dump(X_train_svd_64, f)"
   ]
  },
  {
   "cell_type": "code",
   "execution_count": 55,
   "id": "f942f0a1",
   "metadata": {},
   "outputs": [],
   "source": [
    "# save prepared private X_test \n",
    "with open('4.model/pred/private_X_test_svd_64.pkl', 'wb') as f:   # _raw\n",
    "    pickle.dump(X_test_svd_64, f)"
   ]
  },
  {
   "cell_type": "markdown",
   "id": "8212da6e",
   "metadata": {},
   "source": [
    "### get sample per cell type for SHAP"
   ]
  },
  {
   "cell_type": "code",
   "execution_count": 21,
   "id": "ddd5f5a4",
   "metadata": {},
   "outputs": [],
   "source": [
    "X_test_svd_64 = pd.read_pickle('4.model/pred/private_X_test_svd_64.pkl')"
   ]
  },
  {
   "cell_type": "code",
   "execution_count": 22,
   "id": "e824ccff",
   "metadata": {},
   "outputs": [
    {
     "data": {
      "text/plain": [
       "AnnData object with n_obs × n_vars = 26867 × 148\n",
       "    obs: 'kaggle_dataset', 'day', 'donor', 'cell_type'"
      ]
     },
     "execution_count": 22,
     "metadata": {},
     "output_type": "execute_result"
    }
   ],
   "source": [
    "X_test_svd_64_ann = ad.AnnData(X=X_test_svd_64, obs=metadata_filtered)\n",
    "X_test_svd_64_ann"
   ]
  },
  {
   "cell_type": "code",
   "execution_count": 29,
   "id": "6b7312b9",
   "metadata": {},
   "outputs": [],
   "source": [
    "private_test_input_sample = ad.read_h5ad('4.model/pred/private_test_input_128_svd_5_samples.h5ad')"
   ]
  },
  {
   "cell_type": "code",
   "execution_count": 30,
   "id": "c0c4af20",
   "metadata": {},
   "outputs": [
    {
     "data": {
      "text/plain": [
       "View of AnnData object with n_obs × n_vars = 35 × 148\n",
       "    obs: 'kaggle_dataset', 'day', 'donor', 'cell_type'"
      ]
     },
     "execution_count": 30,
     "metadata": {},
     "output_type": "execute_result"
    }
   ],
   "source": [
    "private_test_input_sample_64 = X_test_svd_64_ann[private_test_input_sample.obs_names]      # use same sampled rows from model 16 (private_test_input_sample) for model 17\n",
    "private_test_input_sample_64"
   ]
  },
  {
   "cell_type": "code",
   "execution_count": 31,
   "id": "6c18ebfb",
   "metadata": {},
   "outputs": [
    {
     "name": "stderr",
     "output_type": "stream",
     "text": [
      "/dss/dsshome1/02/di93zoj/.local/lib/python3.8/site-packages/anndata/_core/anndata.py:1235: ImplicitModificationWarning: Trying to modify attribute `.obs` of view, initializing view as actual.\n",
      "  df[key] = c\n",
      "/dss/dsshome1/02/di93zoj/.local/lib/python3.8/site-packages/anndata/_core/anndata.py:1235: ImplicitModificationWarning: Trying to modify attribute `.obs` of view, initializing view as actual.\n",
      "  df[key] = c\n",
      "/dss/dsshome1/02/di93zoj/.local/lib/python3.8/site-packages/anndata/_core/anndata.py:1235: ImplicitModificationWarning: Trying to modify attribute `.obs` of view, initializing view as actual.\n",
      "  df[key] = c\n"
     ]
    }
   ],
   "source": [
    "private_test_input_sample_64.write(\"4.model/pred/private_test_input_64_svd_5_samples.h5ad\")"
   ]
  }
 ],
 "metadata": {
  "kernelspec": {
   "display_name": "Python 3 (ipykernel)",
   "language": "python",
   "name": "python3"
  },
  "language_info": {
   "codemirror_mode": {
    "name": "ipython",
    "version": 3
   },
   "file_extension": ".py",
   "mimetype": "text/x-python",
   "name": "python",
   "nbconvert_exporter": "python",
   "pygments_lexer": "ipython3",
   "version": "3.8.10"
  }
 },
 "nbformat": 4,
 "nbformat_minor": 5
}
