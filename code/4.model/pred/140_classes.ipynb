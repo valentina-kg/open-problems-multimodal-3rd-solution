{
 "cells": [
  {
   "cell_type": "markdown",
   "id": "05cb2719",
   "metadata": {},
   "source": [
    "#### task:"
   ]
  },
  {
   "cell_type": "markdown",
   "id": "84009f1e",
   "metadata": {},
   "source": [
    "given gene expression (RNA), predict surface protein levels."
   ]
  },
  {
   "cell_type": "markdown",
   "id": "cce9043a",
   "metadata": {},
   "source": [
    "- train/test_cite_inputs.h5: Rows corresponding to cells and columns corresponding to genes given by {gene_name}_{gene_ensemble-ids}\\\n",
    " - have 22085 genes\n",
    " - from these: 84 are handselected and hstacked to the right\n",
    " - ... and on the remaining 22001 genes, TruncatedSVD is applied -> 128 svd components instead -> hstacked to the left\n",
    "- train_cite_targets.h5: Surface protein levels for the same cells\n",
    " - 140 proteins, e.g. CD36"
   ]
  },
  {
   "cell_type": "markdown",
   "id": "7fec9397",
   "metadata": {},
   "source": [
    "previous notebooks: compute shap values \n",
    "- on svd components + handselected: get shap values of shape (140, n_samples, n_svd_components+84)\n",
    "- backpropagated attributions to all genes: get attr_all_22085_genes of shape (140, n_samples, 22085)\n",
    "- => then only used shap_values[0] or attr_all_22085_genes[0]\n",
    "- now: handle all 140 classes"
   ]
  },
  {
   "cell_type": "code",
   "execution_count": 1,
   "id": "2a28b8a9",
   "metadata": {},
   "outputs": [
    {
     "name": "stderr",
     "output_type": "stream",
     "text": [
      "Using `tqdm.autonotebook.tqdm` in notebook mode. Use `tqdm.tqdm` instead to force console mode (e.g. in jupyter console)\n"
     ]
    }
   ],
   "source": [
    "import numpy as np\n",
    "import matplotlib.pyplot as plt\n",
    "from matplotlib.pyplot import rc_context\n",
    "import pandas as pd\n",
    "import os\n",
    "\n",
    "import shap\n",
    "\n",
    "import anndata as ad\n",
    "import scipy\n",
    "# import scipy.special as sp\n",
    "import scanpy as sc\n",
    "\n",
    "from scipy import stats\n"
   ]
  },
  {
   "cell_type": "code",
   "execution_count": 2,
   "id": "4d2fdc3b",
   "metadata": {},
   "outputs": [],
   "source": [
    "os.chdir('../..')"
   ]
  },
  {
   "cell_type": "code",
   "execution_count": 3,
   "id": "5b2882db",
   "metadata": {},
   "outputs": [],
   "source": [
    "lrz_path = '/dss/dssfs02/lwp-dss-0001/pn36po/pn36po-dss-0001/di93zoj/'\n",
    "index_path = lrz_path + 'open-problems-multimodal-3rd-solution/input/preprocess/cite/'\n",
    "train_column = np.load(index_path + \"train_cite_raw_inputs_idxcol.npz\", allow_pickle=True)[\"columns\"]"
   ]
  },
  {
   "cell_type": "code",
   "execution_count": 4,
   "id": "728b1d32",
   "metadata": {},
   "outputs": [],
   "source": [
    "def get_top_features(shap_values, xtest, top_n):\n",
    "    shap_sum = np.abs(shap_values).sum(axis=0)\n",
    "    top_features_indices = np.argsort(shap_sum)[::-1][:top_n]  # Get the indices of the top n features\n",
    "    top_feature_names_shap = xtest.var_names[top_features_indices]\n",
    "    return top_feature_names_shap"
   ]
  },
  {
   "cell_type": "code",
   "execution_count": 5,
   "id": "23c6186b",
   "metadata": {},
   "outputs": [],
   "source": [
    "def get_common_elements(attr, xtest, top_features_considered, min_percentage):\n",
    "    element_counts = {}\n",
    "\n",
    "    for i in range(140):\n",
    "        for elt in get_top_features(attr[i], xtest, top_features_considered):\n",
    "            element_counts[elt] = element_counts.get(elt, 0) + 1\n",
    "\n",
    "    # Get the elements that appear in at least min_percentage of the lists\n",
    "    common_elements = {element for element, count in element_counts.items() if count / 140 >= min_percentage}\n",
    "    return common_elements"
   ]
  },
  {
   "cell_type": "code",
   "execution_count": 6,
   "id": "38e8f9f4",
   "metadata": {},
   "outputs": [],
   "source": [
    "def get_gene_name(last_chars):\n",
    "    return [element for element in train_column if element.split('_')[1] == last_chars]"
   ]
  },
  {
   "cell_type": "markdown",
   "id": "5782c7e1",
   "metadata": {},
   "source": [
    "### attr_all_22085_genes of model 16"
   ]
  },
  {
   "cell_type": "code",
   "execution_count": 7,
   "id": "b3db92c7",
   "metadata": {},
   "outputs": [
    {
     "data": {
      "text/plain": [
       "array(['CD86', 'CD274', 'CD270', 'CD155', 'CD112', 'CD47', 'CD48', 'CD40',\n",
       "       'CD154', 'CD52', 'CD3', 'CD8', 'CD56', 'CD19', 'CD33', 'CD11c',\n",
       "       'HLA-A-B-C', 'CD45RA', 'CD123', 'CD7', 'CD105', 'CD49f', 'CD194',\n",
       "       'CD4', 'CD44', 'CD14', 'CD16', 'CD25', 'CD45RO', 'CD279', 'TIGIT',\n",
       "       'Mouse-IgG1', 'Mouse-IgG2a', 'Mouse-IgG2b', 'Rat-IgG2b', 'CD20',\n",
       "       'CD335', 'CD31', 'Podoplanin', 'CD146', 'IgM', 'CD5', 'CD195',\n",
       "       'CD32', 'CD196', 'CD185', 'CD103', 'CD69', 'CD62L', 'CD161',\n",
       "       'CD152', 'CD223', 'KLRG1', 'CD27', 'CD107a', 'CD95', 'CD134',\n",
       "       'HLA-DR', 'CD1c', 'CD11b', 'CD64', 'CD141', 'CD1d', 'CD314',\n",
       "       'CD35', 'CD57', 'CD272', 'CD278', 'CD58', 'CD39', 'CX3CR1', 'CD24',\n",
       "       'CD21', 'CD11a', 'CD79b', 'CD244', 'CD169', 'integrinB7', 'CD268',\n",
       "       'CD42b', 'CD54', 'CD62P', 'CD119', 'TCR', 'Rat-IgG1', 'Rat-IgG2a',\n",
       "       'CD192', 'CD122', 'FceRIa', 'CD41', 'CD137', 'CD163', 'CD83',\n",
       "       'CD124', 'CD13', 'CD2', 'CD226', 'CD29', 'CD303', 'CD49b', 'CD81',\n",
       "       'IgD', 'CD18', 'CD28', 'CD38', 'CD127', 'CD45', 'CD22', 'CD71',\n",
       "       'CD26', 'CD115', 'CD63', 'CD304', 'CD36', 'CD172a', 'CD72',\n",
       "       'CD158', 'CD93', 'CD49a', 'CD49d', 'CD73', 'CD9', 'TCRVa7.2',\n",
       "       'TCRVd2', 'LOX-1', 'CD158b', 'CD158e1', 'CD142', 'CD319', 'CD352',\n",
       "       'CD94', 'CD162', 'CD85j', 'CD23', 'CD328', 'HLA-E', 'CD82',\n",
       "       'CD101', 'CD88', 'CD224'], dtype=object)"
      ]
     },
     "execution_count": 7,
     "metadata": {},
     "output_type": "execute_result"
    }
   ],
   "source": [
    "proteins = np.load('4.model/pred/proteins.npy', allow_pickle=True)\n",
    "def get_protein_idx(protein):\n",
    "    return np.where(proteins == protein)[0][0]\n",
    "proteins"
   ]
  },
  {
   "cell_type": "code",
   "execution_count": 8,
   "id": "b0f4debf",
   "metadata": {},
   "outputs": [],
   "source": [
    "xtest_16 = ad.read_h5ad('4.model/pred/private_test_input_128_svd_50_samples.h5ad')\n",
    "private_test_input_raw = pd.read_pickle('/dss/dssfs02/lwp-dss-0001/pn36po/pn36po-dss-0001/di93zoj/kaggle/full_data/20220830_citeseq_rna_count_test_input_private_raw.pkl')\n",
    "sample_cells = np.array(xtest_16.obs_names)\n",
    "xtest_all_genes = private_test_input_raw.loc[sample_cells]"
   ]
  },
  {
   "cell_type": "code",
   "execution_count": 9,
   "id": "09131db5",
   "metadata": {},
   "outputs": [],
   "source": [
    "attr_all_22085_genes_16 = pd.read_pickle(lrz_path + 'large_preprocessed_files/attr_all_genes/attr_all_22085_genes_16_50_samples_p_ct_distr.pkl')\n",
    "for i in range(len(attr_all_22085_genes_16)):\n",
    "    attr_all_22085_genes_16[i] = attr_all_22085_genes_16[i].reindex(columns=train_column)"
   ]
  },
  {
   "cell_type": "code",
   "execution_count": 10,
   "id": "938efd3f",
   "metadata": {},
   "outputs": [
    {
     "name": "stderr",
     "output_type": "stream",
     "text": [
      "X converted to numpy array with dtype float64\n"
     ]
    },
    {
     "data": {
      "text/plain": [
       "Index(['ENSG00000135218_CD36', 'ENSG00000010278_CD9', 'ENSG00000100097_LGALS1',\n",
       "       'ENSG00000183971_NPW', 'ENSG00000105472_CLEC11A',\n",
       "       'ENSG00000184897_H1FX', 'ENSG00000100368_CSF2RB',\n",
       "       'ENSG00000265972_TXNIP', 'ENSG00000122862_SRGN', 'ENSG00000105205_CLC',\n",
       "       'ENSG00000236824_BCYRN1', 'ENSG00000125148_MT2A',\n",
       "       'ENSG00000077984_CST7', 'ENSG00000245532_NEAT1', 'ENSG00000124766_SOX4',\n",
       "       'ENSG00000244734_HBB', 'ENSG00000005381_MPO', 'ENSG00000101745_ANKRD12',\n",
       "       'ENSG00000163191_S100A11', 'ENSG00000105383_CD33'],\n",
       "      dtype='object', name='gene_ids')"
      ]
     },
     "execution_count": 10,
     "metadata": {},
     "output_type": "execute_result"
    }
   ],
   "source": [
    "top_20 = get_top_features(attr_all_22085_genes_16[0], ad.AnnData(xtest_all_genes, dtype=xtest_all_genes.dtypes), 20)\n",
    "top_20"
   ]
  },
  {
   "cell_type": "code",
   "execution_count": 11,
   "id": "b8390cbf",
   "metadata": {},
   "outputs": [
    {
     "name": "stderr",
     "output_type": "stream",
     "text": [
      "X converted to numpy array with dtype float64\n"
     ]
    },
    {
     "data": {
      "text/plain": [
       "Index(['ENSG00000135218_CD36', 'ENSG00000117091_CD48', 'ENSG00000010278_CD9',\n",
       "       'ENSG00000184897_H1FX', 'ENSG00000183971_NPW',\n",
       "       'ENSG00000105472_CLEC11A', 'ENSG00000124766_SOX4',\n",
       "       'ENSG00000100097_LGALS1', 'ENSG00000244734_HBB',\n",
       "       'ENSG00000101745_ANKRD12', 'ENSG00000236824_BCYRN1',\n",
       "       'ENSG00000135655_USP15', 'ENSG00000125148_MT2A', 'ENSG00000196565_HBG2',\n",
       "       'ENSG00000245532_NEAT1', 'ENSG00000265972_TXNIP', 'ENSG00000015285_WAS',\n",
       "       'ENSG00000136997_MYC', 'ENSG00000048649_RSF1',\n",
       "       'ENSG00000134283_PPHLN1'],\n",
       "      dtype='object', name='gene_ids')"
      ]
     },
     "execution_count": 11,
     "metadata": {},
     "output_type": "execute_result"
    }
   ],
   "source": [
    "get_top_features(attr_all_22085_genes_16[2], ad.AnnData(xtest_all_genes, dtype=xtest_all_genes.dtypes), 20)"
   ]
  },
  {
   "cell_type": "code",
   "execution_count": 12,
   "id": "ffad095e",
   "metadata": {},
   "outputs": [
    {
     "name": "stderr",
     "output_type": "stream",
     "text": [
      "X converted to numpy array with dtype float64\n"
     ]
    },
    {
     "data": {
      "text/plain": [
       "Index(['ENSG00000117091_CD48', 'ENSG00000010278_CD9', 'ENSG00000135218_CD36',\n",
       "       'ENSG00000184897_H1FX', 'ENSG00000105369_CD79A', 'ENSG00000188404_SELL',\n",
       "       'ENSG00000100097_LGALS1', 'ENSG00000124766_SOX4', 'ENSG00000183971_NPW',\n",
       "       'ENSG00000101745_ANKRD12', 'ENSG00000105472_CLEC11A',\n",
       "       'ENSG00000236824_BCYRN1', 'ENSG00000265972_TXNIP',\n",
       "       'ENSG00000245532_NEAT1', 'ENSG00000135655_USP15',\n",
       "       'ENSG00000125148_MT2A', 'ENSG00000114013_CD86', 'ENSG00000244734_HBB',\n",
       "       'ENSG00000072274_TFRC', 'ENSG00000128322_IGLL1'],\n",
       "      dtype='object', name='gene_ids')"
      ]
     },
     "execution_count": 12,
     "metadata": {},
     "output_type": "execute_result"
    }
   ],
   "source": [
    "get_top_features(attr_all_22085_genes_16[3], ad.AnnData(xtest_all_genes, dtype=xtest_all_genes.dtypes), 20)"
   ]
  },
  {
   "cell_type": "code",
   "execution_count": 13,
   "id": "ff7d1bc1",
   "metadata": {},
   "outputs": [
    {
     "name": "stderr",
     "output_type": "stream",
     "text": [
      "X converted to numpy array with dtype float64\n"
     ]
    },
    {
     "data": {
      "text/plain": [
       "{'ENSG00000100097_LGALS1',\n",
       " 'ENSG00000101745_ANKRD12',\n",
       " 'ENSG00000105472_CLEC11A',\n",
       " 'ENSG00000124766_SOX4',\n",
       " 'ENSG00000135218_CD36',\n",
       " 'ENSG00000135655_USP15',\n",
       " 'ENSG00000183971_NPW',\n",
       " 'ENSG00000184897_H1FX',\n",
       " 'ENSG00000236824_BCYRN1',\n",
       " 'ENSG00000265972_TXNIP'}"
      ]
     },
     "execution_count": 13,
     "metadata": {},
     "output_type": "execute_result"
    }
   ],
   "source": [
    "# top attributing genes across all targets\n",
    "get_common_elements(attr_all_22085_genes_16, ad.AnnData(xtest_all_genes, dtype=xtest_all_genes.dtypes), 20, 0.75)"
   ]
  },
  {
   "cell_type": "markdown",
   "id": "f42153eb",
   "metadata": {},
   "source": [
    "### model 17:"
   ]
  },
  {
   "cell_type": "code",
   "execution_count": 14,
   "id": "86545dfb",
   "metadata": {},
   "outputs": [],
   "source": [
    "xtest_17 = ad.read_h5ad('4.model/pred/private_test_input_64_svd_50_samples.h5ad')\n",
    "attr_all_22085_genes_17 = pd.read_pickle(lrz_path + 'large_preprocessed_files/attr_all_genes/attr_all_22085_genes_17_50_samples_p_ct_distr.pkl')\n",
    "for i in range(len(attr_all_22085_genes_17)):\n",
    "    attr_all_22085_genes_17[i] = attr_all_22085_genes_17[i].reindex(columns=train_column)"
   ]
  },
  {
   "cell_type": "markdown",
   "id": "de922ebf",
   "metadata": {},
   "source": [
    "### quantify results from plotting.ipynb: compare gene attr distr to avg distr"
   ]
  },
  {
   "cell_type": "markdown",
   "id": "9939a48c",
   "metadata": {},
   "source": [
    "spearman correlation and kurtosis variance metric did not work"
   ]
  },
  {
   "cell_type": "code",
   "execution_count": 121,
   "id": "bb3aefd7",
   "metadata": {},
   "outputs": [],
   "source": [
    "def plot_distr_avg_gene(model_number, protein, gene, show=True):\n",
    "    ''' plot avg distribution of top columns along with distribution of a specific gene for comparison\n",
    "    model_number: 16 or 17\n",
    "    show=True: show plot for specific gene\n",
    "    show=False: don't show plot, instead print kl divergence for top 20 genes '''\n",
    "    \n",
    "    # get columns of top attributing genes in attribution dataframe \n",
    "    if model_number==16:\n",
    "        top = get_top_features(attr_all_22085_genes_16[get_protein_idx(protein)], ad.AnnData(xtest_all_genes, dtype=xtest_all_genes.dtypes), 20)\n",
    "        if get_gene_name(gene)[0] not in top:  # if specific gene not among the top features but should still be plotted\n",
    "            top = top.append(pd.Index(get_gene_name(gene)))\n",
    "        df = attr_all_22085_genes_16[get_protein_idx(protein)][top].copy()\n",
    "    if model_number==17:\n",
    "        top = get_top_features(attr_all_22085_genes_17[get_protein_idx(protein)], ad.AnnData(xtest_all_genes, dtype=xtest_all_genes.dtypes), 20)\n",
    "        if get_gene_name(gene)[0] not in top:  # if specific gene not among the top features but should still be plotted\n",
    "            top = top.append(pd.Index(get_gene_name(gene)))\n",
    "        df = attr_all_22085_genes_17[get_protein_idx(protein)][top].copy()\n",
    "    \n",
    "    # Initialize an array to store the sum of histograms\n",
    "    hist_sum = np.zeros(n_bins)\n",
    "    # Calculate the histogram for each column and sum them\n",
    "    for col in df.columns:\n",
    "        hist, edges = np.histogram(df[col], bins=40, range=(df.min().min(), df.max().max()), density=True)\n",
    "        hist_sum += hist\n",
    "\n",
    "    # Divide by the number of columns to average hist_sum\n",
    "    avg_hist = hist_sum /len(df.columns)\n",
    "    \n",
    "    \n",
    "    if show:\n",
    "        # Plot the average histogram\n",
    "        plt.bar(edges[:-1], avg_hist, width=(edges[1]-edges[0]), label='Avg')\n",
    "        \n",
    "        \n",
    "        # Plot histogram for single gene to be compared\n",
    "        hist, edges = np.histogram(df[get_gene_name(gene)], bins=40, range=(df.min().min(), df.max().max()), density=True)\n",
    "        # Plot the histogram\n",
    "        plt.bar(edges[:-1], hist, width=(edges[1]-edges[0]), color='orange', alpha=0.7, label=gene)\n",
    "    \n",
    "        # print kl divergence between both distributions\n",
    "        # add 1e-10 to avoid dividing by 0\n",
    "        print(np.sum(scipy.special.kl_div(avg_hist+1e-10, hist+1e-10)))\n",
    "        plt.xlabel('Attribution value')\n",
    "        plt.ylabel('Normalized frequency')\n",
    "        plt.title(f'Prediction of {protein}: Average distribution and distribution of {get_gene_name(gene)[0]}')\n",
    "        plt.legend(loc='upper right')\n",
    "        plt.show()\n",
    "    else:\n",
    "        # plot top attributing genes by kl divergence:\n",
    "        kl_div_list = []\n",
    "        for top_gene in top:\n",
    "            # compute hist for current gene:\n",
    "            hist, _ = np.histogram(df[top_gene], bins=40, range=(df.min().min(), df.max().max()), density=True)\n",
    "            \n",
    "            # append kl divergence between the current gene distr and the avg distr to the list\n",
    "            kl_div_list.append(np.sum(scipy.special.kl_div(avg_hist+1e-10, hist+1e-10)))\n",
    "        \n",
    "        # sort desc by kl divergence\n",
    "        sorted_genes, sorted_values = zip(*sorted(zip(top, kl_div_list), key=lambda x: x[1]))\n",
    "\n",
    "        # Create a bar chart\n",
    "        plt.figure(figsize=(10, 6))\n",
    "        plt.barh(sorted_genes, sorted_values) #, color='skyblue')\n",
    "        plt.xlabel('KL Divergence Value')\n",
    "        plt.ylabel('Top Genes')\n",
    "        plt.title(f'Prediction of {protein}: Top attributing genes by KL divergence value')\n",
    "        plt.tight_layout()\n",
    "        plt.show()"
   ]
  },
  {
   "cell_type": "code",
   "execution_count": 122,
   "id": "39951676",
   "metadata": {
    "scrolled": true
   },
   "outputs": [
    {
     "name": "stderr",
     "output_type": "stream",
     "text": [
      "X converted to numpy array with dtype float64\n"
     ]
    },
    {
     "data": {
      "image/png": "[encoded data removed]",
      "text/plain": [
       "<Figure size 1000x600 with 1 Axes>"
      ]
     },
     "metadata": {},
     "output_type": "display_data"
    }
   ],
   "source": [
    "plot_distr_avg_gene(17, 'CD86', 'CD86', show=False)   # decreasing kl divergence for decreasingly important genes"
   ]
  },
  {
   "cell_type": "code",
   "execution_count": 124,
   "id": "1af313c4",
   "metadata": {
    "scrolled": true
   },
   "outputs": [
    {
     "name": "stderr",
     "output_type": "stream",
     "text": [
      "X converted to numpy array with dtype float64\n"
     ]
    },
    {
     "name": "stdout",
     "output_type": "stream",
     "text": [
      "2494.8408230898094\n"
     ]
    },
    {
     "data": {
      "image/png": "[encoded data removed]",
      "text/plain": [
       "<Figure size 640x480 with 1 Axes>"
      ]
     },
     "metadata": {},
     "output_type": "display_data"
    }
   ],
   "source": [
    "plot_distr_avg_gene(16, 'CD4', 'CD4')   # decreasing kl divergence for decreasingly important genes"
   ]
  },
  {
   "cell_type": "code",
   "execution_count": 125,
   "id": "b746239c",
   "metadata": {},
   "outputs": [
    {
     "name": "stderr",
     "output_type": "stream",
     "text": [
      "X converted to numpy array with dtype float64\n"
     ]
    },
    {
     "name": "stdout",
     "output_type": "stream",
     "text": [
      "125.2772928188259\n"
     ]
    },
    {
     "data": {
      "image/png": "[encoded data removed]",
      "text/plain": [
       "<Figure size 640x480 with 1 Axes>"
      ]
     },
     "metadata": {},
     "output_type": "display_data"
    }
   ],
   "source": [
    "plot_distr_avg_gene(17, 'CD9', 'CD9') "
   ]
  },
  {
   "cell_type": "markdown",
   "id": "1e55a443",
   "metadata": {
    "heading_collapsed": true
   },
   "source": [
    "### compute mean per cell type"
   ]
  },
  {
   "cell_type": "code",
   "execution_count": 28,
   "id": "51cfce37",
   "metadata": {
    "hidden": true
   },
   "outputs": [],
   "source": [
    "# moved computing the mean to plotting.ipynb\n",
    "# TODO move min/max as well? Delete from here?\n",
    "def mean_per_cell_type(attr_all_genes, xtest, n_top, stat):\n",
    "    ''' stat: pass mean, min, max, median '''\n",
    "    top_feature_names_shap = get_top_features(attr_all_genes, xtest, n_top)\n",
    "    # create df with shap values of top n features + cell type    \n",
    "    shap_cell_types = {}\n",
    "    # Add 'Cell Type' column\n",
    "    shap_cell_types['Cell Type'] = xtest.obs['cell_type']\n",
    "    # Add attribution values of top n features\n",
    "    for feature in top_feature_names_shap:\n",
    "        column_values = np.array(attr_all_genes)[:, xtest.var_names.get_loc(feature)]\n",
    "        shap_cell_types[feature] = column_values\n",
    "\n",
    "    # Create DataFrame\n",
    "    shap_cell_types = pd.DataFrame(shap_cell_types)\n",
    "    \n",
    "    if stat == 'mean':\n",
    "        mean_per_ct = shap_cell_types.groupby('Cell Type').apply(lambda x: x.abs().mean())\n",
    "        mean_per_ct.reset_index(inplace=True)\n",
    "        # Calculate the mean across all rows (excluding the 'cell type' column)\n",
    "        overall_mean = shap_cell_types.drop('Cell Type', axis=1).abs().mean()\n",
    "        # Add the overall mean as a new row to the DataFrame\n",
    "        mean_per_ct.loc[len(mean_per_ct)] = ['Overall'] + overall_mean.tolist()\n",
    "    elif stat == 'min':\n",
    "        mean_per_ct = shap_cell_types.groupby('Cell Type').min()\n",
    "        mean_per_ct.reset_index(inplace=True)\n",
    "        # Calculate the mean across all rows (excluding the 'cell type' column)\n",
    "        overall_mean = shap_cell_types.drop('Cell Type', axis=1).min()\n",
    "        # Add the overall mean as a new row to the DataFrame\n",
    "        mean_per_ct.loc[len(mean_per_ct)] = ['Overall'] + overall_mean.tolist()\n",
    "    elif stat == 'max':\n",
    "        mean_per_ct = shap_cell_types.groupby('Cell Type').max()\n",
    "        mean_per_ct.reset_index(inplace=True)\n",
    "        # Calculate the mean across all rows (excluding the 'cell type' column)\n",
    "        overall_mean = shap_cell_types.drop('Cell Type', axis=1).max()\n",
    "        # Add the overall mean as a new row to the DataFrame\n",
    "        mean_per_ct.loc[len(mean_per_ct)] = ['Overall'] + overall_mean.tolist()\n",
    "    elif stat == 'median':\n",
    "        mean_per_ct = shap_cell_types.groupby('Cell Type').median()\n",
    "        mean_per_ct.reset_index(inplace=True)\n",
    "        # Calculate the mean across all rows (excluding the 'cell type' column)\n",
    "        overall_mean = shap_cell_types.drop('Cell Type', axis=1).median()\n",
    "        # Add the overall mean as a new row to the DataFrame\n",
    "        mean_per_ct.loc[len(mean_per_ct)] = ['Overall'] + overall_mean.tolist()\n",
    "    \n",
    "    return mean_per_ct"
   ]
  },
  {
   "cell_type": "code",
   "execution_count": 29,
   "id": "400eb5cd",
   "metadata": {
    "hidden": true
   },
   "outputs": [
    {
     "name": "stderr",
     "output_type": "stream",
     "text": [
      "X converted to numpy array with dtype float64\n"
     ]
    },
    {
     "data": {
      "text/html": [
       "<div>\n",
       "<style scoped>\n",
       "    .dataframe tbody tr th:only-of-type {\n",
       "        vertical-align: middle;\n",
       "    }\n",
       "\n",
       "    .dataframe tbody tr th {\n",
       "        vertical-align: top;\n",
       "    }\n",
       "\n",
       "    .dataframe thead th {\n",
       "        text-align: right;\n",
       "    }\n",
       "</style>\n",
       "<table border=\"1\" class=\"dataframe\">\n",
       "  <thead>\n",
       "    <tr style=\"text-align: right;\">\n",
       "      <th></th>\n",
       "      <th>Cell Type</th>\n",
       "      <th>ENSG00000010278_CD9</th>\n",
       "      <th>ENSG00000135218_CD36</th>\n",
       "      <th>ENSG00000184897_H1FX</th>\n",
       "      <th>ENSG00000101745_ANKRD12</th>\n",
       "      <th>ENSG00000183971_NPW</th>\n",
       "      <th>ENSG00000124766_SOX4</th>\n",
       "      <th>ENSG00000135655_USP15</th>\n",
       "      <th>ENSG00000134283_PPHLN1</th>\n",
       "      <th>ENSG00000100097_LGALS1</th>\n",
       "      <th>...</th>\n",
       "      <th>ENSG00000048649_RSF1</th>\n",
       "      <th>ENSG00000123405_NFE2</th>\n",
       "      <th>ENSG00000197061_HIST1H4C</th>\n",
       "      <th>ENSG00000265972_TXNIP</th>\n",
       "      <th>ENSG00000153310_FAM49B</th>\n",
       "      <th>ENSG00000196565_HBG2</th>\n",
       "      <th>ENSG00000122779_TRIM24</th>\n",
       "      <th>ENSG00000102007_PLP2</th>\n",
       "      <th>ENSG00000102409_BEX4</th>\n",
       "      <th>ENSG00000120686_UFM1</th>\n",
       "    </tr>\n",
       "  </thead>\n",
       "  <tbody>\n",
       "    <tr>\n",
       "      <th>0</th>\n",
       "      <td>BP</td>\n",
       "      <td>0.345274</td>\n",
       "      <td>0.018846</td>\n",
       "      <td>0.051737</td>\n",
       "      <td>0.039328</td>\n",
       "      <td>0.033687</td>\n",
       "      <td>0.036823</td>\n",
       "      <td>0.033996</td>\n",
       "      <td>0.033108</td>\n",
       "      <td>0.033051</td>\n",
       "      <td>...</td>\n",
       "      <td>0.031992</td>\n",
       "      <td>0.031016</td>\n",
       "      <td>0.025575</td>\n",
       "      <td>0.024983</td>\n",
       "      <td>0.029185</td>\n",
       "      <td>0.024222</td>\n",
       "      <td>0.028661</td>\n",
       "      <td>0.030007</td>\n",
       "      <td>0.027691</td>\n",
       "      <td>0.027269</td>\n",
       "    </tr>\n",
       "    <tr>\n",
       "      <th>1</th>\n",
       "      <td>EryP</td>\n",
       "      <td>0.136655</td>\n",
       "      <td>0.113294</td>\n",
       "      <td>0.048880</td>\n",
       "      <td>0.032755</td>\n",
       "      <td>0.024259</td>\n",
       "      <td>0.032750</td>\n",
       "      <td>0.032449</td>\n",
       "      <td>0.030773</td>\n",
       "      <td>0.027123</td>\n",
       "      <td>...</td>\n",
       "      <td>0.027026</td>\n",
       "      <td>0.028533</td>\n",
       "      <td>0.024920</td>\n",
       "      <td>0.029520</td>\n",
       "      <td>0.027053</td>\n",
       "      <td>0.028103</td>\n",
       "      <td>0.027073</td>\n",
       "      <td>0.023174</td>\n",
       "      <td>0.023872</td>\n",
       "      <td>0.025537</td>\n",
       "    </tr>\n",
       "    <tr>\n",
       "      <th>2</th>\n",
       "      <td>HSC</td>\n",
       "      <td>0.628575</td>\n",
       "      <td>0.003720</td>\n",
       "      <td>0.041991</td>\n",
       "      <td>0.029267</td>\n",
       "      <td>0.025890</td>\n",
       "      <td>0.027528</td>\n",
       "      <td>0.026406</td>\n",
       "      <td>0.026309</td>\n",
       "      <td>0.025042</td>\n",
       "      <td>...</td>\n",
       "      <td>0.024779</td>\n",
       "      <td>0.023181</td>\n",
       "      <td>0.023614</td>\n",
       "      <td>0.022091</td>\n",
       "      <td>0.023756</td>\n",
       "      <td>0.020323</td>\n",
       "      <td>0.022232</td>\n",
       "      <td>0.022526</td>\n",
       "      <td>0.020350</td>\n",
       "      <td>0.021006</td>\n",
       "    </tr>\n",
       "    <tr>\n",
       "      <th>3</th>\n",
       "      <td>MasP</td>\n",
       "      <td>0.488781</td>\n",
       "      <td>0.006003</td>\n",
       "      <td>0.074119</td>\n",
       "      <td>0.054235</td>\n",
       "      <td>0.049142</td>\n",
       "      <td>0.048645</td>\n",
       "      <td>0.050635</td>\n",
       "      <td>0.047042</td>\n",
       "      <td>0.042958</td>\n",
       "      <td>...</td>\n",
       "      <td>0.043520</td>\n",
       "      <td>0.040488</td>\n",
       "      <td>0.032411</td>\n",
       "      <td>0.035968</td>\n",
       "      <td>0.039833</td>\n",
       "      <td>0.034853</td>\n",
       "      <td>0.037774</td>\n",
       "      <td>0.036596</td>\n",
       "      <td>0.038255</td>\n",
       "      <td>0.037362</td>\n",
       "    </tr>\n",
       "    <tr>\n",
       "      <th>4</th>\n",
       "      <td>MkP</td>\n",
       "      <td>1.239405</td>\n",
       "      <td>0.151076</td>\n",
       "      <td>0.042048</td>\n",
       "      <td>0.029735</td>\n",
       "      <td>0.036852</td>\n",
       "      <td>0.028465</td>\n",
       "      <td>0.027854</td>\n",
       "      <td>0.024181</td>\n",
       "      <td>0.029674</td>\n",
       "      <td>...</td>\n",
       "      <td>0.024302</td>\n",
       "      <td>0.024047</td>\n",
       "      <td>0.037205</td>\n",
       "      <td>0.029547</td>\n",
       "      <td>0.021144</td>\n",
       "      <td>0.026031</td>\n",
       "      <td>0.022427</td>\n",
       "      <td>0.022470</td>\n",
       "      <td>0.023503</td>\n",
       "      <td>0.021102</td>\n",
       "    </tr>\n",
       "    <tr>\n",
       "      <th>5</th>\n",
       "      <td>MoP</td>\n",
       "      <td>0.905386</td>\n",
       "      <td>0.076862</td>\n",
       "      <td>0.035039</td>\n",
       "      <td>0.024205</td>\n",
       "      <td>0.034551</td>\n",
       "      <td>0.022506</td>\n",
       "      <td>0.024247</td>\n",
       "      <td>0.020820</td>\n",
       "      <td>0.021402</td>\n",
       "      <td>...</td>\n",
       "      <td>0.020553</td>\n",
       "      <td>0.019382</td>\n",
       "      <td>0.018438</td>\n",
       "      <td>0.026032</td>\n",
       "      <td>0.019703</td>\n",
       "      <td>0.024855</td>\n",
       "      <td>0.019872</td>\n",
       "      <td>0.019583</td>\n",
       "      <td>0.017846</td>\n",
       "      <td>0.018108</td>\n",
       "    </tr>\n",
       "    <tr>\n",
       "      <th>6</th>\n",
       "      <td>NeuP</td>\n",
       "      <td>0.120816</td>\n",
       "      <td>0.002167</td>\n",
       "      <td>0.042811</td>\n",
       "      <td>0.028581</td>\n",
       "      <td>0.032344</td>\n",
       "      <td>0.027798</td>\n",
       "      <td>0.028417</td>\n",
       "      <td>0.026207</td>\n",
       "      <td>0.024656</td>\n",
       "      <td>...</td>\n",
       "      <td>0.025707</td>\n",
       "      <td>0.024692</td>\n",
       "      <td>0.027806</td>\n",
       "      <td>0.019985</td>\n",
       "      <td>0.023581</td>\n",
       "      <td>0.024385</td>\n",
       "      <td>0.022459</td>\n",
       "      <td>0.021046</td>\n",
       "      <td>0.020644</td>\n",
       "      <td>0.021603</td>\n",
       "    </tr>\n",
       "    <tr>\n",
       "      <th>7</th>\n",
       "      <td>Overall</td>\n",
       "      <td>0.552128</td>\n",
       "      <td>0.053138</td>\n",
       "      <td>0.048089</td>\n",
       "      <td>0.034015</td>\n",
       "      <td>0.033818</td>\n",
       "      <td>0.032073</td>\n",
       "      <td>0.032001</td>\n",
       "      <td>0.029777</td>\n",
       "      <td>0.029129</td>\n",
       "      <td>...</td>\n",
       "      <td>0.028268</td>\n",
       "      <td>0.027334</td>\n",
       "      <td>0.027139</td>\n",
       "      <td>0.026875</td>\n",
       "      <td>0.026322</td>\n",
       "      <td>0.026110</td>\n",
       "      <td>0.025785</td>\n",
       "      <td>0.025057</td>\n",
       "      <td>0.024595</td>\n",
       "      <td>0.024570</td>\n",
       "    </tr>\n",
       "  </tbody>\n",
       "</table>\n",
       "<p>8 rows × 21 columns</p>\n",
       "</div>"
      ],
      "text/plain": [
       "  Cell Type  ENSG00000010278_CD9  ENSG00000135218_CD36  ENSG00000184897_H1FX  \\\n",
       "0        BP             0.345274              0.018846              0.051737   \n",
       "1      EryP             0.136655              0.113294              0.048880   \n",
       "2       HSC             0.628575              0.003720              0.041991   \n",
       "3      MasP             0.488781              0.006003              0.074119   \n",
       "4       MkP             1.239405              0.151076              0.042048   \n",
       "5       MoP             0.905386              0.076862              0.035039   \n",
       "6      NeuP             0.120816              0.002167              0.042811   \n",
       "7   Overall             0.552128              0.053138              0.048089   \n",
       "\n",
       "   ENSG00000101745_ANKRD12  ENSG00000183971_NPW  ENSG00000124766_SOX4  \\\n",
       "0                 0.039328             0.033687              0.036823   \n",
       "1                 0.032755             0.024259              0.032750   \n",
       "2                 0.029267             0.025890              0.027528   \n",
       "3                 0.054235             0.049142              0.048645   \n",
       "4                 0.029735             0.036852              0.028465   \n",
       "5                 0.024205             0.034551              0.022506   \n",
       "6                 0.028581             0.032344              0.027798   \n",
       "7                 0.034015             0.033818              0.032073   \n",
       "\n",
       "   ENSG00000135655_USP15  ENSG00000134283_PPHLN1  ENSG00000100097_LGALS1  ...  \\\n",
       "0               0.033996                0.033108                0.033051  ...   \n",
       "1               0.032449                0.030773                0.027123  ...   \n",
       "2               0.026406                0.026309                0.025042  ...   \n",
       "3               0.050635                0.047042                0.042958  ...   \n",
       "4               0.027854                0.024181                0.029674  ...   \n",
       "5               0.024247                0.020820                0.021402  ...   \n",
       "6               0.028417                0.026207                0.024656  ...   \n",
       "7               0.032001                0.029777                0.029129  ...   \n",
       "\n",
       "   ENSG00000048649_RSF1  ENSG00000123405_NFE2  ENSG00000197061_HIST1H4C  \\\n",
       "0              0.031992              0.031016                  0.025575   \n",
       "1              0.027026              0.028533                  0.024920   \n",
       "2              0.024779              0.023181                  0.023614   \n",
       "3              0.043520              0.040488                  0.032411   \n",
       "4              0.024302              0.024047                  0.037205   \n",
       "5              0.020553              0.019382                  0.018438   \n",
       "6              0.025707              0.024692                  0.027806   \n",
       "7              0.028268              0.027334                  0.027139   \n",
       "\n",
       "   ENSG00000265972_TXNIP  ENSG00000153310_FAM49B  ENSG00000196565_HBG2  \\\n",
       "0               0.024983                0.029185              0.024222   \n",
       "1               0.029520                0.027053              0.028103   \n",
       "2               0.022091                0.023756              0.020323   \n",
       "3               0.035968                0.039833              0.034853   \n",
       "4               0.029547                0.021144              0.026031   \n",
       "5               0.026032                0.019703              0.024855   \n",
       "6               0.019985                0.023581              0.024385   \n",
       "7               0.026875                0.026322              0.026110   \n",
       "\n",
       "   ENSG00000122779_TRIM24  ENSG00000102007_PLP2  ENSG00000102409_BEX4  \\\n",
       "0                0.028661              0.030007              0.027691   \n",
       "1                0.027073              0.023174              0.023872   \n",
       "2                0.022232              0.022526              0.020350   \n",
       "3                0.037774              0.036596              0.038255   \n",
       "4                0.022427              0.022470              0.023503   \n",
       "5                0.019872              0.019583              0.017846   \n",
       "6                0.022459              0.021046              0.020644   \n",
       "7                0.025785              0.025057              0.024595   \n",
       "\n",
       "   ENSG00000120686_UFM1  \n",
       "0              0.027269  \n",
       "1              0.025537  \n",
       "2              0.021006  \n",
       "3              0.037362  \n",
       "4              0.021102  \n",
       "5              0.018108  \n",
       "6              0.021603  \n",
       "7              0.024570  \n",
       "\n",
       "[8 rows x 21 columns]"
      ]
     },
     "execution_count": 29,
     "metadata": {},
     "output_type": "execute_result"
    }
   ],
   "source": [
    "mean_per_cell_type(attr_all_22085_genes_16[121], ad.AnnData(xtest_all_genes, obs=xtest_16.obs, dtype=xtest_all_genes.dtypes), 20, 'mean')"
   ]
  },
  {
   "cell_type": "code",
   "execution_count": 30,
   "id": "49d4bdb5",
   "metadata": {
    "hidden": true
   },
   "outputs": [
    {
     "name": "stderr",
     "output_type": "stream",
     "text": [
      "X converted to numpy array with dtype float64\n"
     ]
    },
    {
     "data": {
      "text/html": [
       "<div>\n",
       "<style scoped>\n",
       "    .dataframe tbody tr th:only-of-type {\n",
       "        vertical-align: middle;\n",
       "    }\n",
       "\n",
       "    .dataframe tbody tr th {\n",
       "        vertical-align: top;\n",
       "    }\n",
       "\n",
       "    .dataframe thead th {\n",
       "        text-align: right;\n",
       "    }\n",
       "</style>\n",
       "<table border=\"1\" class=\"dataframe\">\n",
       "  <thead>\n",
       "    <tr style=\"text-align: right;\">\n",
       "      <th></th>\n",
       "      <th>Cell Type</th>\n",
       "      <th>ENSG00000010278_CD9</th>\n",
       "      <th>ENSG00000265972_TXNIP</th>\n",
       "      <th>ENSG00000183971_NPW</th>\n",
       "      <th>ENSG00000245532_NEAT1</th>\n",
       "      <th>ENSG00000094916_CBX5</th>\n",
       "      <th>ENSG00000136997_MYC</th>\n",
       "      <th>ENSG00000044574_HSPA5</th>\n",
       "      <th>ENSG00000143013_LMO4</th>\n",
       "      <th>ENSG00000078596_ITM2A</th>\n",
       "      <th>...</th>\n",
       "      <th>ENSG00000167552_TUBA1A</th>\n",
       "      <th>ENSG00000102409_BEX4</th>\n",
       "      <th>ENSG00000122033_MTIF3</th>\n",
       "      <th>ENSG00000196565_HBG2</th>\n",
       "      <th>ENSG00000178057_NDUFAF3</th>\n",
       "      <th>ENSG00000204482_LST1</th>\n",
       "      <th>ENSG00000106211_HSPB1</th>\n",
       "      <th>ENSG00000145734_BDP1</th>\n",
       "      <th>ENSG00000124575_HIST1H1D</th>\n",
       "      <th>ENSG00000125148_MT2A</th>\n",
       "    </tr>\n",
       "  </thead>\n",
       "  <tbody>\n",
       "    <tr>\n",
       "      <th>0</th>\n",
       "      <td>BP</td>\n",
       "      <td>0.293941</td>\n",
       "      <td>0.231850</td>\n",
       "      <td>0.198248</td>\n",
       "      <td>0.155329</td>\n",
       "      <td>0.130741</td>\n",
       "      <td>0.126863</td>\n",
       "      <td>0.125929</td>\n",
       "      <td>0.122794</td>\n",
       "      <td>0.117860</td>\n",
       "      <td>...</td>\n",
       "      <td>0.112670</td>\n",
       "      <td>0.098918</td>\n",
       "      <td>0.106017</td>\n",
       "      <td>0.091842</td>\n",
       "      <td>0.098702</td>\n",
       "      <td>0.098096</td>\n",
       "      <td>0.089925</td>\n",
       "      <td>0.090540</td>\n",
       "      <td>0.090772</td>\n",
       "      <td>0.093812</td>\n",
       "    </tr>\n",
       "    <tr>\n",
       "      <th>1</th>\n",
       "      <td>EryP</td>\n",
       "      <td>0.124157</td>\n",
       "      <td>0.129876</td>\n",
       "      <td>0.086183</td>\n",
       "      <td>0.079545</td>\n",
       "      <td>0.060917</td>\n",
       "      <td>0.059710</td>\n",
       "      <td>0.055760</td>\n",
       "      <td>0.063996</td>\n",
       "      <td>0.053548</td>\n",
       "      <td>...</td>\n",
       "      <td>0.053986</td>\n",
       "      <td>0.044191</td>\n",
       "      <td>0.057913</td>\n",
       "      <td>0.046473</td>\n",
       "      <td>0.051913</td>\n",
       "      <td>0.048726</td>\n",
       "      <td>0.042566</td>\n",
       "      <td>0.040312</td>\n",
       "      <td>0.047756</td>\n",
       "      <td>0.051388</td>\n",
       "    </tr>\n",
       "    <tr>\n",
       "      <th>2</th>\n",
       "      <td>HSC</td>\n",
       "      <td>0.568469</td>\n",
       "      <td>0.430292</td>\n",
       "      <td>0.341437</td>\n",
       "      <td>0.285482</td>\n",
       "      <td>0.233227</td>\n",
       "      <td>0.238491</td>\n",
       "      <td>0.227086</td>\n",
       "      <td>0.225480</td>\n",
       "      <td>0.222682</td>\n",
       "      <td>...</td>\n",
       "      <td>0.203747</td>\n",
       "      <td>0.197696</td>\n",
       "      <td>0.172369</td>\n",
       "      <td>0.181114</td>\n",
       "      <td>0.173962</td>\n",
       "      <td>0.167285</td>\n",
       "      <td>0.171668</td>\n",
       "      <td>0.168320</td>\n",
       "      <td>0.162547</td>\n",
       "      <td>0.162312</td>\n",
       "    </tr>\n",
       "    <tr>\n",
       "      <th>3</th>\n",
       "      <td>MasP</td>\n",
       "      <td>0.434178</td>\n",
       "      <td>0.326899</td>\n",
       "      <td>0.260674</td>\n",
       "      <td>0.212424</td>\n",
       "      <td>0.177440</td>\n",
       "      <td>0.186249</td>\n",
       "      <td>0.177976</td>\n",
       "      <td>0.172126</td>\n",
       "      <td>0.170661</td>\n",
       "      <td>...</td>\n",
       "      <td>0.160300</td>\n",
       "      <td>0.140823</td>\n",
       "      <td>0.137024</td>\n",
       "      <td>0.139454</td>\n",
       "      <td>0.134918</td>\n",
       "      <td>0.134517</td>\n",
       "      <td>0.132241</td>\n",
       "      <td>0.126937</td>\n",
       "      <td>0.123228</td>\n",
       "      <td>0.125258</td>\n",
       "    </tr>\n",
       "    <tr>\n",
       "      <th>4</th>\n",
       "      <td>MkP</td>\n",
       "      <td>1.236105</td>\n",
       "      <td>0.895884</td>\n",
       "      <td>0.744280</td>\n",
       "      <td>0.609649</td>\n",
       "      <td>0.497699</td>\n",
       "      <td>0.495432</td>\n",
       "      <td>0.492131</td>\n",
       "      <td>0.480927</td>\n",
       "      <td>0.473684</td>\n",
       "      <td>...</td>\n",
       "      <td>0.417701</td>\n",
       "      <td>0.368282</td>\n",
       "      <td>0.374562</td>\n",
       "      <td>0.363765</td>\n",
       "      <td>0.371411</td>\n",
       "      <td>0.356967</td>\n",
       "      <td>0.360712</td>\n",
       "      <td>0.349660</td>\n",
       "      <td>0.346803</td>\n",
       "      <td>0.329207</td>\n",
       "    </tr>\n",
       "    <tr>\n",
       "      <th>5</th>\n",
       "      <td>MoP</td>\n",
       "      <td>0.791599</td>\n",
       "      <td>0.594043</td>\n",
       "      <td>0.474342</td>\n",
       "      <td>0.388421</td>\n",
       "      <td>0.328184</td>\n",
       "      <td>0.322209</td>\n",
       "      <td>0.317058</td>\n",
       "      <td>0.303555</td>\n",
       "      <td>0.301773</td>\n",
       "      <td>...</td>\n",
       "      <td>0.285850</td>\n",
       "      <td>0.265025</td>\n",
       "      <td>0.238529</td>\n",
       "      <td>0.243680</td>\n",
       "      <td>0.247346</td>\n",
       "      <td>0.231643</td>\n",
       "      <td>0.230466</td>\n",
       "      <td>0.235372</td>\n",
       "      <td>0.218919</td>\n",
       "      <td>0.227178</td>\n",
       "    </tr>\n",
       "    <tr>\n",
       "      <th>6</th>\n",
       "      <td>NeuP</td>\n",
       "      <td>0.111354</td>\n",
       "      <td>0.102498</td>\n",
       "      <td>0.074488</td>\n",
       "      <td>0.072055</td>\n",
       "      <td>0.060078</td>\n",
       "      <td>0.057457</td>\n",
       "      <td>0.056074</td>\n",
       "      <td>0.055178</td>\n",
       "      <td>0.049452</td>\n",
       "      <td>...</td>\n",
       "      <td>0.047724</td>\n",
       "      <td>0.065103</td>\n",
       "      <td>0.042809</td>\n",
       "      <td>0.051863</td>\n",
       "      <td>0.039454</td>\n",
       "      <td>0.042620</td>\n",
       "      <td>0.041127</td>\n",
       "      <td>0.039202</td>\n",
       "      <td>0.047130</td>\n",
       "      <td>0.038525</td>\n",
       "    </tr>\n",
       "    <tr>\n",
       "      <th>7</th>\n",
       "      <td>Overall</td>\n",
       "      <td>0.508543</td>\n",
       "      <td>0.387334</td>\n",
       "      <td>0.311379</td>\n",
       "      <td>0.257558</td>\n",
       "      <td>0.212612</td>\n",
       "      <td>0.212344</td>\n",
       "      <td>0.207430</td>\n",
       "      <td>0.203437</td>\n",
       "      <td>0.198523</td>\n",
       "      <td>...</td>\n",
       "      <td>0.183140</td>\n",
       "      <td>0.168577</td>\n",
       "      <td>0.161317</td>\n",
       "      <td>0.159742</td>\n",
       "      <td>0.159672</td>\n",
       "      <td>0.154265</td>\n",
       "      <td>0.152672</td>\n",
       "      <td>0.150049</td>\n",
       "      <td>0.148165</td>\n",
       "      <td>0.146811</td>\n",
       "    </tr>\n",
       "  </tbody>\n",
       "</table>\n",
       "<p>8 rows × 21 columns</p>\n",
       "</div>"
      ],
      "text/plain": [
       "  Cell Type  ENSG00000010278_CD9  ENSG00000265972_TXNIP  ENSG00000183971_NPW  \\\n",
       "0        BP             0.293941               0.231850             0.198248   \n",
       "1      EryP             0.124157               0.129876             0.086183   \n",
       "2       HSC             0.568469               0.430292             0.341437   \n",
       "3      MasP             0.434178               0.326899             0.260674   \n",
       "4       MkP             1.236105               0.895884             0.744280   \n",
       "5       MoP             0.791599               0.594043             0.474342   \n",
       "6      NeuP             0.111354               0.102498             0.074488   \n",
       "7   Overall             0.508543               0.387334             0.311379   \n",
       "\n",
       "   ENSG00000245532_NEAT1  ENSG00000094916_CBX5  ENSG00000136997_MYC  \\\n",
       "0               0.155329              0.130741             0.126863   \n",
       "1               0.079545              0.060917             0.059710   \n",
       "2               0.285482              0.233227             0.238491   \n",
       "3               0.212424              0.177440             0.186249   \n",
       "4               0.609649              0.497699             0.495432   \n",
       "5               0.388421              0.328184             0.322209   \n",
       "6               0.072055              0.060078             0.057457   \n",
       "7               0.257558              0.212612             0.212344   \n",
       "\n",
       "   ENSG00000044574_HSPA5  ENSG00000143013_LMO4  ENSG00000078596_ITM2A  ...  \\\n",
       "0               0.125929              0.122794               0.117860  ...   \n",
       "1               0.055760              0.063996               0.053548  ...   \n",
       "2               0.227086              0.225480               0.222682  ...   \n",
       "3               0.177976              0.172126               0.170661  ...   \n",
       "4               0.492131              0.480927               0.473684  ...   \n",
       "5               0.317058              0.303555               0.301773  ...   \n",
       "6               0.056074              0.055178               0.049452  ...   \n",
       "7               0.207430              0.203437               0.198523  ...   \n",
       "\n",
       "   ENSG00000167552_TUBA1A  ENSG00000102409_BEX4  ENSG00000122033_MTIF3  \\\n",
       "0                0.112670              0.098918               0.106017   \n",
       "1                0.053986              0.044191               0.057913   \n",
       "2                0.203747              0.197696               0.172369   \n",
       "3                0.160300              0.140823               0.137024   \n",
       "4                0.417701              0.368282               0.374562   \n",
       "5                0.285850              0.265025               0.238529   \n",
       "6                0.047724              0.065103               0.042809   \n",
       "7                0.183140              0.168577               0.161317   \n",
       "\n",
       "   ENSG00000196565_HBG2  ENSG00000178057_NDUFAF3  ENSG00000204482_LST1  \\\n",
       "0              0.091842                 0.098702              0.098096   \n",
       "1              0.046473                 0.051913              0.048726   \n",
       "2              0.181114                 0.173962              0.167285   \n",
       "3              0.139454                 0.134918              0.134517   \n",
       "4              0.363765                 0.371411              0.356967   \n",
       "5              0.243680                 0.247346              0.231643   \n",
       "6              0.051863                 0.039454              0.042620   \n",
       "7              0.159742                 0.159672              0.154265   \n",
       "\n",
       "   ENSG00000106211_HSPB1  ENSG00000145734_BDP1  ENSG00000124575_HIST1H1D  \\\n",
       "0               0.089925              0.090540                  0.090772   \n",
       "1               0.042566              0.040312                  0.047756   \n",
       "2               0.171668              0.168320                  0.162547   \n",
       "3               0.132241              0.126937                  0.123228   \n",
       "4               0.360712              0.349660                  0.346803   \n",
       "5               0.230466              0.235372                  0.218919   \n",
       "6               0.041127              0.039202                  0.047130   \n",
       "7               0.152672              0.150049                  0.148165   \n",
       "\n",
       "   ENSG00000125148_MT2A  \n",
       "0              0.093812  \n",
       "1              0.051388  \n",
       "2              0.162312  \n",
       "3              0.125258  \n",
       "4              0.329207  \n",
       "5              0.227178  \n",
       "6              0.038525  \n",
       "7              0.146811  \n",
       "\n",
       "[8 rows x 21 columns]"
      ]
     },
     "execution_count": 30,
     "metadata": {},
     "output_type": "execute_result"
    }
   ],
   "source": [
    "mean_per_cell_type(attr_all_22085_genes_17[121], ad.AnnData(xtest_all_genes, obs=xtest_16.obs, dtype=xtest_all_genes.dtypes), 20, 'mean')"
   ]
  }
 ],
 "metadata": {
  "kernelspec": {
   "display_name": "Python 3 (ipykernel)",
   "language": "python",
   "name": "python3"
  },
  "language_info": {
   "codemirror_mode": {
    "name": "ipython",
    "version": 3
   },
   "file_extension": ".py",
   "mimetype": "text/x-python",
   "name": "python",
   "nbconvert_exporter": "python",
   "pygments_lexer": "ipython3",
   "version": "3.8.10"
  }
 },
 "nbformat": 4,
 "nbformat_minor": 5
}
