{
 "cells": [
  {
   "cell_type": "markdown",
   "id": "ca88ceb2",
   "metadata": {},
   "source": [
    "- first part of codebase (https://github.com/makotu1208/open-problems-multimodal-3rd-solution/tree/main): model dictionary, prediction loop etc\n",
    "- get model output\n",
    "- on public data (=codebase) and on private data"
   ]
  },
  {
   "cell_type": "code",
   "execution_count": 15,
   "id": "c365a286",
   "metadata": {},
   "outputs": [],
   "source": [
    "%%capture output\n",
    "!pip install --upgrade pip\n",
    "!pip install --upgrade pandas\n",
    "!pip install tables   \n",
    "# necessary for pd.read_hdf()\n",
    "\n",
    "!pip install ipywidgets\n",
    "!pip install --upgrade jupyter\n",
    "!pip install IProgress\n",
    "!pip install catboost\n",
    "!pip install shap\n",
    "!pip install anndata"
   ]
  },
  {
   "cell_type": "code",
   "execution_count": 16,
   "id": "f1ff9b78",
   "metadata": {},
   "outputs": [],
   "source": [
    "import os\n",
    "import numpy as np\n",
    "import pandas as pd\n",
    "import pickle\n",
    "\n",
    "import anndata as ad"
   ]
  },
  {
   "cell_type": "code",
   "execution_count": 17,
   "id": "4e428bbe",
   "metadata": {},
   "outputs": [],
   "source": [
    "%matplotlib inline\n",
    "from tqdm.notebook import tqdm\n",
    "\n",
    "import torch\n",
    "import torch.nn as nn\n",
    "from torch.nn import functional as F\n",
    "from torch.utils.data import Dataset, DataLoader\n",
    "\n",
    "device = torch.device(\"cuda\") if torch.cuda.is_available() else 'cpu'\n",
    "# pd.set_option('display.max_rows', 500)\n",
    "# pd.set_option('display.max_columns', 500)"
   ]
  },
  {
   "cell_type": "markdown",
   "id": "d2d61450",
   "metadata": {},
   "source": [
    "## data load"
   ]
  },
  {
   "cell_type": "code",
   "execution_count": 18,
   "id": "ccd95c20",
   "metadata": {},
   "outputs": [],
   "source": [
    "lrz_path = '/dss/dssfs02/lwp-dss-0001/pn36po/pn36po-dss-0001/di93zoj/open-problems-multimodal-3rd-solution/'\n",
    "\n",
    "# model_path_for_now = '/dss/dsshome1/02/di93zoj/valentina/open-problems-multimodal-3rd-solution/'\n",
    "\n",
    "raw_path =  lrz_path + 'input/raw/'  # '../../../input/raw/'\n",
    "\n",
    "cite_target_path = lrz_path + 'input/target/cite/'   # '../../../input/target/cite/'\n",
    "cite_feature_path = lrz_path + 'input/features/cite/'   # '../../../input/features/cite/'\n",
    "cite_mlp_path = lrz_path + 'model/cite/mlp/'   # '../../../model/cite/mlp/'   # '../../../model/cite/mlp/'\n",
    "cite_cb_path = lrz_path + 'model/cite/cb/'   # '../../../model/cite/cb/'\n",
    "\n",
    "# multi_target_path = lrz_path + 'input/target/multi/'   # '../../../input/target/multi/'\n",
    "# multi_feature_path = lrz_path + 'input/features/multi/'   # '../../../input/features/multi/'\n",
    "# multi_mlp_path = lrz_path + 'model/multi/mlp/'   # '../../../model/multi/mlp/'\n",
    "# multi_cb_path = lrz_path + 'model/multi/cb/'   # '../../../model/multi/cb/'\n",
    "\n",
    "index_path = lrz_path + 'input/preprocess/cite/'\n",
    "\n",
    "output_path = lrz_path + 'output/'   # '../../../output/'"
   ]
  },
  {
   "cell_type": "markdown",
   "id": "821f2ddb",
   "metadata": {},
   "source": [
    "## Cite   (from codebase)"
   ]
  },
  {
   "cell_type": "markdown",
   "id": "65911e35",
   "metadata": {},
   "source": [
    "prepare models"
   ]
  },
  {
   "cell_type": "code",
   "execution_count": 19,
   "id": "9898826f",
   "metadata": {},
   "outputs": [],
   "source": [
    "# short names of models used in ensemble\n",
    "mlp_model_name = [\n",
    "    'corr_add_con_imp',\n",
    "    'corr_last_v3', \n",
    "    'corr_c_add_w2v_v1_mish_flg',\n",
    "    'corr_c_add_w2v_v1_flg',\n",
    "    'corr_c_add_84_v1',\n",
    "    'corr_c_add_120_v1',\n",
    "    'corr_w2v_cell_flg',\n",
    "    'corr_best_cell_120',\n",
    "    'corr_cluster_cell',\n",
    "    'corr_w2v_128',\n",
    "    'corr_imp_w2v_128',\n",
    "    'corr_snorm',\n",
    "    'corr_best_128',\n",
    "    'corr_best_64',\n",
    "    'corr_cluster_128',\n",
    "    'corr_cluster_64',\n",
    "    'corr_svd_128',\n",
    "    'corr_svd_64',\n",
    "             ]"
   ]
  },
  {
   "cell_type": "code",
   "execution_count": 20,
   "id": "9345145c",
   "metadata": {},
   "outputs": [
    {
     "data": {
      "text/plain": [
       "['cite_mlp_corr_add_con_imp_flg_donor_val_50',\n",
       " 'cite_mlp_corr_last_v3_flg_donor_val_55',\n",
       " 'cite_mlp_corr_c_add_w2v_v1_mish_flg_donor_val_66',\n",
       " 'cite_mlp_corr_c_add_w2v_v1_flg_donor_val_66',\n",
       " 'cite_mlp_corr_c_add_84_v1_flg_donor_val_47',\n",
       " 'cite_mlp_corr_c_add_120_v1_flg_donor_val_63',\n",
       " 'cite_mlp_corr_w2v_cell_flg_donor_val_51',\n",
       " 'cite_mlp_corr_best_cell_120_flg_donor_val_51',\n",
       " 'cite_mlp_corr_cluster_cell_flg_donor_val_64',\n",
       " 'cite_mlp_corr_w2v_128_flg_donor_val_42',\n",
       " 'cite_mlp_corr_imp_w2v_128_flg_donor_val_38',\n",
       " 'cite_mlp_corr_snorm_flg_donor_val_39',\n",
       " 'cite_mlp_corr_best_128_flg_donor_val_45',\n",
       " 'cite_mlp_corr_best_64_flg_donor_val_50',\n",
       " 'cite_mlp_corr_cluster_128_flg_donor_val_51',\n",
       " 'cite_mlp_corr_cluster_64_flg_donor_val_57',\n",
       " 'cite_mlp_corr_svd_128_flg_donor_val_30',\n",
       " 'cite_mlp_corr_svd_64_flg_donor_val_38']"
      ]
     },
     "execution_count": 20,
     "metadata": {},
     "output_type": "execute_result"
    }
   ],
   "source": [
    "# create model_name_list containing the actual file name of each model from mlp_model_name\n",
    "model_name_list = []\n",
    "\n",
    "for i in mlp_model_name:\n",
    "    for num, j in enumerate(os.listdir(cite_mlp_path)):\n",
    "        if i in j:\n",
    "            model_name_list.append(j)\n",
    "\n",
    "# len(model_name_list)\n",
    "model_name_list"
   ]
  },
  {
   "cell_type": "code",
   "execution_count": 21,
   "id": "31fdff45",
   "metadata": {},
   "outputs": [],
   "source": [
    "# list of file names: test sets that correspond to each model in model_name_list\n",
    "# weights used for weighting model predictions in ensemble\n",
    "weight = [1, 0.3, 1, 1, 1, 1, 1, 1, 1, 0.8, 0.8, 0.8, 0.8, 0.5, 0.5, 0.5, 1, 1, 2, 2]\n",
    "weight_sum = np.array(weight).sum()    # == 19\n",
    "\n",
    "# create dict of shape {model_name: [test set, weight]}\n",
    "model_feat_dict = {model_name_list[0]:['X_test_add_con_imp.pickle', 1],\n",
    "                   model_name_list[1]:['X_test_last_v3.pickle', 0.3],\n",
    "                   model_name_list[2]:['X_test_c_add_w2v_v1.pickle', 1],\n",
    "                   model_name_list[3]:['X_test_c_add_w2v_v1.pickle', 1],\n",
    "                   model_name_list[4]:['X_test_c_add_84_v1.pickle', 1],\n",
    "                   model_name_list[5]:['X_test_c_add_v1.pickle', 1],\n",
    "                   \n",
    "                   model_name_list[6]:['X_test_feature_w2v_cell.pickle', 1],\n",
    "                   model_name_list[7]:['X_test_best_cell_128_120.pickle', 1],\n",
    "                   model_name_list[8]:['X_test_cluster_cell_128.pickle', 1],\n",
    "                   \n",
    "                   model_name_list[9]:['X_test_feature_w2v.pickle', 0.8],\n",
    "                   model_name_list[10]:['X_test_feature_imp_w2v.pickle',0.8],\n",
    "                   model_name_list[11]:['X_test_feature_snorm.pickle', 0.8],\n",
    "                   model_name_list[12]:['X_test_best_128.pickle', 0.8],\n",
    "                   model_name_list[13]:['X_test_best_64.pickle', 0.5],\n",
    "                   model_name_list[14]:['X_test_cluster_128.pickle', 0.5],\n",
    "                   model_name_list[15]:['X_test_cluster_64.pickle', 0.5],\n",
    "                   model_name_list[16]:['X_test_svd_128.pickle', 1],\n",
    "                   model_name_list[17]:['X_test_svd_64.pickle', 1],\n",
    "                   \n",
    "                   'best_128':['X_test_best_128.pickle', 2],\n",
    "                   'best_64':['X_test_best_64.pickle', 2],\n",
    "                  }"
   ]
  },
  {
   "cell_type": "markdown",
   "id": "70081ec6",
   "metadata": {},
   "source": [
    "### cite model   (from codebase)"
   ]
  },
  {
   "cell_type": "code",
   "execution_count": 22,
   "id": "e7a305d0",
   "metadata": {},
   "outputs": [],
   "source": [
    "def std(x):\n",
    "    x = np.array(x)\n",
    "    return (x - x.mean(1).reshape(-1, 1)) / x.std(1).reshape(-1, 1)"
   ]
  },
  {
   "cell_type": "code",
   "execution_count": 23,
   "id": "d1d8dcb2",
   "metadata": {},
   "outputs": [],
   "source": [
    "# class CiteDataset(Dataset):\n",
    "    \n",
    "#     def __init__(self, feature, target):\n",
    "        \n",
    "#         self.feature = feature\n",
    "#         self.target = target\n",
    "        \n",
    "#     def __len__(self):\n",
    "#         return len(self.feature)\n",
    "    \n",
    "#     def __getitem__(self, index):\n",
    "                \n",
    "#         d = {\n",
    "#             \"X\": self.feature[index],\n",
    "#             \"y\" : self.target[index],\n",
    "#         }\n",
    "#         return d"
   ]
  },
  {
   "cell_type": "code",
   "execution_count": 24,
   "id": "d6d5b501",
   "metadata": {},
   "outputs": [],
   "source": [
    "class CiteDataset_test(Dataset):\n",
    "    \n",
    "    def __init__(self, feature):\n",
    "        self.feature = feature\n",
    "        \n",
    "    def __len__(self):\n",
    "        return len(self.feature)\n",
    "    \n",
    "    def __getitem__(self, index):\n",
    "                \n",
    "        d = {\n",
    "            \"X\": self.feature[index]\n",
    "        }\n",
    "        return d"
   ]
  },
  {
   "cell_type": "code",
   "execution_count": 25,
   "id": "9da37ba1",
   "metadata": {},
   "outputs": [],
   "source": [
    "# def partial_correlation_score_torch_faster(y_true, y_pred):\n",
    "#     \"\"\"Compute the correlation between each rows of the y_true and y_pred tensors.\n",
    "#     Compatible with backpropagation.\n",
    "#     \"\"\"\n",
    "#     y_true_centered = y_true - torch.mean(y_true, dim=1)[:,None]\n",
    "#     y_pred_centered = y_pred - torch.mean(y_pred, dim=1)[:,None]\n",
    "#     cov_tp = torch.sum(y_true_centered*y_pred_centered, dim=1)/(y_true.shape[1]-1)\n",
    "#     var_t = torch.sum(y_true_centered**2, dim=1)/(y_true.shape[1]-1)\n",
    "#     var_p = torch.sum(y_pred_centered**2, dim=1)/(y_true.shape[1]-1)\n",
    "#     return cov_tp/torch.sqrt(var_t*var_p)\n",
    "\n",
    "# def correl_loss(pred, tgt):\n",
    "#     \"\"\"Loss for directly optimizing the correlation.\n",
    "#     \"\"\"\n",
    "#     return -torch.mean(partial_correlation_score_torch_faster(tgt, pred))"
   ]
  },
  {
   "cell_type": "code",
   "execution_count": 26,
   "id": "be976654",
   "metadata": {},
   "outputs": [],
   "source": [
    "class CiteModel(nn.Module):\n",
    "    \n",
    "    def __init__(self, feature_num):\n",
    "        super(CiteModel, self).__init__()\n",
    "        \n",
    "        self.layer_seq_256 = nn.Sequential(nn.Linear(feature_num, 256),\n",
    "                                           nn.Linear(256, 128),\n",
    "                                       nn.LayerNorm(128),\n",
    "                                       nn.ReLU(),\n",
    "                                      )\n",
    "        self.layer_seq_64 = nn.Sequential(nn.Linear(128, 64),\n",
    "                                       nn.Linear(64, 32),\n",
    "                                       nn.LayerNorm(32),\n",
    "                                       nn.ReLU(),\n",
    "                                      )\n",
    "        self.layer_seq_8 = nn.Sequential(nn.Linear(32, 16),\n",
    "                                         nn.Linear(16, 8),\n",
    "                                       nn.LayerNorm(8),\n",
    "                                       nn.ReLU(),\n",
    "                                      )\n",
    "        \n",
    "        self.head = nn.Linear(128 + 32 + 8, 140)\n",
    "                   \n",
    "    def forward(self, X, y=None):\n",
    "        \n",
    "        from_numpy = False\n",
    "        \n",
    "      ##\n",
    "        if isinstance(X, np.ndarray):\n",
    "            X = torch.from_numpy(X)\n",
    "            from_numpy = True\n",
    "        X = X.to(device)  # Move the input to the appropriate device if necessary\n",
    "        ##\n",
    "        X_256 = self.layer_seq_256(X)\n",
    "        X_64 = self.layer_seq_64(X_256)\n",
    "        X_8 = self.layer_seq_8(X_64)\n",
    "        \n",
    "        X = torch.cat([X_256, X_64, X_8], axis = 1)\n",
    "        out = self.head(X)\n",
    "        \n",
    "        if from_numpy:\n",
    "            out = out.cpu().detach().numpy()\n",
    "            \n",
    "        return out"
   ]
  },
  {
   "cell_type": "code",
   "execution_count": 27,
   "id": "737d51d2",
   "metadata": {},
   "outputs": [],
   "source": [
    "class CiteModel_mish(nn.Module):\n",
    "    \n",
    "    def __init__(self, feature_num):\n",
    "        super(CiteModel_mish, self).__init__()\n",
    "        \n",
    "        self.layer_seq_256 = nn.Sequential(nn.Linear(feature_num, 256),\n",
    "                                           nn.Linear(256, 128),\n",
    "                                       nn.LayerNorm(128),\n",
    "                                       nn.Mish(),\n",
    "                                      )\n",
    "        self.layer_seq_64 = nn.Sequential(nn.Linear(128, 64),\n",
    "                                       nn.Linear(64, 32),\n",
    "                                       nn.LayerNorm(32),\n",
    "                                       nn.Mish(),\n",
    "                                      )\n",
    "        self.layer_seq_8 = nn.Sequential(nn.Linear(32, 16),\n",
    "                                         nn.Linear(16, 8),\n",
    "                                       nn.LayerNorm(8),\n",
    "                                       nn.Mish(),\n",
    "                                      )\n",
    "        \n",
    "        self.head = nn.Linear(128 + 32 + 8, 140)\n",
    "                   \n",
    "    def forward(self, X, y=None):\n",
    "    \n",
    "        X_256 = self.layer_seq_256(X)\n",
    "        X_64 = self.layer_seq_64(X_256)\n",
    "        X_8 = self.layer_seq_8(X_64)\n",
    "        \n",
    "        X = torch.cat([X_256, X_64, X_8], axis = 1)\n",
    "        out = self.head(X)\n",
    "        \n",
    "        return out"
   ]
  },
  {
   "cell_type": "code",
   "execution_count": 28,
   "id": "1c7d9416",
   "metadata": {},
   "outputs": [],
   "source": [
    "# def train_loop(model, optimizer, loader, epoch):\n",
    "    \n",
    "#     losses, lrs = [], []\n",
    "#     model.train()\n",
    "#     optimizer.zero_grad()\n",
    "#     #loss_fn = nn.MSELoss()\n",
    "    \n",
    "#     with tqdm(total=len(loader),unit=\"batch\") as pbar:\n",
    "#         pbar.set_description(f\"Epoch{epoch}\")\n",
    "        \n",
    "#         for d in loader:\n",
    "#             X = d['X'].to(device)\n",
    "#             y = d['y'].to(device)\n",
    "            \n",
    "#             logits = model(X)\n",
    "#             loss = correl_loss(logits, y)\n",
    "#             #loss = torch.sqrt(loss_fn(logits, y))\n",
    "        \n",
    "#             optimizer.zero_grad()\n",
    "#             loss.backward()\n",
    "#             optimizer.step()\n",
    "            \n",
    "#             pbar.set_postfix({\"loss\":loss.item()})\n",
    "#             pbar.update(1)\n",
    "\n",
    "#     return model"
   ]
  },
  {
   "cell_type": "code",
   "execution_count": 29,
   "id": "2bbad2b8",
   "metadata": {},
   "outputs": [],
   "source": [
    "# def valid_loop(model, loader, y_val):\n",
    "    \n",
    "#     model.eval()\n",
    "#     partial_correlation_scores = []\n",
    "#     oof_pred = []\n",
    "    \n",
    "#     for d in loader:\n",
    "#         with torch.no_grad():\n",
    "#             val_X = d['X'].to(device).float()\n",
    "#             val_y = d['y'].to(device)\n",
    "#             logits = model(val_X)\n",
    "#             oof_pred.append(logits)\n",
    "    \n",
    "#     #print(torch.cat(oof_pred).shape, torch.cat(oof_pred).detach().cpu().numpy().shape)\n",
    "#     cor = partial_correlation_score_torch_faster(torch.tensor(y_val).to(device), torch.cat(oof_pred))\n",
    "#     cor = cor.mean().item()\n",
    "#     logits = torch.cat(oof_pred).detach().cpu().numpy()\n",
    "    \n",
    "#     return logits, cor"
   ]
  },
  {
   "cell_type": "code",
   "execution_count": 30,
   "id": "7ee37e39",
   "metadata": {},
   "outputs": [],
   "source": [
    "def test_loop(model, loader):\n",
    "    \n",
    "    model.eval()\n",
    "    predicts=[]\n",
    "\n",
    "    for d in tqdm(loader):\n",
    "        with torch.no_grad():\n",
    "            X = d['X'].to(device)\n",
    "            logits = model(X)\n",
    "            predicts.append(logits.detach().cpu().numpy())\n",
    "            \n",
    "    return np.concatenate(predicts)"
   ]
  },
  {
   "cell_type": "markdown",
   "id": "1b59962b",
   "metadata": {},
   "source": [
    "### ensemble prediction: use all models, sum weighted predictions"
   ]
  },
  {
   "cell_type": "code",
   "execution_count": 31,
   "id": "7a0351cd",
   "metadata": {
    "scrolled": true
   },
   "outputs": [
    {
     "name": "stdout",
     "output_type": "stream",
     "text": [
      "cite_mlp_corr_add_con_imp_flg_donor_val_50\n"
     ]
    },
    {
     "data": {
      "application/vnd.jupyter.widget-view+json": {
       "model_id": "008291413bbc4af6a06f63698b46e8f2",
       "version_major": 2,
       "version_minor": 0
      },
      "text/plain": [
       "  0%|          | 0/377 [00:00<?, ?it/s]"
      ]
     },
     "metadata": {},
     "output_type": "display_data"
    },
    {
     "name": "stdout",
     "output_type": "stream",
     "text": [
      "cite_mlp_corr_last_v3_flg_donor_val_55\n"
     ]
    },
    {
     "data": {
      "application/vnd.jupyter.widget-view+json": {
       "model_id": "c88158293bbe4425bbaec983fb3a321c",
       "version_major": 2,
       "version_minor": 0
      },
      "text/plain": [
       "  0%|          | 0/377 [00:00<?, ?it/s]"
      ]
     },
     "metadata": {},
     "output_type": "display_data"
    },
    {
     "name": "stdout",
     "output_type": "stream",
     "text": [
      "cite_mlp_corr_c_add_w2v_v1_mish_flg_donor_val_66\n"
     ]
    },
    {
     "data": {
      "application/vnd.jupyter.widget-view+json": {
       "model_id": "8f06725111e341ceb714c02267be42b8",
       "version_major": 2,
       "version_minor": 0
      },
      "text/plain": [
       "  0%|          | 0/377 [00:00<?, ?it/s]"
      ]
     },
     "metadata": {},
     "output_type": "display_data"
    },
    {
     "name": "stdout",
     "output_type": "stream",
     "text": [
      "cite_mlp_corr_c_add_w2v_v1_flg_donor_val_66\n"
     ]
    },
    {
     "data": {
      "application/vnd.jupyter.widget-view+json": {
       "model_id": "e3f534a09890481ab17525795ae5aeb6",
       "version_major": 2,
       "version_minor": 0
      },
      "text/plain": [
       "  0%|          | 0/377 [00:00<?, ?it/s]"
      ]
     },
     "metadata": {},
     "output_type": "display_data"
    },
    {
     "name": "stdout",
     "output_type": "stream",
     "text": [
      "cite_mlp_corr_c_add_84_v1_flg_donor_val_47\n"
     ]
    },
    {
     "data": {
      "application/vnd.jupyter.widget-view+json": {
       "model_id": "4c9d3f26f39b448b945b96215da927ec",
       "version_major": 2,
       "version_minor": 0
      },
      "text/plain": [
       "  0%|          | 0/377 [00:00<?, ?it/s]"
      ]
     },
     "metadata": {},
     "output_type": "display_data"
    },
    {
     "name": "stdout",
     "output_type": "stream",
     "text": [
      "cite_mlp_corr_c_add_120_v1_flg_donor_val_63\n"
     ]
    },
    {
     "data": {
      "application/vnd.jupyter.widget-view+json": {
       "model_id": "af275b2538544ca28396074e3e82cbaa",
       "version_major": 2,
       "version_minor": 0
      },
      "text/plain": [
       "  0%|          | 0/377 [00:00<?, ?it/s]"
      ]
     },
     "metadata": {},
     "output_type": "display_data"
    },
    {
     "name": "stdout",
     "output_type": "stream",
     "text": [
      "cite_mlp_corr_w2v_cell_flg_donor_val_51\n"
     ]
    },
    {
     "data": {
      "application/vnd.jupyter.widget-view+json": {
       "model_id": "3f7b4a15d51c4f99b1d95e1fc9d93aae",
       "version_major": 2,
       "version_minor": 0
      },
      "text/plain": [
       "  0%|          | 0/377 [00:00<?, ?it/s]"
      ]
     },
     "metadata": {},
     "output_type": "display_data"
    },
    {
     "name": "stdout",
     "output_type": "stream",
     "text": [
      "cite_mlp_corr_best_cell_120_flg_donor_val_51\n"
     ]
    },
    {
     "data": {
      "application/vnd.jupyter.widget-view+json": {
       "model_id": "70091b568ed04d9c9eb3805465f3c808",
       "version_major": 2,
       "version_minor": 0
      },
      "text/plain": [
       "  0%|          | 0/377 [00:00<?, ?it/s]"
      ]
     },
     "metadata": {},
     "output_type": "display_data"
    },
    {
     "name": "stdout",
     "output_type": "stream",
     "text": [
      "cite_mlp_corr_cluster_cell_flg_donor_val_64\n"
     ]
    },
    {
     "data": {
      "application/vnd.jupyter.widget-view+json": {
       "model_id": "46521507735148c6a6cf7714b7c5d2ab",
       "version_major": 2,
       "version_minor": 0
      },
      "text/plain": [
       "  0%|          | 0/377 [00:00<?, ?it/s]"
      ]
     },
     "metadata": {},
     "output_type": "display_data"
    },
    {
     "name": "stdout",
     "output_type": "stream",
     "text": [
      "cite_mlp_corr_w2v_128_flg_donor_val_42\n",
      "cite_mlp_corr_w2v_128_flg_donor_val_42\n",
      "pickle data was truncated\n",
      "cite_mlp_corr_imp_w2v_128_flg_donor_val_38\n"
     ]
    },
    {
     "data": {
      "application/vnd.jupyter.widget-view+json": {
       "model_id": "250caadb33044871b3214508f31ffb27",
       "version_major": 2,
       "version_minor": 0
      },
      "text/plain": [
       "  0%|          | 0/377 [00:00<?, ?it/s]"
      ]
     },
     "metadata": {},
     "output_type": "display_data"
    },
    {
     "name": "stdout",
     "output_type": "stream",
     "text": [
      "cite_mlp_corr_snorm_flg_donor_val_39\n"
     ]
    },
    {
     "data": {
      "application/vnd.jupyter.widget-view+json": {
       "model_id": "c626cd6bb3294e0291be692e732f10f0",
       "version_major": 2,
       "version_minor": 0
      },
      "text/plain": [
       "  0%|          | 0/377 [00:00<?, ?it/s]"
      ]
     },
     "metadata": {},
     "output_type": "display_data"
    },
    {
     "name": "stdout",
     "output_type": "stream",
     "text": [
      "cite_mlp_corr_best_128_flg_donor_val_45\n"
     ]
    },
    {
     "data": {
      "application/vnd.jupyter.widget-view+json": {
       "model_id": "512e4dd349424d709cf112e63503e1f2",
       "version_major": 2,
       "version_minor": 0
      },
      "text/plain": [
       "  0%|          | 0/377 [00:00<?, ?it/s]"
      ]
     },
     "metadata": {},
     "output_type": "display_data"
    },
    {
     "name": "stdout",
     "output_type": "stream",
     "text": [
      "cite_mlp_corr_best_64_flg_donor_val_50\n"
     ]
    },
    {
     "data": {
      "application/vnd.jupyter.widget-view+json": {
       "model_id": "965228a8b6214b9e8060123b36fdb1a5",
       "version_major": 2,
       "version_minor": 0
      },
      "text/plain": [
       "  0%|          | 0/377 [00:00<?, ?it/s]"
      ]
     },
     "metadata": {},
     "output_type": "display_data"
    },
    {
     "name": "stdout",
     "output_type": "stream",
     "text": [
      "cite_mlp_corr_cluster_128_flg_donor_val_51\n",
      "cite_mlp_corr_cluster_128_flg_donor_val_51\n",
      "pickle data was truncated\n",
      "cite_mlp_corr_cluster_64_flg_donor_val_57\n"
     ]
    },
    {
     "data": {
      "application/vnd.jupyter.widget-view+json": {
       "model_id": "1a28bbcdf7674b2f9a99420c6791afda",
       "version_major": 2,
       "version_minor": 0
      },
      "text/plain": [
       "  0%|          | 0/377 [00:00<?, ?it/s]"
      ]
     },
     "metadata": {},
     "output_type": "display_data"
    },
    {
     "name": "stdout",
     "output_type": "stream",
     "text": [
      "cite_mlp_corr_svd_128_flg_donor_val_30\n"
     ]
    },
    {
     "data": {
      "application/vnd.jupyter.widget-view+json": {
       "model_id": "206728022397489ea5147f082a087730",
       "version_major": 2,
       "version_minor": 0
      },
      "text/plain": [
       "  0%|          | 0/377 [00:00<?, ?it/s]"
      ]
     },
     "metadata": {},
     "output_type": "display_data"
    },
    {
     "name": "stdout",
     "output_type": "stream",
     "text": [
      "cite_mlp_corr_svd_64_flg_donor_val_38\n"
     ]
    },
    {
     "data": {
      "application/vnd.jupyter.widget-view+json": {
       "model_id": "c58ad8d09b1b458383aa0d2c6e7ad9ff",
       "version_major": 2,
       "version_minor": 0
      },
      "text/plain": [
       "  0%|          | 0/377 [00:00<?, ?it/s]"
      ]
     },
     "metadata": {},
     "output_type": "display_data"
    },
    {
     "name": "stdout",
     "output_type": "stream",
     "text": [
      "best_128\n"
     ]
    },
    {
     "data": {
      "application/vnd.jupyter.widget-view+json": {
       "model_id": "9898e6f4099146de947d6f15b1534819",
       "version_major": 2,
       "version_minor": 0
      },
      "text/plain": [
       "  0%|          | 0/140 [00:00<?, ?it/s]"
      ]
     },
     "metadata": {},
     "output_type": "display_data"
    },
    {
     "name": "stderr",
     "output_type": "stream",
     "text": [
      "TBB Warning: The number of workers is currently limited to 7. The request for 79 workers is ignored. Further requests for more workers will be silently ignored until the limit changes.\n",
      "\n"
     ]
    },
    {
     "name": "stdout",
     "output_type": "stream",
     "text": [
      "best_64\n"
     ]
    },
    {
     "data": {
      "application/vnd.jupyter.widget-view+json": {
       "model_id": "457f061fbb63496ca92e64c366601209",
       "version_major": 2,
       "version_minor": 0
      },
      "text/plain": [
       "  0%|          | 0/140 [00:00<?, ?it/s]"
      ]
     },
     "metadata": {},
     "output_type": "display_data"
    }
   ],
   "source": [
    "pred = np.zeros([48203, 140])\n",
    "\n",
    "for num, i in enumerate(model_feat_dict.keys()):\n",
    "    \n",
    "    print(i)\n",
    "    \n",
    "    if 'mlp' in i:\n",
    "\n",
    "        try:\n",
    "            test_file = model_feat_dict[i][0]\n",
    "            test_weight = model_feat_dict[i][1]\n",
    "            X_test = pd.read_pickle(cite_feature_path  + test_file)   \n",
    "            # print(cite_feature_path  + test_file)\n",
    "            X_test = np.array(X_test)\n",
    "            feature_dims = X_test.shape[1]\n",
    "\n",
    "            test_ds = CiteDataset_test(X_test)\n",
    "            test_dataloader = DataLoader(test_ds, batch_size=128, pin_memory=True, \n",
    "                                         shuffle=False, drop_last=False, num_workers=4)\n",
    "\n",
    "            if 'mish' in i:\n",
    "                model = CiteModel_mish(feature_dims)\n",
    "            else:\n",
    "                model = CiteModel(feature_dims)\n",
    "\n",
    "            model = model.to(device)\n",
    "            model.load_state_dict(torch.load(f'{cite_mlp_path}/{i}'))\n",
    "\n",
    "            result = test_loop(model, test_dataloader).astype(np.float32)\n",
    "            result = std(result) * test_weight / weight_sum\n",
    "            pred += result\n",
    "\n",
    "            torch.cuda.empty_cache()\n",
    "\n",
    "        except Exception as e: \n",
    "            print(i)\n",
    "            print(e)             # TODOOOOOOOOOOOOOO\n",
    "        \n",
    "    else:\n",
    "        test_file = model_feat_dict[i][0]\n",
    "        test_weight = model_feat_dict[i][1]\n",
    "        X_test = pd.read_pickle(cite_feature_path  + test_file)\n",
    "        \n",
    "        cb_pred = np.zeros([48203, 140])\n",
    "        \n",
    "        for t in tqdm(range(140)): \n",
    "            cb_model_path = [j for j in os.listdir(cite_cb_path) if f'cb_{t}_{i}' in j][0]\n",
    "            cb = pickle.load(open(cite_cb_path + cb_model_path, 'rb'))\n",
    "            cb_pred[:,t] = cb.predict(X_test)\n",
    "            \n",
    "        cb_pred = cb_pred.astype(np.float32)\n",
    "        pred += std(cb_pred) * test_weight / weight_sum\n",
    "        \n",
    "        del cb_pred"
   ]
  },
  {
   "cell_type": "code",
   "execution_count": 32,
   "id": "3559128c",
   "metadata": {},
   "outputs": [
    {
     "data": {
      "text/html": [
       "<div>\n",
       "<style scoped>\n",
       "    .dataframe tbody tr th:only-of-type {\n",
       "        vertical-align: middle;\n",
       "    }\n",
       "\n",
       "    .dataframe tbody tr th {\n",
       "        vertical-align: top;\n",
       "    }\n",
       "\n",
       "    .dataframe thead th {\n",
       "        text-align: right;\n",
       "    }\n",
       "</style>\n",
       "<table border=\"1\" class=\"dataframe\">\n",
       "  <thead>\n",
       "    <tr style=\"text-align: right;\">\n",
       "      <th></th>\n",
       "      <th>0</th>\n",
       "      <th>1</th>\n",
       "      <th>2</th>\n",
       "      <th>3</th>\n",
       "      <th>4</th>\n",
       "      <th>5</th>\n",
       "      <th>6</th>\n",
       "      <th>7</th>\n",
       "      <th>8</th>\n",
       "      <th>9</th>\n",
       "      <th>...</th>\n",
       "      <th>130</th>\n",
       "      <th>131</th>\n",
       "      <th>132</th>\n",
       "      <th>133</th>\n",
       "      <th>134</th>\n",
       "      <th>135</th>\n",
       "      <th>136</th>\n",
       "      <th>137</th>\n",
       "      <th>138</th>\n",
       "      <th>139</th>\n",
       "    </tr>\n",
       "  </thead>\n",
       "  <tbody>\n",
       "    <tr>\n",
       "      <th>0</th>\n",
       "      <td>-0.325767</td>\n",
       "      <td>-0.487738</td>\n",
       "      <td>-0.351139</td>\n",
       "      <td>1.035394</td>\n",
       "      <td>0.867302</td>\n",
       "      <td>2.263471</td>\n",
       "      <td>3.314403</td>\n",
       "      <td>-0.490992</td>\n",
       "      <td>-0.422089</td>\n",
       "      <td>-0.312560</td>\n",
       "      <td>...</td>\n",
       "      <td>-0.514007</td>\n",
       "      <td>1.841981</td>\n",
       "      <td>-0.389785</td>\n",
       "      <td>-0.518213</td>\n",
       "      <td>-0.500604</td>\n",
       "      <td>-0.341130</td>\n",
       "      <td>-0.016153</td>\n",
       "      <td>-0.317298</td>\n",
       "      <td>0.038913</td>\n",
       "      <td>0.358591</td>\n",
       "    </tr>\n",
       "    <tr>\n",
       "      <th>1</th>\n",
       "      <td>-0.293307</td>\n",
       "      <td>-0.470185</td>\n",
       "      <td>-0.351417</td>\n",
       "      <td>1.042340</td>\n",
       "      <td>0.918223</td>\n",
       "      <td>2.295353</td>\n",
       "      <td>3.557569</td>\n",
       "      <td>-0.485068</td>\n",
       "      <td>-0.415240</td>\n",
       "      <td>-0.313825</td>\n",
       "      <td>...</td>\n",
       "      <td>-0.503055</td>\n",
       "      <td>1.824850</td>\n",
       "      <td>-0.384038</td>\n",
       "      <td>-0.505780</td>\n",
       "      <td>-0.490800</td>\n",
       "      <td>-0.358872</td>\n",
       "      <td>-0.072174</td>\n",
       "      <td>-0.322904</td>\n",
       "      <td>0.059740</td>\n",
       "      <td>0.321151</td>\n",
       "    </tr>\n",
       "    <tr>\n",
       "      <th>2</th>\n",
       "      <td>-0.337575</td>\n",
       "      <td>-0.449081</td>\n",
       "      <td>-0.328770</td>\n",
       "      <td>1.541549</td>\n",
       "      <td>1.271137</td>\n",
       "      <td>1.486816</td>\n",
       "      <td>4.438023</td>\n",
       "      <td>-0.463581</td>\n",
       "      <td>-0.391279</td>\n",
       "      <td>-0.423727</td>\n",
       "      <td>...</td>\n",
       "      <td>-0.481228</td>\n",
       "      <td>3.009236</td>\n",
       "      <td>-0.364641</td>\n",
       "      <td>-0.482254</td>\n",
       "      <td>-0.440961</td>\n",
       "      <td>-0.381973</td>\n",
       "      <td>0.338987</td>\n",
       "      <td>-0.273810</td>\n",
       "      <td>0.168474</td>\n",
       "      <td>0.670328</td>\n",
       "    </tr>\n",
       "    <tr>\n",
       "      <th>3</th>\n",
       "      <td>-0.545628</td>\n",
       "      <td>-0.456024</td>\n",
       "      <td>-0.227837</td>\n",
       "      <td>1.033564</td>\n",
       "      <td>1.055734</td>\n",
       "      <td>0.821383</td>\n",
       "      <td>-0.552602</td>\n",
       "      <td>-0.326394</td>\n",
       "      <td>-0.313855</td>\n",
       "      <td>-0.501781</td>\n",
       "      <td>...</td>\n",
       "      <td>-0.521892</td>\n",
       "      <td>1.962048</td>\n",
       "      <td>-0.208805</td>\n",
       "      <td>-0.564016</td>\n",
       "      <td>-0.543048</td>\n",
       "      <td>-0.270563</td>\n",
       "      <td>1.487399</td>\n",
       "      <td>-0.492805</td>\n",
       "      <td>1.326041</td>\n",
       "      <td>0.386401</td>\n",
       "    </tr>\n",
       "    <tr>\n",
       "      <th>4</th>\n",
       "      <td>-0.431234</td>\n",
       "      <td>-0.457296</td>\n",
       "      <td>-0.305963</td>\n",
       "      <td>1.119193</td>\n",
       "      <td>1.234073</td>\n",
       "      <td>1.999678</td>\n",
       "      <td>0.747365</td>\n",
       "      <td>-0.422706</td>\n",
       "      <td>-0.372396</td>\n",
       "      <td>-0.273251</td>\n",
       "      <td>...</td>\n",
       "      <td>-0.458921</td>\n",
       "      <td>1.382753</td>\n",
       "      <td>-0.385671</td>\n",
       "      <td>-0.452952</td>\n",
       "      <td>-0.536544</td>\n",
       "      <td>-0.331111</td>\n",
       "      <td>0.439839</td>\n",
       "      <td>-0.444841</td>\n",
       "      <td>0.263023</td>\n",
       "      <td>0.104704</td>\n",
       "    </tr>\n",
       "    <tr>\n",
       "      <th>...</th>\n",
       "      <td>...</td>\n",
       "      <td>...</td>\n",
       "      <td>...</td>\n",
       "      <td>...</td>\n",
       "      <td>...</td>\n",
       "      <td>...</td>\n",
       "      <td>...</td>\n",
       "      <td>...</td>\n",
       "      <td>...</td>\n",
       "      <td>...</td>\n",
       "      <td>...</td>\n",
       "      <td>...</td>\n",
       "      <td>...</td>\n",
       "      <td>...</td>\n",
       "      <td>...</td>\n",
       "      <td>...</td>\n",
       "      <td>...</td>\n",
       "      <td>...</td>\n",
       "      <td>...</td>\n",
       "      <td>...</td>\n",
       "      <td>...</td>\n",
       "    </tr>\n",
       "    <tr>\n",
       "      <th>48198</th>\n",
       "      <td>-0.054573</td>\n",
       "      <td>-0.461926</td>\n",
       "      <td>-0.341083</td>\n",
       "      <td>1.134846</td>\n",
       "      <td>1.049176</td>\n",
       "      <td>2.120080</td>\n",
       "      <td>3.180188</td>\n",
       "      <td>-0.506037</td>\n",
       "      <td>-0.407075</td>\n",
       "      <td>-0.361818</td>\n",
       "      <td>...</td>\n",
       "      <td>-0.475566</td>\n",
       "      <td>1.855677</td>\n",
       "      <td>-0.413108</td>\n",
       "      <td>-0.472541</td>\n",
       "      <td>-0.526936</td>\n",
       "      <td>-0.397939</td>\n",
       "      <td>0.197015</td>\n",
       "      <td>-0.195081</td>\n",
       "      <td>-0.057340</td>\n",
       "      <td>0.519309</td>\n",
       "    </tr>\n",
       "    <tr>\n",
       "      <th>48199</th>\n",
       "      <td>-0.185888</td>\n",
       "      <td>-0.444854</td>\n",
       "      <td>-0.343561</td>\n",
       "      <td>0.672553</td>\n",
       "      <td>0.861765</td>\n",
       "      <td>2.108776</td>\n",
       "      <td>1.989787</td>\n",
       "      <td>-0.510823</td>\n",
       "      <td>-0.425530</td>\n",
       "      <td>-0.225415</td>\n",
       "      <td>...</td>\n",
       "      <td>-0.495011</td>\n",
       "      <td>1.518082</td>\n",
       "      <td>-0.410782</td>\n",
       "      <td>-0.496691</td>\n",
       "      <td>-0.531525</td>\n",
       "      <td>-0.411682</td>\n",
       "      <td>0.389263</td>\n",
       "      <td>-0.189678</td>\n",
       "      <td>-0.029223</td>\n",
       "      <td>0.496439</td>\n",
       "    </tr>\n",
       "    <tr>\n",
       "      <th>48200</th>\n",
       "      <td>-0.403580</td>\n",
       "      <td>-0.082392</td>\n",
       "      <td>-0.178023</td>\n",
       "      <td>0.457895</td>\n",
       "      <td>0.854246</td>\n",
       "      <td>1.258473</td>\n",
       "      <td>-0.298337</td>\n",
       "      <td>0.233589</td>\n",
       "      <td>-0.291241</td>\n",
       "      <td>-0.310360</td>\n",
       "      <td>...</td>\n",
       "      <td>-0.385333</td>\n",
       "      <td>0.250196</td>\n",
       "      <td>-0.328822</td>\n",
       "      <td>-0.377722</td>\n",
       "      <td>-0.359261</td>\n",
       "      <td>-0.166892</td>\n",
       "      <td>0.372587</td>\n",
       "      <td>-0.334004</td>\n",
       "      <td>-0.239790</td>\n",
       "      <td>0.332295</td>\n",
       "    </tr>\n",
       "    <tr>\n",
       "      <th>48201</th>\n",
       "      <td>-0.611163</td>\n",
       "      <td>-0.492633</td>\n",
       "      <td>-0.254988</td>\n",
       "      <td>0.836261</td>\n",
       "      <td>0.370830</td>\n",
       "      <td>1.080112</td>\n",
       "      <td>-0.544935</td>\n",
       "      <td>-0.391174</td>\n",
       "      <td>-0.249658</td>\n",
       "      <td>-0.564887</td>\n",
       "      <td>...</td>\n",
       "      <td>-0.555495</td>\n",
       "      <td>2.161799</td>\n",
       "      <td>-0.080858</td>\n",
       "      <td>-0.618400</td>\n",
       "      <td>-0.603818</td>\n",
       "      <td>-0.341915</td>\n",
       "      <td>2.621851</td>\n",
       "      <td>-0.519184</td>\n",
       "      <td>2.048543</td>\n",
       "      <td>0.840033</td>\n",
       "    </tr>\n",
       "    <tr>\n",
       "      <th>48202</th>\n",
       "      <td>-0.582459</td>\n",
       "      <td>-0.439802</td>\n",
       "      <td>-0.232348</td>\n",
       "      <td>0.938192</td>\n",
       "      <td>0.096082</td>\n",
       "      <td>1.465832</td>\n",
       "      <td>-0.511263</td>\n",
       "      <td>-0.442574</td>\n",
       "      <td>-0.202834</td>\n",
       "      <td>-0.563408</td>\n",
       "      <td>...</td>\n",
       "      <td>-0.553082</td>\n",
       "      <td>1.962584</td>\n",
       "      <td>0.014673</td>\n",
       "      <td>-0.639725</td>\n",
       "      <td>-0.592058</td>\n",
       "      <td>-0.308628</td>\n",
       "      <td>3.124003</td>\n",
       "      <td>-0.516436</td>\n",
       "      <td>2.170141</td>\n",
       "      <td>0.980844</td>\n",
       "    </tr>\n",
       "  </tbody>\n",
       "</table>\n",
       "<p>48203 rows × 140 columns</p>\n",
       "</div>"
      ],
      "text/plain": [
       "            0         1         2         3         4         5         6    \\\n",
       "0     -0.325767 -0.487738 -0.351139  1.035394  0.867302  2.263471  3.314403   \n",
       "1     -0.293307 -0.470185 -0.351417  1.042340  0.918223  2.295353  3.557569   \n",
       "2     -0.337575 -0.449081 -0.328770  1.541549  1.271137  1.486816  4.438023   \n",
       "3     -0.545628 -0.456024 -0.227837  1.033564  1.055734  0.821383 -0.552602   \n",
       "4     -0.431234 -0.457296 -0.305963  1.119193  1.234073  1.999678  0.747365   \n",
       "...         ...       ...       ...       ...       ...       ...       ...   \n",
       "48198 -0.054573 -0.461926 -0.341083  1.134846  1.049176  2.120080  3.180188   \n",
       "48199 -0.185888 -0.444854 -0.343561  0.672553  0.861765  2.108776  1.989787   \n",
       "48200 -0.403580 -0.082392 -0.178023  0.457895  0.854246  1.258473 -0.298337   \n",
       "48201 -0.611163 -0.492633 -0.254988  0.836261  0.370830  1.080112 -0.544935   \n",
       "48202 -0.582459 -0.439802 -0.232348  0.938192  0.096082  1.465832 -0.511263   \n",
       "\n",
       "            7         8         9    ...       130       131       132  \\\n",
       "0     -0.490992 -0.422089 -0.312560  ... -0.514007  1.841981 -0.389785   \n",
       "1     -0.485068 -0.415240 -0.313825  ... -0.503055  1.824850 -0.384038   \n",
       "2     -0.463581 -0.391279 -0.423727  ... -0.481228  3.009236 -0.364641   \n",
       "3     -0.326394 -0.313855 -0.501781  ... -0.521892  1.962048 -0.208805   \n",
       "4     -0.422706 -0.372396 -0.273251  ... -0.458921  1.382753 -0.385671   \n",
       "...         ...       ...       ...  ...       ...       ...       ...   \n",
       "48198 -0.506037 -0.407075 -0.361818  ... -0.475566  1.855677 -0.413108   \n",
       "48199 -0.510823 -0.425530 -0.225415  ... -0.495011  1.518082 -0.410782   \n",
       "48200  0.233589 -0.291241 -0.310360  ... -0.385333  0.250196 -0.328822   \n",
       "48201 -0.391174 -0.249658 -0.564887  ... -0.555495  2.161799 -0.080858   \n",
       "48202 -0.442574 -0.202834 -0.563408  ... -0.553082  1.962584  0.014673   \n",
       "\n",
       "            133       134       135       136       137       138       139  \n",
       "0     -0.518213 -0.500604 -0.341130 -0.016153 -0.317298  0.038913  0.358591  \n",
       "1     -0.505780 -0.490800 -0.358872 -0.072174 -0.322904  0.059740  0.321151  \n",
       "2     -0.482254 -0.440961 -0.381973  0.338987 -0.273810  0.168474  0.670328  \n",
       "3     -0.564016 -0.543048 -0.270563  1.487399 -0.492805  1.326041  0.386401  \n",
       "4     -0.452952 -0.536544 -0.331111  0.439839 -0.444841  0.263023  0.104704  \n",
       "...         ...       ...       ...       ...       ...       ...       ...  \n",
       "48198 -0.472541 -0.526936 -0.397939  0.197015 -0.195081 -0.057340  0.519309  \n",
       "48199 -0.496691 -0.531525 -0.411682  0.389263 -0.189678 -0.029223  0.496439  \n",
       "48200 -0.377722 -0.359261 -0.166892  0.372587 -0.334004 -0.239790  0.332295  \n",
       "48201 -0.618400 -0.603818 -0.341915  2.621851 -0.519184  2.048543  0.840033  \n",
       "48202 -0.639725 -0.592058 -0.308628  3.124003 -0.516436  2.170141  0.980844  \n",
       "\n",
       "[48203 rows x 140 columns]"
      ]
     },
     "execution_count": 32,
     "metadata": {},
     "output_type": "execute_result"
    }
   ],
   "source": [
    "pd.DataFrame(pred)"
   ]
  },
  {
   "cell_type": "code",
   "execution_count": 33,
   "id": "498f1422",
   "metadata": {},
   "outputs": [],
   "source": [
    "# TODO check pred / target"
   ]
  },
  {
   "cell_type": "markdown",
   "id": "de586581",
   "metadata": {},
   "source": [
    "### pred loop function (only for single models, not ensemble)"
   ]
  },
  {
   "cell_type": "code",
   "execution_count": 34,
   "id": "7a1f4480",
   "metadata": {},
   "outputs": [],
   "source": [
    "def get_pred(model_name, X_test=None): \n",
    "\n",
    "    '''if test file from model_feat_dict: pass X_test=None\n",
    "    if other test file, e.g. private test data, pass it as param '''\n",
    "\n",
    "\n",
    "    # pred = np.zeros([rows, cols])\n",
    "    if X_test is None:\n",
    "        test_file = model_feat_dict[model_name][0]\n",
    "        X_test = np.array(pd.read_pickle(cite_feature_path + test_file))\n",
    "    \n",
    "    feature_dims = X_test.shape[1]\n",
    "    print(feature_dims)\n",
    "\n",
    "    test_ds = CiteDataset_test(np.array(X_test))\n",
    "    test_dataloader = DataLoader(test_ds, batch_size=128, pin_memory=True, \n",
    "                                shuffle=False, drop_last=False, num_workers=4)\n",
    "\n",
    "    if 'mish' in model_name:\n",
    "        model = CiteModel_mish(feature_dims)\n",
    "    else:\n",
    "        model = CiteModel(feature_dims)\n",
    "        \n",
    "    model = model.to(device)\n",
    "    model.load_state_dict(torch.load(f'{cite_mlp_path}/{model_name}'))\n",
    "\n",
    "    pred = test_loop(model, test_dataloader).astype(np.float32)\n",
    "   \n",
    "    torch.cuda.empty_cache()\n",
    "            \n",
    "    return pd.DataFrame(pred)"
   ]
  },
  {
   "cell_type": "markdown",
   "id": "4a1c0974",
   "metadata": {},
   "source": [
    "use for model 16:"
   ]
  },
  {
   "cell_type": "code",
   "execution_count": 35,
   "id": "4a93e766",
   "metadata": {
    "scrolled": true
   },
   "outputs": [
    {
     "name": "stdout",
     "output_type": "stream",
     "text": [
      "212\n"
     ]
    },
    {
     "data": {
      "application/vnd.jupyter.widget-view+json": {
       "model_id": "12a5bf2f616a46a99b31ce27a6618582",
       "version_major": 2,
       "version_minor": 0
      },
      "text/plain": [
       "  0%|          | 0/377 [00:00<?, ?it/s]"
      ]
     },
     "metadata": {},
     "output_type": "display_data"
    },
    {
     "data": {
      "text/html": [
       "<div>\n",
       "<style scoped>\n",
       "    .dataframe tbody tr th:only-of-type {\n",
       "        vertical-align: middle;\n",
       "    }\n",
       "\n",
       "    .dataframe tbody tr th {\n",
       "        vertical-align: top;\n",
       "    }\n",
       "\n",
       "    .dataframe thead th {\n",
       "        text-align: right;\n",
       "    }\n",
       "</style>\n",
       "<table border=\"1\" class=\"dataframe\">\n",
       "  <thead>\n",
       "    <tr style=\"text-align: right;\">\n",
       "      <th></th>\n",
       "      <th>0</th>\n",
       "      <th>1</th>\n",
       "      <th>2</th>\n",
       "      <th>3</th>\n",
       "      <th>4</th>\n",
       "      <th>5</th>\n",
       "      <th>6</th>\n",
       "      <th>7</th>\n",
       "      <th>8</th>\n",
       "      <th>9</th>\n",
       "      <th>...</th>\n",
       "      <th>130</th>\n",
       "      <th>131</th>\n",
       "      <th>132</th>\n",
       "      <th>133</th>\n",
       "      <th>134</th>\n",
       "      <th>135</th>\n",
       "      <th>136</th>\n",
       "      <th>137</th>\n",
       "      <th>138</th>\n",
       "      <th>139</th>\n",
       "    </tr>\n",
       "  </thead>\n",
       "  <tbody>\n",
       "    <tr>\n",
       "      <th>0</th>\n",
       "      <td>-1.066433</td>\n",
       "      <td>-1.500550</td>\n",
       "      <td>-1.354774</td>\n",
       "      <td>1.106190</td>\n",
       "      <td>0.869803</td>\n",
       "      <td>3.481040</td>\n",
       "      <td>5.067837</td>\n",
       "      <td>-1.570396</td>\n",
       "      <td>-1.444474</td>\n",
       "      <td>-1.320852</td>\n",
       "      <td>...</td>\n",
       "      <td>-1.585749</td>\n",
       "      <td>2.483784</td>\n",
       "      <td>-1.404202</td>\n",
       "      <td>-1.656756</td>\n",
       "      <td>-1.628249</td>\n",
       "      <td>-1.330432</td>\n",
       "      <td>-1.008113</td>\n",
       "      <td>-1.255932</td>\n",
       "      <td>-0.622936</td>\n",
       "      <td>-0.130905</td>\n",
       "    </tr>\n",
       "    <tr>\n",
       "      <th>1</th>\n",
       "      <td>-1.067110</td>\n",
       "      <td>-1.506955</td>\n",
       "      <td>-1.399289</td>\n",
       "      <td>1.075526</td>\n",
       "      <td>0.997081</td>\n",
       "      <td>3.506622</td>\n",
       "      <td>5.481764</td>\n",
       "      <td>-1.564466</td>\n",
       "      <td>-1.460833</td>\n",
       "      <td>-1.301538</td>\n",
       "      <td>...</td>\n",
       "      <td>-1.620505</td>\n",
       "      <td>2.777343</td>\n",
       "      <td>-1.404117</td>\n",
       "      <td>-1.657573</td>\n",
       "      <td>-1.687846</td>\n",
       "      <td>-1.422966</td>\n",
       "      <td>-0.780818</td>\n",
       "      <td>-1.299758</td>\n",
       "      <td>-0.628505</td>\n",
       "      <td>-0.121618</td>\n",
       "    </tr>\n",
       "    <tr>\n",
       "      <th>2</th>\n",
       "      <td>-1.010656</td>\n",
       "      <td>-1.271471</td>\n",
       "      <td>-1.207577</td>\n",
       "      <td>2.074188</td>\n",
       "      <td>1.614956</td>\n",
       "      <td>2.007590</td>\n",
       "      <td>6.589465</td>\n",
       "      <td>-1.374983</td>\n",
       "      <td>-1.260541</td>\n",
       "      <td>-1.450437</td>\n",
       "      <td>...</td>\n",
       "      <td>-1.411724</td>\n",
       "      <td>4.658179</td>\n",
       "      <td>-1.187620</td>\n",
       "      <td>-1.412397</td>\n",
       "      <td>-1.381912</td>\n",
       "      <td>-1.340690</td>\n",
       "      <td>-0.045909</td>\n",
       "      <td>-0.986209</td>\n",
       "      <td>-0.127050</td>\n",
       "      <td>0.551833</td>\n",
       "    </tr>\n",
       "    <tr>\n",
       "      <th>3</th>\n",
       "      <td>-1.506548</td>\n",
       "      <td>-1.336604</td>\n",
       "      <td>-1.056332</td>\n",
       "      <td>0.852848</td>\n",
       "      <td>0.946436</td>\n",
       "      <td>0.652196</td>\n",
       "      <td>-1.553841</td>\n",
       "      <td>-1.178436</td>\n",
       "      <td>-1.245057</td>\n",
       "      <td>-1.485463</td>\n",
       "      <td>...</td>\n",
       "      <td>-1.511633</td>\n",
       "      <td>2.322751</td>\n",
       "      <td>-1.055404</td>\n",
       "      <td>-1.551430</td>\n",
       "      <td>-1.561118</td>\n",
       "      <td>-1.148535</td>\n",
       "      <td>1.396236</td>\n",
       "      <td>-1.462253</td>\n",
       "      <td>1.298150</td>\n",
       "      <td>-0.195608</td>\n",
       "    </tr>\n",
       "    <tr>\n",
       "      <th>4</th>\n",
       "      <td>-1.272211</td>\n",
       "      <td>-1.349656</td>\n",
       "      <td>-1.142900</td>\n",
       "      <td>1.304754</td>\n",
       "      <td>1.531233</td>\n",
       "      <td>2.833454</td>\n",
       "      <td>0.443823</td>\n",
       "      <td>-1.292403</td>\n",
       "      <td>-1.201001</td>\n",
       "      <td>-1.091781</td>\n",
       "      <td>...</td>\n",
       "      <td>-1.345016</td>\n",
       "      <td>1.609707</td>\n",
       "      <td>-1.278629</td>\n",
       "      <td>-1.350011</td>\n",
       "      <td>-1.648516</td>\n",
       "      <td>-1.214390</td>\n",
       "      <td>0.288555</td>\n",
       "      <td>-1.344913</td>\n",
       "      <td>-0.039439</td>\n",
       "      <td>-0.498315</td>\n",
       "    </tr>\n",
       "    <tr>\n",
       "      <th>...</th>\n",
       "      <td>...</td>\n",
       "      <td>...</td>\n",
       "      <td>...</td>\n",
       "      <td>...</td>\n",
       "      <td>...</td>\n",
       "      <td>...</td>\n",
       "      <td>...</td>\n",
       "      <td>...</td>\n",
       "      <td>...</td>\n",
       "      <td>...</td>\n",
       "      <td>...</td>\n",
       "      <td>...</td>\n",
       "      <td>...</td>\n",
       "      <td>...</td>\n",
       "      <td>...</td>\n",
       "      <td>...</td>\n",
       "      <td>...</td>\n",
       "      <td>...</td>\n",
       "      <td>...</td>\n",
       "      <td>...</td>\n",
       "      <td>...</td>\n",
       "    </tr>\n",
       "    <tr>\n",
       "      <th>48198</th>\n",
       "      <td>-0.520571</td>\n",
       "      <td>-1.446298</td>\n",
       "      <td>-1.333212</td>\n",
       "      <td>1.226779</td>\n",
       "      <td>1.118786</td>\n",
       "      <td>2.732154</td>\n",
       "      <td>4.920837</td>\n",
       "      <td>-1.530176</td>\n",
       "      <td>-1.416398</td>\n",
       "      <td>-1.343555</td>\n",
       "      <td>...</td>\n",
       "      <td>-1.507962</td>\n",
       "      <td>2.403565</td>\n",
       "      <td>-1.350148</td>\n",
       "      <td>-1.524354</td>\n",
       "      <td>-1.654466</td>\n",
       "      <td>-1.411261</td>\n",
       "      <td>-0.456083</td>\n",
       "      <td>-1.010118</td>\n",
       "      <td>-0.709112</td>\n",
       "      <td>0.126238</td>\n",
       "    </tr>\n",
       "    <tr>\n",
       "      <th>48199</th>\n",
       "      <td>-0.641409</td>\n",
       "      <td>-1.391113</td>\n",
       "      <td>-1.307034</td>\n",
       "      <td>0.296210</td>\n",
       "      <td>0.626469</td>\n",
       "      <td>2.656102</td>\n",
       "      <td>2.535754</td>\n",
       "      <td>-1.514254</td>\n",
       "      <td>-1.408760</td>\n",
       "      <td>-1.089353</td>\n",
       "      <td>...</td>\n",
       "      <td>-1.531409</td>\n",
       "      <td>1.995489</td>\n",
       "      <td>-1.341270</td>\n",
       "      <td>-1.576226</td>\n",
       "      <td>-1.658416</td>\n",
       "      <td>-1.425811</td>\n",
       "      <td>-0.163358</td>\n",
       "      <td>-0.952007</td>\n",
       "      <td>-0.691250</td>\n",
       "      <td>0.277180</td>\n",
       "    </tr>\n",
       "    <tr>\n",
       "      <th>48200</th>\n",
       "      <td>-1.383966</td>\n",
       "      <td>-0.817277</td>\n",
       "      <td>-1.052890</td>\n",
       "      <td>0.099039</td>\n",
       "      <td>0.724624</td>\n",
       "      <td>1.477175</td>\n",
       "      <td>-1.276211</td>\n",
       "      <td>-0.455357</td>\n",
       "      <td>-1.187938</td>\n",
       "      <td>-1.269387</td>\n",
       "      <td>...</td>\n",
       "      <td>-1.390297</td>\n",
       "      <td>-0.619302</td>\n",
       "      <td>-1.336130</td>\n",
       "      <td>-1.327181</td>\n",
       "      <td>-1.333064</td>\n",
       "      <td>-1.075237</td>\n",
       "      <td>-0.313562</td>\n",
       "      <td>-1.231197</td>\n",
       "      <td>-1.183957</td>\n",
       "      <td>-0.367714</td>\n",
       "    </tr>\n",
       "    <tr>\n",
       "      <th>48201</th>\n",
       "      <td>-1.510795</td>\n",
       "      <td>-1.396045</td>\n",
       "      <td>-0.933571</td>\n",
       "      <td>0.539321</td>\n",
       "      <td>-0.054786</td>\n",
       "      <td>1.035743</td>\n",
       "      <td>-1.380013</td>\n",
       "      <td>-1.157287</td>\n",
       "      <td>-1.002030</td>\n",
       "      <td>-1.549959</td>\n",
       "      <td>...</td>\n",
       "      <td>-1.488258</td>\n",
       "      <td>2.525875</td>\n",
       "      <td>-0.688867</td>\n",
       "      <td>-1.577495</td>\n",
       "      <td>-1.551894</td>\n",
       "      <td>-1.134680</td>\n",
       "      <td>3.389776</td>\n",
       "      <td>-1.486254</td>\n",
       "      <td>2.734019</td>\n",
       "      <td>0.597246</td>\n",
       "    </tr>\n",
       "    <tr>\n",
       "      <th>48202</th>\n",
       "      <td>-1.257885</td>\n",
       "      <td>-1.123296</td>\n",
       "      <td>-0.799638</td>\n",
       "      <td>0.694056</td>\n",
       "      <td>-0.483587</td>\n",
       "      <td>1.462265</td>\n",
       "      <td>-1.332646</td>\n",
       "      <td>-1.137664</td>\n",
       "      <td>-0.821833</td>\n",
       "      <td>-1.349147</td>\n",
       "      <td>...</td>\n",
       "      <td>-1.308843</td>\n",
       "      <td>2.070486</td>\n",
       "      <td>-0.469592</td>\n",
       "      <td>-1.463320</td>\n",
       "      <td>-1.352713</td>\n",
       "      <td>-1.021235</td>\n",
       "      <td>3.636977</td>\n",
       "      <td>-1.293923</td>\n",
       "      <td>2.852843</td>\n",
       "      <td>0.811702</td>\n",
       "    </tr>\n",
       "  </tbody>\n",
       "</table>\n",
       "<p>48203 rows × 140 columns</p>\n",
       "</div>"
      ],
      "text/plain": [
       "            0         1         2         3         4         5         6    \\\n",
       "0     -1.066433 -1.500550 -1.354774  1.106190  0.869803  3.481040  5.067837   \n",
       "1     -1.067110 -1.506955 -1.399289  1.075526  0.997081  3.506622  5.481764   \n",
       "2     -1.010656 -1.271471 -1.207577  2.074188  1.614956  2.007590  6.589465   \n",
       "3     -1.506548 -1.336604 -1.056332  0.852848  0.946436  0.652196 -1.553841   \n",
       "4     -1.272211 -1.349656 -1.142900  1.304754  1.531233  2.833454  0.443823   \n",
       "...         ...       ...       ...       ...       ...       ...       ...   \n",
       "48198 -0.520571 -1.446298 -1.333212  1.226779  1.118786  2.732154  4.920837   \n",
       "48199 -0.641409 -1.391113 -1.307034  0.296210  0.626469  2.656102  2.535754   \n",
       "48200 -1.383966 -0.817277 -1.052890  0.099039  0.724624  1.477175 -1.276211   \n",
       "48201 -1.510795 -1.396045 -0.933571  0.539321 -0.054786  1.035743 -1.380013   \n",
       "48202 -1.257885 -1.123296 -0.799638  0.694056 -0.483587  1.462265 -1.332646   \n",
       "\n",
       "            7         8         9    ...       130       131       132  \\\n",
       "0     -1.570396 -1.444474 -1.320852  ... -1.585749  2.483784 -1.404202   \n",
       "1     -1.564466 -1.460833 -1.301538  ... -1.620505  2.777343 -1.404117   \n",
       "2     -1.374983 -1.260541 -1.450437  ... -1.411724  4.658179 -1.187620   \n",
       "3     -1.178436 -1.245057 -1.485463  ... -1.511633  2.322751 -1.055404   \n",
       "4     -1.292403 -1.201001 -1.091781  ... -1.345016  1.609707 -1.278629   \n",
       "...         ...       ...       ...  ...       ...       ...       ...   \n",
       "48198 -1.530176 -1.416398 -1.343555  ... -1.507962  2.403565 -1.350148   \n",
       "48199 -1.514254 -1.408760 -1.089353  ... -1.531409  1.995489 -1.341270   \n",
       "48200 -0.455357 -1.187938 -1.269387  ... -1.390297 -0.619302 -1.336130   \n",
       "48201 -1.157287 -1.002030 -1.549959  ... -1.488258  2.525875 -0.688867   \n",
       "48202 -1.137664 -0.821833 -1.349147  ... -1.308843  2.070486 -0.469592   \n",
       "\n",
       "            133       134       135       136       137       138       139  \n",
       "0     -1.656756 -1.628249 -1.330432 -1.008113 -1.255932 -0.622936 -0.130905  \n",
       "1     -1.657573 -1.687846 -1.422966 -0.780818 -1.299758 -0.628505 -0.121618  \n",
       "2     -1.412397 -1.381912 -1.340690 -0.045909 -0.986209 -0.127050  0.551833  \n",
       "3     -1.551430 -1.561118 -1.148535  1.396236 -1.462253  1.298150 -0.195608  \n",
       "4     -1.350011 -1.648516 -1.214390  0.288555 -1.344913 -0.039439 -0.498315  \n",
       "...         ...       ...       ...       ...       ...       ...       ...  \n",
       "48198 -1.524354 -1.654466 -1.411261 -0.456083 -1.010118 -0.709112  0.126238  \n",
       "48199 -1.576226 -1.658416 -1.425811 -0.163358 -0.952007 -0.691250  0.277180  \n",
       "48200 -1.327181 -1.333064 -1.075237 -0.313562 -1.231197 -1.183957 -0.367714  \n",
       "48201 -1.577495 -1.551894 -1.134680  3.389776 -1.486254  2.734019  0.597246  \n",
       "48202 -1.463320 -1.352713 -1.021235  3.636977 -1.293923  2.852843  0.811702  \n",
       "\n",
       "[48203 rows x 140 columns]"
      ]
     },
     "execution_count": 35,
     "metadata": {},
     "output_type": "execute_result"
    }
   ],
   "source": [
    "# model #16: cite_mlp_corr_svd_128_flg_donor_val_30\n",
    "get_pred('cite_mlp_corr_svd_128_flg_donor_val_30')\n",
    "\n",
    "# double check train_cite_targets.h5  -> omnipath"
   ]
  },
  {
   "cell_type": "code",
   "execution_count": 36,
   "id": "c368e64e",
   "metadata": {},
   "outputs": [
    {
     "data": {
      "text/html": [
       "<div>\n",
       "<style scoped>\n",
       "    .dataframe tbody tr th:only-of-type {\n",
       "        vertical-align: middle;\n",
       "    }\n",
       "\n",
       "    .dataframe tbody tr th {\n",
       "        vertical-align: top;\n",
       "    }\n",
       "\n",
       "    .dataframe thead th {\n",
       "        text-align: right;\n",
       "    }\n",
       "</style>\n",
       "<table border=\"1\" class=\"dataframe\">\n",
       "  <thead>\n",
       "    <tr style=\"text-align: right;\">\n",
       "      <th>gene_id</th>\n",
       "      <th>CD86</th>\n",
       "      <th>CD274</th>\n",
       "      <th>CD270</th>\n",
       "      <th>CD155</th>\n",
       "      <th>CD112</th>\n",
       "      <th>CD47</th>\n",
       "      <th>CD48</th>\n",
       "      <th>CD40</th>\n",
       "      <th>CD154</th>\n",
       "      <th>CD52</th>\n",
       "      <th>...</th>\n",
       "      <th>CD94</th>\n",
       "      <th>CD162</th>\n",
       "      <th>CD85j</th>\n",
       "      <th>CD23</th>\n",
       "      <th>CD328</th>\n",
       "      <th>HLA-E</th>\n",
       "      <th>CD82</th>\n",
       "      <th>CD101</th>\n",
       "      <th>CD88</th>\n",
       "      <th>CD224</th>\n",
       "    </tr>\n",
       "    <tr>\n",
       "      <th>cell_id</th>\n",
       "      <th></th>\n",
       "      <th></th>\n",
       "      <th></th>\n",
       "      <th></th>\n",
       "      <th></th>\n",
       "      <th></th>\n",
       "      <th></th>\n",
       "      <th></th>\n",
       "      <th></th>\n",
       "      <th></th>\n",
       "      <th></th>\n",
       "      <th></th>\n",
       "      <th></th>\n",
       "      <th></th>\n",
       "      <th></th>\n",
       "      <th></th>\n",
       "      <th></th>\n",
       "      <th></th>\n",
       "      <th></th>\n",
       "      <th></th>\n",
       "      <th></th>\n",
       "    </tr>\n",
       "  </thead>\n",
       "  <tbody>\n",
       "    <tr>\n",
       "      <th>45006fe3e4c8</th>\n",
       "      <td>1.167804</td>\n",
       "      <td>0.622530</td>\n",
       "      <td>0.106959</td>\n",
       "      <td>0.324989</td>\n",
       "      <td>3.331674</td>\n",
       "      <td>6.426002</td>\n",
       "      <td>1.480766</td>\n",
       "      <td>-0.728392</td>\n",
       "      <td>-0.468851</td>\n",
       "      <td>-0.073285</td>\n",
       "      <td>...</td>\n",
       "      <td>-0.448390</td>\n",
       "      <td>3.220174</td>\n",
       "      <td>-0.533004</td>\n",
       "      <td>0.674956</td>\n",
       "      <td>-0.006187</td>\n",
       "      <td>0.682148</td>\n",
       "      <td>1.398105</td>\n",
       "      <td>0.414292</td>\n",
       "      <td>1.780314</td>\n",
       "      <td>0.548070</td>\n",
       "    </tr>\n",
       "    <tr>\n",
       "      <th>d02759a80ba2</th>\n",
       "      <td>0.818970</td>\n",
       "      <td>0.506009</td>\n",
       "      <td>1.078682</td>\n",
       "      <td>6.848758</td>\n",
       "      <td>3.524885</td>\n",
       "      <td>5.279456</td>\n",
       "      <td>4.930438</td>\n",
       "      <td>2.069372</td>\n",
       "      <td>0.333652</td>\n",
       "      <td>-0.468088</td>\n",
       "      <td>...</td>\n",
       "      <td>0.323613</td>\n",
       "      <td>8.407108</td>\n",
       "      <td>0.131301</td>\n",
       "      <td>0.047607</td>\n",
       "      <td>-0.243628</td>\n",
       "      <td>0.547864</td>\n",
       "      <td>1.832587</td>\n",
       "      <td>0.982308</td>\n",
       "      <td>2.736507</td>\n",
       "      <td>2.184063</td>\n",
       "    </tr>\n",
       "    <tr>\n",
       "      <th>c016c6b0efa5</th>\n",
       "      <td>-0.356703</td>\n",
       "      <td>-0.422261</td>\n",
       "      <td>-0.824493</td>\n",
       "      <td>1.137495</td>\n",
       "      <td>0.518924</td>\n",
       "      <td>7.221962</td>\n",
       "      <td>-0.375034</td>\n",
       "      <td>1.738071</td>\n",
       "      <td>0.142919</td>\n",
       "      <td>-0.971460</td>\n",
       "      <td>...</td>\n",
       "      <td>1.348692</td>\n",
       "      <td>4.888579</td>\n",
       "      <td>-0.279483</td>\n",
       "      <td>-0.131097</td>\n",
       "      <td>-0.177604</td>\n",
       "      <td>-0.689188</td>\n",
       "      <td>9.013709</td>\n",
       "      <td>-1.182975</td>\n",
       "      <td>3.958148</td>\n",
       "      <td>2.868600</td>\n",
       "    </tr>\n",
       "    <tr>\n",
       "      <th>ba7f733a4f75</th>\n",
       "      <td>-1.201507</td>\n",
       "      <td>0.149115</td>\n",
       "      <td>2.022468</td>\n",
       "      <td>6.021595</td>\n",
       "      <td>7.258670</td>\n",
       "      <td>2.792436</td>\n",
       "      <td>21.708519</td>\n",
       "      <td>-0.137913</td>\n",
       "      <td>1.649969</td>\n",
       "      <td>-0.754680</td>\n",
       "      <td>...</td>\n",
       "      <td>1.504426</td>\n",
       "      <td>12.391979</td>\n",
       "      <td>0.511394</td>\n",
       "      <td>0.587863</td>\n",
       "      <td>-0.752638</td>\n",
       "      <td>1.714851</td>\n",
       "      <td>3.893782</td>\n",
       "      <td>1.799661</td>\n",
       "      <td>1.537249</td>\n",
       "      <td>4.407671</td>\n",
       "    </tr>\n",
       "    <tr>\n",
       "      <th>fbcf2443ffb2</th>\n",
       "      <td>-0.100404</td>\n",
       "      <td>0.697461</td>\n",
       "      <td>0.625836</td>\n",
       "      <td>-0.298404</td>\n",
       "      <td>1.369898</td>\n",
       "      <td>3.254521</td>\n",
       "      <td>-1.659380</td>\n",
       "      <td>0.643531</td>\n",
       "      <td>0.902710</td>\n",
       "      <td>1.291877</td>\n",
       "      <td>...</td>\n",
       "      <td>0.777023</td>\n",
       "      <td>6.496499</td>\n",
       "      <td>0.279898</td>\n",
       "      <td>-0.841950</td>\n",
       "      <td>-0.869419</td>\n",
       "      <td>0.675092</td>\n",
       "      <td>5.259685</td>\n",
       "      <td>-0.835379</td>\n",
       "      <td>9.631781</td>\n",
       "      <td>1.765445</td>\n",
       "    </tr>\n",
       "    <tr>\n",
       "      <th>...</th>\n",
       "      <td>...</td>\n",
       "      <td>...</td>\n",
       "      <td>...</td>\n",
       "      <td>...</td>\n",
       "      <td>...</td>\n",
       "      <td>...</td>\n",
       "      <td>...</td>\n",
       "      <td>...</td>\n",
       "      <td>...</td>\n",
       "      <td>...</td>\n",
       "      <td>...</td>\n",
       "      <td>...</td>\n",
       "      <td>...</td>\n",
       "      <td>...</td>\n",
       "      <td>...</td>\n",
       "      <td>...</td>\n",
       "      <td>...</td>\n",
       "      <td>...</td>\n",
       "      <td>...</td>\n",
       "      <td>...</td>\n",
       "      <td>...</td>\n",
       "    </tr>\n",
       "    <tr>\n",
       "      <th>650ee456f0f3</th>\n",
       "      <td>0.905420</td>\n",
       "      <td>0.386141</td>\n",
       "      <td>0.961590</td>\n",
       "      <td>5.090580</td>\n",
       "      <td>2.854346</td>\n",
       "      <td>6.093729</td>\n",
       "      <td>-0.586178</td>\n",
       "      <td>0.452389</td>\n",
       "      <td>0.040806</td>\n",
       "      <td>0.191407</td>\n",
       "      <td>...</td>\n",
       "      <td>1.261118</td>\n",
       "      <td>3.092832</td>\n",
       "      <td>0.003275</td>\n",
       "      <td>0.278930</td>\n",
       "      <td>-0.272002</td>\n",
       "      <td>0.249477</td>\n",
       "      <td>3.789460</td>\n",
       "      <td>0.138330</td>\n",
       "      <td>1.466193</td>\n",
       "      <td>4.278504</td>\n",
       "    </tr>\n",
       "    <tr>\n",
       "      <th>cc506e7707f5</th>\n",
       "      <td>2.101247</td>\n",
       "      <td>2.117462</td>\n",
       "      <td>0.112699</td>\n",
       "      <td>2.065512</td>\n",
       "      <td>2.176803</td>\n",
       "      <td>3.900090</td>\n",
       "      <td>-0.586001</td>\n",
       "      <td>-0.175479</td>\n",
       "      <td>1.363232</td>\n",
       "      <td>0.109905</td>\n",
       "      <td>...</td>\n",
       "      <td>0.714624</td>\n",
       "      <td>5.029233</td>\n",
       "      <td>0.909861</td>\n",
       "      <td>0.057322</td>\n",
       "      <td>2.633387</td>\n",
       "      <td>1.340077</td>\n",
       "      <td>11.456146</td>\n",
       "      <td>-1.431453</td>\n",
       "      <td>5.275882</td>\n",
       "      <td>2.510530</td>\n",
       "    </tr>\n",
       "    <tr>\n",
       "      <th>a91f1b55a520</th>\n",
       "      <td>1.221313</td>\n",
       "      <td>0.476566</td>\n",
       "      <td>1.437551</td>\n",
       "      <td>5.135631</td>\n",
       "      <td>2.926102</td>\n",
       "      <td>1.615081</td>\n",
       "      <td>-0.586910</td>\n",
       "      <td>1.760421</td>\n",
       "      <td>1.944711</td>\n",
       "      <td>-0.095096</td>\n",
       "      <td>...</td>\n",
       "      <td>-0.176027</td>\n",
       "      <td>5.027534</td>\n",
       "      <td>-0.703609</td>\n",
       "      <td>1.139491</td>\n",
       "      <td>-0.078092</td>\n",
       "      <td>1.592960</td>\n",
       "      <td>9.358179</td>\n",
       "      <td>0.981883</td>\n",
       "      <td>6.911032</td>\n",
       "      <td>3.415310</td>\n",
       "    </tr>\n",
       "    <tr>\n",
       "      <th>3a9882c98205</th>\n",
       "      <td>-0.151433</td>\n",
       "      <td>-0.850024</td>\n",
       "      <td>0.461556</td>\n",
       "      <td>3.546561</td>\n",
       "      <td>1.996473</td>\n",
       "      <td>5.702821</td>\n",
       "      <td>0.883038</td>\n",
       "      <td>1.309014</td>\n",
       "      <td>1.029737</td>\n",
       "      <td>-0.072851</td>\n",
       "      <td>...</td>\n",
       "      <td>-0.484493</td>\n",
       "      <td>12.883892</td>\n",
       "      <td>1.579381</td>\n",
       "      <td>-0.382835</td>\n",
       "      <td>-0.065286</td>\n",
       "      <td>-0.021458</td>\n",
       "      <td>7.372662</td>\n",
       "      <td>1.010247</td>\n",
       "      <td>1.864805</td>\n",
       "      <td>3.449289</td>\n",
       "    </tr>\n",
       "    <tr>\n",
       "      <th>c91b6b2ccd3d</th>\n",
       "      <td>-0.439299</td>\n",
       "      <td>-0.338327</td>\n",
       "      <td>0.803677</td>\n",
       "      <td>4.796933</td>\n",
       "      <td>1.822685</td>\n",
       "      <td>3.196906</td>\n",
       "      <td>-0.586291</td>\n",
       "      <td>3.456347</td>\n",
       "      <td>0.113264</td>\n",
       "      <td>-0.379802</td>\n",
       "      <td>...</td>\n",
       "      <td>0.368413</td>\n",
       "      <td>7.204354</td>\n",
       "      <td>2.410788</td>\n",
       "      <td>0.459688</td>\n",
       "      <td>-0.241992</td>\n",
       "      <td>1.508021</td>\n",
       "      <td>7.803446</td>\n",
       "      <td>0.618852</td>\n",
       "      <td>7.220644</td>\n",
       "      <td>3.234360</td>\n",
       "    </tr>\n",
       "  </tbody>\n",
       "</table>\n",
       "<p>70988 rows × 140 columns</p>\n",
       "</div>"
      ],
      "text/plain": [
       "gene_id           CD86     CD274     CD270     CD155     CD112      CD47  \\\n",
       "cell_id                                                                    \n",
       "45006fe3e4c8  1.167804  0.622530  0.106959  0.324989  3.331674  6.426002   \n",
       "d02759a80ba2  0.818970  0.506009  1.078682  6.848758  3.524885  5.279456   \n",
       "c016c6b0efa5 -0.356703 -0.422261 -0.824493  1.137495  0.518924  7.221962   \n",
       "ba7f733a4f75 -1.201507  0.149115  2.022468  6.021595  7.258670  2.792436   \n",
       "fbcf2443ffb2 -0.100404  0.697461  0.625836 -0.298404  1.369898  3.254521   \n",
       "...                ...       ...       ...       ...       ...       ...   \n",
       "650ee456f0f3  0.905420  0.386141  0.961590  5.090580  2.854346  6.093729   \n",
       "cc506e7707f5  2.101247  2.117462  0.112699  2.065512  2.176803  3.900090   \n",
       "a91f1b55a520  1.221313  0.476566  1.437551  5.135631  2.926102  1.615081   \n",
       "3a9882c98205 -0.151433 -0.850024  0.461556  3.546561  1.996473  5.702821   \n",
       "c91b6b2ccd3d -0.439299 -0.338327  0.803677  4.796933  1.822685  3.196906   \n",
       "\n",
       "gene_id            CD48      CD40     CD154      CD52  ...      CD94  \\\n",
       "cell_id                                                ...             \n",
       "45006fe3e4c8   1.480766 -0.728392 -0.468851 -0.073285  ... -0.448390   \n",
       "d02759a80ba2   4.930438  2.069372  0.333652 -0.468088  ...  0.323613   \n",
       "c016c6b0efa5  -0.375034  1.738071  0.142919 -0.971460  ...  1.348692   \n",
       "ba7f733a4f75  21.708519 -0.137913  1.649969 -0.754680  ...  1.504426   \n",
       "fbcf2443ffb2  -1.659380  0.643531  0.902710  1.291877  ...  0.777023   \n",
       "...                 ...       ...       ...       ...  ...       ...   \n",
       "650ee456f0f3  -0.586178  0.452389  0.040806  0.191407  ...  1.261118   \n",
       "cc506e7707f5  -0.586001 -0.175479  1.363232  0.109905  ...  0.714624   \n",
       "a91f1b55a520  -0.586910  1.760421  1.944711 -0.095096  ... -0.176027   \n",
       "3a9882c98205   0.883038  1.309014  1.029737 -0.072851  ... -0.484493   \n",
       "c91b6b2ccd3d  -0.586291  3.456347  0.113264 -0.379802  ...  0.368413   \n",
       "\n",
       "gene_id           CD162     CD85j      CD23     CD328     HLA-E       CD82  \\\n",
       "cell_id                                                                      \n",
       "45006fe3e4c8   3.220174 -0.533004  0.674956 -0.006187  0.682148   1.398105   \n",
       "d02759a80ba2   8.407108  0.131301  0.047607 -0.243628  0.547864   1.832587   \n",
       "c016c6b0efa5   4.888579 -0.279483 -0.131097 -0.177604 -0.689188   9.013709   \n",
       "ba7f733a4f75  12.391979  0.511394  0.587863 -0.752638  1.714851   3.893782   \n",
       "fbcf2443ffb2   6.496499  0.279898 -0.841950 -0.869419  0.675092   5.259685   \n",
       "...                 ...       ...       ...       ...       ...        ...   \n",
       "650ee456f0f3   3.092832  0.003275  0.278930 -0.272002  0.249477   3.789460   \n",
       "cc506e7707f5   5.029233  0.909861  0.057322  2.633387  1.340077  11.456146   \n",
       "a91f1b55a520   5.027534 -0.703609  1.139491 -0.078092  1.592960   9.358179   \n",
       "3a9882c98205  12.883892  1.579381 -0.382835 -0.065286 -0.021458   7.372662   \n",
       "c91b6b2ccd3d   7.204354  2.410788  0.459688 -0.241992  1.508021   7.803446   \n",
       "\n",
       "gene_id          CD101      CD88     CD224  \n",
       "cell_id                                     \n",
       "45006fe3e4c8  0.414292  1.780314  0.548070  \n",
       "d02759a80ba2  0.982308  2.736507  2.184063  \n",
       "c016c6b0efa5 -1.182975  3.958148  2.868600  \n",
       "ba7f733a4f75  1.799661  1.537249  4.407671  \n",
       "fbcf2443ffb2 -0.835379  9.631781  1.765445  \n",
       "...                ...       ...       ...  \n",
       "650ee456f0f3  0.138330  1.466193  4.278504  \n",
       "cc506e7707f5 -1.431453  5.275882  2.510530  \n",
       "a91f1b55a520  0.981883  6.911032  3.415310  \n",
       "3a9882c98205  1.010247  1.864805  3.449289  \n",
       "c91b6b2ccd3d  0.618852  7.220644  3.234360  \n",
       "\n",
       "[70988 rows x 140 columns]"
      ]
     },
     "execution_count": 36,
     "metadata": {},
     "output_type": "execute_result"
    }
   ],
   "source": [
    "pd.read_hdf('/dss/dssfs02/lwp-dss-0001/pn36po/pn36po-dss-0001/di93zoj/neurips_competition_data/train_cite_targets.h5')"
   ]
  },
  {
   "cell_type": "code",
   "execution_count": 37,
   "id": "9dfb8576",
   "metadata": {},
   "outputs": [
    {
     "data": {
      "text/plain": [
       "Index(['CD86', 'CD274', 'CD270', 'CD155', 'CD112', 'CD47', 'CD48', 'CD40',\n",
       "       'CD154', 'CD52',\n",
       "       ...\n",
       "       'CD94', 'CD162', 'CD85j', 'CD23', 'CD328', 'HLA-E', 'CD82', 'CD101',\n",
       "       'CD88', 'CD224'],\n",
       "      dtype='object', name='gene_id', length=140)"
      ]
     },
     "execution_count": 37,
     "metadata": {},
     "output_type": "execute_result"
    }
   ],
   "source": [
    "proteins = pd.read_hdf('/dss/dssfs02/lwp-dss-0001/pn36po/pn36po-dss-0001/di93zoj/neurips_competition_data/train_cite_targets.h5').columns\n",
    "proteins"
   ]
  },
  {
   "cell_type": "code",
   "execution_count": 38,
   "id": "02d32262",
   "metadata": {},
   "outputs": [],
   "source": [
    "np.save('proteins.npy', proteins)"
   ]
  },
  {
   "cell_type": "markdown",
   "id": "d05fe3db",
   "metadata": {},
   "source": [
    "use for model 17:"
   ]
  },
  {
   "cell_type": "code",
   "execution_count": 39,
   "id": "6b453c07",
   "metadata": {},
   "outputs": [
    {
     "name": "stdout",
     "output_type": "stream",
     "text": [
      "148\n"
     ]
    },
    {
     "data": {
      "application/vnd.jupyter.widget-view+json": {
       "model_id": "85f8e91e6a7548a3877c90fcd1e48cef",
       "version_major": 2,
       "version_minor": 0
      },
      "text/plain": [
       "  0%|          | 0/377 [00:00<?, ?it/s]"
      ]
     },
     "metadata": {},
     "output_type": "display_data"
    },
    {
     "data": {
      "text/html": [
       "<div>\n",
       "<style scoped>\n",
       "    .dataframe tbody tr th:only-of-type {\n",
       "        vertical-align: middle;\n",
       "    }\n",
       "\n",
       "    .dataframe tbody tr th {\n",
       "        vertical-align: top;\n",
       "    }\n",
       "\n",
       "    .dataframe thead th {\n",
       "        text-align: right;\n",
       "    }\n",
       "</style>\n",
       "<table border=\"1\" class=\"dataframe\">\n",
       "  <thead>\n",
       "    <tr style=\"text-align: right;\">\n",
       "      <th></th>\n",
       "      <th>0</th>\n",
       "      <th>1</th>\n",
       "      <th>2</th>\n",
       "      <th>3</th>\n",
       "      <th>4</th>\n",
       "      <th>5</th>\n",
       "      <th>6</th>\n",
       "      <th>7</th>\n",
       "      <th>8</th>\n",
       "      <th>9</th>\n",
       "      <th>...</th>\n",
       "      <th>130</th>\n",
       "      <th>131</th>\n",
       "      <th>132</th>\n",
       "      <th>133</th>\n",
       "      <th>134</th>\n",
       "      <th>135</th>\n",
       "      <th>136</th>\n",
       "      <th>137</th>\n",
       "      <th>138</th>\n",
       "      <th>139</th>\n",
       "    </tr>\n",
       "  </thead>\n",
       "  <tbody>\n",
       "    <tr>\n",
       "      <th>0</th>\n",
       "      <td>-1.485975</td>\n",
       "      <td>-1.648817</td>\n",
       "      <td>-1.354123</td>\n",
       "      <td>1.336735</td>\n",
       "      <td>0.899486</td>\n",
       "      <td>3.841190</td>\n",
       "      <td>5.416541</td>\n",
       "      <td>-1.683152</td>\n",
       "      <td>-1.580970</td>\n",
       "      <td>-1.278329</td>\n",
       "      <td>...</td>\n",
       "      <td>-1.696492</td>\n",
       "      <td>2.840716</td>\n",
       "      <td>-1.493437</td>\n",
       "      <td>-1.736083</td>\n",
       "      <td>-1.650089</td>\n",
       "      <td>-1.403936</td>\n",
       "      <td>-0.604089</td>\n",
       "      <td>-1.490247</td>\n",
       "      <td>-0.643916</td>\n",
       "      <td>0.102679</td>\n",
       "    </tr>\n",
       "    <tr>\n",
       "      <th>1</th>\n",
       "      <td>-1.341231</td>\n",
       "      <td>-1.628343</td>\n",
       "      <td>-1.359562</td>\n",
       "      <td>1.229471</td>\n",
       "      <td>1.016887</td>\n",
       "      <td>3.907164</td>\n",
       "      <td>5.830899</td>\n",
       "      <td>-1.681336</td>\n",
       "      <td>-1.573818</td>\n",
       "      <td>-1.312516</td>\n",
       "      <td>...</td>\n",
       "      <td>-1.698320</td>\n",
       "      <td>2.738961</td>\n",
       "      <td>-1.492522</td>\n",
       "      <td>-1.721182</td>\n",
       "      <td>-1.673635</td>\n",
       "      <td>-1.429484</td>\n",
       "      <td>-0.747510</td>\n",
       "      <td>-1.416589</td>\n",
       "      <td>-0.668830</td>\n",
       "      <td>-0.067424</td>\n",
       "    </tr>\n",
       "    <tr>\n",
       "      <th>2</th>\n",
       "      <td>-1.305068</td>\n",
       "      <td>-1.523457</td>\n",
       "      <td>-1.222060</td>\n",
       "      <td>1.948089</td>\n",
       "      <td>1.539770</td>\n",
       "      <td>2.152749</td>\n",
       "      <td>6.986954</td>\n",
       "      <td>-1.518237</td>\n",
       "      <td>-1.429241</td>\n",
       "      <td>-1.472046</td>\n",
       "      <td>...</td>\n",
       "      <td>-1.593270</td>\n",
       "      <td>4.828392</td>\n",
       "      <td>-1.305908</td>\n",
       "      <td>-1.542930</td>\n",
       "      <td>-1.488289</td>\n",
       "      <td>-1.358454</td>\n",
       "      <td>-0.208725</td>\n",
       "      <td>-1.215091</td>\n",
       "      <td>-0.161915</td>\n",
       "      <td>0.664055</td>\n",
       "    </tr>\n",
       "    <tr>\n",
       "      <th>3</th>\n",
       "      <td>-1.609988</td>\n",
       "      <td>-1.364839</td>\n",
       "      <td>-1.083797</td>\n",
       "      <td>0.927843</td>\n",
       "      <td>0.863734</td>\n",
       "      <td>0.418680</td>\n",
       "      <td>-1.704921</td>\n",
       "      <td>-1.281389</td>\n",
       "      <td>-1.262022</td>\n",
       "      <td>-1.504479</td>\n",
       "      <td>...</td>\n",
       "      <td>-1.594923</td>\n",
       "      <td>2.557068</td>\n",
       "      <td>-1.000935</td>\n",
       "      <td>-1.701218</td>\n",
       "      <td>-1.526112</td>\n",
       "      <td>-1.095342</td>\n",
       "      <td>1.393624</td>\n",
       "      <td>-1.488625</td>\n",
       "      <td>1.681263</td>\n",
       "      <td>-0.295725</td>\n",
       "    </tr>\n",
       "    <tr>\n",
       "      <th>4</th>\n",
       "      <td>-1.364529</td>\n",
       "      <td>-1.405331</td>\n",
       "      <td>-1.130143</td>\n",
       "      <td>1.505338</td>\n",
       "      <td>1.719803</td>\n",
       "      <td>2.874608</td>\n",
       "      <td>0.273326</td>\n",
       "      <td>-1.502430</td>\n",
       "      <td>-1.230372</td>\n",
       "      <td>-1.310739</td>\n",
       "      <td>...</td>\n",
       "      <td>-1.476158</td>\n",
       "      <td>2.121887</td>\n",
       "      <td>-1.223165</td>\n",
       "      <td>-1.473386</td>\n",
       "      <td>-1.611834</td>\n",
       "      <td>-1.207731</td>\n",
       "      <td>0.324344</td>\n",
       "      <td>-1.444008</td>\n",
       "      <td>0.233868</td>\n",
       "      <td>-0.242970</td>\n",
       "    </tr>\n",
       "    <tr>\n",
       "      <th>...</th>\n",
       "      <td>...</td>\n",
       "      <td>...</td>\n",
       "      <td>...</td>\n",
       "      <td>...</td>\n",
       "      <td>...</td>\n",
       "      <td>...</td>\n",
       "      <td>...</td>\n",
       "      <td>...</td>\n",
       "      <td>...</td>\n",
       "      <td>...</td>\n",
       "      <td>...</td>\n",
       "      <td>...</td>\n",
       "      <td>...</td>\n",
       "      <td>...</td>\n",
       "      <td>...</td>\n",
       "      <td>...</td>\n",
       "      <td>...</td>\n",
       "      <td>...</td>\n",
       "      <td>...</td>\n",
       "      <td>...</td>\n",
       "      <td>...</td>\n",
       "    </tr>\n",
       "    <tr>\n",
       "      <th>48198</th>\n",
       "      <td>-0.637382</td>\n",
       "      <td>-1.541112</td>\n",
       "      <td>-1.290392</td>\n",
       "      <td>1.333835</td>\n",
       "      <td>1.179257</td>\n",
       "      <td>3.150692</td>\n",
       "      <td>5.239053</td>\n",
       "      <td>-1.610645</td>\n",
       "      <td>-1.467021</td>\n",
       "      <td>-1.367532</td>\n",
       "      <td>...</td>\n",
       "      <td>-1.548478</td>\n",
       "      <td>2.692791</td>\n",
       "      <td>-1.411819</td>\n",
       "      <td>-1.550399</td>\n",
       "      <td>-1.600920</td>\n",
       "      <td>-1.409366</td>\n",
       "      <td>0.099534</td>\n",
       "      <td>-1.068482</td>\n",
       "      <td>-0.916413</td>\n",
       "      <td>0.326897</td>\n",
       "    </tr>\n",
       "    <tr>\n",
       "      <th>48199</th>\n",
       "      <td>-0.963824</td>\n",
       "      <td>-1.506428</td>\n",
       "      <td>-1.287840</td>\n",
       "      <td>0.274521</td>\n",
       "      <td>0.748746</td>\n",
       "      <td>3.044059</td>\n",
       "      <td>2.446730</td>\n",
       "      <td>-1.632668</td>\n",
       "      <td>-1.513235</td>\n",
       "      <td>-1.012937</td>\n",
       "      <td>...</td>\n",
       "      <td>-1.571642</td>\n",
       "      <td>1.892540</td>\n",
       "      <td>-1.425672</td>\n",
       "      <td>-1.621657</td>\n",
       "      <td>-1.619378</td>\n",
       "      <td>-1.455626</td>\n",
       "      <td>0.047492</td>\n",
       "      <td>-1.060641</td>\n",
       "      <td>-0.857560</td>\n",
       "      <td>0.162651</td>\n",
       "    </tr>\n",
       "    <tr>\n",
       "      <th>48200</th>\n",
       "      <td>-1.208823</td>\n",
       "      <td>-0.697452</td>\n",
       "      <td>-0.887126</td>\n",
       "      <td>-0.057358</td>\n",
       "      <td>0.556541</td>\n",
       "      <td>0.959196</td>\n",
       "      <td>-1.336493</td>\n",
       "      <td>-0.367089</td>\n",
       "      <td>-1.100995</td>\n",
       "      <td>-1.089948</td>\n",
       "      <td>...</td>\n",
       "      <td>-1.158388</td>\n",
       "      <td>-0.364725</td>\n",
       "      <td>-1.101030</td>\n",
       "      <td>-1.167685</td>\n",
       "      <td>-1.151484</td>\n",
       "      <td>-0.860946</td>\n",
       "      <td>-0.146224</td>\n",
       "      <td>-0.958154</td>\n",
       "      <td>-1.026072</td>\n",
       "      <td>-0.123235</td>\n",
       "    </tr>\n",
       "    <tr>\n",
       "      <th>48201</th>\n",
       "      <td>-1.594336</td>\n",
       "      <td>-1.511390</td>\n",
       "      <td>-1.072909</td>\n",
       "      <td>0.845791</td>\n",
       "      <td>0.018998</td>\n",
       "      <td>1.089275</td>\n",
       "      <td>-1.761925</td>\n",
       "      <td>-1.299424</td>\n",
       "      <td>-1.075372</td>\n",
       "      <td>-1.512102</td>\n",
       "      <td>...</td>\n",
       "      <td>-1.637018</td>\n",
       "      <td>3.251259</td>\n",
       "      <td>-0.754107</td>\n",
       "      <td>-1.727863</td>\n",
       "      <td>-1.755823</td>\n",
       "      <td>-1.168082</td>\n",
       "      <td>4.024315</td>\n",
       "      <td>-1.503763</td>\n",
       "      <td>3.089932</td>\n",
       "      <td>0.776301</td>\n",
       "    </tr>\n",
       "    <tr>\n",
       "      <th>48202</th>\n",
       "      <td>-1.661361</td>\n",
       "      <td>-1.345528</td>\n",
       "      <td>-1.079330</td>\n",
       "      <td>0.834365</td>\n",
       "      <td>-0.588067</td>\n",
       "      <td>1.932492</td>\n",
       "      <td>-1.573815</td>\n",
       "      <td>-1.414200</td>\n",
       "      <td>-0.989529</td>\n",
       "      <td>-1.606879</td>\n",
       "      <td>...</td>\n",
       "      <td>-1.574703</td>\n",
       "      <td>2.828943</td>\n",
       "      <td>-0.607610</td>\n",
       "      <td>-1.723680</td>\n",
       "      <td>-1.610852</td>\n",
       "      <td>-1.133368</td>\n",
       "      <td>4.444840</td>\n",
       "      <td>-1.418201</td>\n",
       "      <td>3.076048</td>\n",
       "      <td>0.811698</td>\n",
       "    </tr>\n",
       "  </tbody>\n",
       "</table>\n",
       "<p>48203 rows × 140 columns</p>\n",
       "</div>"
      ],
      "text/plain": [
       "            0         1         2         3         4         5         6    \\\n",
       "0     -1.485975 -1.648817 -1.354123  1.336735  0.899486  3.841190  5.416541   \n",
       "1     -1.341231 -1.628343 -1.359562  1.229471  1.016887  3.907164  5.830899   \n",
       "2     -1.305068 -1.523457 -1.222060  1.948089  1.539770  2.152749  6.986954   \n",
       "3     -1.609988 -1.364839 -1.083797  0.927843  0.863734  0.418680 -1.704921   \n",
       "4     -1.364529 -1.405331 -1.130143  1.505338  1.719803  2.874608  0.273326   \n",
       "...         ...       ...       ...       ...       ...       ...       ...   \n",
       "48198 -0.637382 -1.541112 -1.290392  1.333835  1.179257  3.150692  5.239053   \n",
       "48199 -0.963824 -1.506428 -1.287840  0.274521  0.748746  3.044059  2.446730   \n",
       "48200 -1.208823 -0.697452 -0.887126 -0.057358  0.556541  0.959196 -1.336493   \n",
       "48201 -1.594336 -1.511390 -1.072909  0.845791  0.018998  1.089275 -1.761925   \n",
       "48202 -1.661361 -1.345528 -1.079330  0.834365 -0.588067  1.932492 -1.573815   \n",
       "\n",
       "            7         8         9    ...       130       131       132  \\\n",
       "0     -1.683152 -1.580970 -1.278329  ... -1.696492  2.840716 -1.493437   \n",
       "1     -1.681336 -1.573818 -1.312516  ... -1.698320  2.738961 -1.492522   \n",
       "2     -1.518237 -1.429241 -1.472046  ... -1.593270  4.828392 -1.305908   \n",
       "3     -1.281389 -1.262022 -1.504479  ... -1.594923  2.557068 -1.000935   \n",
       "4     -1.502430 -1.230372 -1.310739  ... -1.476158  2.121887 -1.223165   \n",
       "...         ...       ...       ...  ...       ...       ...       ...   \n",
       "48198 -1.610645 -1.467021 -1.367532  ... -1.548478  2.692791 -1.411819   \n",
       "48199 -1.632668 -1.513235 -1.012937  ... -1.571642  1.892540 -1.425672   \n",
       "48200 -0.367089 -1.100995 -1.089948  ... -1.158388 -0.364725 -1.101030   \n",
       "48201 -1.299424 -1.075372 -1.512102  ... -1.637018  3.251259 -0.754107   \n",
       "48202 -1.414200 -0.989529 -1.606879  ... -1.574703  2.828943 -0.607610   \n",
       "\n",
       "            133       134       135       136       137       138       139  \n",
       "0     -1.736083 -1.650089 -1.403936 -0.604089 -1.490247 -0.643916  0.102679  \n",
       "1     -1.721182 -1.673635 -1.429484 -0.747510 -1.416589 -0.668830 -0.067424  \n",
       "2     -1.542930 -1.488289 -1.358454 -0.208725 -1.215091 -0.161915  0.664055  \n",
       "3     -1.701218 -1.526112 -1.095342  1.393624 -1.488625  1.681263 -0.295725  \n",
       "4     -1.473386 -1.611834 -1.207731  0.324344 -1.444008  0.233868 -0.242970  \n",
       "...         ...       ...       ...       ...       ...       ...       ...  \n",
       "48198 -1.550399 -1.600920 -1.409366  0.099534 -1.068482 -0.916413  0.326897  \n",
       "48199 -1.621657 -1.619378 -1.455626  0.047492 -1.060641 -0.857560  0.162651  \n",
       "48200 -1.167685 -1.151484 -0.860946 -0.146224 -0.958154 -1.026072 -0.123235  \n",
       "48201 -1.727863 -1.755823 -1.168082  4.024315 -1.503763  3.089932  0.776301  \n",
       "48202 -1.723680 -1.610852 -1.133368  4.444840 -1.418201  3.076048  0.811698  \n",
       "\n",
       "[48203 rows x 140 columns]"
      ]
     },
     "execution_count": 39,
     "metadata": {},
     "output_type": "execute_result"
    }
   ],
   "source": [
    "# model #17: 'cite_mlp_corr_svd_64_flg_donor_val_38'\n",
    "get_pred('cite_mlp_corr_svd_64_flg_donor_val_38')"
   ]
  },
  {
   "cell_type": "markdown",
   "id": "36b123b1",
   "metadata": {},
   "source": [
    "### prediction with private test input -> should get private test target"
   ]
  },
  {
   "cell_type": "code",
   "execution_count": 40,
   "id": "493161cb",
   "metadata": {},
   "outputs": [
    {
     "data": {
      "text/plain": [
       "AnnData object with n_obs × n_vars = 26867 × 22085\n",
       "    obs: 'kaggle_dataset', 'day', 'donor', 'cell_type'"
      ]
     },
     "execution_count": 40,
     "metadata": {},
     "output_type": "execute_result"
    }
   ],
   "source": [
    "private_test_input = ad.read('/dss/dssfs02/lwp-dss-0001/pn36po/pn36po-dss-0001/di93zoj/large_preprocessed_files/private_test_input.h5ad')\n",
    "private_test_input"
   ]
  },
  {
   "cell_type": "code",
   "execution_count": 41,
   "id": "520d58b5",
   "metadata": {},
   "outputs": [
    {
     "data": {
      "text/plain": [
       "AnnData object with n_obs × n_vars = 26867 × 140\n",
       "    obs: 'kaggle_dataset', 'day', 'donor', 'cell_type'"
      ]
     },
     "execution_count": 41,
     "metadata": {},
     "output_type": "execute_result"
    }
   ],
   "source": [
    "private_test_target = ad.read('/dss/dssfs02/lwp-dss-0001/pn36po/pn36po-dss-0001/di93zoj/large_preprocessed_files/private_test_target.h5ad')\n",
    "private_test_target"
   ]
  },
  {
   "cell_type": "code",
   "execution_count": 42,
   "id": "206a6568",
   "metadata": {},
   "outputs": [],
   "source": [
    "# private_test_input.to_df()"
   ]
  },
  {
   "cell_type": "code",
   "execution_count": 43,
   "id": "b8956ebd",
   "metadata": {},
   "outputs": [],
   "source": [
    "# should be non-raw df (non-int)\n",
    "# private_test_target_raw = ad.read('/dss/dssfs02/lwp-dss-0001/pn36po/pn36po-dss-0001/di93zoj/large_preprocessed_files/private_test_target_raw.h5ad')\n",
    "# private_test_target_raw"
   ]
  },
  {
   "cell_type": "code",
   "execution_count": 44,
   "id": "a700d30d",
   "metadata": {
    "lines_to_next_cell": 2
   },
   "outputs": [
    {
     "data": {
      "text/plain": [
       "(26867, 212)"
      ]
     },
     "execution_count": 44,
     "metadata": {},
     "output_type": "execute_result"
    }
   ],
   "source": [
    "with open('private_X_test_svd_128.pkl', 'rb') as f:  # private_X_test_svd\n",
    "\n",
    "    private_X_test_svd = pickle.load(f)\n",
    "private_X_test_svd.shape"
   ]
  },
  {
   "cell_type": "code",
   "execution_count": 45,
   "id": "a54d8e52",
   "metadata": {},
   "outputs": [],
   "source": [
    "# with open('private_X_test_svd_from_raw.pkl', 'rb') as f:  # private_X_test_svd\n",
    "\n",
    "#     private_X_test_svd_from_raw = pickle.load(f)\n",
    "# private_X_test_svd_from_raw.shape"
   ]
  },
  {
   "cell_type": "code",
   "execution_count": 46,
   "id": "f80e994b",
   "metadata": {},
   "outputs": [
    {
     "name": "stdout",
     "output_type": "stream",
     "text": [
      "212\n"
     ]
    },
    {
     "data": {
      "application/vnd.jupyter.widget-view+json": {
       "model_id": "7370614659bd487c8bdcffe56a9e27ff",
       "version_major": 2,
       "version_minor": 0
      },
      "text/plain": [
       "  0%|          | 0/210 [00:00<?, ?it/s]"
      ]
     },
     "metadata": {},
     "output_type": "display_data"
    },
    {
     "name": "stdout",
     "output_type": "stream",
     "text": [
      "(26867, 140)\n"
     ]
    },
    {
     "data": {
      "text/html": [
       "<div>\n",
       "<style scoped>\n",
       "    .dataframe tbody tr th:only-of-type {\n",
       "        vertical-align: middle;\n",
       "    }\n",
       "\n",
       "    .dataframe tbody tr th {\n",
       "        vertical-align: top;\n",
       "    }\n",
       "\n",
       "    .dataframe thead th {\n",
       "        text-align: right;\n",
       "    }\n",
       "</style>\n",
       "<table border=\"1\" class=\"dataframe\">\n",
       "  <thead>\n",
       "    <tr style=\"text-align: right;\">\n",
       "      <th></th>\n",
       "      <th>0</th>\n",
       "      <th>1</th>\n",
       "      <th>2</th>\n",
       "      <th>3</th>\n",
       "      <th>4</th>\n",
       "      <th>5</th>\n",
       "      <th>6</th>\n",
       "      <th>7</th>\n",
       "      <th>8</th>\n",
       "      <th>9</th>\n",
       "      <th>...</th>\n",
       "      <th>130</th>\n",
       "      <th>131</th>\n",
       "      <th>132</th>\n",
       "      <th>133</th>\n",
       "      <th>134</th>\n",
       "      <th>135</th>\n",
       "      <th>136</th>\n",
       "      <th>137</th>\n",
       "      <th>138</th>\n",
       "      <th>139</th>\n",
       "    </tr>\n",
       "  </thead>\n",
       "  <tbody>\n",
       "    <tr>\n",
       "      <th>0</th>\n",
       "      <td>-0.372392</td>\n",
       "      <td>-1.283455</td>\n",
       "      <td>-1.179417</td>\n",
       "      <td>0.864618</td>\n",
       "      <td>0.148908</td>\n",
       "      <td>1.607656</td>\n",
       "      <td>5.503926</td>\n",
       "      <td>-1.327952</td>\n",
       "      <td>-1.120954</td>\n",
       "      <td>-0.847237</td>\n",
       "      <td>...</td>\n",
       "      <td>-1.456156</td>\n",
       "      <td>2.218547</td>\n",
       "      <td>-1.219214</td>\n",
       "      <td>-1.356643</td>\n",
       "      <td>-1.059323</td>\n",
       "      <td>-1.163720</td>\n",
       "      <td>1.370450</td>\n",
       "      <td>-0.880116</td>\n",
       "      <td>-0.549649</td>\n",
       "      <td>0.431976</td>\n",
       "    </tr>\n",
       "    <tr>\n",
       "      <th>1</th>\n",
       "      <td>-0.971462</td>\n",
       "      <td>-1.184429</td>\n",
       "      <td>-1.100133</td>\n",
       "      <td>1.109353</td>\n",
       "      <td>1.481188</td>\n",
       "      <td>1.601065</td>\n",
       "      <td>2.376930</td>\n",
       "      <td>-1.162151</td>\n",
       "      <td>-1.085264</td>\n",
       "      <td>-0.936587</td>\n",
       "      <td>...</td>\n",
       "      <td>-1.304160</td>\n",
       "      <td>2.027606</td>\n",
       "      <td>-1.169451</td>\n",
       "      <td>-1.247813</td>\n",
       "      <td>-1.228717</td>\n",
       "      <td>-1.183079</td>\n",
       "      <td>1.036560</td>\n",
       "      <td>-0.830889</td>\n",
       "      <td>-0.532784</td>\n",
       "      <td>0.321012</td>\n",
       "    </tr>\n",
       "    <tr>\n",
       "      <th>2</th>\n",
       "      <td>-0.549114</td>\n",
       "      <td>-1.144617</td>\n",
       "      <td>-1.058381</td>\n",
       "      <td>0.915330</td>\n",
       "      <td>-0.005404</td>\n",
       "      <td>2.933731</td>\n",
       "      <td>2.175450</td>\n",
       "      <td>-1.275686</td>\n",
       "      <td>-1.122461</td>\n",
       "      <td>-1.029592</td>\n",
       "      <td>...</td>\n",
       "      <td>-1.271167</td>\n",
       "      <td>2.913250</td>\n",
       "      <td>-1.232987</td>\n",
       "      <td>-1.275270</td>\n",
       "      <td>-1.106676</td>\n",
       "      <td>-1.011933</td>\n",
       "      <td>2.663253</td>\n",
       "      <td>-1.011181</td>\n",
       "      <td>-0.500770</td>\n",
       "      <td>0.051575</td>\n",
       "    </tr>\n",
       "    <tr>\n",
       "      <th>3</th>\n",
       "      <td>-0.345288</td>\n",
       "      <td>-1.401500</td>\n",
       "      <td>-1.276106</td>\n",
       "      <td>0.831242</td>\n",
       "      <td>0.479206</td>\n",
       "      <td>1.696552</td>\n",
       "      <td>5.901358</td>\n",
       "      <td>-1.427565</td>\n",
       "      <td>-1.263950</td>\n",
       "      <td>-0.976734</td>\n",
       "      <td>...</td>\n",
       "      <td>-1.550072</td>\n",
       "      <td>2.296050</td>\n",
       "      <td>-1.392833</td>\n",
       "      <td>-1.425683</td>\n",
       "      <td>-0.820883</td>\n",
       "      <td>-1.306831</td>\n",
       "      <td>1.482650</td>\n",
       "      <td>-0.560578</td>\n",
       "      <td>-0.918660</td>\n",
       "      <td>0.163514</td>\n",
       "    </tr>\n",
       "    <tr>\n",
       "      <th>4</th>\n",
       "      <td>-1.038819</td>\n",
       "      <td>-1.459019</td>\n",
       "      <td>-1.260783</td>\n",
       "      <td>0.792671</td>\n",
       "      <td>0.864200</td>\n",
       "      <td>2.148278</td>\n",
       "      <td>4.311651</td>\n",
       "      <td>-0.919313</td>\n",
       "      <td>-1.268919</td>\n",
       "      <td>-0.907440</td>\n",
       "      <td>...</td>\n",
       "      <td>-1.473829</td>\n",
       "      <td>2.160465</td>\n",
       "      <td>-1.347533</td>\n",
       "      <td>-1.481336</td>\n",
       "      <td>-1.309172</td>\n",
       "      <td>-1.383571</td>\n",
       "      <td>0.899366</td>\n",
       "      <td>-1.084144</td>\n",
       "      <td>-0.819169</td>\n",
       "      <td>0.121914</td>\n",
       "    </tr>\n",
       "  </tbody>\n",
       "</table>\n",
       "<p>5 rows × 140 columns</p>\n",
       "</div>"
      ],
      "text/plain": [
       "        0         1         2         3         4         5         6    \\\n",
       "0 -0.372392 -1.283455 -1.179417  0.864618  0.148908  1.607656  5.503926   \n",
       "1 -0.971462 -1.184429 -1.100133  1.109353  1.481188  1.601065  2.376930   \n",
       "2 -0.549114 -1.144617 -1.058381  0.915330 -0.005404  2.933731  2.175450   \n",
       "3 -0.345288 -1.401500 -1.276106  0.831242  0.479206  1.696552  5.901358   \n",
       "4 -1.038819 -1.459019 -1.260783  0.792671  0.864200  2.148278  4.311651   \n",
       "\n",
       "        7         8         9    ...       130       131       132       133  \\\n",
       "0 -1.327952 -1.120954 -0.847237  ... -1.456156  2.218547 -1.219214 -1.356643   \n",
       "1 -1.162151 -1.085264 -0.936587  ... -1.304160  2.027606 -1.169451 -1.247813   \n",
       "2 -1.275686 -1.122461 -1.029592  ... -1.271167  2.913250 -1.232987 -1.275270   \n",
       "3 -1.427565 -1.263950 -0.976734  ... -1.550072  2.296050 -1.392833 -1.425683   \n",
       "4 -0.919313 -1.268919 -0.907440  ... -1.473829  2.160465 -1.347533 -1.481336   \n",
       "\n",
       "        134       135       136       137       138       139  \n",
       "0 -1.059323 -1.163720  1.370450 -0.880116 -0.549649  0.431976  \n",
       "1 -1.228717 -1.183079  1.036560 -0.830889 -0.532784  0.321012  \n",
       "2 -1.106676 -1.011933  2.663253 -1.011181 -0.500770  0.051575  \n",
       "3 -0.820883 -1.306831  1.482650 -0.560578 -0.918660  0.163514  \n",
       "4 -1.309172 -1.383571  0.899366 -1.084144 -0.819169  0.121914  \n",
       "\n",
       "[5 rows x 140 columns]"
      ]
     },
     "execution_count": 46,
     "metadata": {},
     "output_type": "execute_result"
    }
   ],
   "source": [
    "# get model #16 prediction on private test data\n",
    "# model #16: cite_mlp_corr_svd_128_flg_donor_val_30\n",
    "\n",
    "pred_private = get_pred('cite_mlp_corr_svd_128_flg_donor_val_30', private_X_test_svd)\n",
    "print(pred_private.shape)\n",
    "pred_private.head()"
   ]
  },
  {
   "cell_type": "code",
   "execution_count": 47,
   "id": "3b8d8090",
   "metadata": {},
   "outputs": [
    {
     "data": {
      "text/html": [
       "<div>\n",
       "<style scoped>\n",
       "    .dataframe tbody tr th:only-of-type {\n",
       "        vertical-align: middle;\n",
       "    }\n",
       "\n",
       "    .dataframe tbody tr th {\n",
       "        vertical-align: top;\n",
       "    }\n",
       "\n",
       "    .dataframe thead th {\n",
       "        text-align: right;\n",
       "    }\n",
       "</style>\n",
       "<table border=\"1\" class=\"dataframe\">\n",
       "  <thead>\n",
       "    <tr style=\"text-align: right;\">\n",
       "      <th>gene_ids</th>\n",
       "      <th>CD86</th>\n",
       "      <th>CD274</th>\n",
       "      <th>CD270</th>\n",
       "      <th>CD155</th>\n",
       "      <th>CD112</th>\n",
       "      <th>CD47</th>\n",
       "      <th>CD48</th>\n",
       "      <th>CD40</th>\n",
       "      <th>CD154</th>\n",
       "      <th>CD52</th>\n",
       "      <th>...</th>\n",
       "      <th>CD94</th>\n",
       "      <th>CD162</th>\n",
       "      <th>CD85j</th>\n",
       "      <th>CD23</th>\n",
       "      <th>CD328</th>\n",
       "      <th>HLA-E</th>\n",
       "      <th>CD82</th>\n",
       "      <th>CD101</th>\n",
       "      <th>CD88</th>\n",
       "      <th>CD224</th>\n",
       "    </tr>\n",
       "  </thead>\n",
       "  <tbody>\n",
       "    <tr>\n",
       "      <th>CATAAGCAGCATGATA-1-('27678', 7)</th>\n",
       "      <td>8.875269</td>\n",
       "      <td>1.072714</td>\n",
       "      <td>0.349734</td>\n",
       "      <td>2.983766</td>\n",
       "      <td>3.551555</td>\n",
       "      <td>10.595364</td>\n",
       "      <td>17.327169</td>\n",
       "      <td>-0.144145</td>\n",
       "      <td>1.184181</td>\n",
       "      <td>3.041042</td>\n",
       "      <td>...</td>\n",
       "      <td>0.191373</td>\n",
       "      <td>11.086969</td>\n",
       "      <td>0.300469</td>\n",
       "      <td>0.805080</td>\n",
       "      <td>-0.291616</td>\n",
       "      <td>1.635413</td>\n",
       "      <td>7.509739</td>\n",
       "      <td>6.417010</td>\n",
       "      <td>-0.497571</td>\n",
       "      <td>3.759374</td>\n",
       "    </tr>\n",
       "    <tr>\n",
       "      <th>GGTGATTGTATGAAAC-1-('27678', 7)</th>\n",
       "      <td>-0.331542</td>\n",
       "      <td>0.871559</td>\n",
       "      <td>0.484194</td>\n",
       "      <td>-0.784014</td>\n",
       "      <td>4.173365</td>\n",
       "      <td>5.242312</td>\n",
       "      <td>3.511576</td>\n",
       "      <td>1.208851</td>\n",
       "      <td>0.547345</td>\n",
       "      <td>-1.133742</td>\n",
       "      <td>...</td>\n",
       "      <td>0.310369</td>\n",
       "      <td>7.197814</td>\n",
       "      <td>-0.425260</td>\n",
       "      <td>-0.154081</td>\n",
       "      <td>-0.124246</td>\n",
       "      <td>-0.106671</td>\n",
       "      <td>3.812726</td>\n",
       "      <td>-0.155547</td>\n",
       "      <td>1.029169</td>\n",
       "      <td>3.598739</td>\n",
       "    </tr>\n",
       "    <tr>\n",
       "      <th>ATAGGCTAGCTCTGTA-1-('27678', 7)</th>\n",
       "      <td>-0.211242</td>\n",
       "      <td>0.736260</td>\n",
       "      <td>1.096481</td>\n",
       "      <td>1.892444</td>\n",
       "      <td>1.585475</td>\n",
       "      <td>3.669683</td>\n",
       "      <td>2.232614</td>\n",
       "      <td>-1.042255</td>\n",
       "      <td>0.724554</td>\n",
       "      <td>0.833527</td>\n",
       "      <td>...</td>\n",
       "      <td>-0.204551</td>\n",
       "      <td>8.529263</td>\n",
       "      <td>1.732819</td>\n",
       "      <td>0.772459</td>\n",
       "      <td>-0.043307</td>\n",
       "      <td>0.747416</td>\n",
       "      <td>1.233450</td>\n",
       "      <td>0.753507</td>\n",
       "      <td>0.735868</td>\n",
       "      <td>1.859444</td>\n",
       "    </tr>\n",
       "    <tr>\n",
       "      <th>TCATGAGGTGGATTTC-1-('27678', 7)</th>\n",
       "      <td>4.110175</td>\n",
       "      <td>1.230138</td>\n",
       "      <td>0.494763</td>\n",
       "      <td>2.138238</td>\n",
       "      <td>4.675085</td>\n",
       "      <td>7.903718</td>\n",
       "      <td>12.580855</td>\n",
       "      <td>1.051892</td>\n",
       "      <td>2.035204</td>\n",
       "      <td>-0.039051</td>\n",
       "      <td>...</td>\n",
       "      <td>-0.094660</td>\n",
       "      <td>6.203796</td>\n",
       "      <td>1.358820</td>\n",
       "      <td>0.798049</td>\n",
       "      <td>-0.224005</td>\n",
       "      <td>0.375061</td>\n",
       "      <td>6.693098</td>\n",
       "      <td>2.614395</td>\n",
       "      <td>0.998246</td>\n",
       "      <td>3.432812</td>\n",
       "    </tr>\n",
       "    <tr>\n",
       "      <th>TAAGCGTTCGGCTGGT-1-('27678', 7)</th>\n",
       "      <td>0.259446</td>\n",
       "      <td>0.755755</td>\n",
       "      <td>1.337115</td>\n",
       "      <td>0.549588</td>\n",
       "      <td>1.717137</td>\n",
       "      <td>3.052538</td>\n",
       "      <td>3.472257</td>\n",
       "      <td>0.744798</td>\n",
       "      <td>0.519145</td>\n",
       "      <td>0.829422</td>\n",
       "      <td>...</td>\n",
       "      <td>-0.103484</td>\n",
       "      <td>1.742605</td>\n",
       "      <td>0.397716</td>\n",
       "      <td>-0.141199</td>\n",
       "      <td>0.273376</td>\n",
       "      <td>1.399987</td>\n",
       "      <td>1.973929</td>\n",
       "      <td>-0.221435</td>\n",
       "      <td>1.301512</td>\n",
       "      <td>4.906563</td>\n",
       "    </tr>\n",
       "  </tbody>\n",
       "</table>\n",
       "<p>5 rows × 140 columns</p>\n",
       "</div>"
      ],
      "text/plain": [
       "gene_ids                             CD86     CD274     CD270     CD155  \\\n",
       "CATAAGCAGCATGATA-1-('27678', 7)  8.875269  1.072714  0.349734  2.983766   \n",
       "GGTGATTGTATGAAAC-1-('27678', 7) -0.331542  0.871559  0.484194 -0.784014   \n",
       "ATAGGCTAGCTCTGTA-1-('27678', 7) -0.211242  0.736260  1.096481  1.892444   \n",
       "TCATGAGGTGGATTTC-1-('27678', 7)  4.110175  1.230138  0.494763  2.138238   \n",
       "TAAGCGTTCGGCTGGT-1-('27678', 7)  0.259446  0.755755  1.337115  0.549588   \n",
       "\n",
       "gene_ids                            CD112       CD47       CD48      CD40  \\\n",
       "CATAAGCAGCATGATA-1-('27678', 7)  3.551555  10.595364  17.327169 -0.144145   \n",
       "GGTGATTGTATGAAAC-1-('27678', 7)  4.173365   5.242312   3.511576  1.208851   \n",
       "ATAGGCTAGCTCTGTA-1-('27678', 7)  1.585475   3.669683   2.232614 -1.042255   \n",
       "TCATGAGGTGGATTTC-1-('27678', 7)  4.675085   7.903718  12.580855  1.051892   \n",
       "TAAGCGTTCGGCTGGT-1-('27678', 7)  1.717137   3.052538   3.472257  0.744798   \n",
       "\n",
       "gene_ids                            CD154      CD52  ...      CD94      CD162  \\\n",
       "CATAAGCAGCATGATA-1-('27678', 7)  1.184181  3.041042  ...  0.191373  11.086969   \n",
       "GGTGATTGTATGAAAC-1-('27678', 7)  0.547345 -1.133742  ...  0.310369   7.197814   \n",
       "ATAGGCTAGCTCTGTA-1-('27678', 7)  0.724554  0.833527  ... -0.204551   8.529263   \n",
       "TCATGAGGTGGATTTC-1-('27678', 7)  2.035204 -0.039051  ... -0.094660   6.203796   \n",
       "TAAGCGTTCGGCTGGT-1-('27678', 7)  0.519145  0.829422  ... -0.103484   1.742605   \n",
       "\n",
       "gene_ids                            CD85j      CD23     CD328     HLA-E  \\\n",
       "CATAAGCAGCATGATA-1-('27678', 7)  0.300469  0.805080 -0.291616  1.635413   \n",
       "GGTGATTGTATGAAAC-1-('27678', 7) -0.425260 -0.154081 -0.124246 -0.106671   \n",
       "ATAGGCTAGCTCTGTA-1-('27678', 7)  1.732819  0.772459 -0.043307  0.747416   \n",
       "TCATGAGGTGGATTTC-1-('27678', 7)  1.358820  0.798049 -0.224005  0.375061   \n",
       "TAAGCGTTCGGCTGGT-1-('27678', 7)  0.397716 -0.141199  0.273376  1.399987   \n",
       "\n",
       "gene_ids                             CD82     CD101      CD88     CD224  \n",
       "CATAAGCAGCATGATA-1-('27678', 7)  7.509739  6.417010 -0.497571  3.759374  \n",
       "GGTGATTGTATGAAAC-1-('27678', 7)  3.812726 -0.155547  1.029169  3.598739  \n",
       "ATAGGCTAGCTCTGTA-1-('27678', 7)  1.233450  0.753507  0.735868  1.859444  \n",
       "TCATGAGGTGGATTTC-1-('27678', 7)  6.693098  2.614395  0.998246  3.432812  \n",
       "TAAGCGTTCGGCTGGT-1-('27678', 7)  1.973929 -0.221435  1.301512  4.906563  \n",
       "\n",
       "[5 rows x 140 columns]"
      ]
     },
     "execution_count": 47,
     "metadata": {},
     "output_type": "execute_result"
    }
   ],
   "source": [
    "private_test_target.to_df().head()"
   ]
  },
  {
   "cell_type": "code",
   "execution_count": 48,
   "id": "2f609d6f",
   "metadata": {},
   "outputs": [],
   "source": [
    "# pd.DataFrame(private_test_target_raw.X.toarray())"
   ]
  },
  {
   "cell_type": "code",
   "execution_count": 49,
   "id": "b6153779",
   "metadata": {},
   "outputs": [
    {
     "data": {
      "text/html": [
       "<div>\n",
       "<style scoped>\n",
       "    .dataframe tbody tr th:only-of-type {\n",
       "        vertical-align: middle;\n",
       "    }\n",
       "\n",
       "    .dataframe tbody tr th {\n",
       "        vertical-align: top;\n",
       "    }\n",
       "\n",
       "    .dataframe thead th {\n",
       "        text-align: right;\n",
       "    }\n",
       "</style>\n",
       "<table border=\"1\" class=\"dataframe\">\n",
       "  <thead>\n",
       "    <tr style=\"text-align: right;\">\n",
       "      <th></th>\n",
       "      <th>0</th>\n",
       "      <th>1</th>\n",
       "      <th>2</th>\n",
       "      <th>3</th>\n",
       "      <th>4</th>\n",
       "      <th>5</th>\n",
       "      <th>6</th>\n",
       "      <th>7</th>\n",
       "      <th>8</th>\n",
       "      <th>9</th>\n",
       "      <th>...</th>\n",
       "      <th>130</th>\n",
       "      <th>131</th>\n",
       "      <th>132</th>\n",
       "      <th>133</th>\n",
       "      <th>134</th>\n",
       "      <th>135</th>\n",
       "      <th>136</th>\n",
       "      <th>137</th>\n",
       "      <th>138</th>\n",
       "      <th>139</th>\n",
       "    </tr>\n",
       "  </thead>\n",
       "  <tbody>\n",
       "    <tr>\n",
       "      <th>0</th>\n",
       "      <td>1.000000</td>\n",
       "      <td>0.377980</td>\n",
       "      <td>0.471054</td>\n",
       "      <td>0.471164</td>\n",
       "      <td>0.455415</td>\n",
       "      <td>0.419601</td>\n",
       "      <td>0.503246</td>\n",
       "      <td>0.296490</td>\n",
       "      <td>0.447425</td>\n",
       "      <td>0.481380</td>\n",
       "      <td>...</td>\n",
       "      <td>0.469845</td>\n",
       "      <td>0.474873</td>\n",
       "      <td>0.414501</td>\n",
       "      <td>0.498072</td>\n",
       "      <td>0.378922</td>\n",
       "      <td>0.457104</td>\n",
       "      <td>0.426090</td>\n",
       "      <td>0.521140</td>\n",
       "      <td>0.247796</td>\n",
       "      <td>0.381653</td>\n",
       "    </tr>\n",
       "    <tr>\n",
       "      <th>1</th>\n",
       "      <td>0.377980</td>\n",
       "      <td>1.000000</td>\n",
       "      <td>0.753936</td>\n",
       "      <td>0.575750</td>\n",
       "      <td>0.729793</td>\n",
       "      <td>0.682114</td>\n",
       "      <td>0.067846</td>\n",
       "      <td>0.731566</td>\n",
       "      <td>0.735294</td>\n",
       "      <td>0.603504</td>\n",
       "      <td>...</td>\n",
       "      <td>0.678196</td>\n",
       "      <td>0.488306</td>\n",
       "      <td>0.638931</td>\n",
       "      <td>0.717486</td>\n",
       "      <td>0.301822</td>\n",
       "      <td>0.739110</td>\n",
       "      <td>0.442341</td>\n",
       "      <td>0.450125</td>\n",
       "      <td>0.479531</td>\n",
       "      <td>0.664503</td>\n",
       "    </tr>\n",
       "    <tr>\n",
       "      <th>2</th>\n",
       "      <td>0.471054</td>\n",
       "      <td>0.753936</td>\n",
       "      <td>1.000000</td>\n",
       "      <td>0.619863</td>\n",
       "      <td>0.703149</td>\n",
       "      <td>0.616175</td>\n",
       "      <td>0.189226</td>\n",
       "      <td>0.663352</td>\n",
       "      <td>0.817326</td>\n",
       "      <td>0.682344</td>\n",
       "      <td>...</td>\n",
       "      <td>0.760124</td>\n",
       "      <td>0.604362</td>\n",
       "      <td>0.741815</td>\n",
       "      <td>0.794959</td>\n",
       "      <td>0.379981</td>\n",
       "      <td>0.789203</td>\n",
       "      <td>0.576561</td>\n",
       "      <td>0.543935</td>\n",
       "      <td>0.620554</td>\n",
       "      <td>0.648862</td>\n",
       "    </tr>\n",
       "    <tr>\n",
       "      <th>3</th>\n",
       "      <td>0.471164</td>\n",
       "      <td>0.575750</td>\n",
       "      <td>0.619863</td>\n",
       "      <td>1.000000</td>\n",
       "      <td>0.746579</td>\n",
       "      <td>0.629032</td>\n",
       "      <td>0.328652</td>\n",
       "      <td>0.524855</td>\n",
       "      <td>0.591614</td>\n",
       "      <td>0.541865</td>\n",
       "      <td>...</td>\n",
       "      <td>0.561948</td>\n",
       "      <td>0.552008</td>\n",
       "      <td>0.525751</td>\n",
       "      <td>0.600931</td>\n",
       "      <td>0.348138</td>\n",
       "      <td>0.597894</td>\n",
       "      <td>0.489188</td>\n",
       "      <td>0.468999</td>\n",
       "      <td>0.388066</td>\n",
       "      <td>0.593208</td>\n",
       "    </tr>\n",
       "    <tr>\n",
       "      <th>4</th>\n",
       "      <td>0.455415</td>\n",
       "      <td>0.729793</td>\n",
       "      <td>0.703149</td>\n",
       "      <td>0.746579</td>\n",
       "      <td>1.000000</td>\n",
       "      <td>0.763045</td>\n",
       "      <td>0.276435</td>\n",
       "      <td>0.682445</td>\n",
       "      <td>0.656310</td>\n",
       "      <td>0.593196</td>\n",
       "      <td>...</td>\n",
       "      <td>0.647766</td>\n",
       "      <td>0.535152</td>\n",
       "      <td>0.549937</td>\n",
       "      <td>0.682700</td>\n",
       "      <td>0.361988</td>\n",
       "      <td>0.683095</td>\n",
       "      <td>0.383073</td>\n",
       "      <td>0.486138</td>\n",
       "      <td>0.319941</td>\n",
       "      <td>0.681506</td>\n",
       "    </tr>\n",
       "  </tbody>\n",
       "</table>\n",
       "<p>5 rows × 140 columns</p>\n",
       "</div>"
      ],
      "text/plain": [
       "        0         1         2         3         4         5         6    \\\n",
       "0  1.000000  0.377980  0.471054  0.471164  0.455415  0.419601  0.503246   \n",
       "1  0.377980  1.000000  0.753936  0.575750  0.729793  0.682114  0.067846   \n",
       "2  0.471054  0.753936  1.000000  0.619863  0.703149  0.616175  0.189226   \n",
       "3  0.471164  0.575750  0.619863  1.000000  0.746579  0.629032  0.328652   \n",
       "4  0.455415  0.729793  0.703149  0.746579  1.000000  0.763045  0.276435   \n",
       "\n",
       "        7         8         9    ...       130       131       132       133  \\\n",
       "0  0.296490  0.447425  0.481380  ...  0.469845  0.474873  0.414501  0.498072   \n",
       "1  0.731566  0.735294  0.603504  ...  0.678196  0.488306  0.638931  0.717486   \n",
       "2  0.663352  0.817326  0.682344  ...  0.760124  0.604362  0.741815  0.794959   \n",
       "3  0.524855  0.591614  0.541865  ...  0.561948  0.552008  0.525751  0.600931   \n",
       "4  0.682445  0.656310  0.593196  ...  0.647766  0.535152  0.549937  0.682700   \n",
       "\n",
       "        134       135       136       137       138       139  \n",
       "0  0.378922  0.457104  0.426090  0.521140  0.247796  0.381653  \n",
       "1  0.301822  0.739110  0.442341  0.450125  0.479531  0.664503  \n",
       "2  0.379981  0.789203  0.576561  0.543935  0.620554  0.648862  \n",
       "3  0.348138  0.597894  0.489188  0.468999  0.388066  0.593208  \n",
       "4  0.361988  0.683095  0.383073  0.486138  0.319941  0.681506  \n",
       "\n",
       "[5 rows x 140 columns]"
      ]
     },
     "execution_count": 49,
     "metadata": {},
     "output_type": "execute_result"
    }
   ],
   "source": [
    "pd.concat([pd.DataFrame(pred_private), pd.DataFrame(private_test_target.X)]).corr().head()   # TODO is this correct? this compares all columns but not both datasets?"
   ]
  },
  {
   "cell_type": "markdown",
   "id": "88d7900d",
   "metadata": {},
   "source": [
    "#### analyse expression values of selected proteins"
   ]
  },
  {
   "cell_type": "code",
   "execution_count": 50,
   "id": "dbef31a0",
   "metadata": {},
   "outputs": [],
   "source": [
    "os.chdir('../..')"
   ]
  },
  {
   "cell_type": "code",
   "execution_count": 51,
   "id": "ba656cf0",
   "metadata": {},
   "outputs": [
    {
     "data": {
      "text/plain": [
       "Index(['CD86', 'CD274', 'CD270', 'CD155', 'CD112', 'CD47', 'CD48', 'CD40',\n",
       "       'CD154', 'CD52',\n",
       "       ...\n",
       "       'CD94', 'CD162', 'CD85j', 'CD23', 'CD328', 'HLA-E', 'CD82', 'CD101',\n",
       "       'CD88', 'CD224'],\n",
       "      dtype='object', name='gene_ids', length=140)"
      ]
     },
     "execution_count": 51,
     "metadata": {},
     "output_type": "execute_result"
    }
   ],
   "source": [
    "private_test_target.var_names"
   ]
  },
  {
   "cell_type": "code",
   "execution_count": 52,
   "id": "516f1620",
   "metadata": {
    "scrolled": true
   },
   "outputs": [],
   "source": [
    "genes_22001 = np.loadtxt('2.preprocess_to_feature/cite/all_22001_genes_names.txt', dtype=str)\n",
    "handselected = np.loadtxt('2.preprocess_to_feature/cite/handselected_84_gene_ids.txt', dtype=str)\n",
    "genes_22001_short = [element.split('_')[1] for element in genes_22001]\n",
    "handselected_short = [element.split('_')[1] for element in handselected]"
   ]
  },
  {
   "cell_type": "code",
   "execution_count": 53,
   "id": "a3a3fe7f",
   "metadata": {},
   "outputs": [
    {
     "name": "stdout",
     "output_type": "stream",
     "text": [
      "CD86\n",
      "CD48\n",
      "CD52\n",
      "CD19\n",
      "CD33\n",
      "CD7\n",
      "CD4\n",
      "CD44\n",
      "CD14\n",
      "KLRG1\n",
      "CD27\n",
      "CD24\n",
      "CD2\n",
      "CD38\n",
      "CD22\n",
      "CD63\n",
      "CD36\n",
      "CD72\n",
      "CD9\n",
      "HLA-E\n",
      "CD82\n"
     ]
    }
   ],
   "source": [
    "# ids present in gene_id of handselected genes and in protein names\n",
    "for prot in private_test_target.var_names:\n",
    "    if prot in handselected_short:\n",
    "        print(prot)"
   ]
  },
  {
   "cell_type": "code",
   "execution_count": 54,
   "id": "7674dcf4",
   "metadata": {},
   "outputs": [
    {
     "name": "stdout",
     "output_type": "stream",
     "text": [
      "CD274\n",
      "CD47\n",
      "CD40\n",
      "CD69\n",
      "CD58\n",
      "CX3CR1\n",
      "CD244\n",
      "CD163\n",
      "CD83\n",
      "CD226\n",
      "CD81\n",
      "CD93\n",
      "CD101\n"
     ]
    }
   ],
   "source": [
    "# ids present in gene_id of other 22001 genes and in protein names\n",
    "for prot in private_test_target.var_names:\n",
    "    if prot in genes_22001_short:\n",
    "        print(prot)"
   ]
  },
  {
   "cell_type": "code",
   "execution_count": 55,
   "id": "c78a7366",
   "metadata": {},
   "outputs": [
    {
     "data": {
      "image/png": "[encoded data removed]",
      "text/plain": [
       "<Figure size 640x480 with 1 Axes>"
      ]
     },
     "metadata": {},
     "output_type": "display_data"
    }
   ],
   "source": [
    "import seaborn as sns\n",
    "import matplotlib.pyplot as plt\n",
    "sns.boxplot(data=private_test_target.to_df()[['CD86', 'CD48', 'CD36', 'CD9', 'CD274', 'CD47', 'CD40', 'CD69']])\n",
    "plt.show()"
   ]
  },
  {
   "cell_type": "code",
   "execution_count": 56,
   "id": "acafb938",
   "metadata": {},
   "outputs": [],
   "source": [
    "def plot_column_ranges(data, min_range=0):\n",
    "    column_ranges = np.ptp(data.to_df(), axis=0)  # Range = max - min for each column\n",
    "    # Get the column names whose range is greater than 20\n",
    "    selected_columns = data.var_names[column_ranges > min_range]\n",
    "    plt.figure(figsize=(15, 8))\n",
    "    sns.violinplot(data=data.to_df()[selected_columns], scale='width', linewidth=0)\n",
    "    # sns.stripplot(data=private_test_target.to_df()[selected_columns], jitter=True)\n",
    "    plt.xticks(rotation=45)\n",
    "    plt.show()"
   ]
  },
  {
   "cell_type": "code",
   "execution_count": 57,
   "id": "dfac9b13",
   "metadata": {},
   "outputs": [
    {
     "data": {
      "image/png": "[encoded data removed]",
      "text/plain": [
       "<Figure size 1500x800 with 1 Axes>"
      ]
     },
     "metadata": {},
     "output_type": "display_data"
    }
   ],
   "source": [
    "plot_column_ranges(private_test_target, min_range=20)"
   ]
  },
  {
   "cell_type": "code",
   "execution_count": null,
   "id": "05852fa7",
   "metadata": {},
   "outputs": [],
   "source": [
    "X_train_p_sampled = ad.read_h5ad('4.model/pred/private_train_input_max_samples.h5ad')\n",
    "plot_column_ranges(X_train_p_sampled, min_range=9)    # 22085 columns, median 4, max 11, min 0"
   ]
  },
  {
   "cell_type": "code",
   "execution_count": 59,
   "id": "921c08cc",
   "metadata": {},
   "outputs": [
    {
     "data": {
      "image/png": "[encoded data removed]",
      "text/plain": [
       "<Figure size 1500x800 with 1 Axes>"
      ]
     },
     "metadata": {},
     "output_type": "display_data"
    }
   ],
   "source": [
    "# col CD36:\n",
    "cd36 = [col for col in X_train_p_sampled.var_names if 'CD36' in col]\n",
    "plot_column_ranges(X_train_p_sampled[:, cd36])"
   ]
  },
  {
   "cell_type": "code",
   "execution_count": 60,
   "id": "aed70cc1",
   "metadata": {},
   "outputs": [
    {
     "name": "stderr",
     "output_type": "stream",
     "text": [
      "Using `tqdm.autonotebook.tqdm` in notebook mode. Use `tqdm.tqdm` instead to force console mode (e.g. in jupyter console)\n"
     ]
    }
   ],
   "source": [
    "import shap\n"
   ]
  },
  {
   "cell_type": "code",
   "execution_count": 67,
   "id": "1b37fa49",
   "metadata": {},
   "outputs": [],
   "source": [
    "def ensemble(X_train):\n",
    "    pred = np.zeros([48203, 140])\n",
    "\n",
    "    for num, i in enumerate(model_feat_dict.keys()):\n",
    "\n",
    "        print(i)\n",
    "\n",
    "        if 'mlp' in i:\n",
    "\n",
    "            try:\n",
    "                test_file = model_feat_dict[i][0]\n",
    "                test_weight = model_feat_dict[i][1]\n",
    "                X_test = pd.read_pickle(cite_feature_path  + test_file)   \n",
    "                # print(cite_feature_path  + test_file)\n",
    "                X_test = np.array(X_test)\n",
    "                feature_dims = X_test.shape[1]\n",
    "\n",
    "                test_ds = CiteDataset_test(X_test)\n",
    "                test_dataloader = DataLoader(test_ds, batch_size=128, pin_memory=True, \n",
    "                                             shuffle=False, drop_last=False, num_workers=4)\n",
    "\n",
    "                if 'mish' in i:\n",
    "                    model = CiteModel_mish(feature_dims)\n",
    "                else:\n",
    "                    model = CiteModel(feature_dims)\n",
    "\n",
    "                model = model.to(device)\n",
    "                model.load_state_dict(torch.load(f'{cite_mlp_path}/{i}'))\n",
    "\n",
    "                result = test_loop(model, test_dataloader).astype(np.float32)\n",
    "                result = std(result) * test_weight / weight_sum\n",
    "                pred += result\n",
    "\n",
    "                torch.cuda.empty_cache()\n",
    "\n",
    "            except Exception as e: \n",
    "                print(i)\n",
    "                print(e)             # TODOOOOOOOOOOOOOO\n",
    "\n",
    "        else:\n",
    "            test_file = model_feat_dict[i][0]\n",
    "            test_weight = model_feat_dict[i][1]\n",
    "            X_test = pd.read_pickle(cite_feature_path  + test_file)\n",
    "\n",
    "            cb_pred = np.zeros([48203, 140])\n",
    "\n",
    "            for t in tqdm(range(140)): \n",
    "                cb_model_path = [j for j in os.listdir(cite_cb_path) if f'cb_{t}_{i}' in j][0]\n",
    "                cb = pickle.load(open(cite_cb_path + cb_model_path, 'rb'))\n",
    "                cb_pred[:,t] = cb.predict(X_test)\n",
    "\n",
    "            cb_pred = cb_pred.astype(np.float32)\n",
    "            pred += std(cb_pred) * test_weight / weight_sum\n",
    "\n",
    "            del cb_pred\n",
    "    return pred"
   ]
  },
  {
   "cell_type": "code",
   "execution_count": 62,
   "id": "c556db12",
   "metadata": {},
   "outputs": [
    {
     "name": "stdout",
     "output_type": "stream",
     "text": [
      "cite_mlp_corr_add_con_imp_flg_donor_val_50\n"
     ]
    },
    {
     "data": {
      "application/vnd.jupyter.widget-view+json": {
       "model_id": "924708b6d8fb4cad827e7291f0bd997d",
       "version_major": 2,
       "version_minor": 0
      },
      "text/plain": [
       "  0%|          | 0/377 [00:00<?, ?it/s]"
      ]
     },
     "metadata": {},
     "output_type": "display_data"
    },
    {
     "name": "stdout",
     "output_type": "stream",
     "text": [
      "cite_mlp_corr_last_v3_flg_donor_val_55\n"
     ]
    },
    {
     "data": {
      "application/vnd.jupyter.widget-view+json": {
       "model_id": "5ed10896875c40be9be9627f9d23147d",
       "version_major": 2,
       "version_minor": 0
      },
      "text/plain": [
       "  0%|          | 0/377 [00:00<?, ?it/s]"
      ]
     },
     "metadata": {},
     "output_type": "display_data"
    },
    {
     "name": "stdout",
     "output_type": "stream",
     "text": [
      "cite_mlp_corr_c_add_w2v_v1_mish_flg_donor_val_66\n"
     ]
    },
    {
     "data": {
      "application/vnd.jupyter.widget-view+json": {
       "model_id": "000cc045872142218a69227f254c6a60",
       "version_major": 2,
       "version_minor": 0
      },
      "text/plain": [
       "  0%|          | 0/377 [00:00<?, ?it/s]"
      ]
     },
     "metadata": {},
     "output_type": "display_data"
    }
   ],
   "source": [
    "ensemble(X_train_p_sampled)"
   ]
  },
  {
   "cell_type": "code",
   "execution_count": 68,
   "id": "4873811a",
   "metadata": {
    "scrolled": true
   },
   "outputs": [
    {
     "name": "stdout",
     "output_type": "stream",
     "text": [
      "cite_mlp_corr_add_con_imp_flg_donor_val_50\n"
     ]
    },
    {
     "data": {
      "application/vnd.jupyter.widget-view+json": {
       "model_id": "07e8d254268d49858e0fcad0c30b74bb",
       "version_major": 2,
       "version_minor": 0
      },
      "text/plain": [
       "  0%|          | 0/377 [00:00<?, ?it/s]"
      ]
     },
     "metadata": {},
     "output_type": "display_data"
    },
    {
     "name": "stdout",
     "output_type": "stream",
     "text": [
      "cite_mlp_corr_last_v3_flg_donor_val_55\n"
     ]
    },
    {
     "data": {
      "application/vnd.jupyter.widget-view+json": {
       "model_id": "107cc65493a34c17884669b397402434",
       "version_major": 2,
       "version_minor": 0
      },
      "text/plain": [
       "  0%|          | 0/377 [00:00<?, ?it/s]"
      ]
     },
     "metadata": {},
     "output_type": "display_data"
    },
    {
     "name": "stdout",
     "output_type": "stream",
     "text": [
      "cite_mlp_corr_c_add_w2v_v1_mish_flg_donor_val_66\n"
     ]
    },
    {
     "data": {
      "application/vnd.jupyter.widget-view+json": {
       "model_id": "131b1151880d48cb839601c7c0008f8c",
       "version_major": 2,
       "version_minor": 0
      },
      "text/plain": [
       "  0%|          | 0/377 [00:00<?, ?it/s]"
      ]
     },
     "metadata": {},
     "output_type": "display_data"
    },
    {
     "name": "stdout",
     "output_type": "stream",
     "text": [
      "cite_mlp_corr_c_add_w2v_v1_flg_donor_val_66\n"
     ]
    },
    {
     "data": {
      "application/vnd.jupyter.widget-view+json": {
       "model_id": "cae97aeddac0484480e702348f902900",
       "version_major": 2,
       "version_minor": 0
      },
      "text/plain": [
       "  0%|          | 0/377 [00:00<?, ?it/s]"
      ]
     },
     "metadata": {},
     "output_type": "display_data"
    },
    {
     "name": "stdout",
     "output_type": "stream",
     "text": [
      "cite_mlp_corr_c_add_84_v1_flg_donor_val_47\n"
     ]
    },
    {
     "data": {
      "application/vnd.jupyter.widget-view+json": {
       "model_id": "745e813b85e144d8b414c6dea66ca79e",
       "version_major": 2,
       "version_minor": 0
      },
      "text/plain": [
       "  0%|          | 0/377 [00:00<?, ?it/s]"
      ]
     },
     "metadata": {},
     "output_type": "display_data"
    },
    {
     "name": "stdout",
     "output_type": "stream",
     "text": [
      "cite_mlp_corr_c_add_120_v1_flg_donor_val_63\n"
     ]
    },
    {
     "data": {
      "application/vnd.jupyter.widget-view+json": {
       "model_id": "43aa2747784a425584deeece40cae598",
       "version_major": 2,
       "version_minor": 0
      },
      "text/plain": [
       "  0%|          | 0/377 [00:00<?, ?it/s]"
      ]
     },
     "metadata": {},
     "output_type": "display_data"
    },
    {
     "name": "stdout",
     "output_type": "stream",
     "text": [
      "cite_mlp_corr_w2v_cell_flg_donor_val_51\n"
     ]
    },
    {
     "data": {
      "application/vnd.jupyter.widget-view+json": {
       "model_id": "78a87e8b3ade406baa79a80f76c94970",
       "version_major": 2,
       "version_minor": 0
      },
      "text/plain": [
       "  0%|          | 0/377 [00:00<?, ?it/s]"
      ]
     },
     "metadata": {},
     "output_type": "display_data"
    },
    {
     "name": "stdout",
     "output_type": "stream",
     "text": [
      "cite_mlp_corr_best_cell_120_flg_donor_val_51\n"
     ]
    },
    {
     "data": {
      "application/vnd.jupyter.widget-view+json": {
       "model_id": "5666aac522fb41068fe94c5fa60c2aac",
       "version_major": 2,
       "version_minor": 0
      },
      "text/plain": [
       "  0%|          | 0/377 [00:00<?, ?it/s]"
      ]
     },
     "metadata": {},
     "output_type": "display_data"
    },
    {
     "name": "stdout",
     "output_type": "stream",
     "text": [
      "cite_mlp_corr_cluster_cell_flg_donor_val_64\n"
     ]
    },
    {
     "data": {
      "application/vnd.jupyter.widget-view+json": {
       "model_id": "ed40d3505e8445c2b6e8c72ed72b6bea",
       "version_major": 2,
       "version_minor": 0
      },
      "text/plain": [
       "  0%|          | 0/377 [00:00<?, ?it/s]"
      ]
     },
     "metadata": {},
     "output_type": "display_data"
    },
    {
     "name": "stdout",
     "output_type": "stream",
     "text": [
      "cite_mlp_corr_w2v_128_flg_donor_val_42\n",
      "cite_mlp_corr_w2v_128_flg_donor_val_42\n",
      "pickle data was truncated\n",
      "cite_mlp_corr_imp_w2v_128_flg_donor_val_38\n"
     ]
    },
    {
     "data": {
      "application/vnd.jupyter.widget-view+json": {
       "model_id": "7358dc0ab5b34d788809276a04e86b5a",
       "version_major": 2,
       "version_minor": 0
      },
      "text/plain": [
       "  0%|          | 0/377 [00:00<?, ?it/s]"
      ]
     },
     "metadata": {},
     "output_type": "display_data"
    },
    {
     "name": "stdout",
     "output_type": "stream",
     "text": [
      "cite_mlp_corr_snorm_flg_donor_val_39\n"
     ]
    },
    {
     "data": {
      "application/vnd.jupyter.widget-view+json": {
       "model_id": "abbacb8a40cc4390a5b9ad6050f3e384",
       "version_major": 2,
       "version_minor": 0
      },
      "text/plain": [
       "  0%|          | 0/377 [00:00<?, ?it/s]"
      ]
     },
     "metadata": {},
     "output_type": "display_data"
    },
    {
     "name": "stdout",
     "output_type": "stream",
     "text": [
      "cite_mlp_corr_best_128_flg_donor_val_45\n"
     ]
    },
    {
     "data": {
      "application/vnd.jupyter.widget-view+json": {
       "model_id": "cc4ace9264e44e6fa2bdbaa38c566a3c",
       "version_major": 2,
       "version_minor": 0
      },
      "text/plain": [
       "  0%|          | 0/377 [00:00<?, ?it/s]"
      ]
     },
     "metadata": {},
     "output_type": "display_data"
    },
    {
     "name": "stdout",
     "output_type": "stream",
     "text": [
      "cite_mlp_corr_best_64_flg_donor_val_50\n"
     ]
    },
    {
     "data": {
      "application/vnd.jupyter.widget-view+json": {
       "model_id": "9388bd31407443c8a6b51e54a0c90159",
       "version_major": 2,
       "version_minor": 0
      },
      "text/plain": [
       "  0%|          | 0/377 [00:00<?, ?it/s]"
      ]
     },
     "metadata": {},
     "output_type": "display_data"
    },
    {
     "name": "stdout",
     "output_type": "stream",
     "text": [
      "cite_mlp_corr_cluster_128_flg_donor_val_51\n",
      "cite_mlp_corr_cluster_128_flg_donor_val_51\n",
      "pickle data was truncated\n",
      "cite_mlp_corr_cluster_64_flg_donor_val_57\n"
     ]
    },
    {
     "data": {
      "application/vnd.jupyter.widget-view+json": {
       "model_id": "51afc5f854504308b2ad5914b80310e1",
       "version_major": 2,
       "version_minor": 0
      },
      "text/plain": [
       "  0%|          | 0/377 [00:00<?, ?it/s]"
      ]
     },
     "metadata": {},
     "output_type": "display_data"
    },
    {
     "name": "stdout",
     "output_type": "stream",
     "text": [
      "cite_mlp_corr_svd_128_flg_donor_val_30\n"
     ]
    },
    {
     "data": {
      "application/vnd.jupyter.widget-view+json": {
       "model_id": "5f9d5aaf501a47318cc95ae501a7eb0b",
       "version_major": 2,
       "version_minor": 0
      },
      "text/plain": [
       "  0%|          | 0/377 [00:00<?, ?it/s]"
      ]
     },
     "metadata": {},
     "output_type": "display_data"
    },
    {
     "name": "stdout",
     "output_type": "stream",
     "text": [
      "cite_mlp_corr_svd_64_flg_donor_val_38\n"
     ]
    },
    {
     "data": {
      "application/vnd.jupyter.widget-view+json": {
       "model_id": "3da9732dd3ea48219dfed1798f0995f1",
       "version_major": 2,
       "version_minor": 0
      },
      "text/plain": [
       "  0%|          | 0/377 [00:00<?, ?it/s]"
      ]
     },
     "metadata": {},
     "output_type": "display_data"
    },
    {
     "name": "stdout",
     "output_type": "stream",
     "text": [
      "best_128\n"
     ]
    },
    {
     "data": {
      "application/vnd.jupyter.widget-view+json": {
       "model_id": "d9d7b9a7830f4d40a457adc061c58683",
       "version_major": 2,
       "version_minor": 0
      },
      "text/plain": [
       "  0%|          | 0/140 [00:00<?, ?it/s]"
      ]
     },
     "metadata": {},
     "output_type": "display_data"
    },
    {
     "name": "stdout",
     "output_type": "stream",
     "text": [
      "best_64\n"
     ]
    },
    {
     "data": {
      "application/vnd.jupyter.widget-view+json": {
       "model_id": "c13a16b2cbcb4eae8a5418b1bb37152d",
       "version_major": 2,
       "version_minor": 0
      },
      "text/plain": [
       "  0%|          | 0/140 [00:00<?, ?it/s]"
      ]
     },
     "metadata": {},
     "output_type": "display_data"
    }
   ],
   "source": [
    "med = X_train_p_sampled.to_df().median().values.reshape((1,X_train_p_sampled.shape[1]))\n",
    "explainer16_p = shap.KernelExplainer(ensemble, med)"
   ]
  },
  {
   "cell_type": "code",
   "execution_count": null,
   "id": "4f9eb9b2",
   "metadata": {},
   "outputs": [],
   "source": [
    "shap_values_16_p = explainer16_p.shap_values(X_test_p.to_df(), nsamples=300)"
   ]
  }
 ],
 "metadata": {
  "kernelspec": {
   "display_name": "Python 3 (ipykernel)",
   "language": "python",
   "name": "python3"
  },
  "language_info": {
   "codemirror_mode": {
    "name": "ipython",
    "version": 3
   },
   "file_extension": ".py",
   "mimetype": "text/x-python",
   "name": "python",
   "nbconvert_exporter": "python",
   "pygments_lexer": "ipython3",
   "version": "3.8.10"
  }
 },
 "nbformat": 4,
 "nbformat_minor": 5
}
