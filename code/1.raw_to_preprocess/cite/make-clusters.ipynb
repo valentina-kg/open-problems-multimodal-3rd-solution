{
 "cells": [
  {
   "cell_type": "markdown",
   "id": "e46999a3",
   "metadata": {},
   "source": [
    "- make leiden/SpectralClustering/adjacency matrix\n",
    "    - cite_cluster.pickle / train(test)_spec_cluster_128 / cite_train(test)_connect.pickle"
   ]
  },
  {
   "cell_type": "code",
   "execution_count": null,
   "id": "d5748174",
   "metadata": {},
   "outputs": [],
   "source": [
    "%matplotlib inline\n",
    "\n",
    "import os\n",
    "import gc\n",
    "import torch\n",
    "import muon\n",
    "import numpy as np\n",
    "import scanpy as sc\n",
    "import pandas as pd\n",
    "import scipy\n",
    "import dask.dataframe as dd\n",
    "import matplotlib.pyplot as plt\n",
    "from tqdm.notebook import tqdm\n",
    "from sklearn.decomposition import TruncatedSVD\n",
    "from sklearn.cluster import SpectralClustering"
   ]
  },
  {
   "cell_type": "code",
   "execution_count": null,
   "id": "da32a1c5",
   "metadata": {},
   "outputs": [],
   "source": [
    "%%time\n",
    "\n",
    "raw_path_base = '../../../input/raw/'\n",
    "raw_path = '../../../input/preprocess/cite/'\n",
    "raw_multi_path = '../../../input/preprocess/multi/'\n",
    "feature_path = '../../../input/base_features/cite/'\n",
    "#feature_path = '../../../../summary/input/sample/'"
   ]
  },
  {
   "cell_type": "code",
   "execution_count": null,
   "id": "c219d08d",
   "metadata": {},
   "outputs": [],
   "source": [
    "train_inputs = scipy.sparse.load_npz(raw_path + \"train_cite_raw_inputs_values.sparse.npz\")\n",
    "test_inputs = scipy.sparse.load_npz(raw_path + \"test_cite_raw_inputs_values.sparse.npz\")"
   ]
  },
  {
   "cell_type": "code",
   "execution_count": null,
   "id": "cef3ae69",
   "metadata": {},
   "outputs": [],
   "source": [
    "train_ids = np.load(raw_path + \"train_cite_raw_inputs_idxcol.npz\", allow_pickle=True)\n",
    "test_ids = np.load(raw_path + \"test_cite_raw_inputs_idxcol.npz\", allow_pickle=True)\n",
    "\n",
    "train_index = train_ids[\"index\"]\n",
    "train_column = train_ids[\"columns\"]\n",
    "test_index = test_ids[\"index\"]"
   ]
  },
  {
   "cell_type": "code",
   "execution_count": null,
   "id": "3362ca6e",
   "metadata": {},
   "outputs": [],
   "source": [
    "train_num = train_inputs.shape[0]"
   ]
  },
  {
   "cell_type": "code",
   "execution_count": null,
   "id": "53113f82",
   "metadata": {},
   "outputs": [],
   "source": [
    "all_inputs = scipy.sparse.vstack([train_inputs, test_inputs])\n",
    "del train_inputs, test_inputs\n",
    "gc.collect()"
   ]
  },
  {
   "cell_type": "code",
   "execution_count": null,
   "id": "ede86ee3",
   "metadata": {},
   "outputs": [],
   "source": [
    "svd_dims = 128\n",
    "svd = TruncatedSVD(n_components=svd_dims, random_state=1) # 512\n",
    "result_svd = svd.fit_transform(all_inputs)"
   ]
  },
  {
   "cell_type": "code",
   "execution_count": null,
   "id": "b46b90d5",
   "metadata": {},
   "outputs": [],
   "source": [
    "X_all = sc.AnnData(X = result_svd)"
   ]
  },
  {
   "cell_type": "code",
   "execution_count": null,
   "id": "87ede6b6",
   "metadata": {},
   "outputs": [],
   "source": [
    "sc.pp.neighbors(X_all, use_rep = 'X', n_neighbors=64, method='umap')\n",
    "sc.tl.leiden(X_all)"
   ]
  },
  {
   "cell_type": "code",
   "execution_count": null,
   "id": "e10e95e1",
   "metadata": {},
   "outputs": [],
   "source": [
    "# save cluster\n",
    "X_clus = X_all.obs['leiden']\n",
    "pd.DataFrame(X_clus).to_pickle(feature_path + 'cite_cluster.pickle')"
   ]
  },
  {
   "cell_type": "markdown",
   "id": "4ad22541",
   "metadata": {},
   "source": [
    "### s_cluster"
   ]
  },
  {
   "cell_type": "code",
   "execution_count": null,
   "id": "f5630bfa",
   "metadata": {},
   "outputs": [],
   "source": [
    "s_cluster = SpectralClustering(n_clusters=128,\n",
    "                               affinity = 'precomputed',\n",
    "                               assign_labels='discretize',\n",
    "                               random_state=0)"
   ]
  },
  {
   "cell_type": "code",
   "execution_count": null,
   "id": "083be172",
   "metadata": {},
   "outputs": [],
   "source": [
    "%%time\n",
    "result_cluster = s_cluster.fit_predict(X_all.obsp['distances'])"
   ]
  },
  {
   "cell_type": "code",
   "execution_count": null,
   "id": "31039eb1",
   "metadata": {},
   "outputs": [],
   "source": [
    "train_cite_cluster = pd.DataFrame(result_cluster[:len(train_index)], index = train_index, columns = ['s_cluster'])\n",
    "test_cite_cluster = pd.DataFrame(result_cluster[len(train_index):], index = test_index, columns = ['s_cluster'])"
   ]
  },
  {
   "cell_type": "code",
   "execution_count": null,
   "id": "f8402624",
   "metadata": {},
   "outputs": [],
   "source": [
    "train_cite_cluster.to_pickle(feature_path + 'train_spec_cluster_128.pickle')\n",
    "test_cite_cluster.to_pickle(feature_path + 'test_spec_cluster_128.pickle')"
   ]
  },
  {
   "cell_type": "markdown",
   "id": "ebf53e1d",
   "metadata": {},
   "source": [
    "### make con(connectivity) feature\n",
    "Weighted average the expression levels of important proteins in similar cells based on the similarity of each cell"
   ]
  },
  {
   "cell_type": "code",
   "execution_count": null,
   "id": "f821d93f",
   "metadata": {},
   "outputs": [],
   "source": [
    "adj_mat = scipy.sparse.csr_matrix(X_all.obsp['connectivities'])"
   ]
  },
  {
   "cell_type": "code",
   "execution_count": null,
   "id": "275698d6",
   "metadata": {},
   "outputs": [],
   "source": [
    "del X_all\n",
    "gc.collect()"
   ]
  },
  {
   "cell_type": "code",
   "execution_count": null,
   "id": "265af8fc",
   "metadata": {},
   "outputs": [],
   "source": [
    "con_df = pd.DataFrame(np.array(adj_mat.sum(1)), columns = ['connect_sum'])"
   ]
  },
  {
   "cell_type": "code",
   "execution_count": null,
   "id": "96ab81a7",
   "metadata": {},
   "outputs": [],
   "source": [
    "rows, cols = adj_mat.nonzero()"
   ]
  },
  {
   "cell_type": "code",
   "execution_count": null,
   "id": "2915a2ba",
   "metadata": {},
   "outputs": [],
   "source": [
    "row_df = pd.DataFrame(rows, columns = ['row'])\n",
    "row_df['col'] = cols\n",
    "weight = np.array(con_df['connect_sum'])"
   ]
  },
  {
   "cell_type": "code",
   "execution_count": null,
   "id": "e4f7250f",
   "metadata": {},
   "outputs": [],
   "source": [
    "fix_vec = np.zeros([adj_mat.shape[0], 22085]).astype(np.float32)\n",
    "\n",
    "for i in tqdm(row_df.groupby(['row'])):\n",
    "\n",
    "    index_num = i[0]\n",
    "    near_index_list = list(i[1]['col'])\n",
    "    near_vec = np.zeros([1,22085])\n",
    "\n",
    "    for n_index in near_index_list:\n",
    "        near_vec += (all_inputs[n_index,:] * adj_mat[index_num, n_index]) / weight[index_num]\n",
    "\n",
    "    fix_vec[index_num,:] = near_vec"
   ]
  },
  {
   "cell_type": "code",
   "execution_count": null,
   "id": "739457d8",
   "metadata": {},
   "outputs": [],
   "source": [
    "important_cols = ['ENSG00000135218_CD36',\n",
    " 'ENSG00000010278_CD9',\n",
    " 'ENSG00000204287_HLA-DRA',\n",
    " 'ENSG00000117091_CD48',\n",
    " 'ENSG00000004468_CD38',\n",
    " 'ENSG00000173762_CD7',\n",
    " 'ENSG00000137101_CD72',\n",
    " 'ENSG00000019582_CD74',\n",
    " 'ENSG00000169442_CD52',\n",
    " 'ENSG00000170458_CD14',\n",
    " 'ENSG00000272398_CD24',\n",
    " 'ENSG00000026508_CD44',\n",
    " 'ENSG00000114013_CD86',\n",
    " 'ENSG00000174059_CD34',\n",
    " 'ENSG00000139193_CD27',\n",
    " 'ENSG00000105383_CD33',\n",
    " 'ENSG00000085117_CD82',\n",
    " 'ENSG00000177455_CD19',\n",
    " 'ENSG00000002586_CD99',\n",
    " 'ENSG00000196126_HLA-DRB1',\n",
    " 'ENSG00000135404_CD63',\n",
    " 'ENSG00000012124_CD22',\n",
    " 'ENSG00000134061_CD180',\n",
    " 'ENSG00000105369_CD79A',\n",
    " 'ENSG00000116824_CD2',\n",
    " 'ENSG00000010610_CD4',\n",
    " 'ENSG00000139187_KLRG1',\n",
    " 'ENSG00000204592_HLA-E',\n",
    " 'ENSG00000090470_PDCD7',\n",
    " 'ENSG00000206531_CD200R1L',\n",
    "'ENSG00000166710_B2M',\n",
    " 'ENSG00000198034_RPS4X',\n",
    " 'ENSG00000188404_SELL',\n",
    " 'ENSG00000130303_BST2',\n",
    " 'ENSG00000128040_SPINK2',\n",
    " 'ENSG00000206503_HLA-A',\n",
    " 'ENSG00000108107_RPL28',\n",
    " 'ENSG00000143226_FCGR2A',\n",
    " 'ENSG00000133112_TPT1',\n",
    " 'ENSG00000166091_CMTM5',\n",
    " 'ENSG00000026025_VIM',\n",
    " 'ENSG00000205542_TMSB4X',\n",
    " 'ENSG00000109099_PMP22',\n",
    " 'ENSG00000145425_RPS3A',\n",
    " 'ENSG00000172247_C1QTNF4',\n",
    " 'ENSG00000072274_TFRC',\n",
    " 'ENSG00000234745_HLA-B',\n",
    " 'ENSG00000075340_ADD2',\n",
    " 'ENSG00000119865_CNRIP1',\n",
    " 'ENSG00000198938_MT-CO3',\n",
    " 'ENSG00000135046_ANXA1',\n",
    " 'ENSG00000235169_SMIM1',\n",
    " 'ENSG00000101200_AVP',\n",
    " 'ENSG00000167996_FTH1',\n",
    " 'ENSG00000163565_IFI16',\n",
    " 'ENSG00000117450_PRDX1',\n",
    " 'ENSG00000124570_SERPINB6',\n",
    " 'ENSG00000112077_RHAG',\n",
    " 'ENSG00000051523_CYBA',\n",
    " 'ENSG00000107130_NCS1',\n",
    " 'ENSG00000055118_KCNH2',\n",
    " 'ENSG00000029534_ANK1',\n",
    " 'ENSG00000169567_HINT1',\n",
    " 'ENSG00000142089_IFITM3',\n",
    " 'ENSG00000139278_GLIPR1',\n",
    " 'ENSG00000142227_EMP3',\n",
    " 'ENSG00000076662_ICAM3',\n",
    " 'ENSG00000143627_PKLR',\n",
    " 'ENSG00000130755_GMFG',\n",
    " 'ENSG00000160593_JAML',\n",
    " 'ENSG00000095932_SMIM24',\n",
    " 'ENSG00000197956_S100A6',\n",
    " 'ENSG00000171476_HOPX',\n",
    " 'ENSG00000116675_DNAJC6',\n",
    " 'ENSG00000100448_CTSG',\n",
    " 'ENSG00000100368_CSF2RB',\n",
    " 'ENSG00000047648_ARHGAP6',\n",
    " 'ENSG00000198918_RPL39',\n",
    " 'ENSG00000196154_S100A4',\n",
    " 'ENSG00000233968_AL157895.1',\n",
    " 'ENSG00000137642_SORL1',\n",
    " 'ENSG00000133816_MICAL2',\n",
    " 'ENSG00000130208_APOC1',\n",
    " 'ENSG00000105610_KLF1']\n",
    "print('important columns ',len(important_cols))\n",
    "\n",
    "next_important_cols = ['ENSG00000211899_IGHM',\n",
    " 'ENSG00000160883_HK3',\n",
    " 'ENSG00000137818_RPLP1',\n",
    " 'ENSG00000183087_GAS6',\n",
    " 'ENSG00000198520_ARMH1',\n",
    " 'ENSG00000175449_RFESD',\n",
    " 'ENSG00000106443_PHF14',\n",
    " 'ENSG00000164929_BAALC',\n",
    " 'ENSG00000133142_TCEAL4',\n",
    " 'ENSG00000198336_MYL4',\n",
    " 'ENSG00000103490_PYCARD',\n",
    " 'ENSG00000223609_HBD',\n",
    " 'ENSG00000204257_HLA-DMA',\n",
    " 'ENSG00000204472_AIF1',\n",
    " 'ENSG00000136942_RPL35',\n",
    " 'ENSG00000204525_HLA-C',\n",
    " 'ENSG00000184500_PROS1',\n",
    " 'ENSG00000133985_TTC9',\n",
    " 'ENSG00000198727_MT-CYB',\n",
    " 'ENSG00000231389_HLA-DPA1',\n",
    " 'ENSG00000198502_HLA-DRB5',\n",
    " 'ENSG00000112339_HBS1L',\n",
    " 'ENSG00000149806_FAU',\n",
    " 'ENSG00000110852_CLEC2B',\n",
    " 'ENSG00000104432_IL7',\n",
    " 'ENSG00000100911_PSME2',\n",
    " 'ENSG00000160789_LMNA',\n",
    " 'ENSG00000140022_STON2',\n",
    " 'ENSG00000118579_MED28',\n",
    " 'ENSG00000138326_RPS24',\n",
    " 'ENSG00000133134_BEX2',\n",
    " 'ENSG00000171388_APLN',\n",
    " 'ENSG00000198899_MT-ATP6',\n",
    " 'ENSG00000223865_HLA-DPB1',\n",
    " 'ENSG00000198804_MT-CO1',\n",
    " 'ENSG00000101608_MYL12A']\n",
    "\n",
    "print('next important columns ',len(next_important_cols))\n",
    "\n",
    "important_cols = important_cols + next_important_cols\n",
    "print(len(important_cols))\n",
    "use_imp_cols =  [i for i, j in enumerate(train_column) if j in important_cols]"
   ]
  },
  {
   "cell_type": "code",
   "execution_count": null,
   "id": "320a4e7c",
   "metadata": {},
   "outputs": [],
   "source": [
    "train_con_imp = fix_vec[:train_num, use_imp_cols]\n",
    "test_con_imp = fix_vec[train_num:, use_imp_cols]"
   ]
  },
  {
   "cell_type": "code",
   "execution_count": null,
   "id": "e7bd2ead",
   "metadata": {},
   "outputs": [],
   "source": [
    "pd.DataFrame(train_con_imp, index = train_index).add_prefix('con_').to_pickle(feature_path + 'train_cite_imp_confeature.pickle')\n",
    "pd.DataFrame(test_con_imp, index = test_index).add_prefix('con_').to_pickle(feature_path + 'test_cite_imp_confeature.pickle')"
   ]
  }
 ],
 "metadata": {
  "jupytext": {
   "formats": "ipynb,py"
  },
  "kernelspec": {
   "display_name": "Python 3 (ipykernel)",
   "language": "python",
   "name": "python3"
  },
  "language_info": {
   "codemirror_mode": {
    "name": "ipython",
    "version": 3
   },
   "file_extension": ".py",
   "mimetype": "text/x-python",
   "name": "python",
   "nbconvert_exporter": "python",
   "pygments_lexer": "ipython3",
   "version": "3.8.10"
  }
 },
 "nbformat": 4,
 "nbformat_minor": 5
}
