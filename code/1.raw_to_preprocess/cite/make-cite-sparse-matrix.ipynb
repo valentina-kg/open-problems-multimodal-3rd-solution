{
 "cells": [
  {
   "cell_type": "markdown",
   "id": "c68ab091",
   "metadata": {},
   "source": [
    "https://www.kaggle.com/code/fabiencrom/multimodal-single-cell-creating-sparse-data/"
   ]
  },
  {
   "cell_type": "code",
   "execution_count": 1,
   "id": "1d676c68",
   "metadata": {},
   "outputs": [],
   "source": [
    "import pandas as pd\n",
    "import numpy as np\n",
    "import scipy\n",
    "import scipy.sparse"
   ]
  },
  {
   "cell_type": "code",
   "execution_count": null,
   "id": "422fb51e",
   "metadata": {},
   "outputs": [],
   "source": [
    "def convert_h5_to_sparse_csr(filename, out_filename, chunksize=2500):\n",
    "    start = 0\n",
    "    total_rows = 0\n",
    "\n",
    "    sparse_chunks_data_list = []\n",
    "    chunks_index_list = []\n",
    "    columns_name = None\n",
    "    while True:\n",
    "        df_chunk = pd.read_hdf(filename, start=start, stop=start+chunksize)\n",
    "        if len(df_chunk) == 0:\n",
    "            break\n",
    "        chunk_data_as_sparse = scipy.sparse.csr_matrix(df_chunk.to_numpy())\n",
    "        sparse_chunks_data_list.append(chunk_data_as_sparse)\n",
    "        chunks_index_list.append(df_chunk.index.to_numpy())\n",
    "\n",
    "        if columns_name is None:\n",
    "            columns_name = df_chunk.columns.to_numpy()\n",
    "        else:\n",
    "            assert np.all(columns_name == df_chunk.columns.to_numpy())\n",
    "\n",
    "        total_rows += len(df_chunk)\n",
    "        print(total_rows)\n",
    "        if len(df_chunk) < chunksize:\n",
    "            del df_chunk\n",
    "            break\n",
    "        del df_chunk\n",
    "        start += chunksize\n",
    "\n",
    "    all_data_sparse = scipy.sparse.vstack(sparse_chunks_data_list)\n",
    "    del sparse_chunks_data_list\n",
    "\n",
    "    all_indices = np.hstack(chunks_index_list)\n",
    "\n",
    "    scipy.sparse.save_npz(out_filename+\"_values.sparse\", all_data_sparse)\n",
    "    np.savez(out_filename+\"_idxcol.npz\", index=all_indices, columns =columns_name)"
   ]
  },
  {
   "cell_type": "code",
   "execution_count": 2,
   "id": "d7c6ab9e",
   "metadata": {},
   "outputs": [],
   "source": [
    "raw_path_base = '../../../input/raw/'\n",
    "raw_cite_path = '../../../input/preprocess/cite/'\n",
    "#feature_path = '../../../../summary/input/base_features/cite/'\n",
    "#feature_path = '../../../../summary/input/sample/'"
   ]
  },
  {
   "cell_type": "code",
   "execution_count": null,
   "id": "bda7a314",
   "metadata": {},
   "outputs": [],
   "source": [
    "pd.read_hdf(raw_path_base + \"train_cite_targets.h5\")"
   ]
  },
  {
   "cell_type": "code",
   "execution_count": null,
   "id": "90519be6",
   "metadata": {},
   "outputs": [],
   "source": [
    "convert_h5_to_sparse_csr(raw_path_base + \"train_cite_targets.h5\", \\\n",
    "                         raw_cite_path + \"train_cite_targets\")"
   ]
  },
  {
   "cell_type": "code",
   "execution_count": null,
   "id": "fef6b04c",
   "metadata": {},
   "outputs": [],
   "source": [
    "convert_h5_to_sparse_csr(raw_path_base + \"train_cite_targets_raw.h5\", \\\n",
    "                         raw_cite_path + \"train_cite_raw_targets\")"
   ]
  },
  {
   "cell_type": "code",
   "execution_count": null,
   "id": "dd9977eb",
   "metadata": {},
   "outputs": [],
   "source": [
    "convert_h5_to_sparse_csr(raw_path_base + \"train_cite_inputs.h5\", \\\n",
    "                         raw_cite_path + \"train_cite_inputs\")"
   ]
  },
  {
   "cell_type": "code",
   "execution_count": null,
   "id": "aebb39e3",
   "metadata": {},
   "outputs": [],
   "source": [
    "convert_h5_to_sparse_csr(raw_path_base + \"train_cite_inputs_raw.h5\", \\\n",
    "                         raw_cite_path + \"train_cite_raw_inputs\")"
   ]
  },
  {
   "cell_type": "code",
   "execution_count": null,
   "id": "8a6ab1fe",
   "metadata": {},
   "outputs": [],
   "source": [
    "convert_h5_to_sparse_csr(raw_path_base + \"test_cite_inputs.h5\", \\\n",
    "                         raw_cite_path + \"test_cite_inputs\")"
   ]
  },
  {
   "cell_type": "code",
   "execution_count": null,
   "id": "18297ecc",
   "metadata": {},
   "outputs": [],
   "source": [
    "convert_h5_to_sparse_csr(raw_path_base + \"test_cite_inputs_raw.h5\", \\\n",
    "                         raw_cite_path + \"test_cite_raw_inputs\")"
   ]
  }
 ],
 "metadata": {
  "jupytext": {
   "formats": "ipynb,py:light"
  },
  "kernelspec": {
   "display_name": "Python 3 (ipykernel)",
   "language": "python",
   "name": "python3"
  },
  "language_info": {
   "codemirror_mode": {
    "name": "ipython",
    "version": 3
   },
   "file_extension": ".py",
   "mimetype": "text/x-python",
   "name": "python",
   "nbconvert_exporter": "python",
   "pygments_lexer": "ipython3",
   "version": "3.8.10"
  }
 },
 "nbformat": 4,
 "nbformat_minor": 5
}
